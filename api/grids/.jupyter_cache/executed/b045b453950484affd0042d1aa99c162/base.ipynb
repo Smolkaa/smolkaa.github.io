{
 "cells": [
  {
   "cell_type": "code",
   "execution_count": 1,
   "id": "457a9299",
   "metadata": {},
   "outputs": [],
   "source": [
    "import IJulia\n",
    "\n",
    "# The julia kernel has built in support for Revise.jl, so this is the \n",
    "# recommended approach for long-running sessions:\n",
    "# https://github.com/JuliaLang/IJulia.jl/blob/9b10fa9b879574bbf720f5285029e07758e50a5e/src/kernel.jl#L46-L51\n",
    "\n",
    "# Users should enable revise within .julia/config/startup_ijulia.jl:\n",
    "# https://timholy.github.io/Revise.jl/stable/config/#Using-Revise-automatically-within-Jupyter/IJulia-1\n",
    "\n",
    "# clear console history\n",
    "IJulia.clear_history()\n",
    "\n",
    "fig_width = 7\n",
    "fig_height = 5\n",
    "fig_format = :retina\n",
    "fig_dpi = 96\n",
    "\n",
    "# no retina format type, use svg for high quality type/marks\n",
    "if fig_format == :retina\n",
    "  fig_format = :svg\n",
    "elseif fig_format == :pdf\n",
    "  fig_dpi = 96\n",
    "  # Enable PDF support for IJulia\n",
    "  IJulia.register_mime(MIME(\"application/pdf\"))\n",
    "end\n",
    "\n",
    "# convert inches to pixels\n",
    "fig_width = fig_width * fig_dpi\n",
    "fig_height = fig_height * fig_dpi\n",
    "\n",
    "# Intialize Plots w/ default fig width/height\n",
    "try\n",
    "  import Plots\n",
    "\n",
    "  # Plots.jl doesn't support PDF output for versions < 1.28.1\n",
    "  # so use png (if the DPI remains the default of 300 then set to 96)\n",
    "  if (Plots._current_plots_version < v\"1.28.1\") & (fig_format == :pdf)\n",
    "    Plots.gr(size=(fig_width, fig_height), fmt = :png, dpi = fig_dpi)\n",
    "  else\n",
    "    Plots.gr(size=(fig_width, fig_height), fmt = fig_format, dpi = fig_dpi)\n",
    "  end\n",
    "catch e\n",
    "  # @warn \"Plots init\" exception=(e, catch_backtrace())\n",
    "end\n",
    "\n",
    "# Initialize CairoMakie with default fig width/height\n",
    "try\n",
    "  import CairoMakie\n",
    "  \n",
    "  CairoMakie.activate!(type = string(fig_format))\n",
    "  CairoMakie.update_theme!(resolution=(fig_width, fig_height))\n",
    "catch e\n",
    "    # @warn \"CairoMakie init\" exception=(e, catch_backtrace())\n",
    "end\n",
    "  \n",
    "# Set run_path if specified\n",
    "try\n",
    "  run_path = raw\"/home/asmolka/repos/exess/smolkaa.github.io/api/grids\"\n",
    "  if !isempty(run_path)\n",
    "    cd(run_path)\n",
    "  end\n",
    "catch e\n",
    "  @warn \"Run path init:\" exception=(e, catch_backtrace())\n",
    "end\n",
    "\n",
    "\n",
    "# emulate old Pkg.installed beahvior, see\n",
    "# https://discourse.julialang.org/t/how-to-use-pkg-dependencies-instead-of-pkg-installed/36416/9\n",
    "import Pkg\n",
    "function isinstalled(pkg::String)\n",
    "  any(x -> x.name == pkg && x.is_direct_dep, values(Pkg.dependencies()))\n",
    "end\n",
    "\n",
    "# ojs_define\n",
    "if isinstalled(\"JSON\") && isinstalled(\"DataFrames\")\n",
    "  import JSON, DataFrames\n",
    "  global function ojs_define(; kwargs...)\n",
    "    convert(x) = x\n",
    "    convert(x::DataFrames.AbstractDataFrame) = Tables.rows(x)\n",
    "    content = Dict(\"contents\" => [Dict(\"name\" => k, \"value\" => convert(v)) for (k, v) in kwargs])\n",
    "    tag = \"<script type='ojs-define'>$(JSON.json(content))</script>\"\n",
    "    IJulia.display(MIME(\"text/html\"), tag)\n",
    "  end\n",
    "elseif isinstalled(\"JSON\")\n",
    "  import JSON\n",
    "  global function ojs_define(; kwargs...)\n",
    "    content = Dict(\"contents\" => [Dict(\"name\" => k, \"value\" => v) for (k, v) in kwargs])\n",
    "    tag = \"<script type='ojs-define'>$(JSON.json(content))</script>\"\n",
    "    IJulia.display(MIME(\"text/html\"), tag)\n",
    "  end\n",
    "else\n",
    "  global function ojs_define(; kwargs...)\n",
    "    @warn \"JSON package not available. Please install the JSON.jl package to use ojs_define.\"\n",
    "  end\n",
    "end\n",
    "\n",
    "\n",
    "# don't return kernel dependencies (b/c Revise should take care of dependencies)\n",
    "nothing\n"
   ]
  },
  {
   "cell_type": "code",
   "execution_count": 2,
   "id": "f8d8b1ec",
   "metadata": {},
   "outputs": [
    {
     "data": {
      "text/latex": [
       "\\begin{verbatim}\n",
       "[1] areas([T::Type,] grid::AbstractGrid)\n",
       "\\end{verbatim}\n",
       "For 2D grids, returns the surface area of each grid element. For 3D grids, returns the base area of each grid element.\n",
       "\n"
      ],
      "text/markdown": [
       "```\n",
       "[1] areas([T::Type,] grid::AbstractGrid)\n",
       "```\n",
       "\n",
       "For 2D grids, returns the surface area of each grid element. For 3D grids, returns the base area of each grid element.\n"
      ],
      "text/plain": [
       "\u001b[36m  [1] areas([T::Type,] grid::AbstractGrid)\u001b[39m\n",
       "\n",
       "  For 2D grids, returns the surface area of each grid element. For 3D grids,\n",
       "  returns the base area of each grid element."
      ]
     },
     "execution_count": 2,
     "metadata": {},
     "output_type": "execute_result"
    }
   ],
   "source": [
    "#| echo: false\n",
    "if !isdefined(Main, :ExESS)\n",
    "include(joinpath(@__DIR__, \"..\", \"..\", \"..\", \"exess.jl\", \"src\", \"ExESS.jl\"))\n",
    "using .ExESS\n",
    "end\n",
    "@doc ExESS.areas"
   ]
  },
  {
   "cell_type": "code",
   "execution_count": 3,
   "id": "3cfb8932",
   "metadata": {},
   "outputs": [
    {
     "data": {
      "text/latex": [
       "\\begin{verbatim}\n",
       "[1] coords([T::Type,] grid::AbstractGrid)\n",
       "\\end{verbatim}\n",
       "Returns the coordinates of each grid element.\n",
       "\n"
      ],
      "text/markdown": [
       "```\n",
       "[1] coords([T::Type,] grid::AbstractGrid)\n",
       "```\n",
       "\n",
       "Returns the coordinates of each grid element.\n"
      ],
      "text/plain": [
       "\u001b[36m  [1] coords([T::Type,] grid::AbstractGrid)\u001b[39m\n",
       "\n",
       "  Returns the coordinates of each grid element."
      ]
     },
     "execution_count": 3,
     "metadata": {},
     "output_type": "execute_result"
    }
   ],
   "source": [
    "#| echo: false\n",
    "if !isdefined(Main, :ExESS)\n",
    "include(joinpath(@__DIR__, \"..\", \"..\", \"..\", \"exess.jl\", \"src\", \"ExESS.jl\"))\n",
    "using .ExESS\n",
    "end\n",
    "@doc ExESS.coords"
   ]
  },
  {
   "cell_type": "code",
   "execution_count": 4,
   "id": "a09ad11f",
   "metadata": {},
   "outputs": [
    {
     "data": {
      "text/latex": [
       "\\begin{verbatim}\n",
       "[1] coord2idx(grid::AbstractGlobalGrid, [r::Real,] theta::Real, phi::Real)\n",
       "[2] coord2idx(grid::AbstractGlobalGrid, [r::AbstractVector,] theta::AbstractVector, phi::AbstractVector)\n",
       "[3] coord2idx(grid::AbstractGlobalGrid, coords::AbstractPosition)\n",
       "[4] coord2idx(grid::AbstractGlobalGrid, coords::Vector{AbstractPosition})\n",
       "\\end{verbatim}\n",
       "Calculates the index of the grid element containing the given coordinates.\n",
       "\n"
      ],
      "text/markdown": [
       "```\n",
       "[1] coord2idx(grid::AbstractGlobalGrid, [r::Real,] theta::Real, phi::Real)\n",
       "[2] coord2idx(grid::AbstractGlobalGrid, [r::AbstractVector,] theta::AbstractVector, phi::AbstractVector)\n",
       "[3] coord2idx(grid::AbstractGlobalGrid, coords::AbstractPosition)\n",
       "[4] coord2idx(grid::AbstractGlobalGrid, coords::Vector{AbstractPosition})\n",
       "```\n",
       "\n",
       "Calculates the index of the grid element containing the given coordinates.\n"
      ],
      "text/plain": [
       "\u001b[36m  [1] coord2idx(grid::AbstractGlobalGrid, [r::Real,] theta::Real, phi::Real)\u001b[39m\n",
       "\u001b[36m  [2] coord2idx(grid::AbstractGlobalGrid, [r::AbstractVector,] theta::AbstractVector, phi::AbstractVector)\u001b[39m\n",
       "\u001b[36m  [3] coord2idx(grid::AbstractGlobalGrid, coords::AbstractPosition)\u001b[39m\n",
       "\u001b[36m  [4] coord2idx(grid::AbstractGlobalGrid, coords::Vector{AbstractPosition})\u001b[39m\n",
       "\n",
       "  Calculates the index of the grid element containing the given coordinates."
      ]
     },
     "execution_count": 4,
     "metadata": {},
     "output_type": "execute_result"
    }
   ],
   "source": [
    "#| echo: false\n",
    "if !isdefined(Main, :ExESS)\n",
    "include(joinpath(@__DIR__, \"..\", \"..\", \"..\", \"exess.jl\", \"src\", \"ExESS.jl\"))\n",
    "using .ExESS\n",
    "end\n",
    "@doc ExESS.coord2idx"
   ]
  },
  {
   "cell_type": "code",
   "execution_count": 5,
   "id": "f092c988",
   "metadata": {},
   "outputs": [
    {
     "data": {
      "text/latex": [
       "\\begin{verbatim}\n",
       "[1] surfacecoords([T::Type,] grid::AbstractGrid)\n",
       "\\end{verbatim}\n",
       "Returns only the coordinates of the surface (i.e. the base) of the discretized geometry.\n",
       "\n"
      ],
      "text/markdown": [
       "```\n",
       "[1] surfacecoords([T::Type,] grid::AbstractGrid)\n",
       "```\n",
       "\n",
       "Returns only the coordinates of the surface (i.e. the base) of the discretized geometry.\n"
      ],
      "text/plain": [
       "\u001b[36m  [1] surfacecoords([T::Type,] grid::AbstractGrid)\u001b[39m\n",
       "\n",
       "  Returns only the coordinates of the surface (i.e. the base) of the\n",
       "  discretized geometry."
      ]
     },
     "execution_count": 5,
     "metadata": {},
     "output_type": "execute_result"
    }
   ],
   "source": [
    "#| echo: false\n",
    "if !isdefined(Main, :ExESS)\n",
    "include(joinpath(@__DIR__, \"..\", \"..\", \"..\", \"exess.jl\", \"src\", \"ExESS.jl\"))\n",
    "using .ExESS\n",
    "end\n",
    "@doc ExESS.surfacecoords"
   ]
  },
  {
   "cell_type": "code",
   "execution_count": 6,
   "id": "e4a65325",
   "metadata": {},
   "outputs": [
    {
     "data": {
      "text/latex": [
       "\\begin{verbatim}\n",
       "[1] volumes([T::Type,] grid::AbstractGrid)\n",
       "\\end{verbatim}\n",
       "For 2D grids, returns a vector of \\texttt{zeros(T)} for each grid element. For 3D grids, returns the volume of each grid element.\n",
       "\n"
      ],
      "text/markdown": [
       "```\n",
       "[1] volumes([T::Type,] grid::AbstractGrid)\n",
       "```\n",
       "\n",
       "For 2D grids, returns a vector of `zeros(T)` for each grid element. For 3D grids, returns the volume of each grid element.\n"
      ],
      "text/plain": [
       "\u001b[36m  [1] volumes([T::Type,] grid::AbstractGrid)\u001b[39m\n",
       "\n",
       "  For 2D grids, returns a vector of \u001b[36mzeros(T)\u001b[39m for each grid element. For 3D\n",
       "  grids, returns the volume of each grid element."
      ]
     },
     "execution_count": 6,
     "metadata": {},
     "output_type": "execute_result"
    }
   ],
   "source": [
    "#| echo: false\n",
    "if !isdefined(Main, :ExESS)\n",
    "include(joinpath(@__DIR__, \"..\", \"..\", \"..\", \"exess.jl\", \"src\", \"ExESS.jl\"))\n",
    "using .ExESS\n",
    "end\n",
    "@doc ExESS.volumes"
   ]
  }
 ],
 "metadata": {
  "kernelspec": {
   "display_name": "Julia 1.9.3",
   "language": "julia",
   "name": "julia-1.9"
  },
  "language_info": {
   "file_extension": ".jl",
   "mimetype": "application/julia",
   "name": "julia",
   "version": "1.9.3"
  }
 },
 "nbformat": 4,
 "nbformat_minor": 5
}