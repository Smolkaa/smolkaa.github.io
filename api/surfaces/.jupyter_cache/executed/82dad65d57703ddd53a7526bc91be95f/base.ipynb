{
 "cells": [
  {
   "cell_type": "code",
   "execution_count": 1,
   "id": "8b5ac923",
   "metadata": {},
   "outputs": [],
   "source": [
    "import IJulia\n",
    "\n",
    "# The julia kernel has built in support for Revise.jl, so this is the \n",
    "# recommended approach for long-running sessions:\n",
    "# https://github.com/JuliaLang/IJulia.jl/blob/9b10fa9b879574bbf720f5285029e07758e50a5e/src/kernel.jl#L46-L51\n",
    "\n",
    "# Users should enable revise within .julia/config/startup_ijulia.jl:\n",
    "# https://timholy.github.io/Revise.jl/stable/config/#Using-Revise-automatically-within-Jupyter/IJulia-1\n",
    "\n",
    "# clear console history\n",
    "IJulia.clear_history()\n",
    "\n",
    "fig_width = 7\n",
    "fig_height = 5\n",
    "fig_format = :retina\n",
    "fig_dpi = 96\n",
    "\n",
    "# no retina format type, use svg for high quality type/marks\n",
    "if fig_format == :retina\n",
    "  fig_format = :svg\n",
    "elseif fig_format == :pdf\n",
    "  fig_dpi = 96\n",
    "  # Enable PDF support for IJulia\n",
    "  IJulia.register_mime(MIME(\"application/pdf\"))\n",
    "end\n",
    "\n",
    "# convert inches to pixels\n",
    "fig_width = fig_width * fig_dpi\n",
    "fig_height = fig_height * fig_dpi\n",
    "\n",
    "# Intialize Plots w/ default fig width/height\n",
    "try\n",
    "  import Plots\n",
    "\n",
    "  # Plots.jl doesn't support PDF output for versions < 1.28.1\n",
    "  # so use png (if the DPI remains the default of 300 then set to 96)\n",
    "  if (Plots._current_plots_version < v\"1.28.1\") & (fig_format == :pdf)\n",
    "    Plots.gr(size=(fig_width, fig_height), fmt = :png, dpi = fig_dpi)\n",
    "  else\n",
    "    Plots.gr(size=(fig_width, fig_height), fmt = fig_format, dpi = fig_dpi)\n",
    "  end\n",
    "catch e\n",
    "  # @warn \"Plots init\" exception=(e, catch_backtrace())\n",
    "end\n",
    "\n",
    "# Initialize CairoMakie with default fig width/height\n",
    "try\n",
    "  import CairoMakie\n",
    "  \n",
    "  CairoMakie.activate!(type = string(fig_format))\n",
    "  CairoMakie.update_theme!(resolution=(fig_width, fig_height))\n",
    "catch e\n",
    "    # @warn \"CairoMakie init\" exception=(e, catch_backtrace())\n",
    "end\n",
    "  \n",
    "# Set run_path if specified\n",
    "try\n",
    "  run_path = raw\"/home/alexandersmolka/exess/doc/api/surfaces\"\n",
    "  if !isempty(run_path)\n",
    "    cd(run_path)\n",
    "  end\n",
    "catch e\n",
    "  @warn \"Run path init:\" exception=(e, catch_backtrace())\n",
    "end\n",
    "\n",
    "\n",
    "# emulate old Pkg.installed beahvior, see\n",
    "# https://discourse.julialang.org/t/how-to-use-pkg-dependencies-instead-of-pkg-installed/36416/9\n",
    "import Pkg\n",
    "function isinstalled(pkg::String)\n",
    "  any(x -> x.name == pkg && x.is_direct_dep, values(Pkg.dependencies()))\n",
    "end\n",
    "\n",
    "# ojs_define\n",
    "if isinstalled(\"JSON\") && isinstalled(\"DataFrames\")\n",
    "  import JSON, DataFrames\n",
    "  global function ojs_define(; kwargs...)\n",
    "    convert(x) = x\n",
    "    convert(x::DataFrames.AbstractDataFrame) = Tables.rows(x)\n",
    "    content = Dict(\"contents\" => [Dict(\"name\" => k, \"value\" => convert(v)) for (k, v) in kwargs])\n",
    "    tag = \"<script type='ojs-define'>$(JSON.json(content))</script>\"\n",
    "    IJulia.display(MIME(\"text/html\"), tag)\n",
    "  end\n",
    "elseif isinstalled(\"JSON\")\n",
    "  import JSON\n",
    "  global function ojs_define(; kwargs...)\n",
    "    content = Dict(\"contents\" => [Dict(\"name\" => k, \"value\" => v) for (k, v) in kwargs])\n",
    "    tag = \"<script type='ojs-define'>$(JSON.json(content))</script>\"\n",
    "    IJulia.display(MIME(\"text/html\"), tag)\n",
    "  end\n",
    "else\n",
    "  global function ojs_define(; kwargs...)\n",
    "    @warn \"JSON package not available. Please install the JSON.jl package to use ojs_define.\"\n",
    "  end\n",
    "end\n",
    "\n",
    "\n",
    "# don't return kernel dependencies (b/c Revise should take care of dependencies)\n",
    "nothing\n"
   ]
  },
  {
   "cell_type": "code",
   "execution_count": 2,
   "id": "dbe5df2a",
   "metadata": {},
   "outputs": [
    {
     "data": {
      "text/latex": [
       "\\begin{verbatim}\n",
       "[1] lunar_surface_temperatures_diviner(lng0::Real)\n",
       "[2] lunar_surface_temperatures_diviner(lng0::Real, lng::Real, lat::Real)\n",
       "[3] lunar_surface_temperatures_diviner(lng0::Real, lngs::AbstractVector, lats::AbstractVector; matrix=true)\n",
       "[4] lunar_surface_temperatures_diviner(lng0::Real, xs::GlobalSphericalPosition) \n",
       "[4] lunar_surface_temperatures_diviner(lng0::Real, XS::Vector{GlobalSphericalPosition}) \n",
       "[5] lunar_surface_temperatures_diviner(lng0::Real, grid::Abstract2DGrid)\n",
       "\\end{verbatim}\n",
       "Returns the Diviner measurements based lunar surface temperatures, with the sub-solar point shifted by \\texttt{lng} (in radians) from the center.\n",
       "\n"
      ],
      "text/markdown": [
       "```\n",
       "[1] lunar_surface_temperatures_diviner(lng0::Real)\n",
       "[2] lunar_surface_temperatures_diviner(lng0::Real, lng::Real, lat::Real)\n",
       "[3] lunar_surface_temperatures_diviner(lng0::Real, lngs::AbstractVector, lats::AbstractVector; matrix=true)\n",
       "[4] lunar_surface_temperatures_diviner(lng0::Real, xs::GlobalSphericalPosition) \n",
       "[4] lunar_surface_temperatures_diviner(lng0::Real, XS::Vector{GlobalSphericalPosition}) \n",
       "[5] lunar_surface_temperatures_diviner(lng0::Real, grid::Abstract2DGrid)\n",
       "```\n",
       "\n",
       "Returns the Diviner measurements based lunar surface temperatures, with the sub-solar point shifted by `lng` (in radians) from the center.\n"
      ],
      "text/plain": [
       "\u001b[36m  [1] lunar_surface_temperatures_diviner(lng0::Real)\u001b[39m\n",
       "\u001b[36m  [2] lunar_surface_temperatures_diviner(lng0::Real, lng::Real, lat::Real)\u001b[39m\n",
       "\u001b[36m  [3] lunar_surface_temperatures_diviner(lng0::Real, lngs::AbstractVector, lats::AbstractVector; matrix=true)\u001b[39m\n",
       "\u001b[36m  [4] lunar_surface_temperatures_diviner(lng0::Real, xs::GlobalSphericalPosition) \u001b[39m\n",
       "\u001b[36m  [4] lunar_surface_temperatures_diviner(lng0::Real, XS::Vector{GlobalSphericalPosition}) \u001b[39m\n",
       "\u001b[36m  [5] lunar_surface_temperatures_diviner(lng0::Real, grid::Abstract2DGrid)\u001b[39m\n",
       "\n",
       "  Returns the Diviner measurements based lunar surface temperatures, with the\n",
       "  sub-solar point shifted by \u001b[36mlng\u001b[39m (in radians) from the center."
      ]
     },
     "execution_count": 9,
     "metadata": {},
     "output_type": "execute_result"
    }
   ],
   "source": [
    "#| echo: false\n",
    "if !isdefined(Main, :ExESS)\n",
    "include(joinpath(@__DIR__, \"..\", \"..\", \"..\", \"exess.jl\", \"src\", \"ExESS.jl\"))\n",
    "using .ExESS\n",
    "end\n",
    "@doc ExESS.lunar_surface_temperatures_diviner"
   ]
  },
  {
   "cell_type": "code",
   "execution_count": 3,
   "id": "7b2b1e45",
   "metadata": {},
   "outputs": [
    {
     "data": {
      "text/latex": [
       "\\begin{verbatim}\n",
       "[1] lunar_surface_temperatures_diviner_avg()\n",
       "[2] lunar_surface_temperatures_diviner_avg(lng::Real, lat::Real)\n",
       "[3] lunar_surface_temperatures_diviner_avg(lngs::AbstractVector, lats::AbstractVector; matrix=true)\n",
       "[4] lunar_surface_temperatures_diviner_avg(xs::GlobalSphericalPosition)\n",
       "[5] lunar_surface_temperatures_diviner_avg(XS::Vector{GlobalSphericalPosition})\n",
       "[6] lunar_surface_temperatures_diviner_avg(grid::Abstract2DGrid)\n",
       "\\end{verbatim}\n",
       "Returns the Diviner measurements based averaged lunar surface temperatures.\n",
       "\n"
      ],
      "text/markdown": [
       "```\n",
       "[1] lunar_surface_temperatures_diviner_avg()\n",
       "[2] lunar_surface_temperatures_diviner_avg(lng::Real, lat::Real)\n",
       "[3] lunar_surface_temperatures_diviner_avg(lngs::AbstractVector, lats::AbstractVector; matrix=true)\n",
       "[4] lunar_surface_temperatures_diviner_avg(xs::GlobalSphericalPosition)\n",
       "[5] lunar_surface_temperatures_diviner_avg(XS::Vector{GlobalSphericalPosition})\n",
       "[6] lunar_surface_temperatures_diviner_avg(grid::Abstract2DGrid)\n",
       "```\n",
       "\n",
       "Returns the Diviner measurements based averaged lunar surface temperatures.\n"
      ],
      "text/plain": [
       "\u001b[36m  [1] lunar_surface_temperatures_diviner_avg()\u001b[39m\n",
       "\u001b[36m  [2] lunar_surface_temperatures_diviner_avg(lng::Real, lat::Real)\u001b[39m\n",
       "\u001b[36m  [3] lunar_surface_temperatures_diviner_avg(lngs::AbstractVector, lats::AbstractVector; matrix=true)\u001b[39m\n",
       "\u001b[36m  [4] lunar_surface_temperatures_diviner_avg(xs::GlobalSphericalPosition)\u001b[39m\n",
       "\u001b[36m  [5] lunar_surface_temperatures_diviner_avg(XS::Vector{GlobalSphericalPosition})\u001b[39m\n",
       "\u001b[36m  [6] lunar_surface_temperatures_diviner_avg(grid::Abstract2DGrid)\u001b[39m\n",
       "\n",
       "  Returns the Diviner measurements based averaged lunar surface temperatures."
      ]
     },
     "execution_count": 10,
     "metadata": {},
     "output_type": "execute_result"
    }
   ],
   "source": [
    "#| echo: false\n",
    "if !isdefined(Main, :ExESS)\n",
    "include(joinpath(@__DIR__, \"..\", \"..\", \"..\", \"exess.jl\", \"src\", \"ExESS.jl\"))\n",
    "using .ExESS\n",
    "end\n",
    "@doc ExESS.lunar_surface_temperatures_diviner_avg"
   ]
  },
  {
   "cell_type": "code",
   "execution_count": 4,
   "id": "8f1b44b1",
   "metadata": {},
   "outputs": [
    {
     "data": {
      "text/latex": [
       "\\begin{verbatim}\n",
       "[1] lunar_surface_temperatures_BUTLER1997(lng::Real, lat::Real)\n",
       "[2] lunar_surface_temperatures_BUTLER1997(lngs::AbstractVector, lats::AbstractVector; matrix=true)\n",
       "[3] lunar_surface_temperatures_BUTLER1997(xs::GlobalSphericalPosition)\n",
       "[4] lunar_surface_temperatures_BUTLER1997(XS::Vector{GlobalSphericalPosition})\n",
       "[5] lunar_surface_temperatures_BUTLER1997(grid::Abstract2DGrid)\n",
       "\\end{verbatim}\n",
       "Calculates the surface temperature based on the approximation given in Butler, 1997. Takes the SSE coordinates \\texttt{lngs} and \\texttt{lats} and returns the temperature vector of equal size at the given pair.\n",
       "\n",
       "\\texttt{T = 250*cos(Z)\\^{}1/4 + 100} on the Sun-side, and \\texttt{T = 100} on the night-side, in kelvin.\n",
       "\n"
      ],
      "text/markdown": [
       "```\n",
       "[1] lunar_surface_temperatures_BUTLER1997(lng::Real, lat::Real)\n",
       "[2] lunar_surface_temperatures_BUTLER1997(lngs::AbstractVector, lats::AbstractVector; matrix=true)\n",
       "[3] lunar_surface_temperatures_BUTLER1997(xs::GlobalSphericalPosition)\n",
       "[4] lunar_surface_temperatures_BUTLER1997(XS::Vector{GlobalSphericalPosition})\n",
       "[5] lunar_surface_temperatures_BUTLER1997(grid::Abstract2DGrid)\n",
       "```\n",
       "\n",
       "Calculates the surface temperature based on the approximation given in Butler, 1997. Takes the SSE coordinates `lngs` and `lats` and returns the temperature vector of equal size at the given pair.\n",
       "\n",
       "`T = 250*cos(Z)^1/4 + 100` on the Sun-side, and `T = 100` on the night-side, in kelvin.\n"
      ],
      "text/plain": [
       "\u001b[36m  [1] lunar_surface_temperatures_BUTLER1997(lng::Real, lat::Real)\u001b[39m\n",
       "\u001b[36m  [2] lunar_surface_temperatures_BUTLER1997(lngs::AbstractVector, lats::AbstractVector; matrix=true)\u001b[39m\n",
       "\u001b[36m  [3] lunar_surface_temperatures_BUTLER1997(xs::GlobalSphericalPosition)\u001b[39m\n",
       "\u001b[36m  [4] lunar_surface_temperatures_BUTLER1997(XS::Vector{GlobalSphericalPosition})\u001b[39m\n",
       "\u001b[36m  [5] lunar_surface_temperatures_BUTLER1997(grid::Abstract2DGrid)\u001b[39m\n",
       "\n",
       "  Calculates the surface temperature based on the approximation given in\n",
       "  Butler, 1997. Takes the SSE coordinates \u001b[36mlngs\u001b[39m and \u001b[36mlats\u001b[39m and returns the\n",
       "  temperature vector of equal size at the given pair.\n",
       "\n",
       "  \u001b[36mT = 250*cos(Z)^1/4 + 100\u001b[39m on the Sun-side, and \u001b[36mT = 100\u001b[39m on the night-side, in\n",
       "  kelvin."
      ]
     },
     "execution_count": 11,
     "metadata": {},
     "output_type": "execute_result"
    }
   ],
   "source": [
    "#| echo: false\n",
    "if !isdefined(Main, :ExESS)\n",
    "include(joinpath(@__DIR__, \"..\", \"..\", \"..\", \"exess.jl\", \"src\", \"ExESS.jl\"))\n",
    "using .ExESS\n",
    "end\n",
    "@doc ExESS.lunar_surface_temperatures_BUTLER1997"
   ]
  },
  {
   "cell_type": "code",
   "execution_count": 5,
   "id": "4d4bddda",
   "metadata": {},
   "outputs": [
    {
     "data": {
      "text/latex": [
       "\\begin{verbatim}\n",
       "[1] lunar_surface_temperatures_HURLEY2015(lng::Real, lat::Real)\n",
       "[2] lunar_surface_temperatures_HURLEY2015(lngs::AbstractVector, lats::AbstractVector; matrix=true)\n",
       "[3] lunar_surface_temperatures_HURLEY2015(xs::GlobalSphericalPosition)\n",
       "[3] lunar_surface_temperatures_HURLEY2015(XS::Vector{GlobalSphericalPosition})\n",
       "[4] lunar_surface_temperatures_HURLEY2015(grid::Abstract2DGrid)\n",
       "\\end{verbatim}\n",
       "Calculates the lunar surface temperatures based on the analytic formula given in Hurley et al. 2015. All angular arguments are in radians.\n",
       "\n"
      ],
      "text/markdown": [
       "```\n",
       "[1] lunar_surface_temperatures_HURLEY2015(lng::Real, lat::Real)\n",
       "[2] lunar_surface_temperatures_HURLEY2015(lngs::AbstractVector, lats::AbstractVector; matrix=true)\n",
       "[3] lunar_surface_temperatures_HURLEY2015(xs::GlobalSphericalPosition)\n",
       "[3] lunar_surface_temperatures_HURLEY2015(XS::Vector{GlobalSphericalPosition})\n",
       "[4] lunar_surface_temperatures_HURLEY2015(grid::Abstract2DGrid)\n",
       "```\n",
       "\n",
       "Calculates the lunar surface temperatures based on the analytic formula given in Hurley et al. 2015. All angular arguments are in radians.\n"
      ],
      "text/plain": [
       "\u001b[36m  [1] lunar_surface_temperatures_HURLEY2015(lng::Real, lat::Real)\u001b[39m\n",
       "\u001b[36m  [2] lunar_surface_temperatures_HURLEY2015(lngs::AbstractVector, lats::AbstractVector; matrix=true)\u001b[39m\n",
       "\u001b[36m  [3] lunar_surface_temperatures_HURLEY2015(xs::GlobalSphericalPosition)\u001b[39m\n",
       "\u001b[36m  [3] lunar_surface_temperatures_HURLEY2015(XS::Vector{GlobalSphericalPosition})\u001b[39m\n",
       "\u001b[36m  [4] lunar_surface_temperatures_HURLEY2015(grid::Abstract2DGrid)\u001b[39m\n",
       "\n",
       "  Calculates the lunar surface temperatures based on the analytic formula\n",
       "  given in Hurley et al. 2015. All angular arguments are in radians."
      ]
     },
     "execution_count": 12,
     "metadata": {},
     "output_type": "execute_result"
    }
   ],
   "source": [
    "#| echo: false\n",
    "if !isdefined(Main, :ExESS)\n",
    "include(joinpath(@__DIR__, \"..\", \"..\", \"..\", \"exess.jl\", \"src\", \"ExESS.jl\"))\n",
    "using .ExESS\n",
    "end\n",
    "@doc ExESS.lunar_surface_temperatures_HURLEY2015"
   ]
  }
 ],
 "metadata": {
  "kernelspec": {
   "display_name": "Julia 1.9.0",
   "language": "julia",
   "name": "julia-1.9"
  }
 },
 "nbformat": 4,
 "nbformat_minor": 5
}