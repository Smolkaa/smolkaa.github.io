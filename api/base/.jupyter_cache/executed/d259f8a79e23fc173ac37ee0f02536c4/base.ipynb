{
 "cells": [
  {
   "cell_type": "code",
   "execution_count": 1,
   "id": "9c914cf8",
   "metadata": {},
   "outputs": [],
   "source": [
    "import IJulia\n",
    "\n",
    "# The julia kernel has built in support for Revise.jl, so this is the \n",
    "# recommended approach for long-running sessions:\n",
    "# https://github.com/JuliaLang/IJulia.jl/blob/9b10fa9b879574bbf720f5285029e07758e50a5e/src/kernel.jl#L46-L51\n",
    "\n",
    "# Users should enable revise within .julia/config/startup_ijulia.jl:\n",
    "# https://timholy.github.io/Revise.jl/stable/config/#Using-Revise-automatically-within-Jupyter/IJulia-1\n",
    "\n",
    "# clear console history\n",
    "IJulia.clear_history()\n",
    "\n",
    "fig_width = 7\n",
    "fig_height = 5\n",
    "fig_format = :retina\n",
    "fig_dpi = 96\n",
    "\n",
    "# no retina format type, use svg for high quality type/marks\n",
    "if fig_format == :retina\n",
    "  fig_format = :svg\n",
    "elseif fig_format == :pdf\n",
    "  fig_dpi = 96\n",
    "  # Enable PDF support for IJulia\n",
    "  IJulia.register_mime(MIME(\"application/pdf\"))\n",
    "end\n",
    "\n",
    "# convert inches to pixels\n",
    "fig_width = fig_width * fig_dpi\n",
    "fig_height = fig_height * fig_dpi\n",
    "\n",
    "# Intialize Plots w/ default fig width/height\n",
    "try\n",
    "  import Plots\n",
    "\n",
    "  # Plots.jl doesn't support PDF output for versions < 1.28.1\n",
    "  # so use png (if the DPI remains the default of 300 then set to 96)\n",
    "  if (Plots._current_plots_version < v\"1.28.1\") & (fig_format == :pdf)\n",
    "    Plots.gr(size=(fig_width, fig_height), fmt = :png, dpi = fig_dpi)\n",
    "  else\n",
    "    Plots.gr(size=(fig_width, fig_height), fmt = fig_format, dpi = fig_dpi)\n",
    "  end\n",
    "catch e\n",
    "  # @warn \"Plots init\" exception=(e, catch_backtrace())\n",
    "end\n",
    "\n",
    "# Initialize CairoMakie with default fig width/height\n",
    "try\n",
    "  import CairoMakie\n",
    "  \n",
    "  CairoMakie.activate!(type = string(fig_format))\n",
    "  CairoMakie.update_theme!(resolution=(fig_width, fig_height))\n",
    "catch e\n",
    "    # @warn \"CairoMakie init\" exception=(e, catch_backtrace())\n",
    "end\n",
    "  \n",
    "# Set run_path if specified\n",
    "try\n",
    "  run_path = raw\"C:\\Users\\Alexander Smolka\\Documents\\repos\\smolkaa.github.io\\api\\base\"\n",
    "  if !isempty(run_path)\n",
    "    cd(run_path)\n",
    "  end\n",
    "catch e\n",
    "  @warn \"Run path init:\" exception=(e, catch_backtrace())\n",
    "end\n",
    "\n",
    "\n",
    "# emulate old Pkg.installed beahvior, see\n",
    "# https://discourse.julialang.org/t/how-to-use-pkg-dependencies-instead-of-pkg-installed/36416/9\n",
    "import Pkg\n",
    "function isinstalled(pkg::String)\n",
    "  any(x -> x.name == pkg && x.is_direct_dep, values(Pkg.dependencies()))\n",
    "end\n",
    "\n",
    "# ojs_define\n",
    "if isinstalled(\"JSON\") && isinstalled(\"DataFrames\")\n",
    "  import JSON, DataFrames\n",
    "  global function ojs_define(; kwargs...)\n",
    "    convert(x) = x\n",
    "    convert(x::DataFrames.AbstractDataFrame) = Tables.rows(x)\n",
    "    content = Dict(\"contents\" => [Dict(\"name\" => k, \"value\" => convert(v)) for (k, v) in kwargs])\n",
    "    tag = \"<script type='ojs-define'>$(JSON.json(content))</script>\"\n",
    "    IJulia.display(MIME(\"text/html\"), tag)\n",
    "  end\n",
    "elseif isinstalled(\"JSON\")\n",
    "  import JSON\n",
    "  global function ojs_define(; kwargs...)\n",
    "    content = Dict(\"contents\" => [Dict(\"name\" => k, \"value\" => v) for (k, v) in kwargs])\n",
    "    tag = \"<script type='ojs-define'>$(JSON.json(content))</script>\"\n",
    "    IJulia.display(MIME(\"text/html\"), tag)\n",
    "  end\n",
    "else\n",
    "  global function ojs_define(; kwargs...)\n",
    "    @warn \"JSON package not available. Please install the JSON.jl package to use ojs_define.\"\n",
    "  end\n",
    "end\n",
    "\n",
    "\n",
    "# don't return kernel dependencies (b/c Revise should take care of dependencies)\n",
    "nothing\n"
   ]
  },
  {
   "cell_type": "code",
   "execution_count": 2,
   "id": "68cd970a",
   "metadata": {},
   "outputs": [
    {
     "data": {
      "text/latex": [
       "\\begin{verbatim}\n",
       "[1] MaxwellBoltzmannVelocityDistribution()\n",
       "\\end{verbatim}\n",
       "Empty struct defining a (3D) Maxwell-Boltzmann velocity distribution.\n",
       "\n"
      ],
      "text/markdown": [
       "```\n",
       "[1] MaxwellBoltzmannVelocityDistribution()\n",
       "```\n",
       "\n",
       "Empty struct defining a (3D) Maxwell-Boltzmann velocity distribution.\n"
      ],
      "text/plain": [
       "\u001b[36m  [1] MaxwellBoltzmannVelocityDistribution()\u001b[39m\n",
       "\n",
       "  Empty struct defining a (3D) Maxwell-Boltzmann velocity distribution."
      ]
     },
     "execution_count": 2,
     "metadata": {},
     "output_type": "execute_result"
    }
   ],
   "source": [
    "#| echo: false\n",
    "if !isdefined(Main, :ExESS)\n",
    "include(joinpath(@__DIR__, \"..\", \"..\", \"..\", \"exess.jl\", \"src\", \"ExESS.jl\"))\n",
    "using .ExESS\n",
    "end\n",
    "@doc ExESS.MaxwellBoltzmannVelocityDistribution"
   ]
  },
  {
   "cell_type": "code",
   "execution_count": 3,
   "id": "27ccbf9d",
   "metadata": {},
   "outputs": [
    {
     "data": {
      "text/latex": [
       "\\begin{verbatim}\n",
       "[1] MaxwellBoltzmannFluxVelocityDistribution()\n",
       "\\end{verbatim}\n",
       "Empty struct defining a (3D) Maxwell-Boltzmann flux velocity distribution.\n",
       "\n"
      ],
      "text/markdown": [
       "```\n",
       "[1] MaxwellBoltzmannFluxVelocityDistribution()\n",
       "```\n",
       "\n",
       "Empty struct defining a (3D) Maxwell-Boltzmann flux velocity distribution.\n"
      ],
      "text/plain": [
       "\u001b[36m  [1] MaxwellBoltzmannFluxVelocityDistribution()\u001b[39m\n",
       "\n",
       "  Empty struct defining a (3D) Maxwell-Boltzmann flux velocity distribution."
      ]
     },
     "execution_count": 3,
     "metadata": {},
     "output_type": "execute_result"
    }
   ],
   "source": [
    "#| echo: false\n",
    "if !isdefined(Main, :ExESS)\n",
    "include(joinpath(@__DIR__, \"..\", \"..\", \"..\", \"exess.jl\", \"src\", \"ExESS.jl\"))\n",
    "using .ExESS\n",
    "end\n",
    "@doc ExESS.MaxwellBoltzmannFluxVelocityDistribution"
   ]
  },
  {
   "cell_type": "code",
   "execution_count": 4,
   "id": "b293f710",
   "metadata": {},
   "outputs": [
    {
     "data": {
      "text/latex": [
       "\\begin{verbatim}\n",
       "[1] cdf(vd::AbstractDistribution, v::Tuple{Real, Real}, T::Real, m::Real; N=1000)\n",
       "[2] cdf(vd::AbstractDistribution, v::Real, T::Real, m::Real; kwargs...)\n",
       "\\end{verbatim}\n",
       "Computes the cumulative distribution function of the velocity distribution \\texttt{vd} based on numerical integration of the respective probability density function between the upper and  lower speed given in \\texttt{v} (in [m s-1]) (if \\texttt{v} is scalar, the lower boundary is zero). Takes  the temperature \\texttt{T} (in [K]) and the mass \\texttt{m} (in [kg]) as arguments to evaluate the MB(F)  distributions. The keyword argument \\texttt{N} controls the number of numerical integration steps.\n",
       "\n"
      ],
      "text/markdown": [
       "```\n",
       "[1] cdf(vd::AbstractDistribution, v::Tuple{Real, Real}, T::Real, m::Real; N=1000)\n",
       "[2] cdf(vd::AbstractDistribution, v::Real, T::Real, m::Real; kwargs...)\n",
       "```\n",
       "\n",
       "Computes the cumulative distribution function of the velocity distribution `vd` based on numerical integration of the respective probability density function between the upper and  lower speed given in `v` (in [m s-1]) (if `v` is scalar, the lower boundary is zero). Takes  the temperature `T` (in [K]) and the mass `m` (in [kg]) as arguments to evaluate the MB(F)  distributions. The keyword argument `N` controls the number of numerical integration steps.\n"
      ],
      "text/plain": [
       "\u001b[36m  [1] cdf(vd::AbstractDistribution, v::Tuple{Real, Real}, T::Real, m::Real; N=1000)\u001b[39m\n",
       "\u001b[36m  [2] cdf(vd::AbstractDistribution, v::Real, T::Real, m::Real; kwargs...)\u001b[39m\n",
       "\n",
       "  Computes the cumulative distribution function of the velocity distribution\n",
       "  \u001b[36mvd\u001b[39m based on numerical integration of the respective probability density\n",
       "  function between the upper and lower speed given in \u001b[36mv\u001b[39m (in [m s-1]) (if \u001b[36mv\u001b[39m is\n",
       "  scalar, the lower boundary is zero). Takes the temperature \u001b[36mT\u001b[39m (in [K]) and\n",
       "  the mass \u001b[36mm\u001b[39m (in [kg]) as arguments to evaluate the MB(F) distributions. The\n",
       "  keyword argument \u001b[36mN\u001b[39m controls the number of numerical integration steps."
      ]
     },
     "execution_count": 4,
     "metadata": {},
     "output_type": "execute_result"
    }
   ],
   "source": [
    "#| echo: false\n",
    "if !isdefined(Main, :ExESS)\n",
    "include(joinpath(@__DIR__, \"..\", \"..\", \"..\", \"exess.jl\", \"src\", \"ExESS.jl\"))\n",
    "using .ExESS\n",
    "end\n",
    "@doc ExESS.cdf"
   ]
  },
  {
   "cell_type": "code",
   "execution_count": 5,
   "id": "f41b5490",
   "metadata": {},
   "outputs": [
    {
     "data": {
      "text/latex": [
       "\\begin{verbatim}\n",
       "[1] pdf(::AbstractDistribution, v::Real, T::Real, m::Real)\n",
       "\\end{verbatim}\n",
       "Calculates the probability density of MB(F) speed distributions, at the speed \\texttt{v} (in [m s-1]), given the temperature \\texttt{T} (in [K]), and the mass \\texttt{m} (in [kg]).\n",
       "\n"
      ],
      "text/markdown": [
       "```\n",
       "[1] pdf(::AbstractDistribution, v::Real, T::Real, m::Real)\n",
       "```\n",
       "\n",
       "Calculates the probability density of MB(F) speed distributions, at the speed `v` (in [m s-1]), given the temperature `T` (in [K]), and the mass `m` (in [kg]).\n"
      ],
      "text/plain": [
       "\u001b[36m  [1] pdf(::AbstractDistribution, v::Real, T::Real, m::Real)\u001b[39m\n",
       "\n",
       "  Calculates the probability density of MB(F) speed distributions, at the\n",
       "  speed \u001b[36mv\u001b[39m (in [m s-1]), given the temperature \u001b[36mT\u001b[39m (in [K]), and the mass \u001b[36mm\u001b[39m (in\n",
       "  [kg])."
      ]
     },
     "execution_count": 5,
     "metadata": {},
     "output_type": "execute_result"
    }
   ],
   "source": [
    "#| echo: false\n",
    "if !isdefined(Main, :ExESS)\n",
    "include(joinpath(@__DIR__, \"..\", \"..\", \"..\", \"exess.jl\", \"src\", \"ExESS.jl\"))\n",
    "using .ExESS\n",
    "end\n",
    "@doc ExESS.pdf"
   ]
  },
  {
   "cell_type": "code",
   "execution_count": 6,
   "id": "aae3c207",
   "metadata": {},
   "outputs": [
    {
     "data": {
      "text/latex": [
       "\\begin{verbatim}\n",
       "[1] sample([S::Type], ::AbstractDistribution, T::Real, m::Real; dims=3)\n",
       "\\end{verbatim}\n",
       "Samples the \\texttt{dims}-dimensional velocity distribtion, given the temperature \\texttt{T} in [K],  and the mass \\texttt{m} in [kg]. Returns the vector as a type \\texttt{S}, if specified.\n",
       "\n"
      ],
      "text/markdown": [
       "```\n",
       "[1] sample([S::Type], ::AbstractDistribution, T::Real, m::Real; dims=3)\n",
       "```\n",
       "\n",
       "Samples the `dims`-dimensional velocity distribtion, given the temperature `T` in [K],  and the mass `m` in [kg]. Returns the vector as a type `S`, if specified.\n"
      ],
      "text/plain": [
       "\u001b[36m  [1] sample([S::Type], ::AbstractDistribution, T::Real, m::Real; dims=3)\u001b[39m\n",
       "\n",
       "  Samples the \u001b[36mdims\u001b[39m-dimensional velocity distribtion, given the temperature \u001b[36mT\u001b[39m\n",
       "  in [K], and the mass \u001b[36mm\u001b[39m in [kg]. Returns the vector as a type \u001b[36mS\u001b[39m, if\n",
       "  specified."
      ]
     },
     "execution_count": 6,
     "metadata": {},
     "output_type": "execute_result"
    }
   ],
   "source": [
    "#| echo: false\n",
    "if !isdefined(Main, :ExESS)\n",
    "include(joinpath(@__DIR__, \"..\", \"..\", \"..\", \"exess.jl\", \"src\", \"ExESS.jl\"))\n",
    "using .ExESS\n",
    "end\n",
    "@doc ExESS.sample"
   ]
  }
 ],
 "metadata": {
  "kernelspec": {
   "display_name": "Julia 1.9.0",
   "language": "julia",
   "name": "julia-1.9"
  },
  "language_info": {
   "file_extension": ".jl",
   "mimetype": "application/julia",
   "name": "julia",
   "version": "1.9.0"
  }
 },
 "nbformat": 4,
 "nbformat_minor": 5
}