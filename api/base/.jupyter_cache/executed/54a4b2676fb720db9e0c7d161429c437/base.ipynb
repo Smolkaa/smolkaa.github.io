{
 "cells": [
  {
   "cell_type": "code",
   "execution_count": 1,
   "id": "20b83659",
   "metadata": {},
   "outputs": [
    {
     "name": "stderr",
     "output_type": "stream",
     "text": [
      "\u001b[32m\u001b[1mPrecompiling\u001b[22m\u001b[39m CairoMakie\n"
     ]
    },
    {
     "name": "stderr",
     "output_type": "stream",
     "text": [
      "\u001b[32m  ✓ \u001b[39mCairoMakie\n",
      "  1 dependency successfully precompiled in 22 seconds. 258 already precompiled."
     ]
    },
    {
     "name": "stderr",
     "output_type": "stream",
     "text": [
      "\n"
     ]
    }
   ],
   "source": [
    "import IJulia\n",
    "\n",
    "# The julia kernel has built in support for Revise.jl, so this is the \n",
    "# recommended approach for long-running sessions:\n",
    "# https://github.com/JuliaLang/IJulia.jl/blob/9b10fa9b879574bbf720f5285029e07758e50a5e/src/kernel.jl#L46-L51\n",
    "\n",
    "# Users should enable revise within .julia/config/startup_ijulia.jl:\n",
    "# https://timholy.github.io/Revise.jl/stable/config/#Using-Revise-automatically-within-Jupyter/IJulia-1\n",
    "\n",
    "# clear console history\n",
    "IJulia.clear_history()\n",
    "\n",
    "fig_width = 7\n",
    "fig_height = 5\n",
    "fig_format = :retina\n",
    "fig_dpi = 96\n",
    "\n",
    "# no retina format type, use svg for high quality type/marks\n",
    "if fig_format == :retina\n",
    "  fig_format = :svg\n",
    "elseif fig_format == :pdf\n",
    "  fig_dpi = 96\n",
    "  # Enable PDF support for IJulia\n",
    "  IJulia.register_mime(MIME(\"application/pdf\"))\n",
    "end\n",
    "\n",
    "# convert inches to pixels\n",
    "fig_width = fig_width * fig_dpi\n",
    "fig_height = fig_height * fig_dpi\n",
    "\n",
    "# Intialize Plots w/ default fig width/height\n",
    "try\n",
    "  import Plots\n",
    "\n",
    "  # Plots.jl doesn't support PDF output for versions < 1.28.1\n",
    "  # so use png (if the DPI remains the default of 300 then set to 96)\n",
    "  if (Plots._current_plots_version < v\"1.28.1\") & (fig_format == :pdf)\n",
    "    Plots.gr(size=(fig_width, fig_height), fmt = :png, dpi = fig_dpi)\n",
    "  else\n",
    "    Plots.gr(size=(fig_width, fig_height), fmt = fig_format, dpi = fig_dpi)\n",
    "  end\n",
    "catch e\n",
    "  # @warn \"Plots init\" exception=(e, catch_backtrace())\n",
    "end\n",
    "\n",
    "# Initialize CairoMakie with default fig width/height\n",
    "try\n",
    "  import CairoMakie\n",
    "  \n",
    "  CairoMakie.activate!(type = string(fig_format))\n",
    "  CairoMakie.update_theme!(resolution=(fig_width, fig_height))\n",
    "catch e\n",
    "    # @warn \"CairoMakie init\" exception=(e, catch_backtrace())\n",
    "end\n",
    "  \n",
    "# Set run_path if specified\n",
    "try\n",
    "  run_path = raw\"C:\\Users\\alex\\Documents\\repos\\exess\\smolkaa.github.io\\api\\base\"\n",
    "  if !isempty(run_path)\n",
    "    cd(run_path)\n",
    "  end\n",
    "catch e\n",
    "  @warn \"Run path init:\" exception=(e, catch_backtrace())\n",
    "end\n",
    "\n",
    "\n",
    "# emulate old Pkg.installed beahvior, see\n",
    "# https://discourse.julialang.org/t/how-to-use-pkg-dependencies-instead-of-pkg-installed/36416/9\n",
    "import Pkg\n",
    "function isinstalled(pkg::String)\n",
    "  any(x -> x.name == pkg && x.is_direct_dep, values(Pkg.dependencies()))\n",
    "end\n",
    "\n",
    "# ojs_define\n",
    "if isinstalled(\"JSON\") && isinstalled(\"DataFrames\")\n",
    "  import JSON, DataFrames\n",
    "  global function ojs_define(; kwargs...)\n",
    "    convert(x) = x\n",
    "    convert(x::DataFrames.AbstractDataFrame) = Tables.rows(x)\n",
    "    content = Dict(\"contents\" => [Dict(\"name\" => k, \"value\" => convert(v)) for (k, v) in kwargs])\n",
    "    tag = \"<script type='ojs-define'>$(JSON.json(content))</script>\"\n",
    "    IJulia.display(MIME(\"text/html\"), tag)\n",
    "  end\n",
    "elseif isinstalled(\"JSON\")\n",
    "  import JSON\n",
    "  global function ojs_define(; kwargs...)\n",
    "    content = Dict(\"contents\" => [Dict(\"name\" => k, \"value\" => v) for (k, v) in kwargs])\n",
    "    tag = \"<script type='ojs-define'>$(JSON.json(content))</script>\"\n",
    "    IJulia.display(MIME(\"text/html\"), tag)\n",
    "  end\n",
    "else\n",
    "  global function ojs_define(; kwargs...)\n",
    "    @warn \"JSON package not available. Please install the JSON.jl package to use ojs_define.\"\n",
    "  end\n",
    "end\n",
    "\n",
    "\n",
    "# don't return kernel dependencies (b/c Revise should take care of dependencies)\n",
    "nothing\n"
   ]
  },
  {
   "cell_type": "code",
   "execution_count": 2,
   "id": "2b6b3fba",
   "metadata": {},
   "outputs": [
    {
     "data": {
      "text/plain": [
       "MaxwellBoltzmannFluxVelocityDistribution{Float64}(250.0, 6.642156158399789e-27)"
      ]
     },
     "execution_count": 2,
     "metadata": {},
     "output_type": "execute_result"
    }
   ],
   "source": [
    "#| output: false\n",
    "#| echo: false\n",
    "if !isdefined(Main, :ExESS)\n",
    "include(joinpath(@__DIR__, \"..\", \"..\", \"..\", \"exess.jl\", \"src\", \"ExESS.jl\"))\n",
    "using .ExESS\n",
    "end\n",
    "T, m = 250.0, amu2kg(4) # [K], [kg] (mass of helium)\n",
    "vd_mb = MaxwellBoltzmannVelocityDistribution(T, m)\n",
    "vd_mbf = MaxwellBoltzmannFluxVelocityDistribution(T, m)"
   ]
  },
  {
   "cell_type": "code",
   "execution_count": 3,
   "id": "d0c5ff18",
   "metadata": {},
   "outputs": [
    {
     "data": {
      "text/plain": [
       "(17.340460644864656, 1383.2378286498101, 813.0269179894757)"
      ]
     },
     "execution_count": 3,
     "metadata": {},
     "output_type": "execute_result"
    }
   ],
   "source": [
    "velocity(vd_mb)"
   ]
  },
  {
   "cell_type": "code",
   "execution_count": 4,
   "id": "5db814db",
   "metadata": {},
   "outputs": [
    {
     "data": {
      "text/plain": [
       "1554.2057830291183"
      ]
     },
     "execution_count": 4,
     "metadata": {},
     "output_type": "execute_result"
    }
   ],
   "source": [
    "speed(vd_mb)"
   ]
  },
  {
   "cell_type": "code",
   "execution_count": 5,
   "id": "76a1a0d8",
   "metadata": {},
   "outputs": [
    {
     "data": {
      "text/plain": [
       "-1.6788050623767696"
      ]
     },
     "execution_count": 5,
     "metadata": {},
     "output_type": "execute_result"
    }
   ],
   "source": [
    "azimuth(vd_mb)"
   ]
  },
  {
   "cell_type": "code",
   "execution_count": 6,
   "id": "6b82e135",
   "metadata": {},
   "outputs": [
    {
     "data": {
      "text/plain": [
       "0.5647463724169044"
      ]
     },
     "execution_count": 6,
     "metadata": {},
     "output_type": "execute_result"
    }
   ],
   "source": [
    "elevation(vd_mb)"
   ]
  },
  {
   "cell_type": "code",
   "execution_count": 7,
   "id": "4cf6196b",
   "metadata": {},
   "outputs": [
    {
     "data": {
      "text/plain": [
       "1.4580601768477242"
      ]
     },
     "execution_count": 7,
     "metadata": {},
     "output_type": "execute_result"
    }
   ],
   "source": [
    "zenith(vd_mb)"
   ]
  },
  {
   "cell_type": "code",
   "execution_count": 8,
   "id": "6dc57d93",
   "metadata": {},
   "outputs": [
    {
     "data": {
      "text/plain": [
       "(0.7853981633974483, 1.0471975511965976)"
      ]
     },
     "execution_count": 8,
     "metadata": {},
     "output_type": "execute_result"
    }
   ],
   "source": [
    "#| output: false\n",
    "v1, v2 = 100.0, 200.0   # speed [m s-1]\n",
    "az1, az2 = -pi/4, pi/2  # azimuth [rad]\n",
    "el1, el2 = pi/6, pi/4   # elevation [ad]\n",
    "ze1, ze2 = pi/4, pi/3   # zenith [rad]"
   ]
  },
  {
   "cell_type": "code",
   "execution_count": 9,
   "id": "4cc1ae19",
   "metadata": {},
   "outputs": [
    {
     "data": {
      "text/plain": [
       "(0.0006759042596645416, 0.375, 0.25, 0.24999999999999992)"
      ]
     },
     "execution_count": 9,
     "metadata": {},
     "output_type": "execute_result"
    }
   ],
   "source": [
    "speed_cdf(vd_mbf, v1, v2), azimuth_cdf(vd_mbf, az1, az2), elevation_cdf(vd_mbf, el1, el2), zenith_cdf(vd_mbf, ze1, ze2)"
   ]
  },
  {
   "cell_type": "code",
   "execution_count": 10,
   "id": "fe6fd3ef",
   "metadata": {},
   "outputs": [
    {
     "data": {
      "text/plain": [
       "-0.005572767952698361"
      ]
     },
     "execution_count": 10,
     "metadata": {},
     "output_type": "execute_result"
    }
   ],
   "source": [
    "#| output: false\n",
    "v1_mbf, v2_mbf = velocity(MaxwellBoltzmannFluxVelocityDistribution(T, m)), velocity(MaxwellBoltzmannFluxVelocityDistribution(T, m))\n",
    "v1, v2 = speed(v1_mbf), speed(v2_mbf)\n",
    "az1, az2 = azimuth(v1_mbf), azimuth(v2_mbf)\n",
    "el1, el2 = elevation(v1_mbf), elevation(v2_mbf)\n",
    "velocity_cdf(vd_mbf, v1_mbf, v2_mbf)"
   ]
  },
  {
   "cell_type": "code",
   "execution_count": 11,
   "id": "5c02c5d3",
   "metadata": {},
   "outputs": [
    {
     "data": {
      "text/plain": [
       "0.005572767952698361"
      ]
     },
     "execution_count": 11,
     "metadata": {},
     "output_type": "execute_result"
    }
   ],
   "source": [
    "#| echo: false\n",
    "abs(velocity_cdf(vd_mbf, v1_mbf, v2_mbf))"
   ]
  },
  {
   "cell_type": "code",
   "execution_count": 12,
   "id": "fa3438d8",
   "metadata": {},
   "outputs": [
    {
     "data": {
      "text/plain": [
       "0.03274004622059475"
      ]
     },
     "execution_count": 12,
     "metadata": {},
     "output_type": "execute_result"
    }
   ],
   "source": [
    "abs(speed_cdf(vd_mbf, v1, v2)) * abs(azimuth_cdf(vd_mbf, az1, az2)) * abs(elevation_cdf(vd_mbf, el1, el2))"
   ]
  },
  {
   "cell_type": "code",
   "execution_count": 13,
   "id": "53c18e74",
   "metadata": {},
   "outputs": [
    {
     "data": {
      "text/latex": [
       "\\begin{verbatim}\n",
       "[1] EqualSurfaceDistribution{S<:AbstractFloat} <: AbstractPositionDistribution{S}\n",
       "[2] EqualSurfaceDistribution(r::Real)\n",
       "\\end{verbatim}\n",
       "Custom struct defining an equal surface distribution based on the surface area of a sphere.  Uses the radius \\texttt{r} in [m] of the central planetary body as input.\n",
       "\n"
      ],
      "text/markdown": [
       "```\n",
       "[1] EqualSurfaceDistribution{S<:AbstractFloat} <: AbstractPositionDistribution{S}\n",
       "[2] EqualSurfaceDistribution(r::Real)\n",
       "```\n",
       "\n",
       "Custom struct defining an equal surface distribution based on the surface area of a sphere.  Uses the radius `r` in [m] of the central planetary body as input.\n"
      ],
      "text/plain": [
       "\u001b[36m  [1] EqualSurfaceDistribution{S<:AbstractFloat} <: AbstractPositionDistribution{S}\u001b[39m\n",
       "\u001b[36m  [2] EqualSurfaceDistribution(r::Real)\u001b[39m\n",
       "\n",
       "  Custom struct defining an equal surface distribution based on the surface\n",
       "  area of a sphere. Uses the radius \u001b[36mr\u001b[39m in [m] of the central planetary body as\n",
       "  input."
      ]
     },
     "execution_count": 13,
     "metadata": {},
     "output_type": "execute_result"
    }
   ],
   "source": [
    "#| echo: false\n",
    "if !isdefined(Main, :ExESS)\n",
    "include(joinpath(@__DIR__, \"..\", \"..\", \"..\", \"exess.jl\", \"src\", \"ExESS.jl\"))\n",
    "using .ExESS\n",
    "end\n",
    "@doc ExESS.EqualSurfaceDistribution"
   ]
  },
  {
   "cell_type": "code",
   "execution_count": 14,
   "id": "9b675d12",
   "metadata": {},
   "outputs": [
    {
     "data": {
      "text/latex": [
       "\\begin{verbatim}\n",
       "[1] SolarWindSurfaceDistribution{S<:AbstractFloat} <: AbstractPositionDistribution{S}\n",
       "[2] SolarWindSurfaceDistribution(r::Real)\n",
       "\\end{verbatim}\n",
       "Custom struct defining a surface distribution based on the influence of the solar wind. Uses the radius \\texttt{r} in [m] of the central planetary body as input. Applies only to the Sun-facing side (i.e. \\texttt{-pi/2 <= theta <= pi/2}).\n",
       "\n"
      ],
      "text/markdown": [
       "```\n",
       "[1] SolarWindSurfaceDistribution{S<:AbstractFloat} <: AbstractPositionDistribution{S}\n",
       "[2] SolarWindSurfaceDistribution(r::Real)\n",
       "```\n",
       "\n",
       "Custom struct defining a surface distribution based on the influence of the solar wind. Uses the radius `r` in [m] of the central planetary body as input. Applies only to the Sun-facing side (i.e. `-pi/2 <= theta <= pi/2`).\n"
      ],
      "text/plain": [
       "\u001b[36m  [1] SolarWindSurfaceDistribution{S<:AbstractFloat} <: AbstractPositionDistribution{S}\u001b[39m\n",
       "\u001b[36m  [2] SolarWindSurfaceDistribution(r::Real)\u001b[39m\n",
       "\n",
       "  Custom struct defining a surface distribution based on the influence of the\n",
       "  solar wind. Uses the radius \u001b[36mr\u001b[39m in [m] of the central planetary body as input.\n",
       "  Applies only to the Sun-facing side (i.e. \u001b[36m-pi/2 <= theta <= pi/2\u001b[39m)."
      ]
     },
     "execution_count": 14,
     "metadata": {},
     "output_type": "execute_result"
    }
   ],
   "source": [
    "#| echo: false\n",
    "if !isdefined(Main, :ExESS)\n",
    "include(joinpath(@__DIR__, \"..\", \"..\", \"..\", \"exess.jl\", \"src\", \"ExESS.jl\"))\n",
    "using .ExESS\n",
    "end\n",
    "@doc ExESS.SolarWindSurfaceDistribution"
   ]
  },
  {
   "cell_type": "code",
   "execution_count": 15,
   "id": "70090905",
   "metadata": {},
   "outputs": [
    {
     "data": {
      "text/latex": [
       "\\begin{verbatim}\n",
       "[1] MaxwellBoltzmannVelocityDistribution{S<:AbstractFloat} <: AbstractVelocityDistribution{S}\n",
       "[2] MaxwellBoltzmannVelocityDistribution(T::Real, m::Real)\n",
       "\\end{verbatim}\n",
       "Custom struct defining a (3D) Maxwell-Boltzmann velocity distribution. Uses the temperature \\texttt{T} in Kelvin and the mass \\texttt{m} in kg as inputs.\n",
       "\n"
      ],
      "text/markdown": [
       "```\n",
       "[1] MaxwellBoltzmannVelocityDistribution{S<:AbstractFloat} <: AbstractVelocityDistribution{S}\n",
       "[2] MaxwellBoltzmannVelocityDistribution(T::Real, m::Real)\n",
       "```\n",
       "\n",
       "Custom struct defining a (3D) Maxwell-Boltzmann velocity distribution. Uses the temperature `T` in Kelvin and the mass `m` in kg as inputs.\n"
      ],
      "text/plain": [
       "\u001b[36m  [1] MaxwellBoltzmannVelocityDistribution{S<:AbstractFloat} <: AbstractVelocityDistribution{S}\u001b[39m\n",
       "\u001b[36m  [2] MaxwellBoltzmannVelocityDistribution(T::Real, m::Real)\u001b[39m\n",
       "\n",
       "  Custom struct defining a (3D) Maxwell-Boltzmann velocity distribution. Uses\n",
       "  the temperature \u001b[36mT\u001b[39m in Kelvin and the mass \u001b[36mm\u001b[39m in kg as inputs."
      ]
     },
     "execution_count": 15,
     "metadata": {},
     "output_type": "execute_result"
    }
   ],
   "source": [
    "#| echo: false\n",
    "if !isdefined(Main, :ExESS)\n",
    "include(joinpath(@__DIR__, \"..\", \"..\", \"..\", \"exess.jl\", \"src\", \"ExESS.jl\"))\n",
    "using .ExESS\n",
    "end\n",
    "@doc ExESS.MaxwellBoltzmannVelocityDistribution"
   ]
  },
  {
   "cell_type": "code",
   "execution_count": 16,
   "id": "092d6a7a",
   "metadata": {},
   "outputs": [
    {
     "data": {
      "text/latex": [
       "\\begin{verbatim}\n",
       "[1] MaxwellBoltzmannFluxVelocityDistribution{S<:AbstractFloat} <: AbstractVelocityDistribution{S}\n",
       "[2] MaxwellBoltzmannFluxVelocityDistribution(T::Real, m::Real)\n",
       "\\end{verbatim}\n",
       "Custom struct defining a (3D) Maxwell-Boltzmann flux velocity distribution. Uses the  temperature \\texttt{T} in Kelvin and the mass \\texttt{m} in kg as inputs.\n",
       "\n"
      ],
      "text/markdown": [
       "```\n",
       "[1] MaxwellBoltzmannFluxVelocityDistribution{S<:AbstractFloat} <: AbstractVelocityDistribution{S}\n",
       "[2] MaxwellBoltzmannFluxVelocityDistribution(T::Real, m::Real)\n",
       "```\n",
       "\n",
       "Custom struct defining a (3D) Maxwell-Boltzmann flux velocity distribution. Uses the  temperature `T` in Kelvin and the mass `m` in kg as inputs.\n"
      ],
      "text/plain": [
       "\u001b[36m  [1] MaxwellBoltzmannFluxVelocityDistribution{S<:AbstractFloat} <: AbstractVelocityDistribution{S}\u001b[39m\n",
       "\u001b[36m  [2] MaxwellBoltzmannFluxVelocityDistribution(T::Real, m::Real)\u001b[39m\n",
       "\n",
       "  Custom struct defining a (3D) Maxwell-Boltzmann flux velocity distribution.\n",
       "  Uses the temperature \u001b[36mT\u001b[39m in Kelvin and the mass \u001b[36mm\u001b[39m in kg as inputs."
      ]
     },
     "execution_count": 16,
     "metadata": {},
     "output_type": "execute_result"
    }
   ],
   "source": [
    "#| echo: false\n",
    "if !isdefined(Main, :ExESS)\n",
    "include(joinpath(@__DIR__, \"..\", \"..\", \"..\", \"exess.jl\", \"src\", \"ExESS.jl\"))\n",
    "using .ExESS\n",
    "end\n",
    "@doc ExESS.MaxwellBoltzmannFluxVelocityDistribution"
   ]
  },
  {
   "cell_type": "code",
   "execution_count": 17,
   "id": "ec7dc8a9",
   "metadata": {},
   "outputs": [
    {
     "data": {
      "text/latex": [
       "\\begin{verbatim}\n",
       "[1] azimuth([S::Type{<:Real}], vd::AbstractVelocityDistribution)\n",
       "[2] azimuth([S::Type{<:Real}], v::Tuple)\n",
       "[3] azimuth([S::Type{<:Real}], v::AbstractVector)\n",
       "[4] azimuth([S::Type{<:Real}], v::LocalCartesianVelocity)\n",
       "\\end{verbatim}\n",
       "[1] Draw a random azimuth angle (in [rad]) from the velocity distribution \\texttt{vd}.\n",
       "\n",
       "[2,3,4] Calculate the azimuth angle (in [rad]) of the velocity vector \\texttt{v} (in [m s-1]).  Alternatively, the azimuth angle can be calculated from a \\texttt{LocalCartesianVelocity} \\texttt{v}  S(in [m s-1]).\n",
       "\n"
      ],
      "text/markdown": [
       "```\n",
       "[1] azimuth([S::Type{<:Real}], vd::AbstractVelocityDistribution)\n",
       "[2] azimuth([S::Type{<:Real}], v::Tuple)\n",
       "[3] azimuth([S::Type{<:Real}], v::AbstractVector)\n",
       "[4] azimuth([S::Type{<:Real}], v::LocalCartesianVelocity)\n",
       "```\n",
       "\n",
       "[1] Draw a random azimuth angle (in [rad]) from the velocity distribution `vd`.\n",
       "\n",
       "[2,3,4] Calculate the azimuth angle (in [rad]) of the velocity vector `v` (in [m s-1]).  Alternatively, the azimuth angle can be calculated from a `LocalCartesianVelocity` `v`  S(in [m s-1]).\n"
      ],
      "text/plain": [
       "\u001b[36m  [1] azimuth([S::Type{<:Real}], vd::AbstractVelocityDistribution)\u001b[39m\n",
       "\u001b[36m  [2] azimuth([S::Type{<:Real}], v::Tuple)\u001b[39m\n",
       "\u001b[36m  [3] azimuth([S::Type{<:Real}], v::AbstractVector)\u001b[39m\n",
       "\u001b[36m  [4] azimuth([S::Type{<:Real}], v::LocalCartesianVelocity)\u001b[39m\n",
       "\n",
       "  [1] Draw a random azimuth angle (in [rad]) from the velocity distribution\n",
       "  \u001b[36mvd\u001b[39m.\n",
       "\n",
       "  [2,3,4] Calculate the azimuth angle (in [rad]) of the velocity vector \u001b[36mv\u001b[39m (in\n",
       "  [m s-1]). Alternatively, the azimuth angle can be calculated from a\n",
       "  \u001b[36mLocalCartesianVelocity\u001b[39m \u001b[36mv\u001b[39m S(in [m s-1])."
      ]
     },
     "execution_count": 17,
     "metadata": {},
     "output_type": "execute_result"
    }
   ],
   "source": [
    "#| echo: false\n",
    "if !isdefined(Main, :ExESS)\n",
    "include(joinpath(@__DIR__, \"..\", \"..\", \"..\", \"exess.jl\", \"src\", \"ExESS.jl\"))\n",
    "using .ExESS\n",
    "end\n",
    "@doc ExESS.azimuth"
   ]
  },
  {
   "cell_type": "code",
   "execution_count": 18,
   "id": "16a429b8",
   "metadata": {},
   "outputs": [
    {
     "data": {
      "text/latex": [
       "\\begin{verbatim}\n",
       "[1] azimuth_cdf([S::Type{<:Real}], vd::AbstractVelocityDistribution, theta1::Real, \n",
       "        [theta2::Real])\n",
       "[2] azimuth_cdf([S::Type{<:Real}], vd::AbstractVelocityDistribution, \n",
       "        theta::Tuple{Real, Real})\n",
       "[3] azimuth_cdf([S::Type{<:Real}], vd::AbstractVelocityDistribution, \n",
       "        v1::Union{Tuple, AbstractVector, LocalCartesianVelocity}, \n",
       "        [v2::Union{Tuple, AbstractVector, LocalCartesianVelocity}])\n",
       "\\end{verbatim}\n",
       "Computes the cumulative distribution function of the azimuth angle of the velocity distribution \\texttt{vd}, between the azimuth angles given in \\texttt{theta} (in [rad]). Should  only one angle be given, the lower boundary is assumed to be lower boundary of the respective domain, \\texttt{-pi}.\n",
       "\n",
       "If instead of an azimuth angle \\texttt{theta} a velocity vector, tuple or \\texttt{LocalCartesianVelocity} \\texttt{v} (in [m s-1]) is given, first the azimuth angle is calculated from the tuple, vector or \\texttt{LocalCartesianVelocity} and then the cumulative distribution function is evaluated accordingly.\n",
       "\n"
      ],
      "text/markdown": [
       "```\n",
       "[1] azimuth_cdf([S::Type{<:Real}], vd::AbstractVelocityDistribution, theta1::Real, \n",
       "        [theta2::Real])\n",
       "[2] azimuth_cdf([S::Type{<:Real}], vd::AbstractVelocityDistribution, \n",
       "        theta::Tuple{Real, Real})\n",
       "[3] azimuth_cdf([S::Type{<:Real}], vd::AbstractVelocityDistribution, \n",
       "        v1::Union{Tuple, AbstractVector, LocalCartesianVelocity}, \n",
       "        [v2::Union{Tuple, AbstractVector, LocalCartesianVelocity}])\n",
       "```\n",
       "\n",
       "Computes the cumulative distribution function of the azimuth angle of the velocity distribution `vd`, between the azimuth angles given in `theta` (in [rad]). Should  only one angle be given, the lower boundary is assumed to be lower boundary of the respective domain, `-pi`.\n",
       "\n",
       "If instead of an azimuth angle `theta` a velocity vector, tuple or `LocalCartesianVelocity` `v` (in [m s-1]) is given, first the azimuth angle is calculated from the tuple, vector or `LocalCartesianVelocity` and then the cumulative distribution function is evaluated accordingly.\n"
      ],
      "text/plain": [
       "\u001b[36m  [1] azimuth_cdf([S::Type{<:Real}], vd::AbstractVelocityDistribution, theta1::Real, \u001b[39m\n",
       "\u001b[36m          [theta2::Real])\u001b[39m\n",
       "\u001b[36m  [2] azimuth_cdf([S::Type{<:Real}], vd::AbstractVelocityDistribution, \u001b[39m\n",
       "\u001b[36m          theta::Tuple{Real, Real})\u001b[39m\n",
       "\u001b[36m  [3] azimuth_cdf([S::Type{<:Real}], vd::AbstractVelocityDistribution, \u001b[39m\n",
       "\u001b[36m          v1::Union{Tuple, AbstractVector, LocalCartesianVelocity}, \u001b[39m\n",
       "\u001b[36m          [v2::Union{Tuple, AbstractVector, LocalCartesianVelocity}])\u001b[39m\n",
       "\n",
       "  Computes the cumulative distribution function of the azimuth angle of the\n",
       "  velocity distribution \u001b[36mvd\u001b[39m, between the azimuth angles given in \u001b[36mtheta\u001b[39m (in\n",
       "  [rad]). Should only one angle be given, the lower boundary is assumed to be\n",
       "  lower boundary of the respective domain, \u001b[36m-pi\u001b[39m.\n",
       "\n",
       "  If instead of an azimuth angle \u001b[36mtheta\u001b[39m a velocity vector, tuple or\n",
       "  \u001b[36mLocalCartesianVelocity\u001b[39m \u001b[36mv\u001b[39m (in [m s-1]) is given, first the azimuth angle is\n",
       "  calculated from the tuple, vector or \u001b[36mLocalCartesianVelocity\u001b[39m and then the\n",
       "  cumulative distribution function is evaluated accordingly."
      ]
     },
     "execution_count": 18,
     "metadata": {},
     "output_type": "execute_result"
    }
   ],
   "source": [
    "#| echo: false\n",
    "if !isdefined(Main, :ExESS)\n",
    "include(joinpath(@__DIR__, \"..\", \"..\", \"..\", \"exess.jl\", \"src\", \"ExESS.jl\"))\n",
    "using .ExESS\n",
    "end\n",
    "@doc ExESS.azimuth_cdf"
   ]
  },
  {
   "cell_type": "code",
   "execution_count": 19,
   "id": "7ef5b89e",
   "metadata": {},
   "outputs": [
    {
     "data": {
      "text/latex": [
       "\\begin{verbatim}\n",
       "[1] azimuth_pdf([S::Type{<:Real}], vd::AbstractVelocityDistribution, theta::Real)\n",
       "[2] azimuth_pdf([S::Type{<:Real}], vd::AbstractVelocityDistribution, v::Tuple)\n",
       "[3] azimuth_pdf([S::Type{<:Real}], vd::AbstractVelocityDistribution, v::AbstractVector)\n",
       "[4] azimuth_pdf([S::Type{<:Real}], vd::AbstractVelocityDistribution, v::LocalCartesianVelocity)\n",
       "\\end{verbatim}\n",
       "Calculates the probability density of the azimuth angle of the velocity distribution \\texttt{vd}, at the azimuth angle \\texttt{theta} (in [rad]). Alternatively, the probability density can be  calculated at a velocity vector \\texttt{v} (in [m s-1]) or a \\texttt{LocalCartesianVelocity} \\texttt{v}  (in [m s-1]). Note that for [2] the vector assumes a local cartesian coordinate system  (see \\texttt{LocalCartesianVelocity}).\n",
       "\n"
      ],
      "text/markdown": [
       "```\n",
       "[1] azimuth_pdf([S::Type{<:Real}], vd::AbstractVelocityDistribution, theta::Real)\n",
       "[2] azimuth_pdf([S::Type{<:Real}], vd::AbstractVelocityDistribution, v::Tuple)\n",
       "[3] azimuth_pdf([S::Type{<:Real}], vd::AbstractVelocityDistribution, v::AbstractVector)\n",
       "[4] azimuth_pdf([S::Type{<:Real}], vd::AbstractVelocityDistribution, v::LocalCartesianVelocity)\n",
       "```\n",
       "\n",
       "Calculates the probability density of the azimuth angle of the velocity distribution `vd`, at the azimuth angle `theta` (in [rad]). Alternatively, the probability density can be  calculated at a velocity vector `v` (in [m s-1]) or a `LocalCartesianVelocity` `v`  (in [m s-1]). Note that for [2] the vector assumes a local cartesian coordinate system  (see `LocalCartesianVelocity`).\n"
      ],
      "text/plain": [
       "\u001b[36m  [1] azimuth_pdf([S::Type{<:Real}], vd::AbstractVelocityDistribution, theta::Real)\u001b[39m\n",
       "\u001b[36m  [2] azimuth_pdf([S::Type{<:Real}], vd::AbstractVelocityDistribution, v::Tuple)\u001b[39m\n",
       "\u001b[36m  [3] azimuth_pdf([S::Type{<:Real}], vd::AbstractVelocityDistribution, v::AbstractVector)\u001b[39m\n",
       "\u001b[36m  [4] azimuth_pdf([S::Type{<:Real}], vd::AbstractVelocityDistribution, v::LocalCartesianVelocity)\u001b[39m\n",
       "\n",
       "  Calculates the probability density of the azimuth angle of the velocity\n",
       "  distribution \u001b[36mvd\u001b[39m, at the azimuth angle \u001b[36mtheta\u001b[39m (in [rad]). Alternatively, the\n",
       "  probability density can be calculated at a velocity vector \u001b[36mv\u001b[39m (in [m s-1]) or\n",
       "  a \u001b[36mLocalCartesianVelocity\u001b[39m \u001b[36mv\u001b[39m (in [m s-1]). Note that for [2] the vector\n",
       "  assumes a local cartesian coordinate system (see \u001b[36mLocalCartesianVelocity\u001b[39m)."
      ]
     },
     "execution_count": 19,
     "metadata": {},
     "output_type": "execute_result"
    }
   ],
   "source": [
    "#| echo: false\n",
    "if !isdefined(Main, :ExESS)\n",
    "include(joinpath(@__DIR__, \"..\", \"..\", \"..\", \"exess.jl\", \"src\", \"ExESS.jl\"))\n",
    "using .ExESS\n",
    "end\n",
    "@doc ExESS.azimuth_pdf"
   ]
  },
  {
   "cell_type": "code",
   "execution_count": 20,
   "id": "aabf3563",
   "metadata": {},
   "outputs": [
    {
     "data": {
      "text/latex": [
       "\\begin{verbatim}\n",
       "[1] elevation([S::Type{<:Real}], vd::AbstractVelocityDistribution)\n",
       "[2] elevation([S::Type{<:Real}], v::Tuple)\n",
       "[3] elevation([S::Type{<:Real}], v::AbstractVector)\n",
       "[4] elevation([S::Type{<:Real}], v::LocalCartesianVelocity)\n",
       "\\end{verbatim}\n",
       "[1] Draw a random elevation angle (in [rad]) from the velocity distribution \\texttt{vd}.\n",
       "\n",
       "[2,3,4] Calculate the elevation angle (in [rad]) of the velocity vector \\texttt{v} (in [m s-1]). Alternatively, the elevation angle can be calculated from a \\texttt{LocalCartesianVelocity} \\texttt{v}  (in [m s-1]).\n",
       "\n",
       "\\textbf{Note}\n",
       "\n",
       "\\begin{itemize}\n",
       "\\item Domain of \\texttt{MaxwellBoltzmannVelocityDistribution} is \\texttt{[-pi/2, pi/2]}\n",
       "\n",
       "\n",
       "\\item Domain of \\texttt{MaxwellBoltzmannFluxVelocityDistribution} is \\texttt{[0, pi/2]}\n",
       "\n",
       "\\end{itemize}\n"
      ],
      "text/markdown": [
       "```\n",
       "[1] elevation([S::Type{<:Real}], vd::AbstractVelocityDistribution)\n",
       "[2] elevation([S::Type{<:Real}], v::Tuple)\n",
       "[3] elevation([S::Type{<:Real}], v::AbstractVector)\n",
       "[4] elevation([S::Type{<:Real}], v::LocalCartesianVelocity)\n",
       "```\n",
       "\n",
       "[1] Draw a random elevation angle (in [rad]) from the velocity distribution `vd`.\n",
       "\n",
       "[2,3,4] Calculate the elevation angle (in [rad]) of the velocity vector `v` (in [m s-1]). Alternatively, the elevation angle can be calculated from a `LocalCartesianVelocity` `v`  (in [m s-1]).\n",
       "\n",
       "**Note**\n",
       "\n",
       "  * Domain of `MaxwellBoltzmannVelocityDistribution` is `[-pi/2, pi/2]`\n",
       "  * Domain of `MaxwellBoltzmannFluxVelocityDistribution` is `[0, pi/2]`\n"
      ],
      "text/plain": [
       "\u001b[36m  [1] elevation([S::Type{<:Real}], vd::AbstractVelocityDistribution)\u001b[39m\n",
       "\u001b[36m  [2] elevation([S::Type{<:Real}], v::Tuple)\u001b[39m\n",
       "\u001b[36m  [3] elevation([S::Type{<:Real}], v::AbstractVector)\u001b[39m\n",
       "\u001b[36m  [4] elevation([S::Type{<:Real}], v::LocalCartesianVelocity)\u001b[39m\n",
       "\n",
       "  [1] Draw a random elevation angle (in [rad]) from the velocity distribution\n",
       "  \u001b[36mvd\u001b[39m.\n",
       "\n",
       "  [2,3,4] Calculate the elevation angle (in [rad]) of the velocity vector \u001b[36mv\u001b[39m\n",
       "  (in [m s-1]). Alternatively, the elevation angle can be calculated from a\n",
       "  \u001b[36mLocalCartesianVelocity\u001b[39m \u001b[36mv\u001b[39m (in [m s-1]).\n",
       "\n",
       "  \u001b[1mNote\u001b[22m\n",
       "\n",
       "    •  Domain of \u001b[36mMaxwellBoltzmannVelocityDistribution\u001b[39m is \u001b[36m[-pi/2, pi/2]\u001b[39m\n",
       "\n",
       "    •  Domain of \u001b[36mMaxwellBoltzmannFluxVelocityDistribution\u001b[39m is \u001b[36m[0, pi/2]\u001b[39m"
      ]
     },
     "execution_count": 20,
     "metadata": {},
     "output_type": "execute_result"
    }
   ],
   "source": [
    "#| echo: false\n",
    "if !isdefined(Main, :ExESS)\n",
    "include(joinpath(@__DIR__, \"..\", \"..\", \"..\", \"exess.jl\", \"src\", \"ExESS.jl\"))\n",
    "using .ExESS\n",
    "end\n",
    "@doc ExESS.elevation"
   ]
  },
  {
   "cell_type": "code",
   "execution_count": 21,
   "id": "5b5f0cac",
   "metadata": {},
   "outputs": [
    {
     "data": {
      "text/latex": [
       "\\begin{verbatim}\n",
       "[1] elevation_cdf([S::Type{<:Real}], vd::AbstractVelocityDistribution, phi1::Real, [phi2::Real])\n",
       "[2] elevation_cdf([S::Type{<:Real}], vd::AbstractVelocityDistribution, phi{Real, Real})\n",
       "[3] elevation_cdf([S::Type{<:Real}], vd::AbstractVelocityDistribution, \n",
       "        v1::Union{Tuple, AbstractVector, LocalCartesianVelocity}, \n",
       "        [v2::Union{Tuple, AbstractVector, LocalCartesianVelocity}])\n",
       "\\end{verbatim}\n",
       "Computes the cumulative distribution function of the elevation angle of the velocity  distribution \\texttt{vd}, between the elevation angles given in \\texttt{phi} (in [rad]). Should only one  angle be given, the lower boundary is assumed to be lower boundary of the respective domain. \n",
       "\n",
       "If instead of an elevation angle a velocity vector, tuple or \\texttt{LocalCartesianVelocity} \\texttt{v} (in [m s-1]) is given, first the elevation angle is calculated from the tuple, vector or \\texttt{LocalCartesianVelocity} and then the cumulative distribution function is evaluated accordingly.\n",
       "\n",
       "** Notes**\n",
       "\n",
       "\\begin{itemize}\n",
       "\\item Domain of \\texttt{MaxwellBoltzmannVelocityDistribution} is \\texttt{[-pi/2, pi/2]}, thus, using [3,5,7],  the lower boundary is \\texttt{-pi/2}.\n",
       "\n",
       "\n",
       "\\item Domain of \\texttt{MaxwellBoltzmannFluxVelocityDistribution} is \\texttt{[0, pi/2]}, thus, using [3,5,7],  the lower boundary is \\texttt{0}.\n",
       "\n",
       "\\end{itemize}\n"
      ],
      "text/markdown": [
       "```\n",
       "[1] elevation_cdf([S::Type{<:Real}], vd::AbstractVelocityDistribution, phi1::Real, [phi2::Real])\n",
       "[2] elevation_cdf([S::Type{<:Real}], vd::AbstractVelocityDistribution, phi{Real, Real})\n",
       "[3] elevation_cdf([S::Type{<:Real}], vd::AbstractVelocityDistribution, \n",
       "        v1::Union{Tuple, AbstractVector, LocalCartesianVelocity}, \n",
       "        [v2::Union{Tuple, AbstractVector, LocalCartesianVelocity}])\n",
       "```\n",
       "\n",
       "Computes the cumulative distribution function of the elevation angle of the velocity  distribution `vd`, between the elevation angles given in `phi` (in [rad]). Should only one  angle be given, the lower boundary is assumed to be lower boundary of the respective domain. \n",
       "\n",
       "If instead of an elevation angle a velocity vector, tuple or `LocalCartesianVelocity` `v` (in [m s-1]) is given, first the elevation angle is calculated from the tuple, vector or `LocalCartesianVelocity` and then the cumulative distribution function is evaluated accordingly.\n",
       "\n",
       "** Notes**\n",
       "\n",
       "  * Domain of `MaxwellBoltzmannVelocityDistribution` is `[-pi/2, pi/2]`, thus, using [3,5,7],  the lower boundary is `-pi/2`.\n",
       "  * Domain of `MaxwellBoltzmannFluxVelocityDistribution` is `[0, pi/2]`, thus, using [3,5,7],  the lower boundary is `0`.\n"
      ],
      "text/plain": [
       "\u001b[36m  [1] elevation_cdf([S::Type{<:Real}], vd::AbstractVelocityDistribution, phi1::Real, [phi2::Real])\u001b[39m\n",
       "\u001b[36m  [2] elevation_cdf([S::Type{<:Real}], vd::AbstractVelocityDistribution, phi{Real, Real})\u001b[39m\n",
       "\u001b[36m  [3] elevation_cdf([S::Type{<:Real}], vd::AbstractVelocityDistribution, \u001b[39m\n",
       "\u001b[36m          v1::Union{Tuple, AbstractVector, LocalCartesianVelocity}, \u001b[39m\n",
       "\u001b[36m          [v2::Union{Tuple, AbstractVector, LocalCartesianVelocity}])\u001b[39m\n",
       "\n",
       "  Computes the cumulative distribution function of the elevation angle of the\n",
       "  velocity distribution \u001b[36mvd\u001b[39m, between the elevation angles given in \u001b[36mphi\u001b[39m (in\n",
       "  [rad]). Should only one angle be given, the lower boundary is assumed to be\n",
       "  lower boundary of the respective domain.\n",
       "\n",
       "  If instead of an elevation angle a velocity vector, tuple or\n",
       "  \u001b[36mLocalCartesianVelocity\u001b[39m \u001b[36mv\u001b[39m (in [m s-1]) is given, first the elevation angle is\n",
       "  calculated from the tuple, vector or \u001b[36mLocalCartesianVelocity\u001b[39m and then the\n",
       "  cumulative distribution function is evaluated accordingly.\n",
       "\n",
       "  ** Notes**\n",
       "\n",
       "    •  Domain of \u001b[36mMaxwellBoltzmannVelocityDistribution\u001b[39m is \u001b[36m[-pi/2, pi/2]\u001b[39m,\n",
       "       thus, using [3,5,7], the lower boundary is \u001b[36m-pi/2\u001b[39m.\n",
       "\n",
       "    •  Domain of \u001b[36mMaxwellBoltzmannFluxVelocityDistribution\u001b[39m is \u001b[36m[0, pi/2]\u001b[39m,\n",
       "       thus, using [3,5,7], the lower boundary is \u001b[36m0\u001b[39m."
      ]
     },
     "execution_count": 21,
     "metadata": {},
     "output_type": "execute_result"
    }
   ],
   "source": [
    "#| echo: false\n",
    "if !isdefined(Main, :ExESS)\n",
    "include(joinpath(@__DIR__, \"..\", \"..\", \"..\", \"exess.jl\", \"src\", \"ExESS.jl\"))\n",
    "using .ExESS\n",
    "end\n",
    "@doc ExESS.elevation_cdf"
   ]
  },
  {
   "cell_type": "code",
   "execution_count": 22,
   "id": "07c31d98",
   "metadata": {},
   "outputs": [
    {
     "data": {
      "text/latex": [
       "\\begin{verbatim}\n",
       "[1] elevation_pdf([S::Type{<:Real}], vd::AbstractVelocityDistribution, phi::Real)\n",
       "[2] elevation_pdf([S::Type{<:Real}], vd::AbstractVelocityDistribution, v::Tuple)\n",
       "[3] elevation_pdf([S::Type{<:Real}], vd::AbstractVelocityDistribution, v::AbstractVector)\n",
       "[4] elevation_pdf([S::Type{<:Real}], vd::AbstractVelocityDistribution, v::LocalCartesianVelocity)\n",
       "\\end{verbatim}\n",
       "Calculates the probability density of the elevation angle of the velocity distribution \\texttt{vd}, at the elevation angle \\texttt{phi} (in [rad]). Alternatively, the probability density can be  calculated at a velocity vector \\texttt{v} (in [m s-1]) or a \\texttt{LocalCartesianVelocity} \\texttt{v}  (in [m s-1]). Note that for [2,3,4] the vector assumes a local cartesian coordinate system (see \\texttt{LocalCartesianVelocity}).\n",
       "\n"
      ],
      "text/markdown": [
       "```\n",
       "[1] elevation_pdf([S::Type{<:Real}], vd::AbstractVelocityDistribution, phi::Real)\n",
       "[2] elevation_pdf([S::Type{<:Real}], vd::AbstractVelocityDistribution, v::Tuple)\n",
       "[3] elevation_pdf([S::Type{<:Real}], vd::AbstractVelocityDistribution, v::AbstractVector)\n",
       "[4] elevation_pdf([S::Type{<:Real}], vd::AbstractVelocityDistribution, v::LocalCartesianVelocity)\n",
       "```\n",
       "\n",
       "Calculates the probability density of the elevation angle of the velocity distribution `vd`, at the elevation angle `phi` (in [rad]). Alternatively, the probability density can be  calculated at a velocity vector `v` (in [m s-1]) or a `LocalCartesianVelocity` `v`  (in [m s-1]). Note that for [2,3,4] the vector assumes a local cartesian coordinate system (see `LocalCartesianVelocity`).\n"
      ],
      "text/plain": [
       "\u001b[36m  [1] elevation_pdf([S::Type{<:Real}], vd::AbstractVelocityDistribution, phi::Real)\u001b[39m\n",
       "\u001b[36m  [2] elevation_pdf([S::Type{<:Real}], vd::AbstractVelocityDistribution, v::Tuple)\u001b[39m\n",
       "\u001b[36m  [3] elevation_pdf([S::Type{<:Real}], vd::AbstractVelocityDistribution, v::AbstractVector)\u001b[39m\n",
       "\u001b[36m  [4] elevation_pdf([S::Type{<:Real}], vd::AbstractVelocityDistribution, v::LocalCartesianVelocity)\u001b[39m\n",
       "\n",
       "  Calculates the probability density of the elevation angle of the velocity\n",
       "  distribution \u001b[36mvd\u001b[39m, at the elevation angle \u001b[36mphi\u001b[39m (in [rad]). Alternatively, the\n",
       "  probability density can be calculated at a velocity vector \u001b[36mv\u001b[39m (in [m s-1]) or\n",
       "  a \u001b[36mLocalCartesianVelocity\u001b[39m \u001b[36mv\u001b[39m (in [m s-1]). Note that for [2,3,4] the vector\n",
       "  assumes a local cartesian coordinate system (see \u001b[36mLocalCartesianVelocity\u001b[39m)."
      ]
     },
     "execution_count": 22,
     "metadata": {},
     "output_type": "execute_result"
    }
   ],
   "source": [
    "#| echo: false\n",
    "if !isdefined(Main, :ExESS)\n",
    "include(joinpath(@__DIR__, \"..\", \"..\", \"..\", \"exess.jl\", \"src\", \"ExESS.jl\"))\n",
    "using .ExESS\n",
    "end\n",
    "@doc ExESS.elevation_pdf"
   ]
  },
  {
   "cell_type": "code",
   "execution_count": 23,
   "id": "38977881",
   "metadata": {},
   "outputs": [
    {
     "data": {
      "text/latex": [
       "\\begin{verbatim}\n",
       "[1] pos([S::Type], d::AbstractPositionDistribution)\n",
       "\\end{verbatim}\n",
       "Draw a random position (in [m, rad, rad]) in spherical coordiantes (radius, azimuth,  elevation) from the surface distribution \\texttt{d}.\n",
       "\n",
       "\\textbf{Recommended usage:} sampling as a \\texttt{GlobalSphericalPosition} using \\texttt{rand}. Examples:\n",
       "\n",
       "\\begin{verbatim}\n",
       "x = rand(EqualSurfaceDistribution(LUNAR_RADIUS))     # or\n",
       "x = rand(SolarWindSurfaceDistribution(LUNAR_RADIUS))\n",
       "\\end{verbatim}\n",
       "\\textbf{Notes}\n",
       "\n",
       "\\begin{itemize}\n",
       "\\item calling the method with any type \\texttt{S} other than \\texttt{GlobalSphericalPosition} may suffer from performance issues\n",
       "\n",
       "\n",
       "\\item the prefered name \\texttt{position} is already used in \\texttt{Base} and shall not be overloaded\n",
       "\n",
       "\\end{itemize}\n",
       "\\begin{verbatim}\n",
       "[1] pos(sol::ODESolution, t::Real)\n",
       "\\end{verbatim}\n",
       "Extract the position of a trajectory at time \\texttt{t} from a \\texttt{ODESolution} object.\n",
       "\n",
       "\\textbf{Notes}\n",
       "\n",
       "\\begin{itemize}\n",
       "\\item no-type stability for 16-bit types\n",
       "\n",
       "\\end{itemize}\n"
      ],
      "text/markdown": [
       "```\n",
       "[1] pos([S::Type], d::AbstractPositionDistribution)\n",
       "```\n",
       "\n",
       "Draw a random position (in [m, rad, rad]) in spherical coordiantes (radius, azimuth,  elevation) from the surface distribution `d`.\n",
       "\n",
       "**Recommended usage:** sampling as a `GlobalSphericalPosition` using `rand`. Examples:\n",
       "\n",
       "```julia\n",
       "x = rand(EqualSurfaceDistribution(LUNAR_RADIUS))     # or\n",
       "x = rand(SolarWindSurfaceDistribution(LUNAR_RADIUS))\n",
       "```\n",
       "\n",
       "**Notes**\n",
       "\n",
       "  * calling the method with any type `S` other than `GlobalSphericalPosition` may suffer from performance issues\n",
       "  * the prefered name `position` is already used in `Base` and shall not be overloaded\n",
       "\n",
       "```\n",
       "[1] pos(sol::ODESolution, t::Real)\n",
       "```\n",
       "\n",
       "Extract the position of a trajectory at time `t` from a `ODESolution` object.\n",
       "\n",
       "**Notes**\n",
       "\n",
       "  * no-type stability for 16-bit types\n"
      ],
      "text/plain": [
       "\u001b[36m  [1] pos([S::Type], d::AbstractPositionDistribution)\u001b[39m\n",
       "\n",
       "  Draw a random position (in [m, rad, rad]) in spherical coordiantes (radius,\n",
       "  azimuth, elevation) from the surface distribution \u001b[36md\u001b[39m.\n",
       "\n",
       "  \u001b[1mRecommended usage:\u001b[22m sampling as a \u001b[36mGlobalSphericalPosition\u001b[39m using \u001b[36mrand\u001b[39m.\n",
       "  Examples:\n",
       "\n",
       "\u001b[36m  x = rand(EqualSurfaceDistribution(LUNAR_RADIUS))     # or\u001b[39m\n",
       "\u001b[36m  x = rand(SolarWindSurfaceDistribution(LUNAR_RADIUS))\u001b[39m\n",
       "\n",
       "  \u001b[1mNotes\u001b[22m\n",
       "\n",
       "    •  calling the method with any type \u001b[36mS\u001b[39m other than\n",
       "       \u001b[36mGlobalSphericalPosition\u001b[39m may suffer from performance issues\n",
       "\n",
       "    •  the prefered name \u001b[36mposition\u001b[39m is already used in \u001b[36mBase\u001b[39m and shall not\n",
       "       be overloaded\n",
       "\n",
       "\u001b[36m  [1] pos(sol::ODESolution, t::Real)\u001b[39m\n",
       "\n",
       "  Extract the position of a trajectory at time \u001b[36mt\u001b[39m from a \u001b[36mODESolution\u001b[39m object.\n",
       "\n",
       "  \u001b[1mNotes\u001b[22m\n",
       "\n",
       "    •  no-type stability for 16-bit types"
      ]
     },
     "execution_count": 23,
     "metadata": {},
     "output_type": "execute_result"
    }
   ],
   "source": [
    "#| echo: false\n",
    "if !isdefined(Main, :ExESS)\n",
    "include(joinpath(@__DIR__, \"..\", \"..\", \"..\", \"exess.jl\", \"src\", \"ExESS.jl\"))\n",
    "using .ExESS\n",
    "end\n",
    "@doc ExESS.pos"
   ]
  },
  {
   "cell_type": "code",
   "execution_count": 24,
   "id": "bd97c7b8",
   "metadata": {},
   "outputs": [
    {
     "data": {
      "text/latex": [
       "\\begin{verbatim}\n",
       "[1] pos_cdf([S::Type{<:Real}], d::AbstractPositionDistribution{S}, theta1::Real, \n",
       "        [theta2::Real], phi1::Real, [phi2::Real])\n",
       "[2] pos_cdf([S::Type{<:Real}], d::AbstractPositionDistribution{S}, theta::Tuple{Real, Real}, \n",
       "        phi::Tuple{Real, Real})\n",
       "[3] pos_cdf([S::Type{<:Real}], d::AbstractPositionDistribution{S}, \n",
       "        x1::Union{Tuple, AbstractVector, AbstractPosition}, \n",
       "        [x2::Union{Tuple, AbstractVector, AbstractPosition}])\n",
       "\\end{verbatim}\n",
       "Computes the cumulative distribution function of the position distribution \\texttt{d}, between  the spherical coordinates given in \\texttt{theta} and \\texttt{phi} (in [rad]). Should only one angle  be given, the lower boundary is assumed to be lower boundary of the respective domain,  \\texttt{-pi/2}. If instead of angles a position tuple/vector/\\texttt{AbstractPosition} \\texttt{x} is given,  first the angular arguments are extracted and subsequently used to evaluate the cumulative  distribution function. Note that for [3] the tuple/vector assumes a global spherical  coordinate system (see \\texttt{GlobalSphericalPosition}).\n",
       "\n"
      ],
      "text/markdown": [
       "```\n",
       "[1] pos_cdf([S::Type{<:Real}], d::AbstractPositionDistribution{S}, theta1::Real, \n",
       "        [theta2::Real], phi1::Real, [phi2::Real])\n",
       "[2] pos_cdf([S::Type{<:Real}], d::AbstractPositionDistribution{S}, theta::Tuple{Real, Real}, \n",
       "        phi::Tuple{Real, Real})\n",
       "[3] pos_cdf([S::Type{<:Real}], d::AbstractPositionDistribution{S}, \n",
       "        x1::Union{Tuple, AbstractVector, AbstractPosition}, \n",
       "        [x2::Union{Tuple, AbstractVector, AbstractPosition}])\n",
       "```\n",
       "\n",
       "Computes the cumulative distribution function of the position distribution `d`, between  the spherical coordinates given in `theta` and `phi` (in [rad]). Should only one angle  be given, the lower boundary is assumed to be lower boundary of the respective domain,  `-pi/2`. If instead of angles a position tuple/vector/`AbstractPosition` `x` is given,  first the angular arguments are extracted and subsequently used to evaluate the cumulative  distribution function. Note that for [3] the tuple/vector assumes a global spherical  coordinate system (see `GlobalSphericalPosition`).\n"
      ],
      "text/plain": [
       "\u001b[36m  [1] pos_cdf([S::Type{<:Real}], d::AbstractPositionDistribution{S}, theta1::Real, \u001b[39m\n",
       "\u001b[36m          [theta2::Real], phi1::Real, [phi2::Real])\u001b[39m\n",
       "\u001b[36m  [2] pos_cdf([S::Type{<:Real}], d::AbstractPositionDistribution{S}, theta::Tuple{Real, Real}, \u001b[39m\n",
       "\u001b[36m          phi::Tuple{Real, Real})\u001b[39m\n",
       "\u001b[36m  [3] pos_cdf([S::Type{<:Real}], d::AbstractPositionDistribution{S}, \u001b[39m\n",
       "\u001b[36m          x1::Union{Tuple, AbstractVector, AbstractPosition}, \u001b[39m\n",
       "\u001b[36m          [x2::Union{Tuple, AbstractVector, AbstractPosition}])\u001b[39m\n",
       "\n",
       "  Computes the cumulative distribution function of the position distribution\n",
       "  \u001b[36md\u001b[39m, between the spherical coordinates given in \u001b[36mtheta\u001b[39m and \u001b[36mphi\u001b[39m (in [rad]).\n",
       "  Should only one angle be given, the lower boundary is assumed to be lower\n",
       "  boundary of the respective domain, \u001b[36m-pi/2\u001b[39m. If instead of angles a position\n",
       "  tuple/vector/\u001b[36mAbstractPosition\u001b[39m \u001b[36mx\u001b[39m is given, first the angular arguments are\n",
       "  extracted and subsequently used to evaluate the cumulative distribution\n",
       "  function. Note that for [3] the tuple/vector assumes a global spherical\n",
       "  coordinate system (see \u001b[36mGlobalSphericalPosition\u001b[39m)."
      ]
     },
     "execution_count": 24,
     "metadata": {},
     "output_type": "execute_result"
    }
   ],
   "source": [
    "#| echo: false\n",
    "if !isdefined(Main, :ExESS)\n",
    "include(joinpath(@__DIR__, \"..\", \"..\", \"..\", \"exess.jl\", \"src\", \"ExESS.jl\"))\n",
    "using .ExESS\n",
    "end\n",
    "@doc ExESS.pos_cdf"
   ]
  },
  {
   "cell_type": "code",
   "execution_count": 25,
   "id": "17fe0a13",
   "metadata": {},
   "outputs": [
    {
     "data": {
      "text/latex": [
       "\\begin{verbatim}\n",
       "[1] pos_pdf([S::Type{<:Real}], d::AbstractPositionDistribution{S}, theta::Real, phi::Real)\n",
       "[2] pos_pdf([S::Type{<:Real}], d::AbstractPositionDistribution{S}, x::Tuple)\n",
       "[3] pos_pdf([S::Type{<:Real}], d::AbstractPositionDistribution{S}, x::AbstractVector)\n",
       "[4] pos_pdf([S::Type{<:Real}], d::AbstractPositionDistribution{S}, x::AbstractPosition)\n",
       "\\end{verbatim}\n",
       "Calculates the probability density of the position distribution \\texttt{d}, at the spherical coordinates \\texttt{theta} and \\texttt{phi} (in [rad]). Alternatively, the function takes a position  tuple/vector/\\texttt{AbstractPosition} and extract the relevant angular arguments to evaluate the probability density function. Note that for [2,3] the tuple/vector assumes a global spherical coordinate system (see \\texttt{GlobalSphericalPosition}).\n",
       "\n"
      ],
      "text/markdown": [
       "```\n",
       "[1] pos_pdf([S::Type{<:Real}], d::AbstractPositionDistribution{S}, theta::Real, phi::Real)\n",
       "[2] pos_pdf([S::Type{<:Real}], d::AbstractPositionDistribution{S}, x::Tuple)\n",
       "[3] pos_pdf([S::Type{<:Real}], d::AbstractPositionDistribution{S}, x::AbstractVector)\n",
       "[4] pos_pdf([S::Type{<:Real}], d::AbstractPositionDistribution{S}, x::AbstractPosition)\n",
       "```\n",
       "\n",
       "Calculates the probability density of the position distribution `d`, at the spherical coordinates `theta` and `phi` (in [rad]). Alternatively, the function takes a position  tuple/vector/`AbstractPosition` and extract the relevant angular arguments to evaluate the probability density function. Note that for [2,3] the tuple/vector assumes a global spherical coordinate system (see `GlobalSphericalPosition`).\n"
      ],
      "text/plain": [
       "\u001b[36m  [1] pos_pdf([S::Type{<:Real}], d::AbstractPositionDistribution{S}, theta::Real, phi::Real)\u001b[39m\n",
       "\u001b[36m  [2] pos_pdf([S::Type{<:Real}], d::AbstractPositionDistribution{S}, x::Tuple)\u001b[39m\n",
       "\u001b[36m  [3] pos_pdf([S::Type{<:Real}], d::AbstractPositionDistribution{S}, x::AbstractVector)\u001b[39m\n",
       "\u001b[36m  [4] pos_pdf([S::Type{<:Real}], d::AbstractPositionDistribution{S}, x::AbstractPosition)\u001b[39m\n",
       "\n",
       "  Calculates the probability density of the position distribution \u001b[36md\u001b[39m, at the\n",
       "  spherical coordinates \u001b[36mtheta\u001b[39m and \u001b[36mphi\u001b[39m (in [rad]). Alternatively, the function\n",
       "  takes a position tuple/vector/\u001b[36mAbstractPosition\u001b[39m and extract the relevant\n",
       "  angular arguments to evaluate the probability density function. Note that\n",
       "  for [2,3] the tuple/vector assumes a global spherical coordinate system (see\n",
       "  \u001b[36mGlobalSphericalPosition\u001b[39m)."
      ]
     },
     "execution_count": 25,
     "metadata": {},
     "output_type": "execute_result"
    }
   ],
   "source": [
    "#| echo: false\n",
    "if !isdefined(Main, :ExESS)\n",
    "include(joinpath(@__DIR__, \"..\", \"..\", \"..\", \"exess.jl\", \"src\", \"ExESS.jl\"))\n",
    "using .ExESS\n",
    "end\n",
    "@doc ExESS.pos_pdf"
   ]
  },
  {
   "cell_type": "code",
   "execution_count": 26,
   "id": "d72afb01",
   "metadata": {},
   "outputs": [
    {
     "data": {
      "text/latex": [
       "\\begin{verbatim}\n",
       "[1] speed([S::Type], vd::AbstractVelocityDistribution)\n",
       "[2] speed([S::Type], v::Tuple)\n",
       "[3] speed([S::Type], v::AbstractVector)\n",
       "[4] speed([S::Type], v::LocalCartesianVelocity)\n",
       "[5] speed([S::Type], vd::MaxwellBoltzmannVelocityDistribution, mode::Symbol)\n",
       "\\end{verbatim}\n",
       "[1] Draw a random speed (in [m s-1]) from the velocity distribution \\texttt{vd}.\n",
       "\n",
       "[2,3,4] Calculate the speed (in [m s-1]) of the velocity vector \\texttt{v} (in [m s-1]).  Alternatively, the speed can be calculated from a \\texttt{LocalCartesianVelocity} \\texttt{v} (in [m s-1]).\n",
       "\n",
       "[5] Calculate the typical speed (in [m s-1]) of the velocity distribution \\texttt{vd} based on the mode \\texttt{mode}. The following modes are available:\n",
       "\n",
       "\\begin{itemize}\n",
       "\\item \\texttt{:prob} for most probable velocity\n",
       "\n",
       "\n",
       "\\item \\texttt{:mean} for mean velocity\n",
       "\n",
       "\n",
       "\\item \\texttt{:rms} for root-mean-square velocity\n",
       "\n",
       "\\end{itemize}\n"
      ],
      "text/markdown": [
       "```\n",
       "[1] speed([S::Type], vd::AbstractVelocityDistribution)\n",
       "[2] speed([S::Type], v::Tuple)\n",
       "[3] speed([S::Type], v::AbstractVector)\n",
       "[4] speed([S::Type], v::LocalCartesianVelocity)\n",
       "[5] speed([S::Type], vd::MaxwellBoltzmannVelocityDistribution, mode::Symbol)\n",
       "```\n",
       "\n",
       "[1] Draw a random speed (in [m s-1]) from the velocity distribution `vd`.\n",
       "\n",
       "[2,3,4] Calculate the speed (in [m s-1]) of the velocity vector `v` (in [m s-1]).  Alternatively, the speed can be calculated from a `LocalCartesianVelocity` `v` (in [m s-1]).\n",
       "\n",
       "[5] Calculate the typical speed (in [m s-1]) of the velocity distribution `vd` based on the mode `mode`. The following modes are available:\n",
       "\n",
       "  * `:prob` for most probable velocity\n",
       "  * `:mean` for mean velocity\n",
       "  * `:rms` for root-mean-square velocity\n"
      ],
      "text/plain": [
       "\u001b[36m  [1] speed([S::Type], vd::AbstractVelocityDistribution)\u001b[39m\n",
       "\u001b[36m  [2] speed([S::Type], v::Tuple)\u001b[39m\n",
       "\u001b[36m  [3] speed([S::Type], v::AbstractVector)\u001b[39m\n",
       "\u001b[36m  [4] speed([S::Type], v::LocalCartesianVelocity)\u001b[39m\n",
       "\u001b[36m  [5] speed([S::Type], vd::MaxwellBoltzmannVelocityDistribution, mode::Symbol)\u001b[39m\n",
       "\n",
       "  [1] Draw a random speed (in [m s-1]) from the velocity distribution \u001b[36mvd\u001b[39m.\n",
       "\n",
       "  [2,3,4] Calculate the speed (in [m s-1]) of the velocity vector \u001b[36mv\u001b[39m (in [m\n",
       "  s-1]). Alternatively, the speed can be calculated from a\n",
       "  \u001b[36mLocalCartesianVelocity\u001b[39m \u001b[36mv\u001b[39m (in [m s-1]).\n",
       "\n",
       "  [5] Calculate the typical speed (in [m s-1]) of the velocity distribution \u001b[36mvd\u001b[39m\n",
       "  based on the mode \u001b[36mmode\u001b[39m. The following modes are available:\n",
       "\n",
       "    •  \u001b[36m:prob\u001b[39m for most probable velocity\n",
       "\n",
       "    •  \u001b[36m:mean\u001b[39m for mean velocity\n",
       "\n",
       "    •  \u001b[36m:rms\u001b[39m for root-mean-square velocity"
      ]
     },
     "execution_count": 26,
     "metadata": {},
     "output_type": "execute_result"
    }
   ],
   "source": [
    "#| echo: false\n",
    "if !isdefined(Main, :ExESS)\n",
    "include(joinpath(@__DIR__, \"..\", \"..\", \"..\", \"exess.jl\", \"src\", \"ExESS.jl\"))\n",
    "using .ExESS\n",
    "end\n",
    "@doc ExESS.speed"
   ]
  },
  {
   "cell_type": "code",
   "execution_count": 27,
   "id": "0adbe252",
   "metadata": {},
   "outputs": [
    {
     "data": {
      "text/latex": [
       "\\begin{verbatim}\n",
       "[1] speed_cdf([S::Type{<:Real}], vd::AbstractVelocityDistribution, v1::Real, [v2::Real])\n",
       "[2] speed_cdf([S::Type{<:Real}], vd::AbstractVelocityDistribution, v::Tuple{Real, Real})\n",
       "[3] speed_cdf([S::Type{<:Real}], vd::AbstractVelocityDistribution, \n",
       "        v1::Union{Tuple, AbstractVector, LocalCartesianVelocity}, \n",
       "        [v2::Union{Tuple, AbstractVector, LocalCartesianVelocity}])\n",
       "\\end{verbatim}\n",
       "Computes the cumulative distribution function of the speed of the velocity distribution \\texttt{vd} based on numerical integration of the respective probability density function between the  upper and lower speed given in \\texttt{v} (in [m s-1]) (if only one \\texttt{v} is given, the lower boundary is zero).\n",
       "\n",
       "Alternatively, the cumulative distribution function can be calculated between the upper and lower speed given in \\texttt{v} (in [m s-1]), either as an \\texttt{AbstractVector} or a \\texttt{LocalCartesianVelocity} (in [m s-1]). Note that [4] and [5] expect the vector to be given in cartesian coordinates  (see \\texttt{LocalCartesianVelocity}).\n",
       "\n"
      ],
      "text/markdown": [
       "```\n",
       "[1] speed_cdf([S::Type{<:Real}], vd::AbstractVelocityDistribution, v1::Real, [v2::Real])\n",
       "[2] speed_cdf([S::Type{<:Real}], vd::AbstractVelocityDistribution, v::Tuple{Real, Real})\n",
       "[3] speed_cdf([S::Type{<:Real}], vd::AbstractVelocityDistribution, \n",
       "        v1::Union{Tuple, AbstractVector, LocalCartesianVelocity}, \n",
       "        [v2::Union{Tuple, AbstractVector, LocalCartesianVelocity}])\n",
       "```\n",
       "\n",
       "Computes the cumulative distribution function of the speed of the velocity distribution `vd` based on numerical integration of the respective probability density function between the  upper and lower speed given in `v` (in [m s-1]) (if only one `v` is given, the lower boundary is zero).\n",
       "\n",
       "Alternatively, the cumulative distribution function can be calculated between the upper and lower speed given in `v` (in [m s-1]), either as an `AbstractVector` or a `LocalCartesianVelocity` (in [m s-1]). Note that [4] and [5] expect the vector to be given in cartesian coordinates  (see `LocalCartesianVelocity`).\n"
      ],
      "text/plain": [
       "\u001b[36m  [1] speed_cdf([S::Type{<:Real}], vd::AbstractVelocityDistribution, v1::Real, [v2::Real])\u001b[39m\n",
       "\u001b[36m  [2] speed_cdf([S::Type{<:Real}], vd::AbstractVelocityDistribution, v::Tuple{Real, Real})\u001b[39m\n",
       "\u001b[36m  [3] speed_cdf([S::Type{<:Real}], vd::AbstractVelocityDistribution, \u001b[39m\n",
       "\u001b[36m          v1::Union{Tuple, AbstractVector, LocalCartesianVelocity}, \u001b[39m\n",
       "\u001b[36m          [v2::Union{Tuple, AbstractVector, LocalCartesianVelocity}])\u001b[39m\n",
       "\n",
       "  Computes the cumulative distribution function of the speed of the velocity\n",
       "  distribution \u001b[36mvd\u001b[39m based on numerical integration of the respective probability\n",
       "  density function between the upper and lower speed given in \u001b[36mv\u001b[39m (in [m s-1])\n",
       "  (if only one \u001b[36mv\u001b[39m is given, the lower boundary is zero).\n",
       "\n",
       "  Alternatively, the cumulative distribution function can be calculated\n",
       "  between the upper and lower speed given in \u001b[36mv\u001b[39m (in [m s-1]), either as an\n",
       "  \u001b[36mAbstractVector\u001b[39m or a \u001b[36mLocalCartesianVelocity\u001b[39m (in [m s-1]). Note that [4] and\n",
       "  [5] expect the vector to be given in cartesian coordinates (see\n",
       "  \u001b[36mLocalCartesianVelocity\u001b[39m)."
      ]
     },
     "execution_count": 27,
     "metadata": {},
     "output_type": "execute_result"
    }
   ],
   "source": [
    "#| echo: false\n",
    "if !isdefined(Main, :ExESS)\n",
    "include(joinpath(@__DIR__, \"..\", \"..\", \"..\", \"exess.jl\", \"src\", \"ExESS.jl\"))\n",
    "using .ExESS\n",
    "end\n",
    "@doc ExESS.speed_cdf"
   ]
  },
  {
   "cell_type": "code",
   "execution_count": 28,
   "id": "25a50a60",
   "metadata": {},
   "outputs": [
    {
     "data": {
      "text/latex": [
       "\\begin{verbatim}\n",
       "[1] speed_pdf([S::Type], vd::AbstractVelocityDistribution, v::Real)\n",
       "[2] speed_pdf([S::Type], vd::AbstractVelocityDistribution, v::Tuple)\n",
       "[3] speed_pdf([S::Type], vd::AbstractVelocityDistribution, v::AbstractVector)\n",
       "[4] speed_pdf([S::Type], vd::AbstractVelocityDistribution, v::LocalCartesianVelocity)\n",
       "\\end{verbatim}\n",
       "Calculates the probability density of the speed of the velocity distribution \\texttt{vd}, at the speed \\texttt{v} (in [m s-1]). \n",
       "\n"
      ],
      "text/markdown": [
       "```\n",
       "[1] speed_pdf([S::Type], vd::AbstractVelocityDistribution, v::Real)\n",
       "[2] speed_pdf([S::Type], vd::AbstractVelocityDistribution, v::Tuple)\n",
       "[3] speed_pdf([S::Type], vd::AbstractVelocityDistribution, v::AbstractVector)\n",
       "[4] speed_pdf([S::Type], vd::AbstractVelocityDistribution, v::LocalCartesianVelocity)\n",
       "```\n",
       "\n",
       "Calculates the probability density of the speed of the velocity distribution `vd`, at the speed `v` (in [m s-1]). \n"
      ],
      "text/plain": [
       "\u001b[36m  [1] speed_pdf([S::Type], vd::AbstractVelocityDistribution, v::Real)\u001b[39m\n",
       "\u001b[36m  [2] speed_pdf([S::Type], vd::AbstractVelocityDistribution, v::Tuple)\u001b[39m\n",
       "\u001b[36m  [3] speed_pdf([S::Type], vd::AbstractVelocityDistribution, v::AbstractVector)\u001b[39m\n",
       "\u001b[36m  [4] speed_pdf([S::Type], vd::AbstractVelocityDistribution, v::LocalCartesianVelocity)\u001b[39m\n",
       "\n",
       "  Calculates the probability density of the speed of the velocity distribution\n",
       "  \u001b[36mvd\u001b[39m, at the speed \u001b[36mv\u001b[39m (in [m s-1])."
      ]
     },
     "execution_count": 28,
     "metadata": {},
     "output_type": "execute_result"
    }
   ],
   "source": [
    "#| echo: false\n",
    "if !isdefined(Main, :ExESS)\n",
    "include(joinpath(@__DIR__, \"..\", \"..\", \"..\", \"exess.jl\", \"src\", \"ExESS.jl\"))\n",
    "using .ExESS\n",
    "end\n",
    "@doc ExESS.speed_pdf"
   ]
  },
  {
   "cell_type": "code",
   "execution_count": 29,
   "id": "79a484a6",
   "metadata": {},
   "outputs": [
    {
     "data": {
      "text/latex": [
       "\\begin{verbatim}\n",
       "[1] velocity([S::Type], vd::AbstractVelocityDistribution)\n",
       "\\end{verbatim}\n",
       "Draw a random, trhee-dimensional velocity vector (in [m s-1]) from the velocity  distribution \\texttt{vd}.\n",
       "\n",
       "\\textbf{Recommended usage:} sampling as a \\texttt{LocalCartesianVelocity} using \\texttt{rand}. Examples:\n",
       "\n",
       "\\begin{verbatim}\n",
       "v = rand(MaxwellBoltzmannVelocityDistribution(T, m))\n",
       "v = rand(MaxwellBoltzmannFluxVelocityDistribution(T, m))\n",
       "\\end{verbatim}\n",
       "\\textbf{Notes}\n",
       "\n",
       "\\begin{itemize}\n",
       "\\item The three-dimensional vector is given in local cartesian coordinates (see  \\texttt{LocalCartesianVelocity}). This means that \\texttt{v[1]} points locally east, \\texttt{v[2]} points  locally north, and \\texttt{v[3]} points locally up.\n",
       "\n",
       "\n",
       "\\item Sampling with a \\texttt{LocalCartesianVelocity} as first argument is generally faster.\n",
       "\n",
       "\\end{itemize}\n",
       "\\begin{verbatim}\n",
       "[1] velocity(sol::ODESolution, t::Real)\n",
       "\\end{verbatim}\n",
       "Extract the velocity of a trajectory at time \\texttt{t} from a \\texttt{ODESolution} object.\n",
       "\n",
       "\\textbf{Notes}\n",
       "\n",
       "\\begin{itemize}\n",
       "\\item no-type stability for 16-bit types\n",
       "\n",
       "\\end{itemize}\n"
      ],
      "text/markdown": [
       "```\n",
       "[1] velocity([S::Type], vd::AbstractVelocityDistribution)\n",
       "```\n",
       "\n",
       "Draw a random, trhee-dimensional velocity vector (in [m s-1]) from the velocity  distribution `vd`.\n",
       "\n",
       "**Recommended usage:** sampling as a `LocalCartesianVelocity` using `rand`. Examples:\n",
       "\n",
       "```julia\n",
       "v = rand(MaxwellBoltzmannVelocityDistribution(T, m))\n",
       "v = rand(MaxwellBoltzmannFluxVelocityDistribution(T, m))\n",
       "```\n",
       "\n",
       "**Notes**\n",
       "\n",
       "  * The three-dimensional vector is given in local cartesian coordinates (see  `LocalCartesianVelocity`). This means that `v[1]` points locally east, `v[2]` points  locally north, and `v[3]` points locally up.\n",
       "  * Sampling with a `LocalCartesianVelocity` as first argument is generally faster.\n",
       "\n",
       "```\n",
       "[1] velocity(sol::ODESolution, t::Real)\n",
       "```\n",
       "\n",
       "Extract the velocity of a trajectory at time `t` from a `ODESolution` object.\n",
       "\n",
       "**Notes**\n",
       "\n",
       "  * no-type stability for 16-bit types\n"
      ],
      "text/plain": [
       "\u001b[36m  [1] velocity([S::Type], vd::AbstractVelocityDistribution)\u001b[39m\n",
       "\n",
       "  Draw a random, trhee-dimensional velocity vector (in [m s-1]) from the\n",
       "  velocity distribution \u001b[36mvd\u001b[39m.\n",
       "\n",
       "  \u001b[1mRecommended usage:\u001b[22m sampling as a \u001b[36mLocalCartesianVelocity\u001b[39m using \u001b[36mrand\u001b[39m.\n",
       "  Examples:\n",
       "\n",
       "\u001b[36m  v = rand(MaxwellBoltzmannVelocityDistribution(T, m))\u001b[39m\n",
       "\u001b[36m  v = rand(MaxwellBoltzmannFluxVelocityDistribution(T, m))\u001b[39m\n",
       "\n",
       "  \u001b[1mNotes\u001b[22m\n",
       "\n",
       "    •  The three-dimensional vector is given in local cartesian\n",
       "       coordinates (see \u001b[36mLocalCartesianVelocity\u001b[39m). This means that \u001b[36mv[1]\u001b[39m\n",
       "       points locally east, \u001b[36mv[2]\u001b[39m points locally north, and \u001b[36mv[3]\u001b[39m points\n",
       "       locally up.\n",
       "\n",
       "    •  Sampling with a \u001b[36mLocalCartesianVelocity\u001b[39m as first argument is\n",
       "       generally faster.\n",
       "\n",
       "\u001b[36m  [1] velocity(sol::ODESolution, t::Real)\u001b[39m\n",
       "\n",
       "  Extract the velocity of a trajectory at time \u001b[36mt\u001b[39m from a \u001b[36mODESolution\u001b[39m object.\n",
       "\n",
       "  \u001b[1mNotes\u001b[22m\n",
       "\n",
       "    •  no-type stability for 16-bit types"
      ]
     },
     "execution_count": 29,
     "metadata": {},
     "output_type": "execute_result"
    }
   ],
   "source": [
    "#| echo: false\n",
    "if !isdefined(Main, :ExESS)\n",
    "include(joinpath(@__DIR__, \"..\", \"..\", \"..\", \"exess.jl\", \"src\", \"ExESS.jl\"))\n",
    "using .ExESS\n",
    "end\n",
    "@doc ExESS.velocity"
   ]
  },
  {
   "cell_type": "code",
   "execution_count": 30,
   "id": "857a9919",
   "metadata": {},
   "outputs": [
    {
     "data": {
      "text/latex": [
       "\\begin{verbatim}\n",
       "[1] velocity_cdf([S::Type{<:Real}], vd::AbstractVelocityDistribution, \n",
       "        v1::Union{Tuple, AbstractVector, LocalCartesianVelocity}, \n",
       "        [v2::Union{Tuple, AbstractVector, LocalCartesianVelocity}])\n",
       "\\end{verbatim}\n",
       "Computes the cumulative distribution function of the velocity vector of the velocity  distribution \\texttt{vd}, between the velocity vectors \\texttt{v1} and \\texttt{v2} (in [m s-1]). Should only one vector be given, the lower boundary is assumed to be the zero vector.\n",
       "\n",
       "Note that if a tuple or vector is given, it is assumed to be given in cartesian coordinates (see \\texttt{LocalCartesianVelocity}).\n",
       "\n"
      ],
      "text/markdown": [
       "```\n",
       "[1] velocity_cdf([S::Type{<:Real}], vd::AbstractVelocityDistribution, \n",
       "        v1::Union{Tuple, AbstractVector, LocalCartesianVelocity}, \n",
       "        [v2::Union{Tuple, AbstractVector, LocalCartesianVelocity}])\n",
       "```\n",
       "\n",
       "Computes the cumulative distribution function of the velocity vector of the velocity  distribution `vd`, between the velocity vectors `v1` and `v2` (in [m s-1]). Should only one vector be given, the lower boundary is assumed to be the zero vector.\n",
       "\n",
       "Note that if a tuple or vector is given, it is assumed to be given in cartesian coordinates (see `LocalCartesianVelocity`).\n"
      ],
      "text/plain": [
       "\u001b[36m  [1] velocity_cdf([S::Type{<:Real}], vd::AbstractVelocityDistribution, \u001b[39m\n",
       "\u001b[36m          v1::Union{Tuple, AbstractVector, LocalCartesianVelocity}, \u001b[39m\n",
       "\u001b[36m          [v2::Union{Tuple, AbstractVector, LocalCartesianVelocity}])\u001b[39m\n",
       "\n",
       "  Computes the cumulative distribution function of the velocity vector of the\n",
       "  velocity distribution \u001b[36mvd\u001b[39m, between the velocity vectors \u001b[36mv1\u001b[39m and \u001b[36mv2\u001b[39m (in [m\n",
       "  s-1]). Should only one vector be given, the lower boundary is assumed to be\n",
       "  the zero vector.\n",
       "\n",
       "  Note that if a tuple or vector is given, it is assumed to be given in\n",
       "  cartesian coordinates (see \u001b[36mLocalCartesianVelocity\u001b[39m)."
      ]
     },
     "execution_count": 30,
     "metadata": {},
     "output_type": "execute_result"
    }
   ],
   "source": [
    "#| echo: false\n",
    "if !isdefined(Main, :ExESS)\n",
    "include(joinpath(@__DIR__, \"..\", \"..\", \"..\", \"exess.jl\", \"src\", \"ExESS.jl\"))\n",
    "using .ExESS\n",
    "end\n",
    "@doc ExESS.velocity_cdf"
   ]
  },
  {
   "cell_type": "code",
   "execution_count": 31,
   "id": "0574cfea",
   "metadata": {},
   "outputs": [
    {
     "data": {
      "text/latex": [
       "\\begin{verbatim}\n",
       "[1] velocity_pdf([S::Type{<:Real}], vd::AbstractVelocityDistribution, \n",
       "        v::Union{Tuple, AbstractVector, LocalCartesianVelocity})\n",
       "\\end{verbatim}\n",
       "Calculates the probability density of the velocity vector \\texttt{v} (in [m s-1]) of the velocity distribution \\texttt{vd}.\n",
       "\n"
      ],
      "text/markdown": [
       "```\n",
       "[1] velocity_pdf([S::Type{<:Real}], vd::AbstractVelocityDistribution, \n",
       "        v::Union{Tuple, AbstractVector, LocalCartesianVelocity})\n",
       "```\n",
       "\n",
       "Calculates the probability density of the velocity vector `v` (in [m s-1]) of the velocity distribution `vd`.\n"
      ],
      "text/plain": [
       "\u001b[36m  [1] velocity_pdf([S::Type{<:Real}], vd::AbstractVelocityDistribution, \u001b[39m\n",
       "\u001b[36m          v::Union{Tuple, AbstractVector, LocalCartesianVelocity})\u001b[39m\n",
       "\n",
       "  Calculates the probability density of the velocity vector \u001b[36mv\u001b[39m (in [m s-1]) of\n",
       "  the velocity distribution \u001b[36mvd\u001b[39m."
      ]
     },
     "execution_count": 31,
     "metadata": {},
     "output_type": "execute_result"
    }
   ],
   "source": [
    "#| echo: false\n",
    "if !isdefined(Main, :ExESS)\n",
    "include(joinpath(@__DIR__, \"..\", \"..\", \"..\", \"exess.jl\", \"src\", \"ExESS.jl\"))\n",
    "using .ExESS\n",
    "end\n",
    "@doc ExESS.velocity_pdf"
   ]
  },
  {
   "cell_type": "code",
   "execution_count": 32,
   "id": "9a323513",
   "metadata": {},
   "outputs": [
    {
     "data": {
      "text/latex": [
       "\\begin{verbatim}\n",
       "[1] zenith([S::Type{<:Real}], vd::AbstractVelocityDistribution)\n",
       "[2] zenith([S::Type{<:Real}], v::Union{Tuple, AbstractVector})\n",
       "[3] zenith([S::Type{<:Real}], v::LocalCartesianVelocity)\n",
       "\\end{verbatim}\n",
       "[1] Draw a random zenith angle (in [rad]) from the velocity distribution \\texttt{vd}.\n",
       "\n",
       "[2] \\& [3] Calculate the zenith angle (in [rad]) of the velocity vector \\texttt{v} (in [m s-1]).  Alternatively,  the zenith angle can be calculated from a \\texttt{LocalCartesianVelocity} \\texttt{v}  (in [m s-1]).\n",
       "\n",
       "\\textbf{Notes}\n",
       "\n",
       "\\begin{itemize}\n",
       "\\item the zenith angle is the same-sign pi/2-inversion of the elevation angle\n",
       "\n",
       "\\end{itemize}\n"
      ],
      "text/markdown": [
       "```\n",
       "[1] zenith([S::Type{<:Real}], vd::AbstractVelocityDistribution)\n",
       "[2] zenith([S::Type{<:Real}], v::Union{Tuple, AbstractVector})\n",
       "[3] zenith([S::Type{<:Real}], v::LocalCartesianVelocity)\n",
       "```\n",
       "\n",
       "[1] Draw a random zenith angle (in [rad]) from the velocity distribution `vd`.\n",
       "\n",
       "[2] & [3] Calculate the zenith angle (in [rad]) of the velocity vector `v` (in [m s-1]).  Alternatively,  the zenith angle can be calculated from a `LocalCartesianVelocity` `v`  (in [m s-1]).\n",
       "\n",
       "**Notes**\n",
       "\n",
       "  * the zenith angle is the same-sign pi/2-inversion of the elevation angle\n"
      ],
      "text/plain": [
       "\u001b[36m  [1] zenith([S::Type{<:Real}], vd::AbstractVelocityDistribution)\u001b[39m\n",
       "\u001b[36m  [2] zenith([S::Type{<:Real}], v::Union{Tuple, AbstractVector})\u001b[39m\n",
       "\u001b[36m  [3] zenith([S::Type{<:Real}], v::LocalCartesianVelocity)\u001b[39m\n",
       "\n",
       "  [1] Draw a random zenith angle (in [rad]) from the velocity distribution \u001b[36mvd\u001b[39m.\n",
       "\n",
       "  [2] & [3] Calculate the zenith angle (in [rad]) of the velocity vector \u001b[36mv\u001b[39m (in\n",
       "  [m s-1]). Alternatively, the zenith angle can be calculated from a\n",
       "  \u001b[36mLocalCartesianVelocity\u001b[39m \u001b[36mv\u001b[39m (in [m s-1]).\n",
       "\n",
       "  \u001b[1mNotes\u001b[22m\n",
       "\n",
       "    •  the zenith angle is the same-sign pi/2-inversion of the elevation\n",
       "       angle"
      ]
     },
     "execution_count": 32,
     "metadata": {},
     "output_type": "execute_result"
    }
   ],
   "source": [
    "#| echo: false\n",
    "if !isdefined(Main, :ExESS)\n",
    "include(joinpath(@__DIR__, \"..\", \"..\", \"..\", \"exess.jl\", \"src\", \"ExESS.jl\"))\n",
    "using .ExESS\n",
    "end\n",
    "@doc ExESS.zenith"
   ]
  },
  {
   "cell_type": "code",
   "execution_count": 33,
   "id": "aa0b93db",
   "metadata": {},
   "outputs": [
    {
     "data": {
      "text/latex": [
       "\\begin{verbatim}\n",
       "[1] zenith_cdf([S::Type{<:Real}], vd::AbstractVelocityDistribution, psi1::Real, [psi2::Real])\n",
       "[2] zenith_cdf([S::Type{<:Real}], vd::AbstractVelocityDistribution, psi::Tuple{Real, Real})\n",
       "[3] zenith_cdf([S::Type{<:Real}], vd::AbstractVelocityDistribution, \n",
       "        psi1::Union{Tuple, AbstractVector, LocalCartesianVelocity}, \n",
       "        [psi2::Union{Tuple, AbstractVector, LocalCartesianVelocity}])\n",
       "\\end{verbatim}\n",
       "Computes the cumulative distribution function of the zenith angle of the velocity  distribution \\texttt{vd}, between the zenith angles given in \\texttt{psi} (in [rad]). Should only one  angle be given, the lower boundary is assumed to be lower boundary of the respective domain.\n",
       "\n",
       "Alternatively, the function can be called with velocity tuple/vector/\\texttt{LocalCartesianVelocity} input, which are used to calculate the zenith angle and subsequently evaluate the CDF.\n",
       "\n",
       "\\textbf{Notes}\n",
       "\n",
       "\\begin{itemize}\n",
       "\\item Domain of \\texttt{MaxwellBoltzmannVelocityDistribution} is \\texttt{[-pi/2, pi/2]}\n",
       "\n",
       "\n",
       "\\item Domain of \\texttt{MaxwellBoltzmannFluxVelocityDistribution} is \\texttt{[0, pi/2]}\n",
       "\n",
       "\\end{itemize}\n"
      ],
      "text/markdown": [
       "```\n",
       "[1] zenith_cdf([S::Type{<:Real}], vd::AbstractVelocityDistribution, psi1::Real, [psi2::Real])\n",
       "[2] zenith_cdf([S::Type{<:Real}], vd::AbstractVelocityDistribution, psi::Tuple{Real, Real})\n",
       "[3] zenith_cdf([S::Type{<:Real}], vd::AbstractVelocityDistribution, \n",
       "        psi1::Union{Tuple, AbstractVector, LocalCartesianVelocity}, \n",
       "        [psi2::Union{Tuple, AbstractVector, LocalCartesianVelocity}])\n",
       "```\n",
       "\n",
       "Computes the cumulative distribution function of the zenith angle of the velocity  distribution `vd`, between the zenith angles given in `psi` (in [rad]). Should only one  angle be given, the lower boundary is assumed to be lower boundary of the respective domain.\n",
       "\n",
       "Alternatively, the function can be called with velocity tuple/vector/`LocalCartesianVelocity` input, which are used to calculate the zenith angle and subsequently evaluate the CDF.\n",
       "\n",
       "**Notes**\n",
       "\n",
       "  * Domain of `MaxwellBoltzmannVelocityDistribution` is `[-pi/2, pi/2]`\n",
       "  * Domain of `MaxwellBoltzmannFluxVelocityDistribution` is `[0, pi/2]`\n"
      ],
      "text/plain": [
       "\u001b[36m  [1] zenith_cdf([S::Type{<:Real}], vd::AbstractVelocityDistribution, psi1::Real, [psi2::Real])\u001b[39m\n",
       "\u001b[36m  [2] zenith_cdf([S::Type{<:Real}], vd::AbstractVelocityDistribution, psi::Tuple{Real, Real})\u001b[39m\n",
       "\u001b[36m  [3] zenith_cdf([S::Type{<:Real}], vd::AbstractVelocityDistribution, \u001b[39m\n",
       "\u001b[36m          psi1::Union{Tuple, AbstractVector, LocalCartesianVelocity}, \u001b[39m\n",
       "\u001b[36m          [psi2::Union{Tuple, AbstractVector, LocalCartesianVelocity}])\u001b[39m\n",
       "\n",
       "  Computes the cumulative distribution function of the zenith angle of the\n",
       "  velocity distribution \u001b[36mvd\u001b[39m, between the zenith angles given in \u001b[36mpsi\u001b[39m (in [rad]).\n",
       "  Should only one angle be given, the lower boundary is assumed to be lower\n",
       "  boundary of the respective domain.\n",
       "\n",
       "  Alternatively, the function can be called with velocity\n",
       "  tuple/vector/\u001b[36mLocalCartesianVelocity\u001b[39m input, which are used to calculate the\n",
       "  zenith angle and subsequently evaluate the CDF.\n",
       "\n",
       "  \u001b[1mNotes\u001b[22m\n",
       "\n",
       "    •  Domain of \u001b[36mMaxwellBoltzmannVelocityDistribution\u001b[39m is \u001b[36m[-pi/2, pi/2]\u001b[39m\n",
       "\n",
       "    •  Domain of \u001b[36mMaxwellBoltzmannFluxVelocityDistribution\u001b[39m is \u001b[36m[0, pi/2]\u001b[39m"
      ]
     },
     "execution_count": 33,
     "metadata": {},
     "output_type": "execute_result"
    }
   ],
   "source": [
    "#| echo: false\n",
    "if !isdefined(Main, :ExESS)\n",
    "include(joinpath(@__DIR__, \"..\", \"..\", \"..\", \"exess.jl\", \"src\", \"ExESS.jl\"))\n",
    "using .ExESS\n",
    "end\n",
    "@doc ExESS.zenith_cdf"
   ]
  },
  {
   "cell_type": "code",
   "execution_count": 34,
   "id": "66381119",
   "metadata": {},
   "outputs": [
    {
     "data": {
      "text/latex": [
       "\\begin{verbatim}\n",
       "[1] zenith_pdf([S::Type{<:Real}], vd::AbstractVelocityDistribution, psi::Real)\n",
       "[2] zenith_pdf([S::Type{<:Real}], vd::AbstractVelocityDistribution, v::Tuple)\n",
       "[3] zenith_pdf([S::Type{<:Real}], vd::AbstractVelocityDistribution, v::AbstractVector)\n",
       "[4] zenith_pdf([S::Type{<:Real}], vd::AbstractVelocityDistribution, v::LocalCartesianVelocity)\n",
       "\\end{verbatim}\n",
       "Calculates the probability density of the zenith angle of the velocity distribution \\texttt{vd}, at the zenith angle \\texttt{psi} (in [rad]). Alternatively, the probability density can be calculated at a velocity vector \\texttt{v} (in [m s-1]) or a \\texttt{LocalCartesianVelocity} \\texttt{v} (in [m s-1]). Note  that for [2,3] the vector assumes a local cartesian coordinate system (see \\texttt{LocalCartesianVelocity}).\n",
       "\n"
      ],
      "text/markdown": [
       "```\n",
       "[1] zenith_pdf([S::Type{<:Real}], vd::AbstractVelocityDistribution, psi::Real)\n",
       "[2] zenith_pdf([S::Type{<:Real}], vd::AbstractVelocityDistribution, v::Tuple)\n",
       "[3] zenith_pdf([S::Type{<:Real}], vd::AbstractVelocityDistribution, v::AbstractVector)\n",
       "[4] zenith_pdf([S::Type{<:Real}], vd::AbstractVelocityDistribution, v::LocalCartesianVelocity)\n",
       "```\n",
       "\n",
       "Calculates the probability density of the zenith angle of the velocity distribution `vd`, at the zenith angle `psi` (in [rad]). Alternatively, the probability density can be calculated at a velocity vector `v` (in [m s-1]) or a `LocalCartesianVelocity` `v` (in [m s-1]). Note  that for [2,3] the vector assumes a local cartesian coordinate system (see `LocalCartesianVelocity`).\n"
      ],
      "text/plain": [
       "\u001b[36m  [1] zenith_pdf([S::Type{<:Real}], vd::AbstractVelocityDistribution, psi::Real)\u001b[39m\n",
       "\u001b[36m  [2] zenith_pdf([S::Type{<:Real}], vd::AbstractVelocityDistribution, v::Tuple)\u001b[39m\n",
       "\u001b[36m  [3] zenith_pdf([S::Type{<:Real}], vd::AbstractVelocityDistribution, v::AbstractVector)\u001b[39m\n",
       "\u001b[36m  [4] zenith_pdf([S::Type{<:Real}], vd::AbstractVelocityDistribution, v::LocalCartesianVelocity)\u001b[39m\n",
       "\n",
       "  Calculates the probability density of the zenith angle of the velocity\n",
       "  distribution \u001b[36mvd\u001b[39m, at the zenith angle \u001b[36mpsi\u001b[39m (in [rad]). Alternatively, the\n",
       "  probability density can be calculated at a velocity vector \u001b[36mv\u001b[39m (in [m s-1]) or\n",
       "  a \u001b[36mLocalCartesianVelocity\u001b[39m \u001b[36mv\u001b[39m (in [m s-1]). Note that for [2,3] the vector\n",
       "  assumes a local cartesian coordinate system (see \u001b[36mLocalCartesianVelocity\u001b[39m)."
      ]
     },
     "execution_count": 34,
     "metadata": {},
     "output_type": "execute_result"
    }
   ],
   "source": [
    "#| echo: false\n",
    "if !isdefined(Main, :ExESS)\n",
    "include(joinpath(@__DIR__, \"..\", \"..\", \"..\", \"exess.jl\", \"src\", \"ExESS.jl\"))\n",
    "using .ExESS\n",
    "end\n",
    "@doc ExESS.zenith_pdf"
   ]
  }
 ],
 "metadata": {
  "kernelspec": {
   "display_name": "Julia 1.10.0",
   "language": "julia",
   "name": "julia-1.10"
  },
  "language_info": {
   "file_extension": ".jl",
   "mimetype": "application/julia",
   "name": "julia",
   "version": "1.10.0"
  }
 },
 "nbformat": 4,
 "nbformat_minor": 5
}