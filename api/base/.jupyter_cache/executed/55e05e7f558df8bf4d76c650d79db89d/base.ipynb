{
 "cells": [
  {
   "cell_type": "code",
   "execution_count": 1,
   "id": "8dd34c79",
   "metadata": {},
   "outputs": [],
   "source": [
    "import IJulia\n",
    "\n",
    "# The julia kernel has built in support for Revise.jl, so this is the \n",
    "# recommended approach for long-running sessions:\n",
    "# https://github.com/JuliaLang/IJulia.jl/blob/9b10fa9b879574bbf720f5285029e07758e50a5e/src/kernel.jl#L46-L51\n",
    "\n",
    "# Users should enable revise within .julia/config/startup_ijulia.jl:\n",
    "# https://timholy.github.io/Revise.jl/stable/config/#Using-Revise-automatically-within-Jupyter/IJulia-1\n",
    "\n",
    "# clear console history\n",
    "IJulia.clear_history()\n",
    "\n",
    "fig_width = 7\n",
    "fig_height = 5\n",
    "fig_format = :retina\n",
    "fig_dpi = 96\n",
    "\n",
    "# no retina format type, use svg for high quality type/marks\n",
    "if fig_format == :retina\n",
    "  fig_format = :svg\n",
    "elseif fig_format == :pdf\n",
    "  fig_dpi = 96\n",
    "  # Enable PDF support for IJulia\n",
    "  IJulia.register_mime(MIME(\"application/pdf\"))\n",
    "end\n",
    "\n",
    "# convert inches to pixels\n",
    "fig_width = fig_width * fig_dpi\n",
    "fig_height = fig_height * fig_dpi\n",
    "\n",
    "# Intialize Plots w/ default fig width/height\n",
    "try\n",
    "  import Plots\n",
    "\n",
    "  # Plots.jl doesn't support PDF output for versions < 1.28.1\n",
    "  # so use png (if the DPI remains the default of 300 then set to 96)\n",
    "  if (Plots._current_plots_version < v\"1.28.1\") & (fig_format == :pdf)\n",
    "    Plots.gr(size=(fig_width, fig_height), fmt = :png, dpi = fig_dpi)\n",
    "  else\n",
    "    Plots.gr(size=(fig_width, fig_height), fmt = fig_format, dpi = fig_dpi)\n",
    "  end\n",
    "catch e\n",
    "  # @warn \"Plots init\" exception=(e, catch_backtrace())\n",
    "end\n",
    "\n",
    "# Initialize CairoMakie with default fig width/height\n",
    "try\n",
    "  import CairoMakie\n",
    "\n",
    "  # CairoMakie's display() in PDF format opens an interactive window\n",
    "  # instead of saving to the ipynb file, so we don't do that.\n",
    "  # https://github.com/quarto-dev/quarto-cli/issues/7548\n",
    "  if fig_format == :pdf\n",
    "    CairoMakie.activate!(type = \"png\")\n",
    "  else\n",
    "    CairoMakie.activate!(type = string(fig_format))\n",
    "  end\n",
    "  CairoMakie.update_theme!(resolution=(fig_width, fig_height))\n",
    "catch e\n",
    "    # @warn \"CairoMakie init\" exception=(e, catch_backtrace())\n",
    "end\n",
    "  \n",
    "# Set run_path if specified\n",
    "try\n",
    "  run_path = raw\"/home/asmolka/repos/exess/smolkaa.github.io/api/base\"\n",
    "  if !isempty(run_path)\n",
    "    cd(run_path)\n",
    "  end\n",
    "catch e\n",
    "  @warn \"Run path init:\" exception=(e, catch_backtrace())\n",
    "end\n",
    "\n",
    "\n",
    "# emulate old Pkg.installed beahvior, see\n",
    "# https://discourse.julialang.org/t/how-to-use-pkg-dependencies-instead-of-pkg-installed/36416/9\n",
    "import Pkg\n",
    "function isinstalled(pkg::String)\n",
    "  any(x -> x.name == pkg && x.is_direct_dep, values(Pkg.dependencies()))\n",
    "end\n",
    "\n",
    "# ojs_define\n",
    "if isinstalled(\"JSON\") && isinstalled(\"DataFrames\")\n",
    "  import JSON, DataFrames\n",
    "  global function ojs_define(; kwargs...)\n",
    "    convert(x) = x\n",
    "    convert(x::DataFrames.AbstractDataFrame) = Tables.rows(x)\n",
    "    content = Dict(\"contents\" => [Dict(\"name\" => k, \"value\" => convert(v)) for (k, v) in kwargs])\n",
    "    tag = \"<script type='ojs-define'>$(JSON.json(content))</script>\"\n",
    "    IJulia.display(MIME(\"text/html\"), tag)\n",
    "  end\n",
    "elseif isinstalled(\"JSON\")\n",
    "  import JSON\n",
    "  global function ojs_define(; kwargs...)\n",
    "    content = Dict(\"contents\" => [Dict(\"name\" => k, \"value\" => v) for (k, v) in kwargs])\n",
    "    tag = \"<script type='ojs-define'>$(JSON.json(content))</script>\"\n",
    "    IJulia.display(MIME(\"text/html\"), tag)\n",
    "  end\n",
    "else\n",
    "  global function ojs_define(; kwargs...)\n",
    "    @warn \"JSON package not available. Please install the JSON.jl package to use ojs_define.\"\n",
    "  end\n",
    "end\n",
    "\n",
    "\n",
    "# don't return kernel dependencies (b/c Revise should take care of dependencies)\n",
    "nothing\n"
   ]
  },
  {
   "cell_type": "code",
   "execution_count": 2,
   "id": "f08c7863",
   "metadata": {},
   "outputs": [
    {
     "data": {
      "text/plain": [
       "4-element Vector{Float64}:\n",
       " 1.673781838440757e-27\n",
       " 3.347563676881514e-27\n",
       " 2.824141014861615e-26\n",
       " 2.9915191987056904e-26"
      ]
     },
     "execution_count": 2,
     "metadata": {},
     "output_type": "execute_result"
    }
   ],
   "source": [
    "#| echo: false\n",
    "if !isdefined(Main, :ExESS)\n",
    "include(joinpath(@__DIR__, \"..\", \"..\", \"..\", \"exess.jl\", \"src\", \"ExESS.jl\"))\n",
    "using .ExESS\n",
    "end\n",
    "masses = amu2kg.([AMU_H, AMU_H2, AMU_OH, AMU_H2O])"
   ]
  },
  {
   "cell_type": "code",
   "execution_count": 3,
   "id": "72aa763f",
   "metadata": {},
   "outputs": [
    {
     "data": {
      "text/plain": [
       "2359.7179236582847"
      ]
     },
     "execution_count": 3,
     "metadata": {},
     "output_type": "execute_result"
    }
   ],
   "source": [
    "#| echo: false\n",
    "if !isdefined(Main, :ExESS)\n",
    "include(joinpath(@__DIR__, \"..\", \"..\", \"..\", \"exess.jl\", \"src\", \"ExESS.jl\"))\n",
    "using .ExESS\n",
    "end\n",
    "masses = amu2kg.([AMU_H, AMU_H2, AMU_OH, AMU_H2O])\n",
    "v_esc = escape_velocity(LUNAR_RADIUS, LUNAR_MASS)"
   ]
  },
  {
   "cell_type": "code",
   "execution_count": 4,
   "id": "e10e4126",
   "metadata": {},
   "outputs": [
    {
     "data": {
      "text/plain": [
       "4-element Vector{Float64}:\n",
       " 0.029085641336536464\n",
       " 0.05817128267307293\n",
       " 0.49075662523969016\n",
       " 0.5198422665762266"
      ]
     },
     "execution_count": 4,
     "metadata": {},
     "output_type": "execute_result"
    }
   ],
   "source": [
    "#| echo: false\n",
    "if !isdefined(Main, :ExESS)\n",
    "include(joinpath(@__DIR__, \"..\", \"..\", \"..\", \"exess.jl\", \"src\", \"ExESS.jl\"))\n",
    "using .ExESS\n",
    "end\n",
    "masses = amu2kg.([AMU_H, AMU_H2, AMU_OH, AMU_H2O])\n",
    "v_esc = escape_velocity(LUNAR_RADIUS, LUNAR_MASS)\n",
    "E_kin(m::Real; v=v_esc) = 0.5 * m * v_esc^2\n",
    "E = J2eV.(E_kin.(masses))"
   ]
  },
  {
   "cell_type": "code",
   "execution_count": 5,
   "id": "0095185b",
   "metadata": {},
   "outputs": [
    {
     "data": {
      "text/latex": [
       "\\begin{verbatim}\n",
       "[1] amu2kg(amu::Real)\n",
       "\\end{verbatim}\n",
       "Converts atomic mass unit \\texttt{amu} into kilo gram.\n",
       "\n"
      ],
      "text/markdown": [
       "```\n",
       "[1] amu2kg(amu::Real)\n",
       "```\n",
       "\n",
       "Converts atomic mass unit `amu` into kilo gram.\n"
      ],
      "text/plain": [
       "\u001b[36m  [1] amu2kg(amu::Real)\u001b[39m\n",
       "\n",
       "  Converts atomic mass unit \u001b[36mamu\u001b[39m into kilo gram."
      ]
     },
     "execution_count": 5,
     "metadata": {},
     "output_type": "execute_result"
    }
   ],
   "source": [
    "#| echo: false\n",
    "if !isdefined(Main, :ExESS)\n",
    "include(joinpath(@__DIR__, \"..\", \"..\", \"..\", \"exess.jl\", \"src\", \"ExESS.jl\"))\n",
    "using .ExESS\n",
    "end\n",
    "@doc ExESS.amu2kg"
   ]
  },
  {
   "cell_type": "code",
   "execution_count": 6,
   "id": "3926ed34",
   "metadata": {},
   "outputs": [
    {
     "data": {
      "text/latex": [
       "\\begin{verbatim}\n",
       "[1] eV2J(eV::Real)\n",
       "\\end{verbatim}\n",
       "Converts energy in electron volt \\texttt{eV} to joule.\n",
       "\n"
      ],
      "text/markdown": [
       "```\n",
       "[1] eV2J(eV::Real)\n",
       "```\n",
       "\n",
       "Converts energy in electron volt `eV` to joule.\n"
      ],
      "text/plain": [
       "\u001b[36m  [1] eV2J(eV::Real)\u001b[39m\n",
       "\n",
       "  Converts energy in electron volt \u001b[36meV\u001b[39m to joule."
      ]
     },
     "execution_count": 6,
     "metadata": {},
     "output_type": "execute_result"
    }
   ],
   "source": [
    "#| echo: false\n",
    "if !isdefined(Main, :ExESS)\n",
    "include(joinpath(@__DIR__, \"..\", \"..\", \"..\", \"exess.jl\", \"src\", \"ExESS.jl\"))\n",
    "using .ExESS\n",
    "end\n",
    "@doc ExESS.eV2J"
   ]
  },
  {
   "cell_type": "code",
   "execution_count": 7,
   "id": "ed3eb77e",
   "metadata": {},
   "outputs": [
    {
     "data": {
      "text/latex": [
       "\\begin{verbatim}\n",
       "[1] J2eV(J::Real)\n",
       "\\end{verbatim}\n",
       "Converts energy in joule \\texttt{J} to electron volt.\n",
       "\n"
      ],
      "text/markdown": [
       "```\n",
       "[1] J2eV(J::Real)\n",
       "```\n",
       "\n",
       "Converts energy in joule `J` to electron volt.\n"
      ],
      "text/plain": [
       "\u001b[36m  [1] J2eV(J::Real)\u001b[39m\n",
       "\n",
       "  Converts energy in joule \u001b[36mJ\u001b[39m to electron volt."
      ]
     },
     "execution_count": 7,
     "metadata": {},
     "output_type": "execute_result"
    }
   ],
   "source": [
    "#| echo: false\n",
    "if !isdefined(Main, :ExESS)\n",
    "include(joinpath(@__DIR__, \"..\", \"..\", \"..\", \"exess.jl\", \"src\", \"ExESS.jl\"))\n",
    "using .ExESS\n",
    "end\n",
    "@doc ExESS.J2eV"
   ]
  },
  {
   "cell_type": "code",
   "execution_count": 8,
   "id": "f01102e0",
   "metadata": {},
   "outputs": [
    {
     "data": {
      "text/latex": [
       "\\begin{verbatim}\n",
       "[1] limit_acos(x::Real)\n",
       "\\end{verbatim}\n",
       "Extends the \\texttt{acos} function for input outside of \\texttt{[-1,1]} through clipping.\n",
       "\n"
      ],
      "text/markdown": [
       "```\n",
       "[1] limit_acos(x::Real)\n",
       "```\n",
       "\n",
       "Extends the `acos` function for input outside of `[-1,1]` through clipping.\n"
      ],
      "text/plain": [
       "\u001b[36m  [1] limit_acos(x::Real)\u001b[39m\n",
       "\n",
       "  Extends the \u001b[36macos\u001b[39m function for input outside of \u001b[36m[-1,1]\u001b[39m through clipping."
      ]
     },
     "execution_count": 8,
     "metadata": {},
     "output_type": "execute_result"
    }
   ],
   "source": [
    "#| echo: false\n",
    "if !isdefined(Main, :ExESS)\n",
    "include(joinpath(@__DIR__, \"..\", \"..\", \"..\", \"exess.jl\", \"src\", \"ExESS.jl\"))\n",
    "using .ExESS\n",
    "end\n",
    "@doc ExESS.limit_acos"
   ]
  },
  {
   "cell_type": "code",
   "execution_count": 9,
   "id": "22c69ec2",
   "metadata": {},
   "outputs": [
    {
     "data": {
      "text/latex": [
       "\\begin{verbatim}\n",
       "[1] sgn(x::Real)\n",
       "\\end{verbatim}\n",
       "Returns the sign of \\texttt{x} with the custom definition \\texttt{sgn(0) = 1}.\n",
       "\n"
      ],
      "text/markdown": [
       "```\n",
       "[1] sgn(x::Real)\n",
       "```\n",
       "\n",
       "Returns the sign of `x` with the custom definition `sgn(0) = 1`.\n"
      ],
      "text/plain": [
       "\u001b[36m  [1] sgn(x::Real)\u001b[39m\n",
       "\n",
       "  Returns the sign of \u001b[36mx\u001b[39m with the custom definition \u001b[36msgn(0) = 1\u001b[39m."
      ]
     },
     "execution_count": 9,
     "metadata": {},
     "output_type": "execute_result"
    }
   ],
   "source": [
    "#| echo: false\n",
    "if !isdefined(Main, :ExESS)\n",
    "include(joinpath(@__DIR__, \"..\", \"..\", \"..\", \"exess.jl\", \"src\", \"ExESS.jl\"))\n",
    "using .ExESS\n",
    "end\n",
    "@doc ExESS.sgn"
   ]
  }
 ],
 "metadata": {
  "kernelspec": {
   "display_name": "julia 1.10.0",
   "language": "julia",
   "name": "julia-1.10"
  },
  "language_info": {
   "file_extension": ".jl",
   "mimetype": "application/julia",
   "name": "julia",
   "version": "1.10.0"
  }
 },
 "nbformat": 4,
 "nbformat_minor": 5
}