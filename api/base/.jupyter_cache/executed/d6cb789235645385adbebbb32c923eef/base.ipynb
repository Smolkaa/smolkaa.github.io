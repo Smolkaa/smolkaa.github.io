{
 "cells": [
  {
   "cell_type": "code",
   "execution_count": 1,
   "id": "0ec03e3f",
   "metadata": {},
   "outputs": [],
   "source": [
    "import IJulia\n",
    "\n",
    "# The julia kernel has built in support for Revise.jl, so this is the \n",
    "# recommended approach for long-running sessions:\n",
    "# https://github.com/JuliaLang/IJulia.jl/blob/9b10fa9b879574bbf720f5285029e07758e50a5e/src/kernel.jl#L46-L51\n",
    "\n",
    "# Users should enable revise within .julia/config/startup_ijulia.jl:\n",
    "# https://timholy.github.io/Revise.jl/stable/config/#Using-Revise-automatically-within-Jupyter/IJulia-1\n",
    "\n",
    "# clear console history\n",
    "IJulia.clear_history()\n",
    "\n",
    "fig_width = 7\n",
    "fig_height = 5\n",
    "fig_format = :retina\n",
    "fig_dpi = 96\n",
    "\n",
    "# no retina format type, use svg for high quality type/marks\n",
    "if fig_format == :retina\n",
    "  fig_format = :svg\n",
    "elseif fig_format == :pdf\n",
    "  fig_dpi = 96\n",
    "  # Enable PDF support for IJulia\n",
    "  IJulia.register_mime(MIME(\"application/pdf\"))\n",
    "end\n",
    "\n",
    "# convert inches to pixels\n",
    "fig_width = fig_width * fig_dpi\n",
    "fig_height = fig_height * fig_dpi\n",
    "\n",
    "# Intialize Plots w/ default fig width/height\n",
    "try\n",
    "  import Plots\n",
    "\n",
    "  # Plots.jl doesn't support PDF output for versions < 1.28.1\n",
    "  # so use png (if the DPI remains the default of 300 then set to 96)\n",
    "  if (Plots._current_plots_version < v\"1.28.1\") & (fig_format == :pdf)\n",
    "    Plots.gr(size=(fig_width, fig_height), fmt = :png, dpi = fig_dpi)\n",
    "  else\n",
    "    Plots.gr(size=(fig_width, fig_height), fmt = fig_format, dpi = fig_dpi)\n",
    "  end\n",
    "catch e\n",
    "  # @warn \"Plots init\" exception=(e, catch_backtrace())\n",
    "end\n",
    "\n",
    "# Initialize CairoMakie with default fig width/height\n",
    "try\n",
    "  import CairoMakie\n",
    "  \n",
    "  CairoMakie.activate!(type = string(fig_format))\n",
    "  CairoMakie.update_theme!(resolution=(fig_width, fig_height))\n",
    "catch e\n",
    "    # @warn \"CairoMakie init\" exception=(e, catch_backtrace())\n",
    "end\n",
    "  \n",
    "# Set run_path if specified\n",
    "try\n",
    "  run_path = raw\"C:\\Users\\alex\\Documents\\repos\\exess\\smolkaa.github.io\\api\\base\"\n",
    "  if !isempty(run_path)\n",
    "    cd(run_path)\n",
    "  end\n",
    "catch e\n",
    "  @warn \"Run path init:\" exception=(e, catch_backtrace())\n",
    "end\n",
    "\n",
    "\n",
    "# emulate old Pkg.installed beahvior, see\n",
    "# https://discourse.julialang.org/t/how-to-use-pkg-dependencies-instead-of-pkg-installed/36416/9\n",
    "import Pkg\n",
    "function isinstalled(pkg::String)\n",
    "  any(x -> x.name == pkg && x.is_direct_dep, values(Pkg.dependencies()))\n",
    "end\n",
    "\n",
    "# ojs_define\n",
    "if isinstalled(\"JSON\") && isinstalled(\"DataFrames\")\n",
    "  import JSON, DataFrames\n",
    "  global function ojs_define(; kwargs...)\n",
    "    convert(x) = x\n",
    "    convert(x::DataFrames.AbstractDataFrame) = Tables.rows(x)\n",
    "    content = Dict(\"contents\" => [Dict(\"name\" => k, \"value\" => convert(v)) for (k, v) in kwargs])\n",
    "    tag = \"<script type='ojs-define'>$(JSON.json(content))</script>\"\n",
    "    IJulia.display(MIME(\"text/html\"), tag)\n",
    "  end\n",
    "elseif isinstalled(\"JSON\")\n",
    "  import JSON\n",
    "  global function ojs_define(; kwargs...)\n",
    "    content = Dict(\"contents\" => [Dict(\"name\" => k, \"value\" => v) for (k, v) in kwargs])\n",
    "    tag = \"<script type='ojs-define'>$(JSON.json(content))</script>\"\n",
    "    IJulia.display(MIME(\"text/html\"), tag)\n",
    "  end\n",
    "else\n",
    "  global function ojs_define(; kwargs...)\n",
    "    @warn \"JSON package not available. Please install the JSON.jl package to use ojs_define.\"\n",
    "  end\n",
    "end\n",
    "\n",
    "\n",
    "# don't return kernel dependencies (b/c Revise should take care of dependencies)\n",
    "nothing\n"
   ]
  },
  {
   "cell_type": "code",
   "execution_count": 2,
   "id": "9a5ef58b",
   "metadata": {},
   "outputs": [
    {
     "data": {
      "text/plain": [
       "MaxwellBoltzmannFluxVelocityDistribution{Float64}(250.0, 6.642156158399789e-27)"
      ]
     },
     "execution_count": 32,
     "metadata": {},
     "output_type": "execute_result"
    }
   ],
   "source": [
    "#| output: false\n",
    "#| echo: false\n",
    "if !isdefined(Main, :ExESS)\n",
    "include(joinpath(@__DIR__, \"..\", \"..\", \"..\", \"exess.jl\", \"src\", \"ExESS.jl\"))\n",
    "using .ExESS\n",
    "end\n",
    "T, m = 250.0, amu2kg(4) # [K], [kg] (mass of helium)\n",
    "vd_mb = MaxwellBoltzmannVelocityDistribution(T, m)\n",
    "vd_mbf = MaxwellBoltzmannFluxVelocityDistribution(T, m)"
   ]
  },
  {
   "cell_type": "code",
   "execution_count": 3,
   "id": "519efc84",
   "metadata": {},
   "outputs": [
    {
     "data": {
      "text/plain": [
       "3-element Vector{Float64}:\n",
       " 1291.3489313390633\n",
       " -952.8610817393512\n",
       "  205.13179237252743"
      ]
     },
     "execution_count": 33,
     "metadata": {},
     "output_type": "execute_result"
    }
   ],
   "source": [
    "velocity(vd_mb)"
   ]
  },
  {
   "cell_type": "code",
   "execution_count": 4,
   "id": "0cab76cf",
   "metadata": {},
   "outputs": [
    {
     "data": {
      "text/plain": [
       "2259.7360766191214"
      ]
     },
     "execution_count": 34,
     "metadata": {},
     "output_type": "execute_result"
    }
   ],
   "source": [
    "speed(vd_mb)"
   ]
  },
  {
   "cell_type": "code",
   "execution_count": 5,
   "id": "87088701",
   "metadata": {},
   "outputs": [
    {
     "data": {
      "text/plain": [
       "1.4062035809721563"
      ]
     },
     "execution_count": 35,
     "metadata": {},
     "output_type": "execute_result"
    }
   ],
   "source": [
    "azimuth(vd_mb)"
   ]
  },
  {
   "cell_type": "code",
   "execution_count": 6,
   "id": "abd8e478",
   "metadata": {},
   "outputs": [
    {
     "data": {
      "text/plain": [
       "-0.2664406854304329"
      ]
     },
     "execution_count": 36,
     "metadata": {},
     "output_type": "execute_result"
    }
   ],
   "source": [
    "elevation(vd_mb)"
   ]
  },
  {
   "cell_type": "code",
   "execution_count": 7,
   "id": "50f44917",
   "metadata": {},
   "outputs": [
    {
     "data": {
      "text/plain": [
       "1.4452294396714378"
      ]
     },
     "execution_count": 37,
     "metadata": {},
     "output_type": "execute_result"
    }
   ],
   "source": [
    "zenith(vd_mb)"
   ]
  },
  {
   "cell_type": "code",
   "execution_count": 8,
   "id": "093fd74c",
   "metadata": {},
   "outputs": [
    {
     "data": {
      "text/plain": [
       "(0.7853981633974483, 1.0471975511965976)"
      ]
     },
     "execution_count": 38,
     "metadata": {},
     "output_type": "execute_result"
    }
   ],
   "source": [
    "#| output: false\n",
    "v1, v2 = 100.0, 200.0   # speed [m s-1]\n",
    "az1, az2 = -pi/4, pi/2  # azimuth [rad]\n",
    "el1, el2 = pi/6, pi/4   # elevation [ad]\n",
    "ze1, ze2 = pi/4, pi/3   # zenith [rad]"
   ]
  },
  {
   "cell_type": "code",
   "execution_count": 9,
   "id": "efe07dd2",
   "metadata": {},
   "outputs": [
    {
     "data": {
      "text/plain": [
       "(0.0006760328420158297, 0.375, 0.25, 0.24999999999999992)"
      ]
     },
     "execution_count": 39,
     "metadata": {},
     "output_type": "execute_result"
    }
   ],
   "source": [
    "speed_cdf(vd_mbf, v1, v2), azimuth_cdf(vd_mbf, az1, az2), elevation_cdf(vd_mbf, el1, el2), zenith_cdf(vd_mbf, ze1, ze2)"
   ]
  },
  {
   "cell_type": "code",
   "execution_count": 10,
   "id": "a22a2845",
   "metadata": {},
   "outputs": [
    {
     "data": {
      "text/plain": [
       "-0.008255912739929193"
      ]
     },
     "execution_count": 40,
     "metadata": {},
     "output_type": "execute_result"
    }
   ],
   "source": [
    "#| output: false\n",
    "v1_mbf, v2_mbf = velocity(MaxwellBoltzmannFluxVelocityDistribution(T, m)), velocity(MaxwellBoltzmannFluxVelocityDistribution(T, m))\n",
    "v1, v2 = speed(v1_mbf), speed(v2_mbf)\n",
    "az1, az2 = azimuth(v1_mbf), azimuth(v2_mbf)\n",
    "el1, el2 = elevation(v1_mbf), elevation(v2_mbf)\n",
    "velocity_cdf(vd_mbf, v1_mbf, v2_mbf)"
   ]
  },
  {
   "cell_type": "code",
   "execution_count": 11,
   "id": "ba7706e0",
   "metadata": {},
   "outputs": [
    {
     "data": {
      "text/plain": [
       "0.008255912739929193"
      ]
     },
     "execution_count": 41,
     "metadata": {},
     "output_type": "execute_result"
    }
   ],
   "source": [
    "#| echo: false\n",
    "abs(velocity_cdf(vd_mbf, v1_mbf, v2_mbf))"
   ]
  },
  {
   "cell_type": "code",
   "execution_count": 12,
   "id": "56e127da",
   "metadata": {},
   "outputs": [
    {
     "data": {
      "text/plain": [
       "0.008255912739929192"
      ]
     },
     "execution_count": 42,
     "metadata": {},
     "output_type": "execute_result"
    }
   ],
   "source": [
    "abs(speed_cdf(vd_mbf, v1, v2)) * abs(azimuth_cdf(vd_mbf, az1, az2)) * abs(elevation_cdf(vd_mbf, el1, el2))"
   ]
  },
  {
   "cell_type": "code",
   "execution_count": 13,
   "id": "a15df82e",
   "metadata": {},
   "outputs": [
    {
     "data": {
      "text/latex": [
       "\\begin{verbatim}\n",
       "[1] MaxwellBoltzmannVelocityDistribution{S<:AbstractFloat} <: AbstractVelocityDistribution{S}\n",
       "[2] MaxwellBoltzmannVelocityDistribution(T::Real, m::Real)\n",
       "\\end{verbatim}\n",
       "Custom struct defining a (3D) Maxwell-Boltzmann velocity distribution. Uses the temperature \\texttt{T} in Kelvin and the mass \\texttt{m} in kg as inputs.\n",
       "\n"
      ],
      "text/markdown": [
       "```\n",
       "[1] MaxwellBoltzmannVelocityDistribution{S<:AbstractFloat} <: AbstractVelocityDistribution{S}\n",
       "[2] MaxwellBoltzmannVelocityDistribution(T::Real, m::Real)\n",
       "```\n",
       "\n",
       "Custom struct defining a (3D) Maxwell-Boltzmann velocity distribution. Uses the temperature `T` in Kelvin and the mass `m` in kg as inputs.\n"
      ],
      "text/plain": [
       "\u001b[36m  [1] MaxwellBoltzmannVelocityDistribution{S<:AbstractFloat} <: AbstractVelocityDistribution{S}\u001b[39m\n",
       "\u001b[36m  [2] MaxwellBoltzmannVelocityDistribution(T::Real, m::Real)\u001b[39m\n",
       "\n",
       "  Custom struct defining a (3D) Maxwell-Boltzmann velocity distribution. Uses\n",
       "  the temperature \u001b[36mT\u001b[39m in Kelvin and the mass \u001b[36mm\u001b[39m in kg as inputs."
      ]
     },
     "execution_count": 43,
     "metadata": {},
     "output_type": "execute_result"
    }
   ],
   "source": [
    "#| echo: false\n",
    "if !isdefined(Main, :ExESS)\n",
    "include(joinpath(@__DIR__, \"..\", \"..\", \"..\", \"exess.jl\", \"src\", \"ExESS.jl\"))\n",
    "using .ExESS\n",
    "end\n",
    "@doc ExESS.MaxwellBoltzmannVelocityDistribution"
   ]
  },
  {
   "cell_type": "code",
   "execution_count": 14,
   "id": "0ca31737",
   "metadata": {},
   "outputs": [
    {
     "data": {
      "text/latex": [
       "\\begin{verbatim}\n",
       "[1] MaxwellBoltzmannFluxVelocityDistribution{S<:AbstractFloat} <: AbstractVelocityDistribution{S}\n",
       "[2] MaxwellBoltzmannFluxVelocityDistribution(T::Real, m::Real)\n",
       "\\end{verbatim}\n",
       "Custom struct defining a (3D) Maxwell-Boltzmann flux velocity distribution. Uses the temperature     \\texttt{T} in Kelvin and the mass \\texttt{m} in kg as inputs.\n",
       "\n"
      ],
      "text/markdown": [
       "```\n",
       "[1] MaxwellBoltzmannFluxVelocityDistribution{S<:AbstractFloat} <: AbstractVelocityDistribution{S}\n",
       "[2] MaxwellBoltzmannFluxVelocityDistribution(T::Real, m::Real)\n",
       "```\n",
       "\n",
       "Custom struct defining a (3D) Maxwell-Boltzmann flux velocity distribution. Uses the temperature     `T` in Kelvin and the mass `m` in kg as inputs.\n"
      ],
      "text/plain": [
       "\u001b[36m  [1] MaxwellBoltzmannFluxVelocityDistribution{S<:AbstractFloat} <: AbstractVelocityDistribution{S}\u001b[39m\n",
       "\u001b[36m  [2] MaxwellBoltzmannFluxVelocityDistribution(T::Real, m::Real)\u001b[39m\n",
       "\n",
       "  Custom struct defining a (3D) Maxwell-Boltzmann flux velocity distribution.\n",
       "  Uses the temperature \u001b[36mT\u001b[39m in Kelvin and the mass \u001b[36mm\u001b[39m in kg as inputs."
      ]
     },
     "execution_count": 44,
     "metadata": {},
     "output_type": "execute_result"
    }
   ],
   "source": [
    "#| echo: false\n",
    "if !isdefined(Main, :ExESS)\n",
    "include(joinpath(@__DIR__, \"..\", \"..\", \"..\", \"exess.jl\", \"src\", \"ExESS.jl\"))\n",
    "using .ExESS\n",
    "end\n",
    "@doc ExESS.MaxwellBoltzmannFluxVelocityDistribution"
   ]
  },
  {
   "cell_type": "code",
   "execution_count": 15,
   "id": "9fdd32ed",
   "metadata": {},
   "outputs": [
    {
     "data": {
      "text/latex": [
       "\\begin{verbatim}\n",
       "[1] azimuth([S::Type], vd::AbstractVelocityDistribution)\n",
       "[2] azimuth([S::Type], v::Vector{<:Real})\n",
       "[3] azimuth([S::Type], v::LocalCartesianVelocity)\n",
       "\\end{verbatim}\n",
       "[1] Draw a random azimuth angle (in [rad]) from the velocity distribution \\texttt{vd}.\n",
       "\n",
       "[2] \\& [3] Calculate the azimuth angle (in [rad]) of the velocity vector \\texttt{v} (in [m s-1]).  Alternatively, the azimuth angle can be calculated from a \\texttt{LocalCartesianVelocity} \\texttt{v} (in [m s-1]).\n",
       "\n"
      ],
      "text/markdown": [
       "```\n",
       "[1] azimuth([S::Type], vd::AbstractVelocityDistribution)\n",
       "[2] azimuth([S::Type], v::Vector{<:Real})\n",
       "[3] azimuth([S::Type], v::LocalCartesianVelocity)\n",
       "```\n",
       "\n",
       "[1] Draw a random azimuth angle (in [rad]) from the velocity distribution `vd`.\n",
       "\n",
       "[2] & [3] Calculate the azimuth angle (in [rad]) of the velocity vector `v` (in [m s-1]).  Alternatively, the azimuth angle can be calculated from a `LocalCartesianVelocity` `v` (in [m s-1]).\n"
      ],
      "text/plain": [
       "\u001b[36m  [1] azimuth([S::Type], vd::AbstractVelocityDistribution)\u001b[39m\n",
       "\u001b[36m  [2] azimuth([S::Type], v::Vector{<:Real})\u001b[39m\n",
       "\u001b[36m  [3] azimuth([S::Type], v::LocalCartesianVelocity)\u001b[39m\n",
       "\n",
       "  [1] Draw a random azimuth angle (in [rad]) from the velocity distribution\n",
       "  \u001b[36mvd\u001b[39m.\n",
       "\n",
       "  [2] & [3] Calculate the azimuth angle (in [rad]) of the velocity vector \u001b[36mv\u001b[39m\n",
       "  (in [m s-1]). Alternatively, the azimuth angle can be calculated from a\n",
       "  \u001b[36mLocalCartesianVelocity\u001b[39m \u001b[36mv\u001b[39m (in [m s-1])."
      ]
     },
     "execution_count": 45,
     "metadata": {},
     "output_type": "execute_result"
    }
   ],
   "source": [
    "#| echo: false\n",
    "if !isdefined(Main, :ExESS)\n",
    "include(joinpath(@__DIR__, \"..\", \"..\", \"..\", \"exess.jl\", \"src\", \"ExESS.jl\"))\n",
    "using .ExESS\n",
    "end\n",
    "@doc ExESS.azimuth"
   ]
  },
  {
   "cell_type": "code",
   "execution_count": 16,
   "id": "aefdef3a",
   "metadata": {},
   "outputs": [
    {
     "data": {
      "text/latex": [
       "\\begin{verbatim}\n",
       "[1] azimuth_cdf([S::Type], vd::AbstractVelocityDistribution, theta::Tuple{Real, Real})\n",
       "[2] azimuth_cdf([S::Type], vd::AbstractVelocityDistribution, theta1::Real, theta2::Real)\n",
       "[3] azimuth_cdf([S::Type], vd::AbstractVelocityDistribution, theta::Real)\n",
       "[4] azimuth_cdf([S::Type], vd::AbstractVelocityDistribution, v1::AbstractVector, v2::AbstractVector)\n",
       "[5] azimuth_cdf([S::Type], vd::AbstractVelocityDistribution, v::AbstractVector)\n",
       "[6] azimuth_cdf([S::Type], vd::AbstractVelocityDistribution, v1::LocalCartesianVelocity, v2::LocalCartesianVelocity)\n",
       "[7] azimuth_cdf([S::Type], vd::AbstractVelocityDistribution, v::LocalCartesianVelocity)\n",
       "\\end{verbatim}\n",
       "Computes the cumulative distribution function of the azimuth angle of the velocity distribution \\texttt{vd}, between the azimuth angles \\texttt{theta[1]}/\\texttt{theta1} and \\texttt{theta[2]}/\\texttt{theta2} (in [rad]). Should only one angle be given, the lower boundary is assumed to be lower boundary of the respective domain, \\texttt{-pi}.\n",
       "\n",
       "If instead of an azimuth angle \\texttt{theta} a velocity vector \\texttt{v} (in [m s-1]) or a \\texttt{LocalCartesianVelocity} \\texttt{v} (in [m s-1]) is given, the azimuth angle is calculated from the velocity vector and the cumulative distribution function is calculated accordingly.\n",
       "\n"
      ],
      "text/markdown": [
       "```\n",
       "[1] azimuth_cdf([S::Type], vd::AbstractVelocityDistribution, theta::Tuple{Real, Real})\n",
       "[2] azimuth_cdf([S::Type], vd::AbstractVelocityDistribution, theta1::Real, theta2::Real)\n",
       "[3] azimuth_cdf([S::Type], vd::AbstractVelocityDistribution, theta::Real)\n",
       "[4] azimuth_cdf([S::Type], vd::AbstractVelocityDistribution, v1::AbstractVector, v2::AbstractVector)\n",
       "[5] azimuth_cdf([S::Type], vd::AbstractVelocityDistribution, v::AbstractVector)\n",
       "[6] azimuth_cdf([S::Type], vd::AbstractVelocityDistribution, v1::LocalCartesianVelocity, v2::LocalCartesianVelocity)\n",
       "[7] azimuth_cdf([S::Type], vd::AbstractVelocityDistribution, v::LocalCartesianVelocity)\n",
       "```\n",
       "\n",
       "Computes the cumulative distribution function of the azimuth angle of the velocity distribution `vd`, between the azimuth angles `theta[1]`/`theta1` and `theta[2]`/`theta2` (in [rad]). Should only one angle be given, the lower boundary is assumed to be lower boundary of the respective domain, `-pi`.\n",
       "\n",
       "If instead of an azimuth angle `theta` a velocity vector `v` (in [m s-1]) or a `LocalCartesianVelocity` `v` (in [m s-1]) is given, the azimuth angle is calculated from the velocity vector and the cumulative distribution function is calculated accordingly.\n"
      ],
      "text/plain": [
       "\u001b[36m  [1] azimuth_cdf([S::Type], vd::AbstractVelocityDistribution, theta::Tuple{Real, Real})\u001b[39m\n",
       "\u001b[36m  [2] azimuth_cdf([S::Type], vd::AbstractVelocityDistribution, theta1::Real, theta2::Real)\u001b[39m\n",
       "\u001b[36m  [3] azimuth_cdf([S::Type], vd::AbstractVelocityDistribution, theta::Real)\u001b[39m\n",
       "\u001b[36m  [4] azimuth_cdf([S::Type], vd::AbstractVelocityDistribution, v1::AbstractVector, v2::AbstractVector)\u001b[39m\n",
       "\u001b[36m  [5] azimuth_cdf([S::Type], vd::AbstractVelocityDistribution, v::AbstractVector)\u001b[39m\n",
       "\u001b[36m  [6] azimuth_cdf([S::Type], vd::AbstractVelocityDistribution, v1::LocalCartesianVelocity, v2::LocalCartesianVelocity)\u001b[39m\n",
       "\u001b[36m  [7] azimuth_cdf([S::Type], vd::AbstractVelocityDistribution, v::LocalCartesianVelocity)\u001b[39m\n",
       "\n",
       "  Computes the cumulative distribution function of the azimuth angle of the\n",
       "  velocity distribution \u001b[36mvd\u001b[39m, between the azimuth angles \u001b[36mtheta[1]\u001b[39m/\u001b[36mtheta1\u001b[39m and\n",
       "  \u001b[36mtheta[2]\u001b[39m/\u001b[36mtheta2\u001b[39m (in [rad]). Should only one angle be given, the lower\n",
       "  boundary is assumed to be lower boundary of the respective domain, \u001b[36m-pi\u001b[39m.\n",
       "\n",
       "  If instead of an azimuth angle \u001b[36mtheta\u001b[39m a velocity vector \u001b[36mv\u001b[39m (in [m s-1]) or a\n",
       "  \u001b[36mLocalCartesianVelocity\u001b[39m \u001b[36mv\u001b[39m (in [m s-1]) is given, the azimuth angle is\n",
       "  calculated from the velocity vector and the cumulative distribution function\n",
       "  is calculated accordingly."
      ]
     },
     "execution_count": 46,
     "metadata": {},
     "output_type": "execute_result"
    }
   ],
   "source": [
    "#| echo: false\n",
    "if !isdefined(Main, :ExESS)\n",
    "include(joinpath(@__DIR__, \"..\", \"..\", \"..\", \"exess.jl\", \"src\", \"ExESS.jl\"))\n",
    "using .ExESS\n",
    "end\n",
    "@doc ExESS.azimuth_cdf"
   ]
  },
  {
   "cell_type": "code",
   "execution_count": 17,
   "id": "116e060e",
   "metadata": {},
   "outputs": [
    {
     "data": {
      "text/latex": [
       "\\begin{verbatim}\n",
       "[1] azimuth_pdf([S::Type], vd::AbstractVelocityDistribution, theta::Real)\n",
       "[2] azimuth_pdf([S::Type], vd::AbstractVelocityDistribution, v::AbstractVector)\n",
       "[3] azimuth_pdf([S::Type], vd::AbstractVelocityDistribution, v::LocalCartesianVelocity)\n",
       "\\end{verbatim}\n",
       "Calculates the probability density of the azimuth angle of the velocity distribution \\texttt{vd}, at the azimuth angle \\texttt{theta} (in [rad]). Alternatively, the probability density can be calculated at a velocity vector \\texttt{v} (in [m s-1]) or a \\texttt{LocalCartesianVelocity} \\texttt{v} (in [m s-1]). Note that for  [2] the vector assumes a local cartesian coordinate system (see \\texttt{LocalCartesianVelocity}).\n",
       "\n"
      ],
      "text/markdown": [
       "```\n",
       "[1] azimuth_pdf([S::Type], vd::AbstractVelocityDistribution, theta::Real)\n",
       "[2] azimuth_pdf([S::Type], vd::AbstractVelocityDistribution, v::AbstractVector)\n",
       "[3] azimuth_pdf([S::Type], vd::AbstractVelocityDistribution, v::LocalCartesianVelocity)\n",
       "```\n",
       "\n",
       "Calculates the probability density of the azimuth angle of the velocity distribution `vd`, at the azimuth angle `theta` (in [rad]). Alternatively, the probability density can be calculated at a velocity vector `v` (in [m s-1]) or a `LocalCartesianVelocity` `v` (in [m s-1]). Note that for  [2] the vector assumes a local cartesian coordinate system (see `LocalCartesianVelocity`).\n"
      ],
      "text/plain": [
       "\u001b[36m  [1] azimuth_pdf([S::Type], vd::AbstractVelocityDistribution, theta::Real)\u001b[39m\n",
       "\u001b[36m  [2] azimuth_pdf([S::Type], vd::AbstractVelocityDistribution, v::AbstractVector)\u001b[39m\n",
       "\u001b[36m  [3] azimuth_pdf([S::Type], vd::AbstractVelocityDistribution, v::LocalCartesianVelocity)\u001b[39m\n",
       "\n",
       "  Calculates the probability density of the azimuth angle of the velocity\n",
       "  distribution \u001b[36mvd\u001b[39m, at the azimuth angle \u001b[36mtheta\u001b[39m (in [rad]). Alternatively, the\n",
       "  probability density can be calculated at a velocity vector \u001b[36mv\u001b[39m (in [m s-1]) or\n",
       "  a \u001b[36mLocalCartesianVelocity\u001b[39m \u001b[36mv\u001b[39m (in [m s-1]). Note that for [2] the vector\n",
       "  assumes a local cartesian coordinate system (see \u001b[36mLocalCartesianVelocity\u001b[39m)."
      ]
     },
     "execution_count": 47,
     "metadata": {},
     "output_type": "execute_result"
    }
   ],
   "source": [
    "#| echo: false\n",
    "if !isdefined(Main, :ExESS)\n",
    "include(joinpath(@__DIR__, \"..\", \"..\", \"..\", \"exess.jl\", \"src\", \"ExESS.jl\"))\n",
    "using .ExESS\n",
    "end\n",
    "@doc ExESS.azimuth_pdf"
   ]
  },
  {
   "cell_type": "code",
   "execution_count": 18,
   "id": "2e6ca6d1",
   "metadata": {},
   "outputs": [
    {
     "data": {
      "text/latex": [
       "\\begin{verbatim}\n",
       "[1] elevation([S::Type], vd::AbstractVelocityDistribution)\n",
       "[2] elevation([S::Type], v::AbstractVector)\n",
       "[3] elevation([S::Type], v::LocalCartesianVelocity)\n",
       "\\end{verbatim}\n",
       "[1] Draw a random elevation angle (in [rad]) from the velocity distribution \\texttt{vd}.\n",
       "\n",
       "[2] \\& [3] Calculate the elevation angle (in [rad]) of the velocity vector \\texttt{v} (in [m s-1]). Alternatively, the elevation angle can be calculated from a \\texttt{LocalCartesianVelocity} \\texttt{v} (in [m s-1]).\n",
       "\n",
       "\\textbf{Note}\n",
       "\n",
       "\\begin{itemize}\n",
       "\\item Domain of \\texttt{MaxwellBoltzmannVelocityDistribution} is \\texttt{[-pi/2, pi/2]}\n",
       "\n",
       "\n",
       "\\item Domain of \\texttt{MaxwellBoltzmannFluxVelocityDistribution} is \\texttt{[0, pi/2]}\n",
       "\n",
       "\\end{itemize}\n"
      ],
      "text/markdown": [
       "```\n",
       "[1] elevation([S::Type], vd::AbstractVelocityDistribution)\n",
       "[2] elevation([S::Type], v::AbstractVector)\n",
       "[3] elevation([S::Type], v::LocalCartesianVelocity)\n",
       "```\n",
       "\n",
       "[1] Draw a random elevation angle (in [rad]) from the velocity distribution `vd`.\n",
       "\n",
       "[2] & [3] Calculate the elevation angle (in [rad]) of the velocity vector `v` (in [m s-1]). Alternatively, the elevation angle can be calculated from a `LocalCartesianVelocity` `v` (in [m s-1]).\n",
       "\n",
       "**Note**\n",
       "\n",
       "  * Domain of `MaxwellBoltzmannVelocityDistribution` is `[-pi/2, pi/2]`\n",
       "  * Domain of `MaxwellBoltzmannFluxVelocityDistribution` is `[0, pi/2]`\n"
      ],
      "text/plain": [
       "\u001b[36m  [1] elevation([S::Type], vd::AbstractVelocityDistribution)\u001b[39m\n",
       "\u001b[36m  [2] elevation([S::Type], v::AbstractVector)\u001b[39m\n",
       "\u001b[36m  [3] elevation([S::Type], v::LocalCartesianVelocity)\u001b[39m\n",
       "\n",
       "  [1] Draw a random elevation angle (in [rad]) from the velocity distribution\n",
       "  \u001b[36mvd\u001b[39m.\n",
       "\n",
       "  [2] & [3] Calculate the elevation angle (in [rad]) of the velocity vector \u001b[36mv\u001b[39m\n",
       "  (in [m s-1]). Alternatively, the elevation angle can be calculated from a\n",
       "  \u001b[36mLocalCartesianVelocity\u001b[39m \u001b[36mv\u001b[39m (in [m s-1]).\n",
       "\n",
       "  \u001b[1mNote\u001b[22m\n",
       "\n",
       "    •  Domain of \u001b[36mMaxwellBoltzmannVelocityDistribution\u001b[39m is \u001b[36m[-pi/2, pi/2]\u001b[39m\n",
       "\n",
       "    •  Domain of \u001b[36mMaxwellBoltzmannFluxVelocityDistribution\u001b[39m is \u001b[36m[0, pi/2]\u001b[39m"
      ]
     },
     "execution_count": 48,
     "metadata": {},
     "output_type": "execute_result"
    }
   ],
   "source": [
    "#| echo: false\n",
    "if !isdefined(Main, :ExESS)\n",
    "include(joinpath(@__DIR__, \"..\", \"..\", \"..\", \"exess.jl\", \"src\", \"ExESS.jl\"))\n",
    "using .ExESS\n",
    "end\n",
    "@doc ExESS.elevation"
   ]
  },
  {
   "cell_type": "code",
   "execution_count": 19,
   "id": "c8d5db63",
   "metadata": {},
   "outputs": [
    {
     "data": {
      "text/latex": [
       "\\begin{verbatim}\n",
       "[1] elevation_cdf([S::Type], vd::AbstractVelocityDistribution, phi::Tuple{Real, Real})\n",
       "[2] elevation_cdf([S::Type], vd::AbstractVelocityDistribution, phi1::Real, phi2::Real)\n",
       "[3] elevation_cdf([S::Type], vd::AbstractVelocityDistribution, phi::Real)\n",
       "[4] elevation_cdf([S::Type], vd::AbstractVelocityDistribution, v1::AbstractVector, v2::AbstractVector)\n",
       "[5] elevation_cdf([S::Type], vd::AbstractVelocityDistribution, v::AbstractVector)\n",
       "[6] elevation_cdf([S::Type], vd::AbstractVelocityDistribution, v1::LocalCartesianVelocity, v2::LocalCartesianVelocity)\n",
       "[7] elevation_cdf([S::Type], vd::AbstractVelocityDistribution, v::LocalCartesianVelocity)\n",
       "\\end{verbatim}\n",
       "Computes the cumulative distribution function of the elevation angle of the velocity distribution \\texttt{vd}, between the elevation angles \\texttt{phi[1]}/\\texttt{phi1} and \\texttt{phi[2]}/\\texttt{phi2} (in [rad]). Should only one angle be given, the lower boundary is assumed to be lower boundary of the respective domain. \n",
       "\n",
       "If instead of an elevation angle \\texttt{theta} a velocity vector \\texttt{v} (in [m s-1]) or a \\texttt{LocalCartesianVelocity} \\texttt{v} (in [m s-1]) is given, the elevation angle is calculated from the velocity vector and the cumulative distribution function is calculated accordingly.\n",
       "\n",
       "** Notes**\n",
       "\n",
       "\\begin{itemize}\n",
       "\\item Domain of \\texttt{MaxwellBoltzmannVelocityDistribution} is \\texttt{[-pi/2, pi/2]}, thus, using [3,5,7], the lower boundary is \\texttt{-pi/2}.\n",
       "\n",
       "\n",
       "\\item Domain of \\texttt{MaxwellBoltzmannFluxVelocityDistribution} is \\texttt{[0, pi/2]}, thus, using [3,5,7], the lower boundary is \\texttt{0}.\n",
       "\n",
       "\\end{itemize}\n"
      ],
      "text/markdown": [
       "```\n",
       "[1] elevation_cdf([S::Type], vd::AbstractVelocityDistribution, phi::Tuple{Real, Real})\n",
       "[2] elevation_cdf([S::Type], vd::AbstractVelocityDistribution, phi1::Real, phi2::Real)\n",
       "[3] elevation_cdf([S::Type], vd::AbstractVelocityDistribution, phi::Real)\n",
       "[4] elevation_cdf([S::Type], vd::AbstractVelocityDistribution, v1::AbstractVector, v2::AbstractVector)\n",
       "[5] elevation_cdf([S::Type], vd::AbstractVelocityDistribution, v::AbstractVector)\n",
       "[6] elevation_cdf([S::Type], vd::AbstractVelocityDistribution, v1::LocalCartesianVelocity, v2::LocalCartesianVelocity)\n",
       "[7] elevation_cdf([S::Type], vd::AbstractVelocityDistribution, v::LocalCartesianVelocity)\n",
       "```\n",
       "\n",
       "Computes the cumulative distribution function of the elevation angle of the velocity distribution `vd`, between the elevation angles `phi[1]`/`phi1` and `phi[2]`/`phi2` (in [rad]). Should only one angle be given, the lower boundary is assumed to be lower boundary of the respective domain. \n",
       "\n",
       "If instead of an elevation angle `theta` a velocity vector `v` (in [m s-1]) or a `LocalCartesianVelocity` `v` (in [m s-1]) is given, the elevation angle is calculated from the velocity vector and the cumulative distribution function is calculated accordingly.\n",
       "\n",
       "** Notes**\n",
       "\n",
       "  * Domain of `MaxwellBoltzmannVelocityDistribution` is `[-pi/2, pi/2]`, thus, using [3,5,7], the lower boundary is `-pi/2`.\n",
       "  * Domain of `MaxwellBoltzmannFluxVelocityDistribution` is `[0, pi/2]`, thus, using [3,5,7], the lower boundary is `0`.\n"
      ],
      "text/plain": [
       "\u001b[36m  [1] elevation_cdf([S::Type], vd::AbstractVelocityDistribution, phi::Tuple{Real, Real})\u001b[39m\n",
       "\u001b[36m  [2] elevation_cdf([S::Type], vd::AbstractVelocityDistribution, phi1::Real, phi2::Real)\u001b[39m\n",
       "\u001b[36m  [3] elevation_cdf([S::Type], vd::AbstractVelocityDistribution, phi::Real)\u001b[39m\n",
       "\u001b[36m  [4] elevation_cdf([S::Type], vd::AbstractVelocityDistribution, v1::AbstractVector, v2::AbstractVector)\u001b[39m\n",
       "\u001b[36m  [5] elevation_cdf([S::Type], vd::AbstractVelocityDistribution, v::AbstractVector)\u001b[39m\n",
       "\u001b[36m  [6] elevation_cdf([S::Type], vd::AbstractVelocityDistribution, v1::LocalCartesianVelocity, v2::LocalCartesianVelocity)\u001b[39m\n",
       "\u001b[36m  [7] elevation_cdf([S::Type], vd::AbstractVelocityDistribution, v::LocalCartesianVelocity)\u001b[39m\n",
       "\n",
       "  Computes the cumulative distribution function of the elevation angle of the\n",
       "  velocity distribution \u001b[36mvd\u001b[39m, between the elevation angles \u001b[36mphi[1]\u001b[39m/\u001b[36mphi1\u001b[39m and\n",
       "  \u001b[36mphi[2]\u001b[39m/\u001b[36mphi2\u001b[39m (in [rad]). Should only one angle be given, the lower boundary\n",
       "  is assumed to be lower boundary of the respective domain.\n",
       "\n",
       "  If instead of an elevation angle \u001b[36mtheta\u001b[39m a velocity vector \u001b[36mv\u001b[39m (in [m s-1]) or a\n",
       "  \u001b[36mLocalCartesianVelocity\u001b[39m \u001b[36mv\u001b[39m (in [m s-1]) is given, the elevation angle is\n",
       "  calculated from the velocity vector and the cumulative distribution function\n",
       "  is calculated accordingly.\n",
       "\n",
       "  ** Notes**\n",
       "\n",
       "    •  Domain of \u001b[36mMaxwellBoltzmannVelocityDistribution\u001b[39m is \u001b[36m[-pi/2, pi/2]\u001b[39m,\n",
       "       thus, using [3,5,7], the lower boundary is \u001b[36m-pi/2\u001b[39m.\n",
       "\n",
       "    •  Domain of \u001b[36mMaxwellBoltzmannFluxVelocityDistribution\u001b[39m is \u001b[36m[0, pi/2]\u001b[39m,\n",
       "       thus, using [3,5,7], the lower boundary is \u001b[36m0\u001b[39m."
      ]
     },
     "execution_count": 49,
     "metadata": {},
     "output_type": "execute_result"
    }
   ],
   "source": [
    "#| echo: false\n",
    "if !isdefined(Main, :ExESS)\n",
    "include(joinpath(@__DIR__, \"..\", \"..\", \"..\", \"exess.jl\", \"src\", \"ExESS.jl\"))\n",
    "using .ExESS\n",
    "end\n",
    "@doc ExESS.elevation_cdf"
   ]
  },
  {
   "cell_type": "code",
   "execution_count": 20,
   "id": "168ad100",
   "metadata": {},
   "outputs": [
    {
     "data": {
      "text/latex": [
       "\\begin{verbatim}\n",
       "[1] elevation_pdf([S::Type], vd::AbstractVelocityDistribution, phi::Real)\n",
       "[2] elevation_pdf([S::Type], vd::AbstractVelocityDistribution, v::AbstractVector)\n",
       "[3] elevation_pdf([S::Type], vd::AbstractVelocityDistribution, v::LocalCartesianVelocity)\n",
       "\\end{verbatim}\n",
       "Calculates the probability density of the elevation angle of the velocity distribution \\texttt{vd}, at the elevation angle \\texttt{phi} (in [rad]). Alternatively, the probability density can be calculated at a velocity vector \\texttt{v} (in [m s-1]) or a \\texttt{LocalCartesianVelocity} \\texttt{v} (in [m s-1]). Note that for  [2] the vector assumes a local cartesian coordinate system (see \\texttt{LocalCartesianVelocity}).\n",
       "\n"
      ],
      "text/markdown": [
       "```\n",
       "[1] elevation_pdf([S::Type], vd::AbstractVelocityDistribution, phi::Real)\n",
       "[2] elevation_pdf([S::Type], vd::AbstractVelocityDistribution, v::AbstractVector)\n",
       "[3] elevation_pdf([S::Type], vd::AbstractVelocityDistribution, v::LocalCartesianVelocity)\n",
       "```\n",
       "\n",
       "Calculates the probability density of the elevation angle of the velocity distribution `vd`, at the elevation angle `phi` (in [rad]). Alternatively, the probability density can be calculated at a velocity vector `v` (in [m s-1]) or a `LocalCartesianVelocity` `v` (in [m s-1]). Note that for  [2] the vector assumes a local cartesian coordinate system (see `LocalCartesianVelocity`).\n"
      ],
      "text/plain": [
       "\u001b[36m  [1] elevation_pdf([S::Type], vd::AbstractVelocityDistribution, phi::Real)\u001b[39m\n",
       "\u001b[36m  [2] elevation_pdf([S::Type], vd::AbstractVelocityDistribution, v::AbstractVector)\u001b[39m\n",
       "\u001b[36m  [3] elevation_pdf([S::Type], vd::AbstractVelocityDistribution, v::LocalCartesianVelocity)\u001b[39m\n",
       "\n",
       "  Calculates the probability density of the elevation angle of the velocity\n",
       "  distribution \u001b[36mvd\u001b[39m, at the elevation angle \u001b[36mphi\u001b[39m (in [rad]). Alternatively, the\n",
       "  probability density can be calculated at a velocity vector \u001b[36mv\u001b[39m (in [m s-1]) or\n",
       "  a \u001b[36mLocalCartesianVelocity\u001b[39m \u001b[36mv\u001b[39m (in [m s-1]). Note that for [2] the vector\n",
       "  assumes a local cartesian coordinate system (see \u001b[36mLocalCartesianVelocity\u001b[39m)."
      ]
     },
     "execution_count": 50,
     "metadata": {},
     "output_type": "execute_result"
    }
   ],
   "source": [
    "#| echo: false\n",
    "if !isdefined(Main, :ExESS)\n",
    "include(joinpath(@__DIR__, \"..\", \"..\", \"..\", \"exess.jl\", \"src\", \"ExESS.jl\"))\n",
    "using .ExESS\n",
    "end\n",
    "@doc ExESS.elevation_pdf"
   ]
  },
  {
   "cell_type": "code",
   "execution_count": 21,
   "id": "6e8caf35",
   "metadata": {},
   "outputs": [
    {
     "data": {
      "text/latex": [
       "\\begin{verbatim}\n",
       "[1] speed([S::Type], vd::AbstractVelocityDistribution)\n",
       "[2] speed([S::Type], v::AbstractVector)\n",
       "[3] speed([S::Type], v::LocalCartesianVelocity)\n",
       "[4] speed([S::Type], vd::MaxwellBoltzmannVelocityDistribution, mode::Symbol)\n",
       "\\end{verbatim}\n",
       "[1] Draw a random speed (in [m s-1]) from the velocity distribution \\texttt{vd}.\n",
       "\n",
       "[2] \\& [3] Calculate the speed (in [m s-1]) of the velocity vector \\texttt{v} (in [m s-1]). Alternatively, the speed can be calculated from a \\texttt{LocalCartesianVelocity} \\texttt{v} (in [m s-1]).\n",
       "\n",
       "[4] Calculate the typical speed (in [m s-1]) of the velocity distribution \\texttt{vd} based on the mode \\texttt{mode}. The following modes are available:\n",
       "\n",
       "\\begin{itemize}\n",
       "\\item \\texttt{:prob} for most probable velocity\n",
       "\n",
       "\n",
       "\\item \\texttt{:mean} for mean velocity\n",
       "\n",
       "\n",
       "\\item \\texttt{:rms} for root-mean-square velocity\n",
       "\n",
       "\\end{itemize}\n"
      ],
      "text/markdown": [
       "```\n",
       "[1] speed([S::Type], vd::AbstractVelocityDistribution)\n",
       "[2] speed([S::Type], v::AbstractVector)\n",
       "[3] speed([S::Type], v::LocalCartesianVelocity)\n",
       "[4] speed([S::Type], vd::MaxwellBoltzmannVelocityDistribution, mode::Symbol)\n",
       "```\n",
       "\n",
       "[1] Draw a random speed (in [m s-1]) from the velocity distribution `vd`.\n",
       "\n",
       "[2] & [3] Calculate the speed (in [m s-1]) of the velocity vector `v` (in [m s-1]). Alternatively, the speed can be calculated from a `LocalCartesianVelocity` `v` (in [m s-1]).\n",
       "\n",
       "[4] Calculate the typical speed (in [m s-1]) of the velocity distribution `vd` based on the mode `mode`. The following modes are available:\n",
       "\n",
       "  * `:prob` for most probable velocity\n",
       "  * `:mean` for mean velocity\n",
       "  * `:rms` for root-mean-square velocity\n"
      ],
      "text/plain": [
       "\u001b[36m  [1] speed([S::Type], vd::AbstractVelocityDistribution)\u001b[39m\n",
       "\u001b[36m  [2] speed([S::Type], v::AbstractVector)\u001b[39m\n",
       "\u001b[36m  [3] speed([S::Type], v::LocalCartesianVelocity)\u001b[39m\n",
       "\u001b[36m  [4] speed([S::Type], vd::MaxwellBoltzmannVelocityDistribution, mode::Symbol)\u001b[39m\n",
       "\n",
       "  [1] Draw a random speed (in [m s-1]) from the velocity distribution \u001b[36mvd\u001b[39m.\n",
       "\n",
       "  [2] & [3] Calculate the speed (in [m s-1]) of the velocity vector \u001b[36mv\u001b[39m (in [m\n",
       "  s-1]). Alternatively, the speed can be calculated from a\n",
       "  \u001b[36mLocalCartesianVelocity\u001b[39m \u001b[36mv\u001b[39m (in [m s-1]).\n",
       "\n",
       "  [4] Calculate the typical speed (in [m s-1]) of the velocity distribution \u001b[36mvd\u001b[39m\n",
       "  based on the mode \u001b[36mmode\u001b[39m. The following modes are available:\n",
       "\n",
       "    •  \u001b[36m:prob\u001b[39m for most probable velocity\n",
       "\n",
       "    •  \u001b[36m:mean\u001b[39m for mean velocity\n",
       "\n",
       "    •  \u001b[36m:rms\u001b[39m for root-mean-square velocity"
      ]
     },
     "execution_count": 51,
     "metadata": {},
     "output_type": "execute_result"
    }
   ],
   "source": [
    "#| echo: false\n",
    "if !isdefined(Main, :ExESS)\n",
    "include(joinpath(@__DIR__, \"..\", \"..\", \"..\", \"exess.jl\", \"src\", \"ExESS.jl\"))\n",
    "using .ExESS\n",
    "end\n",
    "@doc ExESS.speed"
   ]
  },
  {
   "cell_type": "code",
   "execution_count": 22,
   "id": "59513b7e",
   "metadata": {},
   "outputs": [
    {
     "data": {
      "text/latex": [
       "\\begin{verbatim}\n",
       "[1] speed_cdf([S::Type], vd::AbstractVelocityDistribution, v::Tuple{Real, Real}; N=1000)\n",
       "[2] speed_cdf([S::Type], vd::AbstractVelocityDistribution, v::Tuple{Integer, Integer}; kwargs...)\n",
       "[3] speed_cdf([S::Type], vd::AbstractVelocityDistribution, v::Real; kwargs...)\n",
       "[4] speed_cdf([S::Type], vd::AbstractVelocityDistribution, v1::AbstractVector, v2::AbstractVector)\n",
       "[5] speed_cdf([S::Type], vd::AbstractVelocityDistribution, v::AbstractVector)\n",
       "[6] speed_cdf([S::Type], vd::AbstractVelocityDistribution, v1::LocalCartesianVelocity, v2::LocalCartesianVelocity)\n",
       "[7] speed_cdf([S::Type], vd::AbstractVelocityDistribution, v::LocalCartesianVelocity)\n",
       "\\end{verbatim}\n",
       "Computes the cumulative distribution function of the speed of the velocity distribution \\texttt{vd} based on numerical integration of the respective probability density function between the upper and lower speed given in \\texttt{v} (in [m s-1]) (if \\texttt{v} is scalar, the lower boundary is zero).\n",
       "\n",
       "Alternatively, the cumulative distribution function can be calculated between the upper and lower speed given in \\texttt{v} (in [m s-1]), either as an \\texttt{AbstractVector} or a \\texttt{LocalCartesianVelocity} (in [m s-1]). Note that [4] and [5] expect the vector to be given in cartesian coordinates (see \\texttt{LocalCartesianVelocity}).\n",
       "\n"
      ],
      "text/markdown": [
       "```\n",
       "[1] speed_cdf([S::Type], vd::AbstractVelocityDistribution, v::Tuple{Real, Real}; N=1000)\n",
       "[2] speed_cdf([S::Type], vd::AbstractVelocityDistribution, v::Tuple{Integer, Integer}; kwargs...)\n",
       "[3] speed_cdf([S::Type], vd::AbstractVelocityDistribution, v::Real; kwargs...)\n",
       "[4] speed_cdf([S::Type], vd::AbstractVelocityDistribution, v1::AbstractVector, v2::AbstractVector)\n",
       "[5] speed_cdf([S::Type], vd::AbstractVelocityDistribution, v::AbstractVector)\n",
       "[6] speed_cdf([S::Type], vd::AbstractVelocityDistribution, v1::LocalCartesianVelocity, v2::LocalCartesianVelocity)\n",
       "[7] speed_cdf([S::Type], vd::AbstractVelocityDistribution, v::LocalCartesianVelocity)\n",
       "```\n",
       "\n",
       "Computes the cumulative distribution function of the speed of the velocity distribution `vd` based on numerical integration of the respective probability density function between the upper and lower speed given in `v` (in [m s-1]) (if `v` is scalar, the lower boundary is zero).\n",
       "\n",
       "Alternatively, the cumulative distribution function can be calculated between the upper and lower speed given in `v` (in [m s-1]), either as an `AbstractVector` or a `LocalCartesianVelocity` (in [m s-1]). Note that [4] and [5] expect the vector to be given in cartesian coordinates (see `LocalCartesianVelocity`).\n"
      ],
      "text/plain": [
       "\u001b[36m  [1] speed_cdf([S::Type], vd::AbstractVelocityDistribution, v::Tuple{Real, Real}; N=1000)\u001b[39m\n",
       "\u001b[36m  [2] speed_cdf([S::Type], vd::AbstractVelocityDistribution, v::Tuple{Integer, Integer}; kwargs...)\u001b[39m\n",
       "\u001b[36m  [3] speed_cdf([S::Type], vd::AbstractVelocityDistribution, v::Real; kwargs...)\u001b[39m\n",
       "\u001b[36m  [4] speed_cdf([S::Type], vd::AbstractVelocityDistribution, v1::AbstractVector, v2::AbstractVector)\u001b[39m\n",
       "\u001b[36m  [5] speed_cdf([S::Type], vd::AbstractVelocityDistribution, v::AbstractVector)\u001b[39m\n",
       "\u001b[36m  [6] speed_cdf([S::Type], vd::AbstractVelocityDistribution, v1::LocalCartesianVelocity, v2::LocalCartesianVelocity)\u001b[39m\n",
       "\u001b[36m  [7] speed_cdf([S::Type], vd::AbstractVelocityDistribution, v::LocalCartesianVelocity)\u001b[39m\n",
       "\n",
       "  Computes the cumulative distribution function of the speed of the velocity\n",
       "  distribution \u001b[36mvd\u001b[39m based on numerical integration of the respective probability\n",
       "  density function between the upper and lower speed given in \u001b[36mv\u001b[39m (in [m s-1])\n",
       "  (if \u001b[36mv\u001b[39m is scalar, the lower boundary is zero).\n",
       "\n",
       "  Alternatively, the cumulative distribution function can be calculated\n",
       "  between the upper and lower speed given in \u001b[36mv\u001b[39m (in [m s-1]), either as an\n",
       "  \u001b[36mAbstractVector\u001b[39m or a \u001b[36mLocalCartesianVelocity\u001b[39m (in [m s-1]). Note that [4] and\n",
       "  [5] expect the vector to be given in cartesian coordinates (see\n",
       "  \u001b[36mLocalCartesianVelocity\u001b[39m)."
      ]
     },
     "execution_count": 52,
     "metadata": {},
     "output_type": "execute_result"
    }
   ],
   "source": [
    "#| echo: false\n",
    "if !isdefined(Main, :ExESS)\n",
    "include(joinpath(@__DIR__, \"..\", \"..\", \"..\", \"exess.jl\", \"src\", \"ExESS.jl\"))\n",
    "using .ExESS\n",
    "end\n",
    "@doc ExESS.speed_cdf"
   ]
  },
  {
   "cell_type": "code",
   "execution_count": 23,
   "id": "0bb8272f",
   "metadata": {},
   "outputs": [
    {
     "data": {
      "text/latex": [
       "\\begin{verbatim}\n",
       "[1] speed_pdf([S::Type], vd::AbstractVelocityDistribution, v::Real)\n",
       "[2] speed_pdf([S::Type], vd::AbstractVelocityDistribution, v::AbstractVector)\n",
       "[3] speed_pdf([S::Type], vd::AbstractVelocityDistribution, v::LocalCartesianVelocity)\n",
       "\\end{verbatim}\n",
       "Calculates the probability density of the speed of the velocity distribution \\texttt{vd}, at the speed \\texttt{v} (in [m s-1]). \n",
       "\n"
      ],
      "text/markdown": [
       "```\n",
       "[1] speed_pdf([S::Type], vd::AbstractVelocityDistribution, v::Real)\n",
       "[2] speed_pdf([S::Type], vd::AbstractVelocityDistribution, v::AbstractVector)\n",
       "[3] speed_pdf([S::Type], vd::AbstractVelocityDistribution, v::LocalCartesianVelocity)\n",
       "```\n",
       "\n",
       "Calculates the probability density of the speed of the velocity distribution `vd`, at the speed `v` (in [m s-1]). \n"
      ],
      "text/plain": [
       "\u001b[36m  [1] speed_pdf([S::Type], vd::AbstractVelocityDistribution, v::Real)\u001b[39m\n",
       "\u001b[36m  [2] speed_pdf([S::Type], vd::AbstractVelocityDistribution, v::AbstractVector)\u001b[39m\n",
       "\u001b[36m  [3] speed_pdf([S::Type], vd::AbstractVelocityDistribution, v::LocalCartesianVelocity)\u001b[39m\n",
       "\n",
       "  Calculates the probability density of the speed of the velocity distribution\n",
       "  \u001b[36mvd\u001b[39m, at the speed \u001b[36mv\u001b[39m (in [m s-1])."
      ]
     },
     "execution_count": 53,
     "metadata": {},
     "output_type": "execute_result"
    }
   ],
   "source": [
    "#| echo: false\n",
    "if !isdefined(Main, :ExESS)\n",
    "include(joinpath(@__DIR__, \"..\", \"..\", \"..\", \"exess.jl\", \"src\", \"ExESS.jl\"))\n",
    "using .ExESS\n",
    "end\n",
    "@doc ExESS.speed_pdf"
   ]
  },
  {
   "cell_type": "code",
   "execution_count": 24,
   "id": "cde0c07f",
   "metadata": {},
   "outputs": [
    {
     "data": {
      "text/latex": [
       "\\begin{verbatim}\n",
       "[1] velocity([S::Type], vd::AbstractVelocityDistribution)\n",
       "\\end{verbatim}\n",
       "Draw a random, trhee-dimensional velocity vector (in [m s-1]) from the velocity distribution \\texttt{vd}.\n",
       "\n",
       "\\textbf{Notes}\n",
       "\n",
       "\\begin{itemize}\n",
       "\\item The three-dimensional vector is given in local cartesian coordinates (see \\texttt{LocalCartesianVelocity}). This means that \\texttt{v[1]} points locally east, \\texttt{v[2]} points locally north, and \\texttt{v[3]} points locally up.\n",
       "\n",
       "\\end{itemize}\n"
      ],
      "text/markdown": [
       "```\n",
       "[1] velocity([S::Type], vd::AbstractVelocityDistribution)\n",
       "```\n",
       "\n",
       "Draw a random, trhee-dimensional velocity vector (in [m s-1]) from the velocity distribution `vd`.\n",
       "\n",
       "**Notes**\n",
       "\n",
       "  * The three-dimensional vector is given in local cartesian coordinates (see `LocalCartesianVelocity`). This means that `v[1]` points locally east, `v[2]` points locally north, and `v[3]` points locally up.\n"
      ],
      "text/plain": [
       "\u001b[36m  [1] velocity([S::Type], vd::AbstractVelocityDistribution)\u001b[39m\n",
       "\n",
       "  Draw a random, trhee-dimensional velocity vector (in [m s-1]) from the\n",
       "  velocity distribution \u001b[36mvd\u001b[39m.\n",
       "\n",
       "  \u001b[1mNotes\u001b[22m\n",
       "\n",
       "    •  The three-dimensional vector is given in local cartesian\n",
       "       coordinates (see \u001b[36mLocalCartesianVelocity\u001b[39m). This means that \u001b[36mv[1]\u001b[39m\n",
       "       points locally east, \u001b[36mv[2]\u001b[39m points locally north, and \u001b[36mv[3]\u001b[39m points\n",
       "       locally up."
      ]
     },
     "execution_count": 54,
     "metadata": {},
     "output_type": "execute_result"
    }
   ],
   "source": [
    "#| echo: false\n",
    "if !isdefined(Main, :ExESS)\n",
    "include(joinpath(@__DIR__, \"..\", \"..\", \"..\", \"exess.jl\", \"src\", \"ExESS.jl\"))\n",
    "using .ExESS\n",
    "end\n",
    "@doc ExESS.velocity"
   ]
  },
  {
   "cell_type": "code",
   "execution_count": 25,
   "id": "7365099b",
   "metadata": {},
   "outputs": [
    {
     "data": {
      "text/latex": [
       "\\begin{verbatim}\n",
       "[1] velocity_cdf([S::Type], vd::AbstractVelocityDistribution, v1::AbstractVector, v2::AbstractVector)\n",
       "[2] velocity_cdf([S::Type], vd::AbstractVelocityDistribution, v::AbstractVector)\n",
       "[3] velocity_cdf([S::Type], vd::AbstractVelocityDistribution, v1::LocalCartesianVelocity, v2::LocalCartesianVelocity)\n",
       "[4] velocity_cdf([S::Type], vd::AbstractVelocityDistribution, v::LocalCartesianVelocity)\n",
       "\\end{verbatim}\n",
       "Computes the cumulative distribution function of the velocity vector of the velocity distribution \\texttt{vd}, between the velocity vectors \\texttt{v1} and \\texttt{v2} (in [m s-1]). Should only one vector be given, the lower boundary is assumed to be the zero vector.\n",
       "\n",
       "Note that if an \\texttt{AbstractVector} is given, it is assumed to be given in cartesian coordinates (see \\texttt{LocalCartesianVelocity}).\n",
       "\n"
      ],
      "text/markdown": [
       "```\n",
       "[1] velocity_cdf([S::Type], vd::AbstractVelocityDistribution, v1::AbstractVector, v2::AbstractVector)\n",
       "[2] velocity_cdf([S::Type], vd::AbstractVelocityDistribution, v::AbstractVector)\n",
       "[3] velocity_cdf([S::Type], vd::AbstractVelocityDistribution, v1::LocalCartesianVelocity, v2::LocalCartesianVelocity)\n",
       "[4] velocity_cdf([S::Type], vd::AbstractVelocityDistribution, v::LocalCartesianVelocity)\n",
       "```\n",
       "\n",
       "Computes the cumulative distribution function of the velocity vector of the velocity distribution `vd`, between the velocity vectors `v1` and `v2` (in [m s-1]). Should only one vector be given, the lower boundary is assumed to be the zero vector.\n",
       "\n",
       "Note that if an `AbstractVector` is given, it is assumed to be given in cartesian coordinates (see `LocalCartesianVelocity`).\n"
      ],
      "text/plain": [
       "\u001b[36m  [1] velocity_cdf([S::Type], vd::AbstractVelocityDistribution, v1::AbstractVector, v2::AbstractVector)\u001b[39m\n",
       "\u001b[36m  [2] velocity_cdf([S::Type], vd::AbstractVelocityDistribution, v::AbstractVector)\u001b[39m\n",
       "\u001b[36m  [3] velocity_cdf([S::Type], vd::AbstractVelocityDistribution, v1::LocalCartesianVelocity, v2::LocalCartesianVelocity)\u001b[39m\n",
       "\u001b[36m  [4] velocity_cdf([S::Type], vd::AbstractVelocityDistribution, v::LocalCartesianVelocity)\u001b[39m\n",
       "\n",
       "  Computes the cumulative distribution function of the velocity vector of the\n",
       "  velocity distribution \u001b[36mvd\u001b[39m, between the velocity vectors \u001b[36mv1\u001b[39m and \u001b[36mv2\u001b[39m (in [m\n",
       "  s-1]). Should only one vector be given, the lower boundary is assumed to be\n",
       "  the zero vector.\n",
       "\n",
       "  Note that if an \u001b[36mAbstractVector\u001b[39m is given, it is assumed to be given in\n",
       "  cartesian coordinates (see \u001b[36mLocalCartesianVelocity\u001b[39m)."
      ]
     },
     "execution_count": 55,
     "metadata": {},
     "output_type": "execute_result"
    }
   ],
   "source": [
    "#| echo: false\n",
    "if !isdefined(Main, :ExESS)\n",
    "include(joinpath(@__DIR__, \"..\", \"..\", \"..\", \"exess.jl\", \"src\", \"ExESS.jl\"))\n",
    "using .ExESS\n",
    "end\n",
    "@doc ExESS.velocity_cdf"
   ]
  },
  {
   "cell_type": "code",
   "execution_count": 26,
   "id": "606a9cd5",
   "metadata": {},
   "outputs": [
    {
     "data": {
      "text/latex": [
       "\\begin{verbatim}\n",
       "[1] velocity_pdf([S::Type], vd::AbstractVelocityDistribution, v::AbstractVector)\n",
       "[2] velocity_pdf([S::Type], vd::AbstractVelocityDistribution, v::LocalCartesianVelocity)\n",
       "\\end{verbatim}\n",
       "Calculates the probability density of the velocity vector \\texttt{v} (in [m s-1]) of the velocity distribution \\texttt{vd}.\n",
       "\n"
      ],
      "text/markdown": [
       "```\n",
       "[1] velocity_pdf([S::Type], vd::AbstractVelocityDistribution, v::AbstractVector)\n",
       "[2] velocity_pdf([S::Type], vd::AbstractVelocityDistribution, v::LocalCartesianVelocity)\n",
       "```\n",
       "\n",
       "Calculates the probability density of the velocity vector `v` (in [m s-1]) of the velocity distribution `vd`.\n"
      ],
      "text/plain": [
       "\u001b[36m  [1] velocity_pdf([S::Type], vd::AbstractVelocityDistribution, v::AbstractVector)\u001b[39m\n",
       "\u001b[36m  [2] velocity_pdf([S::Type], vd::AbstractVelocityDistribution, v::LocalCartesianVelocity)\u001b[39m\n",
       "\n",
       "  Calculates the probability density of the velocity vector \u001b[36mv\u001b[39m (in [m s-1]) of\n",
       "  the velocity distribution \u001b[36mvd\u001b[39m."
      ]
     },
     "execution_count": 56,
     "metadata": {},
     "output_type": "execute_result"
    }
   ],
   "source": [
    "#| echo: false\n",
    "if !isdefined(Main, :ExESS)\n",
    "include(joinpath(@__DIR__, \"..\", \"..\", \"..\", \"exess.jl\", \"src\", \"ExESS.jl\"))\n",
    "using .ExESS\n",
    "end\n",
    "@doc ExESS.velocity_pdf"
   ]
  },
  {
   "cell_type": "code",
   "execution_count": 27,
   "id": "9e5550b0",
   "metadata": {},
   "outputs": [
    {
     "data": {
      "text/latex": [
       "\\begin{verbatim}\n",
       "[1] zenith([S::Type], vd::AbstractVelocityDistribution)\n",
       "[2] zenith([S::Type], v::Vector{<:Real})\n",
       "[3] zenith([S::Type], v::LocalCartesianVelocity)\n",
       "\\end{verbatim}\n",
       "[1] Draw a random zenith angle (in [rad]) from the velocity distribution \\texttt{vd}.\n",
       "\n",
       "[2] \\& [3] Calculate the zenith angle (in [rad]) of the velocity vector \\texttt{v} (in [m s-1]). Alternatively,  the zenith angle can be calculated from a \\texttt{LocalCartesianVelocity} \\texttt{v} (in [m s-1]).\n",
       "\n",
       "\\textbf{Notes}\n",
       "\n",
       "\\begin{itemize}\n",
       "\\item the zenith angle is the same-sign pi/2-inversion of the elevation angle\n",
       "\n",
       "\\end{itemize}\n"
      ],
      "text/markdown": [
       "```\n",
       "[1] zenith([S::Type], vd::AbstractVelocityDistribution)\n",
       "[2] zenith([S::Type], v::Vector{<:Real})\n",
       "[3] zenith([S::Type], v::LocalCartesianVelocity)\n",
       "```\n",
       "\n",
       "[1] Draw a random zenith angle (in [rad]) from the velocity distribution `vd`.\n",
       "\n",
       "[2] & [3] Calculate the zenith angle (in [rad]) of the velocity vector `v` (in [m s-1]). Alternatively,  the zenith angle can be calculated from a `LocalCartesianVelocity` `v` (in [m s-1]).\n",
       "\n",
       "**Notes**\n",
       "\n",
       "  * the zenith angle is the same-sign pi/2-inversion of the elevation angle\n"
      ],
      "text/plain": [
       "\u001b[36m  [1] zenith([S::Type], vd::AbstractVelocityDistribution)\u001b[39m\n",
       "\u001b[36m  [2] zenith([S::Type], v::Vector{<:Real})\u001b[39m\n",
       "\u001b[36m  [3] zenith([S::Type], v::LocalCartesianVelocity)\u001b[39m\n",
       "\n",
       "  [1] Draw a random zenith angle (in [rad]) from the velocity distribution \u001b[36mvd\u001b[39m.\n",
       "\n",
       "  [2] & [3] Calculate the zenith angle (in [rad]) of the velocity vector \u001b[36mv\u001b[39m (in\n",
       "  [m s-1]). Alternatively, the zenith angle can be calculated from a\n",
       "  \u001b[36mLocalCartesianVelocity\u001b[39m \u001b[36mv\u001b[39m (in [m s-1]).\n",
       "\n",
       "  \u001b[1mNotes\u001b[22m\n",
       "\n",
       "    •  the zenith angle is the same-sign pi/2-inversion of the elevation\n",
       "       angle"
      ]
     },
     "execution_count": 57,
     "metadata": {},
     "output_type": "execute_result"
    }
   ],
   "source": [
    "#| echo: false\n",
    "if !isdefined(Main, :ExESS)\n",
    "include(joinpath(@__DIR__, \"..\", \"..\", \"..\", \"exess.jl\", \"src\", \"ExESS.jl\"))\n",
    "using .ExESS\n",
    "end\n",
    "@doc ExESS.zenith"
   ]
  },
  {
   "cell_type": "code",
   "execution_count": 28,
   "id": "24445e13",
   "metadata": {},
   "outputs": [
    {
     "data": {
      "text/latex": [
       "\\begin{verbatim}\n",
       "[1] zenith_cdf([S::Type], vd::AbstractVelocityDistribution, psi::Tuple{Real, Real})\n",
       "[2] zenith_cdf([S::Type], vd::AbstractVelocityDistribution, psi1::Real, psi2::Real)\n",
       "[3] zenith_cdf([S::Type], vd::AbstractVelocityDistribution, psi::Real)\n",
       "[4] zenith_cdf([S::Type], vd::AbstractVelocityDistribution, v1::AbstractVector, v2::AbstractVector)\n",
       "[5] zenith_cdf([S::Type], vd::AbstractVelocityDistribution, v::AbstractVector)\n",
       "[6] zenith_cdf([S::Type], vd::AbstractVelocityDistribution, v1::LocalCartesianVelocity, v2::LocalCartesianVelocity)\n",
       "[7] zenith_cdf([S::Type], vd::AbstractVelocityDistribution, v::LocalCartesianVelocity)\n",
       "\\end{verbatim}\n",
       "Computes the cumulative distribution function of the zenith angle of the velocity distribution \\texttt{vd}, between the zenith angles \\texttt{psi[1]}/\\texttt{psi1} and \\texttt{psi[2]}/\\texttt{psi2} (in [rad]). Should only one angle be given, the lower boundary is assumed to be lower boundary of the respective domain.\n",
       "\n",
       "** Notes**\n",
       "\n",
       "\\begin{itemize}\n",
       "\\item Domain of \\texttt{MaxwellBoltzmannVelocityDistribution} is \\texttt{[-pi/2, pi/2]}, thus, using [3,5,7], the lower boundary is \\texttt{-pi/2}.\n",
       "\n",
       "\n",
       "\\item Domain of \\texttt{MaxwellBoltzmannFluxVelocityDistribution} is \\texttt{[0, pi/2]}, thus, using [3,5,7], the lower boundary is \\texttt{0}.\n",
       "\n",
       "\\end{itemize}\n"
      ],
      "text/markdown": [
       "```\n",
       "[1] zenith_cdf([S::Type], vd::AbstractVelocityDistribution, psi::Tuple{Real, Real})\n",
       "[2] zenith_cdf([S::Type], vd::AbstractVelocityDistribution, psi1::Real, psi2::Real)\n",
       "[3] zenith_cdf([S::Type], vd::AbstractVelocityDistribution, psi::Real)\n",
       "[4] zenith_cdf([S::Type], vd::AbstractVelocityDistribution, v1::AbstractVector, v2::AbstractVector)\n",
       "[5] zenith_cdf([S::Type], vd::AbstractVelocityDistribution, v::AbstractVector)\n",
       "[6] zenith_cdf([S::Type], vd::AbstractVelocityDistribution, v1::LocalCartesianVelocity, v2::LocalCartesianVelocity)\n",
       "[7] zenith_cdf([S::Type], vd::AbstractVelocityDistribution, v::LocalCartesianVelocity)\n",
       "```\n",
       "\n",
       "Computes the cumulative distribution function of the zenith angle of the velocity distribution `vd`, between the zenith angles `psi[1]`/`psi1` and `psi[2]`/`psi2` (in [rad]). Should only one angle be given, the lower boundary is assumed to be lower boundary of the respective domain.\n",
       "\n",
       "** Notes**\n",
       "\n",
       "  * Domain of `MaxwellBoltzmannVelocityDistribution` is `[-pi/2, pi/2]`, thus, using [3,5,7], the lower boundary is `-pi/2`.\n",
       "  * Domain of `MaxwellBoltzmannFluxVelocityDistribution` is `[0, pi/2]`, thus, using [3,5,7], the lower boundary is `0`.\n"
      ],
      "text/plain": [
       "\u001b[36m  [1] zenith_cdf([S::Type], vd::AbstractVelocityDistribution, psi::Tuple{Real, Real})\u001b[39m\n",
       "\u001b[36m  [2] zenith_cdf([S::Type], vd::AbstractVelocityDistribution, psi1::Real, psi2::Real)\u001b[39m\n",
       "\u001b[36m  [3] zenith_cdf([S::Type], vd::AbstractVelocityDistribution, psi::Real)\u001b[39m\n",
       "\u001b[36m  [4] zenith_cdf([S::Type], vd::AbstractVelocityDistribution, v1::AbstractVector, v2::AbstractVector)\u001b[39m\n",
       "\u001b[36m  [5] zenith_cdf([S::Type], vd::AbstractVelocityDistribution, v::AbstractVector)\u001b[39m\n",
       "\u001b[36m  [6] zenith_cdf([S::Type], vd::AbstractVelocityDistribution, v1::LocalCartesianVelocity, v2::LocalCartesianVelocity)\u001b[39m\n",
       "\u001b[36m  [7] zenith_cdf([S::Type], vd::AbstractVelocityDistribution, v::LocalCartesianVelocity)\u001b[39m\n",
       "\n",
       "  Computes the cumulative distribution function of the zenith angle of the\n",
       "  velocity distribution \u001b[36mvd\u001b[39m, between the zenith angles \u001b[36mpsi[1]\u001b[39m/\u001b[36mpsi1\u001b[39m and\n",
       "  \u001b[36mpsi[2]\u001b[39m/\u001b[36mpsi2\u001b[39m (in [rad]). Should only one angle be given, the lower boundary\n",
       "  is assumed to be lower boundary of the respective domain.\n",
       "\n",
       "  ** Notes**\n",
       "\n",
       "    •  Domain of \u001b[36mMaxwellBoltzmannVelocityDistribution\u001b[39m is \u001b[36m[-pi/2, pi/2]\u001b[39m,\n",
       "       thus, using [3,5,7], the lower boundary is \u001b[36m-pi/2\u001b[39m.\n",
       "\n",
       "    •  Domain of \u001b[36mMaxwellBoltzmannFluxVelocityDistribution\u001b[39m is \u001b[36m[0, pi/2]\u001b[39m,\n",
       "       thus, using [3,5,7], the lower boundary is \u001b[36m0\u001b[39m."
      ]
     },
     "execution_count": 58,
     "metadata": {},
     "output_type": "execute_result"
    }
   ],
   "source": [
    "#| echo: false\n",
    "if !isdefined(Main, :ExESS)\n",
    "include(joinpath(@__DIR__, \"..\", \"..\", \"..\", \"exess.jl\", \"src\", \"ExESS.jl\"))\n",
    "using .ExESS\n",
    "end\n",
    "@doc ExESS.zenith_cdf"
   ]
  },
  {
   "cell_type": "code",
   "execution_count": 29,
   "id": "d7d77122",
   "metadata": {},
   "outputs": [
    {
     "data": {
      "text/latex": [
       "\\begin{verbatim}\n",
       "[1] zenith_pdf([S::Type], vd::AbstractVelocityDistribution, psi::Real)\n",
       "[2] zenith_pdf([S::Type], vd::AbstractVelocityDistribution, v::AbstractVector)\n",
       "[3] zenith_pdf([S::Type], vd::AbstractVelocityDistribution, v::LocalCartesianVelocity)\n",
       "\\end{verbatim}\n",
       "Calculates the probability density of the zenith angle of the velocity distribution \\texttt{vd}, at the zenith angle \\texttt{psi} (in [rad]). Alternatively, the probability density can be calculated at a velocity vector \\texttt{v} (in [m s-1]) or a \\texttt{LocalCartesianVelocity} \\texttt{v} (in [m s-1]). Note that for  [2] the vector assumes a local cartesian coordinate system (see \\texttt{LocalCartesianVelocity}).\n",
       "\n"
      ],
      "text/markdown": [
       "```\n",
       "[1] zenith_pdf([S::Type], vd::AbstractVelocityDistribution, psi::Real)\n",
       "[2] zenith_pdf([S::Type], vd::AbstractVelocityDistribution, v::AbstractVector)\n",
       "[3] zenith_pdf([S::Type], vd::AbstractVelocityDistribution, v::LocalCartesianVelocity)\n",
       "```\n",
       "\n",
       "Calculates the probability density of the zenith angle of the velocity distribution `vd`, at the zenith angle `psi` (in [rad]). Alternatively, the probability density can be calculated at a velocity vector `v` (in [m s-1]) or a `LocalCartesianVelocity` `v` (in [m s-1]). Note that for  [2] the vector assumes a local cartesian coordinate system (see `LocalCartesianVelocity`).\n"
      ],
      "text/plain": [
       "\u001b[36m  [1] zenith_pdf([S::Type], vd::AbstractVelocityDistribution, psi::Real)\u001b[39m\n",
       "\u001b[36m  [2] zenith_pdf([S::Type], vd::AbstractVelocityDistribution, v::AbstractVector)\u001b[39m\n",
       "\u001b[36m  [3] zenith_pdf([S::Type], vd::AbstractVelocityDistribution, v::LocalCartesianVelocity)\u001b[39m\n",
       "\n",
       "  Calculates the probability density of the zenith angle of the velocity\n",
       "  distribution \u001b[36mvd\u001b[39m, at the zenith angle \u001b[36mpsi\u001b[39m (in [rad]). Alternatively, the\n",
       "  probability density can be calculated at a velocity vector \u001b[36mv\u001b[39m (in [m s-1]) or\n",
       "  a \u001b[36mLocalCartesianVelocity\u001b[39m \u001b[36mv\u001b[39m (in [m s-1]). Note that for [2] the vector\n",
       "  assumes a local cartesian coordinate system (see \u001b[36mLocalCartesianVelocity\u001b[39m)."
      ]
     },
     "execution_count": 59,
     "metadata": {},
     "output_type": "execute_result"
    }
   ],
   "source": [
    "#| echo: false\n",
    "if !isdefined(Main, :ExESS)\n",
    "include(joinpath(@__DIR__, \"..\", \"..\", \"..\", \"exess.jl\", \"src\", \"ExESS.jl\"))\n",
    "using .ExESS\n",
    "end\n",
    "@doc ExESS.zenith_pdf"
   ]
  }
 ],
 "metadata": {
  "kernelspec": {
   "display_name": "Julia 1.9.3",
   "language": "julia",
   "name": "julia-1.9"
  }
 },
 "nbformat": 4,
 "nbformat_minor": 5
}