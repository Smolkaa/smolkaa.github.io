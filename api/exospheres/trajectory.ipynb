{
  "cells": [
    {
      "cell_type": "raw",
      "metadata": {},
      "source": [
        "---\n",
        "title: \"Trajectory\"\n",
        "---"
      ],
      "id": "f18030c0"
    },
    {
      "cell_type": "markdown",
      "metadata": {},
      "source": [
        "---\n",
        "\n",
        "A more in-depth description of the implemented functions listed below can be found in the following sections:\n",
        "\n",
        "* [Ballistic Trajectories](/documentation/trajectories/ballistic_trajectories.qmd)\n",
        "* [Non-Ballistic Trajectories](/documentation/trajectories/non-ballistic_trajectories.qmd)\n",
        "\n",
        "\n",
        "## Usage\n",
        "\n",
        "```julia\n",
        "x0 = GlobalCartesianPosition(LUNAR_RADIUS, 0, 0)\n",
        "v0 = GlobalCartesianVelocity(100, 0, 0)\n",
        "ddx = ddx_lunar_gravity\n",
        "traj = trajectory(x0, v0, ddx)\n",
        "```\n",
        "\n",
        "\n",
        "## Examples\n",
        "\n",
        "::: {.callout-note collapse=\"true\" icon=false}\n",
        "\n",
        "# 3D Ballistic Trajectory Calculation"
      ],
      "id": "31c91db9"
    },
    {
      "cell_type": "code",
      "metadata": {},
      "source": [
        "#| echo: false\n",
        "#| output: false\n",
        "path_to_exess = joinpath(@__DIR__, \"..\", \"..\", \"..\", \"exess.jl\", \"src\", \"ExESS.jl\")"
      ],
      "id": "18863621",
      "execution_count": null,
      "outputs": []
    },
    {
      "cell_type": "markdown",
      "metadata": {},
      "source": [
        "## Preparation\n",
        "\n",
        "Firstly, the following examples were executed using the following Julia version:"
      ],
      "id": "f2191f00"
    },
    {
      "cell_type": "code",
      "metadata": {},
      "source": [
        "versioninfo()"
      ],
      "id": "a5d490b7",
      "execution_count": null,
      "outputs": []
    },
    {
      "cell_type": "markdown",
      "metadata": {},
      "source": [
        "Next, the locally available ExESS package has to be loaded to access the `trajectory` function:"
      ],
      "id": "46a707ed"
    },
    {
      "cell_type": "code",
      "metadata": {},
      "source": [
        "#| output: false\n",
        "include(path_to_exess)\n",
        "using .ExESS"
      ],
      "id": "05b7c787",
      "execution_count": null,
      "outputs": []
    },
    {
      "cell_type": "markdown",
      "metadata": {},
      "source": [
        "## Inputs\n",
        "\n",
        "Let us define all required inputs for the trajectory calculation. If you are unsure about how the function works, you can type `julia> ?trajectory` in the REPL to get a description of the function and its arguments.\n",
        "\n",
        "Apart from the key-word arguments, the function requires the following inputs:\n",
        "\n",
        "* `x0`: Initial position vector in Cartesian coordinates (m)\n",
        "* `v0`: Initial velocity vector in Cartesian coordinates (m/s)\n",
        "* `ddx`: Acceleration function (m/s2)\n",
        "\n",
        "The docstring (see `?trajectory`) shows that these inputs can be of different types, either vectors (`AbstractVector`) or positions (`AbstractPosition`). The latter are custom types defined in the ExESS package to distinguish one three-dimensional in a certain coordinate space from another. The following example shows how to use the `GlobalCartesianPosition`.\n",
        "\n",
        "We create a `GlobalCartesianPosition` object with the initial position vector, located at `[LUNAR_RADIUS, 0, 0]`, in other words: on the surface of a sphere with radius `LUNAR_RADIUS`."
      ],
      "id": "e81a99f8"
    },
    {
      "cell_type": "code",
      "metadata": {},
      "source": [
        "x0 = GlobalCartesianPosition(LUNAR_RADIUS, 0, 0)"
      ],
      "id": "38f8ef54",
      "execution_count": null,
      "outputs": []
    },
    {
      "cell_type": "markdown",
      "metadata": {},
      "source": [
        "Next, the initial velocity vector is defined. We use the `GlobalCartesianVelocity` type to define a velocity vector in the same coordinate system as the position vector. Here, we only use a velocity in the x-direction, with a magnitude of `100 m/s`."
      ],
      "id": "3576e7e3"
    },
    {
      "cell_type": "code",
      "metadata": {},
      "source": [
        "v0 = GlobalCartesianVelocity(100, 0, 0)"
      ],
      "id": "fe161bcf",
      "execution_count": null,
      "outputs": []
    },
    {
      "cell_type": "markdown",
      "metadata": {},
      "source": [
        "Without letting the trajectory calculation run, we can review the initial conditions set. Both the position and the velocity vector are set in the same coordinate system and have non-zero components only in the x-direction. For purely gravitational accelerations, the trajectory should therefore be a straight line in the x-direction.\n",
        "\n",
        "We can test these assumptions by using the `ddx_lunar_gravity` function, which is a predefined acceleration function for the gravitational acceleration of the Moon. It already has the Moon's mass and radius defined, so we can use it directly as is. Note that it assumes that every other acceleration is negligible, which might not be true for charged particles in electromagnetic fields."
      ],
      "id": "1244e4fb"
    },
    {
      "cell_type": "code",
      "metadata": {},
      "source": [
        "ddx = ddx_lunar_gravity"
      ],
      "id": "a10dcc8b",
      "execution_count": null,
      "outputs": []
    },
    {
      "cell_type": "markdown",
      "metadata": {},
      "source": [
        "## Solve the Trajectory\n",
        "\n",
        "Finally, we have all the required inputs to calculate the trajectory. Let's call the function and save the solution in a variable called `traj`."
      ],
      "id": "70951931"
    },
    {
      "cell_type": "code",
      "metadata": {},
      "source": [
        "traj = trajectory(x0, v0, ddx)"
      ],
      "id": "348de194",
      "execution_count": null,
      "outputs": []
    },
    {
      "cell_type": "markdown",
      "metadata": {},
      "source": [
        ":::\n",
        "\n",
        "## API\n",
        "\n",
        "::: {.callout-note appearance=\"simple\" icon=false}\n",
        "# ``landing_position`` -- Function"
      ],
      "id": "e56c24e1"
    },
    {
      "cell_type": "code",
      "metadata": {},
      "source": [
        "#| echo: false\n",
        "if !isdefined(Main, :ExESS)\n",
        "include(joinpath(@__DIR__, \"..\", \"..\", \"..\", \"exess.jl\", \"src\", \"ExESS.jl\"))\n",
        "using .ExESS\n",
        "end\n",
        "@doc ExESS.landing_position"
      ],
      "id": "c930a267",
      "execution_count": null,
      "outputs": []
    },
    {
      "cell_type": "markdown",
      "metadata": {},
      "source": [
        ":::\n",
        "\n",
        "::: {.callout-note appearance=\"simple\" icon=false}\n",
        "# ``trajectory`` -- Function"
      ],
      "id": "c092bbed"
    },
    {
      "cell_type": "code",
      "metadata": {},
      "source": [
        "#| echo: false\n",
        "if !isdefined(Main, :ExESS)\n",
        "include(joinpath(@__DIR__, \"..\", \"..\", \"..\", \"exess.jl\", \"src\", \"ExESS.jl\"))\n",
        "using .ExESS\n",
        "end\n",
        "@doc ExESS.trajectory"
      ],
      "id": "6aa7110a",
      "execution_count": null,
      "outputs": []
    },
    {
      "cell_type": "markdown",
      "metadata": {},
      "source": [
        ":::\n",
        "\n",
        "\n",
        "::: {.callout-note appearance=\"simple\" icon=false}\n",
        "# ``ddx_lunar_gravity`` -- Function"
      ],
      "id": "908a4414"
    },
    {
      "cell_type": "code",
      "metadata": {},
      "source": [
        "#| echo: false\n",
        "if !isdefined(Main, :ExESS)\n",
        "include(joinpath(@__DIR__, \"..\", \"..\", \"..\", \"exess.jl\", \"src\", \"ExESS.jl\"))\n",
        "using .ExESS\n",
        "end\n",
        "@doc ExESS.ddx_lunar_gravity"
      ],
      "id": "cdc2762d",
      "execution_count": null,
      "outputs": []
    },
    {
      "cell_type": "markdown",
      "metadata": {},
      "source": [
        ":::\n",
        "\n",
        "\n",
        "## Benchmarks\n",
        "\n",
        "{{< include ../../../exess.jl/test/benchmarks/exospheres/__trajectory__.md >}}"
      ],
      "id": "f6754c7b"
    }
  ],
  "metadata": {
    "kernelspec": {
      "name": "julia-1.9",
      "language": "julia",
      "display_name": "Julia 1.9.3"
    }
  },
  "nbformat": 4,
  "nbformat_minor": 5
}