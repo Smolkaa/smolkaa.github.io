{
 "cells": [
  {
   "cell_type": "code",
   "execution_count": 1,
   "id": "565d0b65",
   "metadata": {},
   "outputs": [],
   "source": [
    "import IJulia\n",
    "\n",
    "# The julia kernel has built in support for Revise.jl, so this is the \n",
    "# recommended approach for long-running sessions:\n",
    "# https://github.com/JuliaLang/IJulia.jl/blob/9b10fa9b879574bbf720f5285029e07758e50a5e/src/kernel.jl#L46-L51\n",
    "\n",
    "# Users should enable revise within .julia/config/startup_ijulia.jl:\n",
    "# https://timholy.github.io/Revise.jl/stable/config/#Using-Revise-automatically-within-Jupyter/IJulia-1\n",
    "\n",
    "# clear console history\n",
    "IJulia.clear_history()\n",
    "\n",
    "fig_width = 7\n",
    "fig_height = 5\n",
    "fig_format = :retina\n",
    "fig_dpi = 96\n",
    "\n",
    "# no retina format type, use svg for high quality type/marks\n",
    "if fig_format == :retina\n",
    "  fig_format = :svg\n",
    "elseif fig_format == :pdf\n",
    "  fig_dpi = 96\n",
    "  # Enable PDF support for IJulia\n",
    "  IJulia.register_mime(MIME(\"application/pdf\"))\n",
    "end\n",
    "\n",
    "# convert inches to pixels\n",
    "fig_width = fig_width * fig_dpi\n",
    "fig_height = fig_height * fig_dpi\n",
    "\n",
    "# Intialize Plots w/ default fig width/height\n",
    "try\n",
    "  import Plots\n",
    "\n",
    "  # Plots.jl doesn't support PDF output for versions < 1.28.1\n",
    "  # so use png (if the DPI remains the default of 300 then set to 96)\n",
    "  if (Plots._current_plots_version < v\"1.28.1\") & (fig_format == :pdf)\n",
    "    Plots.gr(size=(fig_width, fig_height), fmt = :png, dpi = fig_dpi)\n",
    "  else\n",
    "    Plots.gr(size=(fig_width, fig_height), fmt = fig_format, dpi = fig_dpi)\n",
    "  end\n",
    "catch e\n",
    "  # @warn \"Plots init\" exception=(e, catch_backtrace())\n",
    "end\n",
    "\n",
    "# Initialize CairoMakie with default fig width/height\n",
    "try\n",
    "  import CairoMakie\n",
    "  \n",
    "  CairoMakie.activate!(type = string(fig_format))\n",
    "  CairoMakie.update_theme!(resolution=(fig_width, fig_height))\n",
    "catch e\n",
    "    # @warn \"CairoMakie init\" exception=(e, catch_backtrace())\n",
    "end\n",
    "  \n",
    "# Set run_path if specified\n",
    "try\n",
    "  run_path = raw\"C:\\Users\\alex\\Documents\\repos\\exess\\smolkaa.github.io\\api\\exospheres\"\n",
    "  if !isempty(run_path)\n",
    "    cd(run_path)\n",
    "  end\n",
    "catch e\n",
    "  @warn \"Run path init:\" exception=(e, catch_backtrace())\n",
    "end\n",
    "\n",
    "\n",
    "# emulate old Pkg.installed beahvior, see\n",
    "# https://discourse.julialang.org/t/how-to-use-pkg-dependencies-instead-of-pkg-installed/36416/9\n",
    "import Pkg\n",
    "function isinstalled(pkg::String)\n",
    "  any(x -> x.name == pkg && x.is_direct_dep, values(Pkg.dependencies()))\n",
    "end\n",
    "\n",
    "# ojs_define\n",
    "if isinstalled(\"JSON\") && isinstalled(\"DataFrames\")\n",
    "  import JSON, DataFrames\n",
    "  global function ojs_define(; kwargs...)\n",
    "    convert(x) = x\n",
    "    convert(x::DataFrames.AbstractDataFrame) = Tables.rows(x)\n",
    "    content = Dict(\"contents\" => [Dict(\"name\" => k, \"value\" => convert(v)) for (k, v) in kwargs])\n",
    "    tag = \"<script type='ojs-define'>$(JSON.json(content))</script>\"\n",
    "    IJulia.display(MIME(\"text/html\"), tag)\n",
    "  end\n",
    "elseif isinstalled(\"JSON\")\n",
    "  import JSON\n",
    "  global function ojs_define(; kwargs...)\n",
    "    content = Dict(\"contents\" => [Dict(\"name\" => k, \"value\" => v) for (k, v) in kwargs])\n",
    "    tag = \"<script type='ojs-define'>$(JSON.json(content))</script>\"\n",
    "    IJulia.display(MIME(\"text/html\"), tag)\n",
    "  end\n",
    "else\n",
    "  global function ojs_define(; kwargs...)\n",
    "    @warn \"JSON package not available. Please install the JSON.jl package to use ojs_define.\"\n",
    "  end\n",
    "end\n",
    "\n",
    "\n",
    "# don't return kernel dependencies (b/c Revise should take care of dependencies)\n",
    "nothing\n"
   ]
  },
  {
   "cell_type": "code",
   "execution_count": 2,
   "id": "e71e089b",
   "metadata": {},
   "outputs": [
    {
     "data": {
      "text/latex": [
       "\\begin{verbatim}\n",
       "[1] escape_velocity(r::Real, m::Real)\n",
       "\\end{verbatim}\n",
       "Calculates the magnitude of the escape velocity for an orbital radius \\texttt{r} and body mass \\texttt{m}.\n",
       "\n"
      ],
      "text/markdown": [
       "```\n",
       "[1] escape_velocity(r::Real, m::Real)\n",
       "```\n",
       "\n",
       "Calculates the magnitude of the escape velocity for an orbital radius `r` and body mass `m`.\n"
      ],
      "text/plain": [
       "\u001b[36m  [1] escape_velocity(r::Real, m::Real)\u001b[39m\n",
       "\n",
       "  Calculates the magnitude of the escape velocity for an orbital radius \u001b[36mr\u001b[39m and\n",
       "  body mass \u001b[36mm\u001b[39m."
      ]
     },
     "execution_count": 2,
     "metadata": {},
     "output_type": "execute_result"
    }
   ],
   "source": [
    "#| echo: false\n",
    "if !isdefined(Main, :ExESS)\n",
    "include(joinpath(@__DIR__, \"..\", \"..\", \"..\", \"exess.jl\", \"src\", \"ExESS.jl\"))\n",
    "using .ExESS\n",
    "end\n",
    "@doc ExESS.escape_velocity"
   ]
  },
  {
   "cell_type": "code",
   "execution_count": 3,
   "id": "bb3ceefe",
   "metadata": {},
   "outputs": [
    {
     "data": {
      "text/latex": [
       "\\begin{verbatim}\n",
       "[1] scale_height(T, m::Real; R::Real=LUNAR_RADIUS, M::Real=LUNAR_MASS)\n",
       "\\end{verbatim}\n",
       "Calculates the scale height of a particle with mass \\texttt{m}, given the thermal energy based on the thermodynamic equilibrium temperature \\texttt{T}, in the exosphere of a planetary body with radius \\texttt{R} and mass \\texttt{M}.\n",
       "\n",
       "Default values for the planetary body are corresponding to the Moon.\n",
       "\n"
      ],
      "text/markdown": [
       "```\n",
       "[1] scale_height(T, m::Real; R::Real=LUNAR_RADIUS, M::Real=LUNAR_MASS)\n",
       "```\n",
       "\n",
       "Calculates the scale height of a particle with mass `m`, given the thermal energy based on the thermodynamic equilibrium temperature `T`, in the exosphere of a planetary body with radius `R` and mass `M`.\n",
       "\n",
       "Default values for the planetary body are corresponding to the Moon.\n"
      ],
      "text/plain": [
       "\u001b[36m  [1] scale_height(T, m::Real; R::Real=LUNAR_RADIUS, M::Real=LUNAR_MASS)\u001b[39m\n",
       "\n",
       "  Calculates the scale height of a particle with mass \u001b[36mm\u001b[39m, given the thermal\n",
       "  energy based on the thermodynamic equilibrium temperature \u001b[36mT\u001b[39m, in the\n",
       "  exosphere of a planetary body with radius \u001b[36mR\u001b[39m and mass \u001b[36mM\u001b[39m.\n",
       "\n",
       "  Default values for the planetary body are corresponding to the Moon."
      ]
     },
     "execution_count": 3,
     "metadata": {},
     "output_type": "execute_result"
    }
   ],
   "source": [
    "#| echo: false\n",
    "if !isdefined(Main, :ExESS)\n",
    "include(joinpath(@__DIR__, \"..\", \"..\", \"..\", \"exess.jl\", \"src\", \"ExESS.jl\"))\n",
    "using .ExESS\n",
    "end\n",
    "@doc ExESS.scale_height"
   ]
  },
  {
   "cell_type": "code",
   "execution_count": 4,
   "id": "f7551a9c",
   "metadata": {},
   "outputs": [
    {
     "data": {
      "text/latex": [
       "\\begin{verbatim}\n",
       "[1] projection_CHAMBERLAIN1963(n1::Real, r1::Real, r2::Real, T::Real, m::Real; M::Real=LUNAR_MASS)\n",
       "\\end{verbatim}\n",
       "Calculates the number density of particles of mass \\texttt{m} at radial distance \\texttt{r2} given the  number density \\texttt{n1} at radial distance \\texttt{r1}, assuming constant temperature \\texttt{T}.\n",
       "\n",
       "Assumes hydrostatic equilibrium and perfect-gas law with isotropic gas pressure, resulting in the generalized form of the isothermal barometric law. The calculation is based on the  equation (14) in Chamberlain (1963).\n",
       "\n",
       "\\textbf{Rerences}\n",
       "\n",
       "\\begin{itemize}\n",
       "\\item Chamberlain, 1963, \"Planetary coronae and atmospheric evaporation\"\n",
       "\n",
       "\n",
       "\\item Cook et al. 2013, \"New upper limits on numerous atmospheric species in the native lunar atmosphere\"\n",
       "\n",
       "\\end{itemize}\n"
      ],
      "text/markdown": [
       "```\n",
       "[1] projection_CHAMBERLAIN1963(n1::Real, r1::Real, r2::Real, T::Real, m::Real; M::Real=LUNAR_MASS)\n",
       "```\n",
       "\n",
       "Calculates the number density of particles of mass `m` at radial distance `r2` given the  number density `n1` at radial distance `r1`, assuming constant temperature `T`.\n",
       "\n",
       "Assumes hydrostatic equilibrium and perfect-gas law with isotropic gas pressure, resulting in the generalized form of the isothermal barometric law. The calculation is based on the  equation (14) in Chamberlain (1963).\n",
       "\n",
       "**Rerences**\n",
       "\n",
       "  * Chamberlain, 1963, \"Planetary coronae and atmospheric evaporation\"\n",
       "  * Cook et al. 2013, \"New upper limits on numerous atmospheric species in the native lunar atmosphere\"\n"
      ],
      "text/plain": [
       "\u001b[36m  [1] projection_CHAMBERLAIN1963(n1::Real, r1::Real, r2::Real, T::Real, m::Real; M::Real=LUNAR_MASS)\u001b[39m\n",
       "\n",
       "  Calculates the number density of particles of mass \u001b[36mm\u001b[39m at radial distance \u001b[36mr2\u001b[39m\n",
       "  given the number density \u001b[36mn1\u001b[39m at radial distance \u001b[36mr1\u001b[39m, assuming constant\n",
       "  temperature \u001b[36mT\u001b[39m.\n",
       "\n",
       "  Assumes hydrostatic equilibrium and perfect-gas law with isotropic gas\n",
       "  pressure, resulting in the generalized form of the isothermal barometric\n",
       "  law. The calculation is based on the equation (14) in Chamberlain (1963).\n",
       "\n",
       "  \u001b[1mRerences\u001b[22m\n",
       "\n",
       "    •  Chamberlain, 1963, \"Planetary coronae and atmospheric evaporation\"\n",
       "\n",
       "    •  Cook et al. 2013, \"New upper limits on numerous atmospheric\n",
       "       species in the native lunar atmosphere\""
      ]
     },
     "execution_count": 4,
     "metadata": {},
     "output_type": "execute_result"
    }
   ],
   "source": [
    "#| echo: false\n",
    "if !isdefined(Main, :ExESS)\n",
    "include(joinpath(@__DIR__, \"..\", \"..\", \"..\", \"exess.jl\", \"src\", \"ExESS.jl\"))\n",
    "using .ExESS\n",
    "end\n",
    "@doc ExESS.projection_CHAMBERLAIN1963"
   ]
  }
 ],
 "metadata": {
  "kernelspec": {
   "display_name": "Julia 1.9.3",
   "language": "julia",
   "name": "julia-1.9"
  },
  "language_info": {
   "file_extension": ".jl",
   "mimetype": "application/julia",
   "name": "julia",
   "version": "1.9.3"
  }
 },
 "nbformat": 4,
 "nbformat_minor": 5
}