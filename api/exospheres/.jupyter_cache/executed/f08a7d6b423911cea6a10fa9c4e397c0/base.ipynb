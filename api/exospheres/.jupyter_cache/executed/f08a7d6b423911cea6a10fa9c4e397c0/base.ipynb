{
 "cells": [
  {
   "cell_type": "code",
   "execution_count": 1,
   "id": "13642667",
   "metadata": {},
   "outputs": [],
   "source": [
    "import IJulia\n",
    "\n",
    "# The julia kernel has built in support for Revise.jl, so this is the \n",
    "# recommended approach for long-running sessions:\n",
    "# https://github.com/JuliaLang/IJulia.jl/blob/9b10fa9b879574bbf720f5285029e07758e50a5e/src/kernel.jl#L46-L51\n",
    "\n",
    "# Users should enable revise within .julia/config/startup_ijulia.jl:\n",
    "# https://timholy.github.io/Revise.jl/stable/config/#Using-Revise-automatically-within-Jupyter/IJulia-1\n",
    "\n",
    "# clear console history\n",
    "IJulia.clear_history()\n",
    "\n",
    "fig_width = 7\n",
    "fig_height = 5\n",
    "fig_format = :retina\n",
    "fig_dpi = 96\n",
    "\n",
    "# no retina format type, use svg for high quality type/marks\n",
    "if fig_format == :retina\n",
    "  fig_format = :svg\n",
    "elseif fig_format == :pdf\n",
    "  fig_dpi = 96\n",
    "  # Enable PDF support for IJulia\n",
    "  IJulia.register_mime(MIME(\"application/pdf\"))\n",
    "end\n",
    "\n",
    "# convert inches to pixels\n",
    "fig_width = fig_width * fig_dpi\n",
    "fig_height = fig_height * fig_dpi\n",
    "\n",
    "# Intialize Plots w/ default fig width/height\n",
    "try\n",
    "  import Plots\n",
    "\n",
    "  # Plots.jl doesn't support PDF output for versions < 1.28.1\n",
    "  # so use png (if the DPI remains the default of 300 then set to 96)\n",
    "  if (Plots._current_plots_version < v\"1.28.1\") & (fig_format == :pdf)\n",
    "    Plots.gr(size=(fig_width, fig_height), fmt = :png, dpi = fig_dpi)\n",
    "  else\n",
    "    Plots.gr(size=(fig_width, fig_height), fmt = fig_format, dpi = fig_dpi)\n",
    "  end\n",
    "catch e\n",
    "  # @warn \"Plots init\" exception=(e, catch_backtrace())\n",
    "end\n",
    "\n",
    "# Initialize CairoMakie with default fig width/height\n",
    "try\n",
    "  import CairoMakie\n",
    "\n",
    "  # CairoMakie's display() in PDF format opens an interactive window\n",
    "  # instead of saving to the ipynb file, so we don't do that.\n",
    "  # https://github.com/quarto-dev/quarto-cli/issues/7548\n",
    "  if fig_format == :pdf\n",
    "    CairoMakie.activate!(type = \"png\")\n",
    "  else\n",
    "    CairoMakie.activate!(type = string(fig_format))\n",
    "  end\n",
    "  CairoMakie.update_theme!(resolution=(fig_width, fig_height))\n",
    "catch e\n",
    "    # @warn \"CairoMakie init\" exception=(e, catch_backtrace())\n",
    "end\n",
    "  \n",
    "# Set run_path if specified\n",
    "try\n",
    "  run_path = raw\"/home/asmolka/repos/exess/smolkaa.github.io/api/exospheres\"\n",
    "  if !isempty(run_path)\n",
    "    cd(run_path)\n",
    "  end\n",
    "catch e\n",
    "  @warn \"Run path init:\" exception=(e, catch_backtrace())\n",
    "end\n",
    "\n",
    "\n",
    "# emulate old Pkg.installed beahvior, see\n",
    "# https://discourse.julialang.org/t/how-to-use-pkg-dependencies-instead-of-pkg-installed/36416/9\n",
    "import Pkg\n",
    "function isinstalled(pkg::String)\n",
    "  any(x -> x.name == pkg && x.is_direct_dep, values(Pkg.dependencies()))\n",
    "end\n",
    "\n",
    "# ojs_define\n",
    "if isinstalled(\"JSON\") && isinstalled(\"DataFrames\")\n",
    "  import JSON, DataFrames\n",
    "  global function ojs_define(; kwargs...)\n",
    "    convert(x) = x\n",
    "    convert(x::DataFrames.AbstractDataFrame) = Tables.rows(x)\n",
    "    content = Dict(\"contents\" => [Dict(\"name\" => k, \"value\" => convert(v)) for (k, v) in kwargs])\n",
    "    tag = \"<script type='ojs-define'>$(JSON.json(content))</script>\"\n",
    "    IJulia.display(MIME(\"text/html\"), tag)\n",
    "  end\n",
    "elseif isinstalled(\"JSON\")\n",
    "  import JSON\n",
    "  global function ojs_define(; kwargs...)\n",
    "    content = Dict(\"contents\" => [Dict(\"name\" => k, \"value\" => v) for (k, v) in kwargs])\n",
    "    tag = \"<script type='ojs-define'>$(JSON.json(content))</script>\"\n",
    "    IJulia.display(MIME(\"text/html\"), tag)\n",
    "  end\n",
    "else\n",
    "  global function ojs_define(; kwargs...)\n",
    "    @warn \"JSON package not available. Please install the JSON.jl package to use ojs_define.\"\n",
    "  end\n",
    "end\n",
    "\n",
    "\n",
    "# don't return kernel dependencies (b/c Revise should take care of dependencies)\n",
    "nothing\n"
   ]
  },
  {
   "cell_type": "code",
   "execution_count": 2,
   "id": "e3a5c99e",
   "metadata": {},
   "outputs": [
    {
     "data": {
      "text/plain": [
       "\"/home/asmolka/repos/exess/smolkaa.github.io/api/exospheres/../../../exess.jl/src/ExESS.jl\""
      ]
     },
     "execution_count": 2,
     "metadata": {},
     "output_type": "execute_result"
    }
   ],
   "source": [
    "#| echo: false\n",
    "#| output: false\n",
    "path_to_exess = joinpath(@__DIR__, \"..\", \"..\", \"..\", \"exess.jl\", \"src\", \"ExESS.jl\")"
   ]
  },
  {
   "cell_type": "code",
   "execution_count": 3,
   "id": "bbe89acf",
   "metadata": {},
   "outputs": [
    {
     "name": "stdout",
     "output_type": "stream",
     "text": [
      "Julia Version 1.10.0\n",
      "Commit 3120989f39b (2023-12-25 18:01 UTC)\n",
      "Build Info:\n",
      "  Official https://julialang.org/ release\n",
      "Platform Info:\n",
      "  OS: Linux (x86_64-linux-gnu)\n",
      "  CPU: 8 × Intel(R) Core(TM) i5-8265U CPU @ 1.60GHz\n",
      "  WORD_SIZE: 64\n",
      "  LIBM: libopenlibm\n",
      "  LLVM: libLLVM-15.0.7 (ORCJIT, skylake)\n",
      "  Threads: 2 on 8 virtual cores\n"
     ]
    }
   ],
   "source": [
    "versioninfo()"
   ]
  },
  {
   "cell_type": "code",
   "execution_count": 4,
   "id": "3afd1030",
   "metadata": {},
   "outputs": [],
   "source": [
    "#| output: false\n",
    "include(path_to_exess)\n",
    "using .ExESS"
   ]
  },
  {
   "cell_type": "code",
   "execution_count": 5,
   "id": "3009256b",
   "metadata": {},
   "outputs": [
    {
     "data": {
      "text/plain": [
       "GlobalCartesianPosition{Float64}(1.7374e6, 0.0, 0.0)"
      ]
     },
     "execution_count": 5,
     "metadata": {},
     "output_type": "execute_result"
    }
   ],
   "source": [
    "x0 = GlobalCartesianPosition(LUNAR_RADIUS, 0, 0)"
   ]
  },
  {
   "cell_type": "code",
   "execution_count": 6,
   "id": "f4eb377a",
   "metadata": {},
   "outputs": [
    {
     "data": {
      "text/plain": [
       "GlobalCartesianVelocity{Float64}(100.0, 0.0, 0.0)"
      ]
     },
     "execution_count": 6,
     "metadata": {},
     "output_type": "execute_result"
    }
   ],
   "source": [
    "v0 = GlobalCartesianVelocity(100, 0, 0)"
   ]
  },
  {
   "cell_type": "code",
   "execution_count": 7,
   "id": "8aa1ed93",
   "metadata": {},
   "outputs": [
    {
     "data": {
      "text/plain": [
       "ddx_gravity (generic function with 6 methods)"
      ]
     },
     "execution_count": 7,
     "metadata": {},
     "output_type": "execute_result"
    }
   ],
   "source": [
    "ddx = ddx_gravity"
   ]
  },
  {
   "cell_type": "code",
   "execution_count": 8,
   "id": "066af329",
   "metadata": {},
   "outputs": [
    {
     "data": {
      "text/plain": [
       "retcode: Terminated\n",
       "Interpolation: specialized 4th order \"free\" interpolation\n",
       "t: 7-element Vector{Float32}:\n",
       "   0.0\n",
       "   0.17253026\n",
       "   1.897833\n",
       "  19.15086\n",
       "  89.02362\n",
       " 125.11684\n",
       " 125.11684\n",
       "u: 7-element Vector{RecursiveArrayTools.ArrayPartition{Float64, Tuple{StaticArraysCore.SVector{3, Float64}, StaticArraysCore.SVector{3, Float64}}}}:\n",
       " ([100.0, 0.0, 0.0], [1.737401e6, 0.0, 0.0])\n",
       " ([99.72352819548777, 0.0, 0.0], [1.7374182291764107e6, 0.0, 0.0])\n",
       " ([96.95910868428572, 0.0, 0.0], [1.737587897640642e6, 0.0, 0.0])\n",
       " ([69.34166361242546, 0.0, 0.0], [1.7390224279588673e6, 0.0, 0.0])\n",
       " ([-42.274534222943544, 0.0, 0.0], [1.739967349345177e6, 0.0, 0.0])\n",
       " ([-100.01604689214057, 0.0, 0.0], [1.7374e6, 0.0, 0.0])\n",
       " ([-100.01604689214057, 0.0, 0.0], [1.7374e6, 0.0, 0.0])"
      ]
     },
     "execution_count": 8,
     "metadata": {},
     "output_type": "execute_result"
    }
   ],
   "source": [
    "traj = trajectory(x0, v0, ddx)"
   ]
  },
  {
   "cell_type": "code",
   "execution_count": 9,
   "id": "312683e8",
   "metadata": {},
   "outputs": [
    {
     "data": {
      "text/latex": [
       "\\begin{verbatim}\n",
       "[1] landing_position(x0::Tuple, v0::Tuple; kwargs...)\n",
       "[2] landing_position(x0::AbstractVector, v0::AbstractVector; kwargs...)\n",
       "[3] landing_position(x0::AbstractPosition, v0::AbstractVelocity; kwargs...)\n",
       "\\end{verbatim}\n",
       "Calculates the landing position of a particle starting at position \\texttt{x0} (global spherical coordinates: radius, longitude, latitude), with initial velocity \\texttt{v0} (local cartesian coordinates: x (east), y (north), z (up)), flying on a ballistic trajectory, i.e., only influenced by graviational forces.\n",
       "\n",
       "Returns the landing position as a tuple of global spherical coordinates (radius, longitude, latitude). Returns \\texttt{(NaN, NaN, NaN)} if the particle escapes.\n",
       "\n",
       "\\textbf{Key-Word Arguments}\n",
       "\n",
       "\\begin{tabular}\n",
       "{l | r | l | l}\n",
       "Field & Default Value & Unit & Description \\\\\n",
       "\\hline\n",
       "\\texttt{m} & \\texttt{LUNAR\\_MASS} & [kg] & mass of central object \\\\\n",
       "\\end{tabular}\n",
       "\\textbf{References}\n",
       "\n",
       "\\begin{itemize}\n",
       "\\item N. Schörghofer: \"USER GUIDE: Planetary-Code-Collection: Thermal and Ice Evolution Models for  Planetary Surfaces\", https://github.com/nschorgh/Planetary-Code-Collection\n",
       "\n",
       "\n",
       "\\item B. J. Butler, 1997, “The migration of volatiles on the surfaces of Mercury and the Moon,”  Journal of Geophysical Research, vol. 102, no. E8, pp. 19,283–19,291, doi: 10.1029/97JE01347.\n",
       "\n",
       "\n",
       "\\item Kegerreis et al., 2017, \"Evidence for a localized source of the argon in the lunar exosphere\",  Journal of Geophysical Research: Planets, American Geophysical Union (AGU), 122, 2163-2181\n",
       "\n",
       "\\end{itemize}\n"
      ],
      "text/markdown": [
       "```\n",
       "[1] landing_position(x0::Tuple, v0::Tuple; kwargs...)\n",
       "[2] landing_position(x0::AbstractVector, v0::AbstractVector; kwargs...)\n",
       "[3] landing_position(x0::AbstractPosition, v0::AbstractVelocity; kwargs...)\n",
       "```\n",
       "\n",
       "Calculates the landing position of a particle starting at position `x0` (global spherical coordinates: radius, longitude, latitude), with initial velocity `v0` (local cartesian coordinates: x (east), y (north), z (up)), flying on a ballistic trajectory, i.e., only influenced by graviational forces.\n",
       "\n",
       "Returns the landing position as a tuple of global spherical coordinates (radius, longitude, latitude). Returns `(NaN, NaN, NaN)` if the particle escapes.\n",
       "\n",
       "**Key-Word Arguments**\n",
       "\n",
       "| Field | Default Value | Unit | Description            |\n",
       "|:----- | -------------:|:---- |:---------------------- |\n",
       "| `m`   |  `LUNAR_MASS` | [kg] | mass of central object |\n",
       "\n",
       "**References**\n",
       "\n",
       "  * N. Schörghofer: \"USER GUIDE: Planetary-Code-Collection: Thermal and Ice Evolution Models for  Planetary Surfaces\", https://github.com/nschorgh/Planetary-Code-Collection\n",
       "  * B. J. Butler, 1997, “The migration of volatiles on the surfaces of Mercury and the Moon,”  Journal of Geophysical Research, vol. 102, no. E8, pp. 19,283–19,291, doi: 10.1029/97JE01347.\n",
       "  * Kegerreis et al., 2017, \"Evidence for a localized source of the argon in the lunar exosphere\",  Journal of Geophysical Research: Planets, American Geophysical Union (AGU), 122, 2163-2181\n"
      ],
      "text/plain": [
       "\u001b[36m  [1] landing_position(x0::Tuple, v0::Tuple; kwargs...)\u001b[39m\n",
       "\u001b[36m  [2] landing_position(x0::AbstractVector, v0::AbstractVector; kwargs...)\u001b[39m\n",
       "\u001b[36m  [3] landing_position(x0::AbstractPosition, v0::AbstractVelocity; kwargs...)\u001b[39m\n",
       "\n",
       "  Calculates the landing position of a particle starting at position \u001b[36mx0\u001b[39m\n",
       "  (global spherical coordinates: radius, longitude, latitude), with initial\n",
       "  velocity \u001b[36mv0\u001b[39m (local cartesian coordinates: x (east), y (north), z (up)),\n",
       "  flying on a ballistic trajectory, i.e., only influenced by graviational\n",
       "  forces.\n",
       "\n",
       "  Returns the landing position as a tuple of global spherical coordinates\n",
       "  (radius, longitude, latitude). Returns \u001b[36m(NaN, NaN, NaN)\u001b[39m if the particle\n",
       "  escapes.\n",
       "\n",
       "  \u001b[1mKey-Word Arguments\u001b[22m\n",
       "\n",
       "  Field Default Value Unit Description           \n",
       "  ––––– ––––––––––––– –––– ––––––––––––––––––––––\n",
       "  \u001b[36mm\u001b[39m        \u001b[36mLUNAR_MASS\u001b[39m [kg] mass of central object\n",
       "\n",
       "  \u001b[1mReferences\u001b[22m\n",
       "\n",
       "    •  N. Schörghofer: \"USER GUIDE: Planetary-Code-Collection: Thermal\n",
       "       and Ice Evolution Models for Planetary Surfaces\",\n",
       "       https://github.com/nschorgh/Planetary-Code-Collection\n",
       "\n",
       "    •  B. J. Butler, 1997, “The migration of volatiles on the surfaces of\n",
       "       Mercury and the Moon,” Journal of Geophysical Research, vol. 102,\n",
       "       no. E8, pp. 19,283–19,291, doi: 10.1029/97JE01347.\n",
       "\n",
       "    •  Kegerreis et al., 2017, \"Evidence for a localized source of the\n",
       "       argon in the lunar exosphere\", Journal of Geophysical Research:\n",
       "       Planets, American Geophysical Union (AGU), 122, 2163-2181"
      ]
     },
     "execution_count": 9,
     "metadata": {},
     "output_type": "execute_result"
    }
   ],
   "source": [
    "#| echo: false\n",
    "if !isdefined(Main, :ExESS)\n",
    "include(joinpath(@__DIR__, \"..\", \"..\", \"..\", \"exess.jl\", \"src\", \"ExESS.jl\"))\n",
    "using .ExESS\n",
    "end\n",
    "@doc ExESS.landing_position"
   ]
  },
  {
   "cell_type": "code",
   "execution_count": 10,
   "id": "fab62f7a",
   "metadata": {},
   "outputs": [
    {
     "data": {
      "text/latex": [
       "\\begin{verbatim}\n",
       "[1] trajectory(x0::AbstractVector, v0::AbstractVector, ddx::Function; kwargs...)\n",
       "[2] trajectory(x0::AbstractPosition, v0::AbstractVelocity, ddx::Function; kwargs...)\n",
       "\\end{verbatim}\n",
       "Calculate the trajectory of a particle starting at position \\texttt{x0} (global cartesian coordinates), with initial velocity \\texttt{v0} (global cartesian coordinates), given the  acceleration function \\texttt{ddx} (global cartesian coordinates).\n",
       "\n",
       "Returns a \\texttt{ODESolution} object as the trajectory.\n",
       "\n",
       "\\textbf{Key-Word Arguments}\n",
       "\n",
       "\\begin{tabular}\n",
       "{l | r | l | l}\n",
       "Field & Value & Unit & Description \\\\\n",
       "\\hline\n",
       "\\texttt{alg} & \\texttt{Tsit5()} &  & numerical solver algorithm \\\\\n",
       "\\texttt{rmin} & \\texttt{LUNAR\\_RADIUS} & [m] & minimum radius of computational domain \\\\\n",
       "\\texttt{rmax} & \\texttt{1e9} & [m] & maximum radius of computational domain \\\\\n",
       "\\texttt{tspan} & \\texttt{(0f0,1f10)} & ([s], [s]) & time span of the integration \\\\\n",
       "\\texttt{kwargs} &  &  & additional key-word arguments \\\\\n",
       "\\end{tabular}\n",
       "The integration terminates if either the minimum or maximum radius is exceeded or if the end of the time span is reached.\n",
       "\n",
       "\\textbf{Notes}\n",
       "\n",
       "\\begin{itemize}\n",
       "\\item 16-bit types are not accurate enough and will be promoted (no type-stability)\n",
       "\n",
       "\n",
       "\\item calling the function with \\texttt{<:Integer} arguments will promote them to \\texttt{Float64}\n",
       "\n",
       "\\end{itemize}\n"
      ],
      "text/markdown": [
       "```\n",
       "[1] trajectory(x0::AbstractVector, v0::AbstractVector, ddx::Function; kwargs...)\n",
       "[2] trajectory(x0::AbstractPosition, v0::AbstractVelocity, ddx::Function; kwargs...)\n",
       "```\n",
       "\n",
       "Calculate the trajectory of a particle starting at position `x0` (global cartesian coordinates), with initial velocity `v0` (global cartesian coordinates), given the  acceleration function `ddx` (global cartesian coordinates).\n",
       "\n",
       "Returns a `ODESolution` object as the trajectory.\n",
       "\n",
       "**Key-Word Arguments**\n",
       "\n",
       "| Field    |          Value | Unit       | Description                            |\n",
       "|:-------- | --------------:|:---------- |:-------------------------------------- |\n",
       "| `alg`    |      `Tsit5()` |            | numerical solver algorithm             |\n",
       "| `rmin`   | `LUNAR_RADIUS` | [m]        | minimum radius of computational domain |\n",
       "| `rmax`   |          `1e9` | [m]        | maximum radius of computational domain |\n",
       "| `tspan`  |   `(0f0,1f10)` | ([s], [s]) | time span of the integration           |\n",
       "| `kwargs` |                |            | additional key-word arguments          |\n",
       "\n",
       "The integration terminates if either the minimum or maximum radius is exceeded or if the end of the time span is reached.\n",
       "\n",
       "**Notes**\n",
       "\n",
       "  * 16-bit types are not accurate enough and will be promoted (no type-stability)\n",
       "  * calling the function with `<:Integer` arguments will promote them to `Float64`\n"
      ],
      "text/plain": [
       "\u001b[36m  [1] trajectory(x0::AbstractVector, v0::AbstractVector, ddx::Function; kwargs...)\u001b[39m\n",
       "\u001b[36m  [2] trajectory(x0::AbstractPosition, v0::AbstractVelocity, ddx::Function; kwargs...)\u001b[39m\n",
       "\n",
       "  Calculate the trajectory of a particle starting at position \u001b[36mx0\u001b[39m (global\n",
       "  cartesian coordinates), with initial velocity \u001b[36mv0\u001b[39m (global cartesian\n",
       "  coordinates), given the acceleration function \u001b[36mddx\u001b[39m (global cartesian\n",
       "  coordinates).\n",
       "\n",
       "  Returns a \u001b[36mODESolution\u001b[39m object as the trajectory.\n",
       "\n",
       "  \u001b[1mKey-Word Arguments\u001b[22m\n",
       "\n",
       "  Field         Value Unit       Description                           \n",
       "  –––––– –––––––––––– –––––––––– ––––––––––––––––––––––––––––––––––––––\n",
       "  \u001b[36malg\u001b[39m         \u001b[36mTsit5()\u001b[39m            numerical solver algorithm            \n",
       "  \u001b[36mrmin\u001b[39m   \u001b[36mLUNAR_RADIUS\u001b[39m [m]        minimum radius of computational domain\n",
       "  \u001b[36mrmax\u001b[39m            \u001b[36m1e9\u001b[39m [m]        maximum radius of computational domain\n",
       "  \u001b[36mtspan\u001b[39m    \u001b[36m(0f0,1f10)\u001b[39m ([s], [s]) time span of the integration          \n",
       "  \u001b[36mkwargs\u001b[39m                         additional key-word arguments         \n",
       "\n",
       "  The integration terminates if either the minimum or maximum radius is\n",
       "  exceeded or if the end of the time span is reached.\n",
       "\n",
       "  \u001b[1mNotes\u001b[22m\n",
       "\n",
       "    •  16-bit types are not accurate enough and will be promoted (no\n",
       "       type-stability)\n",
       "\n",
       "    •  calling the function with \u001b[36m<:Integer\u001b[39m arguments will promote them to\n",
       "       \u001b[36mFloat64\u001b[39m"
      ]
     },
     "execution_count": 10,
     "metadata": {},
     "output_type": "execute_result"
    }
   ],
   "source": [
    "#| echo: false\n",
    "if !isdefined(Main, :ExESS)\n",
    "include(joinpath(@__DIR__, \"..\", \"..\", \"..\", \"exess.jl\", \"src\", \"ExESS.jl\"))\n",
    "using .ExESS\n",
    "end\n",
    "@doc ExESS.trajectory"
   ]
  },
  {
   "cell_type": "code",
   "execution_count": 11,
   "id": "e40ea5b7",
   "metadata": {},
   "outputs": [
    {
     "data": {
      "text/latex": [
       "\\begin{verbatim}\n",
       "[1] ddx_gravity(x::NTuple{3}, [args...]; kwargs...)\n",
       "[1] ddx_gravity(x::AbstractVector, [args...]; kwargs...)\n",
       "\\end{verbatim}\n",
       "Acceleration function for gravity.  Assumes a global cartesian coordinate system, which is centered at the center of the central object. \n",
       "\n",
       "\\textbf{Key-Word Arguments}\n",
       "\n",
       "\\begin{tabular}\n",
       "{l | r | l | l}\n",
       "Field & Default Value & Unit & Description \\\\\n",
       "\\hline\n",
       "\\texttt{m} & \\texttt{LUNAR\\_MASS} & [kg] & mass of central object \\\\\n",
       "\\end{tabular}\n"
      ],
      "text/markdown": [
       "```\n",
       "[1] ddx_gravity(x::NTuple{3}, [args...]; kwargs...)\n",
       "[1] ddx_gravity(x::AbstractVector, [args...]; kwargs...)\n",
       "```\n",
       "\n",
       "Acceleration function for gravity.  Assumes a global cartesian coordinate system, which is centered at the center of the central object. \n",
       "\n",
       "**Key-Word Arguments**\n",
       "\n",
       "| Field | Default Value | Unit | Description            |\n",
       "|:----- | -------------:|:---- |:---------------------- |\n",
       "| `m`   |  `LUNAR_MASS` | [kg] | mass of central object |\n"
      ],
      "text/plain": [
       "\u001b[36m  [1] ddx_gravity(x::NTuple{3}, [args...]; kwargs...)\u001b[39m\n",
       "\u001b[36m  [1] ddx_gravity(x::AbstractVector, [args...]; kwargs...)\u001b[39m\n",
       "\n",
       "  Acceleration function for gravity. Assumes a global cartesian coordinate\n",
       "  system, which is centered at the center of the central object.\n",
       "\n",
       "  \u001b[1mKey-Word Arguments\u001b[22m\n",
       "\n",
       "  Field Default Value Unit Description           \n",
       "  ––––– ––––––––––––– –––– ––––––––––––––––––––––\n",
       "  \u001b[36mm\u001b[39m        \u001b[36mLUNAR_MASS\u001b[39m [kg] mass of central object"
      ]
     },
     "execution_count": 11,
     "metadata": {},
     "output_type": "execute_result"
    }
   ],
   "source": [
    "#| echo: false\n",
    "if !isdefined(Main, :ExESS)\n",
    "include(joinpath(@__DIR__, \"..\", \"..\", \"..\", \"exess.jl\", \"src\", \"ExESS.jl\"))\n",
    "using .ExESS\n",
    "end\n",
    "@doc ExESS.ddx_gravity"
   ]
  }
 ],
 "metadata": {
  "kernelspec": {
   "display_name": "julia 1.10.0",
   "language": "julia",
   "name": "julia-1.10"
  },
  "language_info": {
   "file_extension": ".jl",
   "mimetype": "application/julia",
   "name": "julia",
   "version": "1.10.0"
  }
 },
 "nbformat": 4,
 "nbformat_minor": 5
}