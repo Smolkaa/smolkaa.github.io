{
 "cells": [
  {
   "cell_type": "code",
   "execution_count": 1,
   "id": "78ca05c0",
   "metadata": {},
   "outputs": [],
   "source": [
    "import IJulia\n",
    "\n",
    "# The julia kernel has built in support for Revise.jl, so this is the \n",
    "# recommended approach for long-running sessions:\n",
    "# https://github.com/JuliaLang/IJulia.jl/blob/9b10fa9b879574bbf720f5285029e07758e50a5e/src/kernel.jl#L46-L51\n",
    "\n",
    "# Users should enable revise within .julia/config/startup_ijulia.jl:\n",
    "# https://timholy.github.io/Revise.jl/stable/config/#Using-Revise-automatically-within-Jupyter/IJulia-1\n",
    "\n",
    "# clear console history\n",
    "IJulia.clear_history()\n",
    "\n",
    "fig_width = 7\n",
    "fig_height = 5\n",
    "fig_format = :retina\n",
    "fig_dpi = 96\n",
    "\n",
    "# no retina format type, use svg for high quality type/marks\n",
    "if fig_format == :retina\n",
    "  fig_format = :svg\n",
    "elseif fig_format == :pdf\n",
    "  fig_dpi = 96\n",
    "  # Enable PDF support for IJulia\n",
    "  IJulia.register_mime(MIME(\"application/pdf\"))\n",
    "end\n",
    "\n",
    "# convert inches to pixels\n",
    "fig_width = fig_width * fig_dpi\n",
    "fig_height = fig_height * fig_dpi\n",
    "\n",
    "# Intialize Plots w/ default fig width/height\n",
    "try\n",
    "  import Plots\n",
    "\n",
    "  # Plots.jl doesn't support PDF output for versions < 1.28.1\n",
    "  # so use png (if the DPI remains the default of 300 then set to 96)\n",
    "  if (Plots._current_plots_version < v\"1.28.1\") & (fig_format == :pdf)\n",
    "    Plots.gr(size=(fig_width, fig_height), fmt = :png, dpi = fig_dpi)\n",
    "  else\n",
    "    Plots.gr(size=(fig_width, fig_height), fmt = fig_format, dpi = fig_dpi)\n",
    "  end\n",
    "catch e\n",
    "  # @warn \"Plots init\" exception=(e, catch_backtrace())\n",
    "end\n",
    "\n",
    "# Initialize CairoMakie with default fig width/height\n",
    "try\n",
    "  import CairoMakie\n",
    "  \n",
    "  CairoMakie.activate!(type = string(fig_format))\n",
    "  CairoMakie.update_theme!(resolution=(fig_width, fig_height))\n",
    "catch e\n",
    "    # @warn \"CairoMakie init\" exception=(e, catch_backtrace())\n",
    "end\n",
    "  \n",
    "# Set run_path if specified\n",
    "try\n",
    "  run_path = raw\"C:\\Users\\Alexander Smolka\\Documents\\repos\\smolkaa.github.io\\api\\exospheres\"\n",
    "  if !isempty(run_path)\n",
    "    cd(run_path)\n",
    "  end\n",
    "catch e\n",
    "  @warn \"Run path init:\" exception=(e, catch_backtrace())\n",
    "end\n",
    "\n",
    "\n",
    "# emulate old Pkg.installed beahvior, see\n",
    "# https://discourse.julialang.org/t/how-to-use-pkg-dependencies-instead-of-pkg-installed/36416/9\n",
    "import Pkg\n",
    "function isinstalled(pkg::String)\n",
    "  any(x -> x.name == pkg && x.is_direct_dep, values(Pkg.dependencies()))\n",
    "end\n",
    "\n",
    "# ojs_define\n",
    "if isinstalled(\"JSON\") && isinstalled(\"DataFrames\")\n",
    "  import JSON, DataFrames\n",
    "  global function ojs_define(; kwargs...)\n",
    "    convert(x) = x\n",
    "    convert(x::DataFrames.AbstractDataFrame) = Tables.rows(x)\n",
    "    content = Dict(\"contents\" => [Dict(\"name\" => k, \"value\" => convert(v)) for (k, v) in kwargs])\n",
    "    tag = \"<script type='ojs-define'>$(JSON.json(content))</script>\"\n",
    "    IJulia.display(MIME(\"text/html\"), tag)\n",
    "  end\n",
    "elseif isinstalled(\"JSON\")\n",
    "  import JSON\n",
    "  global function ojs_define(; kwargs...)\n",
    "    content = Dict(\"contents\" => [Dict(\"name\" => k, \"value\" => v) for (k, v) in kwargs])\n",
    "    tag = \"<script type='ojs-define'>$(JSON.json(content))</script>\"\n",
    "    IJulia.display(MIME(\"text/html\"), tag)\n",
    "  end\n",
    "else\n",
    "  global function ojs_define(; kwargs...)\n",
    "    @warn \"JSON package not available. Please install the JSON.jl package to use ojs_define.\"\n",
    "  end\n",
    "end\n",
    "\n",
    "\n",
    "# don't return kernel dependencies (b/c Revise should take care of dependencies)\n",
    "nothing\n"
   ]
  },
  {
   "cell_type": "code",
   "execution_count": 2,
   "id": "c146a26c",
   "metadata": {},
   "outputs": [
    {
     "data": {
      "text/latex": [
       "\\begin{verbatim}\n",
       "[1] azimuth_angle_v(v::AbstractVector)\n",
       "[2] azimuth_angle_v(v::LocalCartesianVelocity)\n",
       "\\end{verbatim}\n",
       "Calculates the azimuth angle of the launch velocity vector \\texttt{v}. Resulting angle is given in radians, [-π, π).\n",
       "\n",
       "Returns \\texttt{NaN} if \\texttt{v1=v2=0}, i.e., for no planar velocities.\n",
       "\n"
      ],
      "text/markdown": [
       "```\n",
       "[1] azimuth_angle_v(v::AbstractVector)\n",
       "[2] azimuth_angle_v(v::LocalCartesianVelocity)\n",
       "```\n",
       "\n",
       "Calculates the azimuth angle of the launch velocity vector `v`. Resulting angle is given in radians, [-π, π).\n",
       "\n",
       "Returns `NaN` if `v1=v2=0`, i.e., for no planar velocities.\n"
      ],
      "text/plain": [
       "\u001b[36m  [1] azimuth_angle_v(v::AbstractVector)\u001b[39m\n",
       "\u001b[36m  [2] azimuth_angle_v(v::LocalCartesianVelocity)\u001b[39m\n",
       "\n",
       "  Calculates the azimuth angle of the launch velocity vector \u001b[36mv\u001b[39m. Resulting\n",
       "  angle is given in radians, [-π, π).\n",
       "\n",
       "  Returns \u001b[36mNaN\u001b[39m if \u001b[36mv1=v2=0\u001b[39m, i.e., for no planar velocities."
      ]
     },
     "execution_count": 2,
     "metadata": {},
     "output_type": "execute_result"
    }
   ],
   "source": [
    "#| echo: false\n",
    "if !isdefined(Main, :ExESS)\n",
    "include(joinpath(@__DIR__, \"..\", \"..\", \"..\", \"exess.jl\", \"src\", \"ExESS.jl\"))\n",
    "using .ExESS\n",
    "end\n",
    "@doc ExESS.azimuth_angle_v"
   ]
  },
  {
   "cell_type": "code",
   "execution_count": 3,
   "id": "48ce5f3c",
   "metadata": {},
   "outputs": [
    {
     "data": {
      "text/latex": [
       "\\begin{verbatim}\n",
       "[1] eccentric_anomaly_e_M(e::Real, M::Real, N=10)\n",
       "\\end{verbatim}\n",
       "Calculates the eccentric anomaly given the orbit's eccentricity \\texttt{e} and the mean anomaly \\texttt{M},  which triggers a numerical approximation with \\texttt{N} steps. The result is given in radians [0, 2π).\n",
       "\n",
       "\\paragraph{Alternative Functions}\n",
       "\\texttt{eccentric\\_anomaly\\_e\\_theta}\n",
       "\n"
      ],
      "text/markdown": [
       "```\n",
       "[1] eccentric_anomaly_e_M(e::Real, M::Real, N=10)\n",
       "```\n",
       "\n",
       "Calculates the eccentric anomaly given the orbit's eccentricity `e` and the mean anomaly `M`,  which triggers a numerical approximation with `N` steps. The result is given in radians [0, 2π).\n",
       "\n",
       "#### Alternative Functions\n",
       "\n",
       "`eccentric_anomaly_e_theta`\n"
      ],
      "text/plain": [
       "\u001b[36m  [1] eccentric_anomaly_e_M(e::Real, M::Real, N=10)\u001b[39m\n",
       "\n",
       "  Calculates the eccentric anomaly given the orbit's eccentricity \u001b[36me\u001b[39m and the\n",
       "  mean anomaly \u001b[36mM\u001b[39m, which triggers a numerical approximation with \u001b[36mN\u001b[39m steps. The\n",
       "  result is given in radians [0, 2π).\n",
       "\n",
       "\u001b[1m  Alternative Functions\u001b[22m\n",
       "\u001b[1m  -----------------------\u001b[22m\n",
       "\n",
       "  \u001b[36meccentric_anomaly_e_theta\u001b[39m"
      ]
     },
     "execution_count": 3,
     "metadata": {},
     "output_type": "execute_result"
    }
   ],
   "source": [
    "#| echo: false\n",
    "if !isdefined(Main, :ExESS)\n",
    "include(joinpath(@__DIR__, \"..\", \"..\", \"..\", \"exess.jl\", \"src\", \"ExESS.jl\"))\n",
    "using .ExESS\n",
    "end\n",
    "@doc ExESS.eccentric_anomaly_e_M"
   ]
  },
  {
   "cell_type": "code",
   "execution_count": 4,
   "id": "356edb8e",
   "metadata": {},
   "outputs": [
    {
     "data": {
      "text/latex": [
       "\\begin{verbatim}\n",
       "[1] eccentric_anomaly_e_theta(e::Real, theta::Real)\n",
       "\\end{verbatim}\n",
       "Calculates the eccentric anomaly given the orbit's eccentricity \\texttt{e} and the true anomaly \\texttt{theta}. The result is given in radians [0, 2π).\n",
       "\n",
       "\\paragraph{Alternative Functions}\n",
       "\\texttt{eccentric\\_anomaly\\_e\\_M}\n",
       "\n"
      ],
      "text/markdown": [
       "```\n",
       "[1] eccentric_anomaly_e_theta(e::Real, theta::Real)\n",
       "```\n",
       "\n",
       "Calculates the eccentric anomaly given the orbit's eccentricity `e` and the true anomaly `theta`. The result is given in radians [0, 2π).\n",
       "\n",
       "#### Alternative Functions\n",
       "\n",
       "`eccentric_anomaly_e_M`\n"
      ],
      "text/plain": [
       "\u001b[36m  [1] eccentric_anomaly_e_theta(e::Real, theta::Real)\u001b[39m\n",
       "\n",
       "  Calculates the eccentric anomaly given the orbit's eccentricity \u001b[36me\u001b[39m and the\n",
       "  true anomaly \u001b[36mtheta\u001b[39m. The result is given in radians [0, 2π).\n",
       "\n",
       "\u001b[1m  Alternative Functions\u001b[22m\n",
       "\u001b[1m  -----------------------\u001b[22m\n",
       "\n",
       "  \u001b[36meccentric_anomaly_e_M\u001b[39m"
      ]
     },
     "execution_count": 4,
     "metadata": {},
     "output_type": "execute_result"
    }
   ],
   "source": [
    "#| echo: false\n",
    "if !isdefined(Main, :ExESS)\n",
    "include(joinpath(@__DIR__, \"..\", \"..\", \"..\", \"exess.jl\", \"src\", \"ExESS.jl\"))\n",
    "using .ExESS\n",
    "end\n",
    "@doc ExESS.eccentric_anomaly_e_theta"
   ]
  },
  {
   "cell_type": "code",
   "execution_count": 5,
   "id": "53d0def3",
   "metadata": {},
   "outputs": [
    {
     "data": {
      "text/latex": [
       "\\begin{verbatim}\n",
       "[1] eccentricity_epskin_psi(epskin::Real, psi::Real)\n",
       "\\end{verbatim}\n",
       "Calculates the eccentricity of an elliptical trajetory based on the squared escape velocity fraction \\texttt{epskin}, and the zenith launch angle \\texttt{psi}.\n",
       "\n",
       "\\paragraph{Alternative Functions}\n",
       "\\texttt{eccentricity\\_epskin\\_v}, \\texttt{eccentricity\\_r\\_m\\_v}\n",
       "\n"
      ],
      "text/markdown": [
       "```\n",
       "[1] eccentricity_epskin_psi(epskin::Real, psi::Real)\n",
       "```\n",
       "\n",
       "Calculates the eccentricity of an elliptical trajetory based on the squared escape velocity fraction `epskin`, and the zenith launch angle `psi`.\n",
       "\n",
       "#### Alternative Functions\n",
       "\n",
       "`eccentricity_epskin_v`, `eccentricity_r_m_v`\n"
      ],
      "text/plain": [
       "\u001b[36m  [1] eccentricity_epskin_psi(epskin::Real, psi::Real)\u001b[39m\n",
       "\n",
       "  Calculates the eccentricity of an elliptical trajetory based on the squared\n",
       "  escape velocity fraction \u001b[36mepskin\u001b[39m, and the zenith launch angle \u001b[36mpsi\u001b[39m.\n",
       "\n",
       "\u001b[1m  Alternative Functions\u001b[22m\n",
       "\u001b[1m  -----------------------\u001b[22m\n",
       "\n",
       "  \u001b[36meccentricity_epskin_v\u001b[39m, \u001b[36meccentricity_r_m_v\u001b[39m"
      ]
     },
     "execution_count": 5,
     "metadata": {},
     "output_type": "execute_result"
    }
   ],
   "source": [
    "#| echo: false\n",
    "if !isdefined(Main, :ExESS)\n",
    "include(joinpath(@__DIR__, \"..\", \"..\", \"..\", \"exess.jl\", \"src\", \"ExESS.jl\"))\n",
    "using .ExESS\n",
    "end\n",
    "@doc ExESS.eccentricity_epskin_psi"
   ]
  },
  {
   "cell_type": "code",
   "execution_count": 6,
   "id": "107e2d22",
   "metadata": {},
   "outputs": [
    {
     "data": {
      "text/latex": [
       "\\begin{verbatim}\n",
       "[1] eccentricity_epskin_v(epskin::Real, v::AbstractVector)\n",
       "[2] eccentricity_epskin_v(epskin::Real, v::LocalCartesianVelocity)\n",
       "\\end{verbatim}\n",
       "Calculates the eccentricity of an elliptical trajetory based on the squared escape velocity fraction \\texttt{epskin}, and the velocity vector \\texttt{v}.\n",
       "\n",
       "\\paragraph{Alternative Functions}\n",
       "\\texttt{eccentricity\\_epskin\\_psi}, \\texttt{eccentricity\\_r\\_m\\_v}\n",
       "\n"
      ],
      "text/markdown": [
       "```\n",
       "[1] eccentricity_epskin_v(epskin::Real, v::AbstractVector)\n",
       "[2] eccentricity_epskin_v(epskin::Real, v::LocalCartesianVelocity)\n",
       "```\n",
       "\n",
       "Calculates the eccentricity of an elliptical trajetory based on the squared escape velocity fraction `epskin`, and the velocity vector `v`.\n",
       "\n",
       "#### Alternative Functions\n",
       "\n",
       "`eccentricity_epskin_psi`, `eccentricity_r_m_v`\n"
      ],
      "text/plain": [
       "\u001b[36m  [1] eccentricity_epskin_v(epskin::Real, v::AbstractVector)\u001b[39m\n",
       "\u001b[36m  [2] eccentricity_epskin_v(epskin::Real, v::LocalCartesianVelocity)\u001b[39m\n",
       "\n",
       "  Calculates the eccentricity of an elliptical trajetory based on the squared\n",
       "  escape velocity fraction \u001b[36mepskin\u001b[39m, and the velocity vector \u001b[36mv\u001b[39m.\n",
       "\n",
       "\u001b[1m  Alternative Functions\u001b[22m\n",
       "\u001b[1m  -----------------------\u001b[22m\n",
       "\n",
       "  \u001b[36meccentricity_epskin_psi\u001b[39m, \u001b[36meccentricity_r_m_v\u001b[39m"
      ]
     },
     "execution_count": 6,
     "metadata": {},
     "output_type": "execute_result"
    }
   ],
   "source": [
    "#| echo: false\n",
    "if !isdefined(Main, :ExESS)\n",
    "include(joinpath(@__DIR__, \"..\", \"..\", \"..\", \"exess.jl\", \"src\", \"ExESS.jl\"))\n",
    "using .ExESS\n",
    "end\n",
    "@doc ExESS.eccentricity_epskin_v"
   ]
  },
  {
   "cell_type": "code",
   "execution_count": 7,
   "id": "0d13affc",
   "metadata": {},
   "outputs": [
    {
     "data": {
      "text/latex": [
       "\\begin{verbatim}\n",
       "[1] eccentricity_r_m_v(r::Real, m::Real, v::AbstractVector)\n",
       "[2] eccentricity_r_m_v(r::Real, m::Real, v::LocalCartesianVelocity)\n",
       "\\end{verbatim}\n",
       "Calculates the eccentricity of an elliptical trajetory based on the orbital radius \\texttt{r}, the body's mass \\texttt{m}, and the velocity vector \\texttt{v}.\n",
       "\n",
       "\\paragraph{Alternative Functions}\n",
       "\\texttt{eccentricity\\_epskin\\_psi}, \\texttt{eccentricity\\_epskin\\_v}\n",
       "\n"
      ],
      "text/markdown": [
       "```\n",
       "[1] eccentricity_r_m_v(r::Real, m::Real, v::AbstractVector)\n",
       "[2] eccentricity_r_m_v(r::Real, m::Real, v::LocalCartesianVelocity)\n",
       "```\n",
       "\n",
       "Calculates the eccentricity of an elliptical trajetory based on the orbital radius `r`, the body's mass `m`, and the velocity vector `v`.\n",
       "\n",
       "#### Alternative Functions\n",
       "\n",
       "`eccentricity_epskin_psi`, `eccentricity_epskin_v`\n"
      ],
      "text/plain": [
       "\u001b[36m  [1] eccentricity_r_m_v(r::Real, m::Real, v::AbstractVector)\u001b[39m\n",
       "\u001b[36m  [2] eccentricity_r_m_v(r::Real, m::Real, v::LocalCartesianVelocity)\u001b[39m\n",
       "\n",
       "  Calculates the eccentricity of an elliptical trajetory based on the orbital\n",
       "  radius \u001b[36mr\u001b[39m, the body's mass \u001b[36mm\u001b[39m, and the velocity vector \u001b[36mv\u001b[39m.\n",
       "\n",
       "\u001b[1m  Alternative Functions\u001b[22m\n",
       "\u001b[1m  -----------------------\u001b[22m\n",
       "\n",
       "  \u001b[36meccentricity_epskin_psi\u001b[39m, \u001b[36meccentricity_epskin_v\u001b[39m"
      ]
     },
     "execution_count": 7,
     "metadata": {},
     "output_type": "execute_result"
    }
   ],
   "source": [
    "#| echo: false\n",
    "if !isdefined(Main, :ExESS)\n",
    "include(joinpath(@__DIR__, \"..\", \"..\", \"..\", \"exess.jl\", \"src\", \"ExESS.jl\"))\n",
    "using .ExESS\n",
    "end\n",
    "@doc ExESS.eccentricity_r_m_v"
   ]
  },
  {
   "cell_type": "code",
   "execution_count": 8,
   "id": "23a310fd",
   "metadata": {},
   "outputs": [
    {
     "data": {
      "text/latex": [
       "\\begin{verbatim}\n",
       "[1] escape_velocity_r_m(r::Real, m::Real)\n",
       "\\end{verbatim}\n",
       "Calculates the magnitude of the escape velocity for an orbital radius \\texttt{r} and body mass \\texttt{m}.\n",
       "\n"
      ],
      "text/markdown": [
       "```\n",
       "[1] escape_velocity_r_m(r::Real, m::Real)\n",
       "```\n",
       "\n",
       "Calculates the magnitude of the escape velocity for an orbital radius `r` and body mass `m`.\n"
      ],
      "text/plain": [
       "\u001b[36m  [1] escape_velocity_r_m(r::Real, m::Real)\u001b[39m\n",
       "\n",
       "  Calculates the magnitude of the escape velocity for an orbital radius \u001b[36mr\u001b[39m and\n",
       "  body mass \u001b[36mm\u001b[39m."
      ]
     },
     "execution_count": 8,
     "metadata": {},
     "output_type": "execute_result"
    }
   ],
   "source": [
    "#| echo: false\n",
    "if !isdefined(Main, :ExESS)\n",
    "include(joinpath(@__DIR__, \"..\", \"..\", \"..\", \"exess.jl\", \"src\", \"ExESS.jl\"))\n",
    "using .ExESS\n",
    "end\n",
    "@doc ExESS.escape_velocity_r_m"
   ]
  },
  {
   "cell_type": "code",
   "execution_count": 9,
   "id": "db1ab450",
   "metadata": {},
   "outputs": [
    {
     "data": {
      "text/latex": [
       "\\begin{verbatim}\n",
       "[1] flight_time_t0_t1(t0::Real, t1::Real)\n",
       "\\end{verbatim}\n",
       "Calculates the time of flight between the two orbital times \\texttt{t0} and \\texttt{t1}.\n",
       "\n",
       "\\paragraph{Alternative Functions}\n",
       "\\texttt{flight\\_time\\_t0\\_P}, \\texttt{flight\\_time\\_e\\_theta0\\_theta1\\_P}, \\texttt{flight\\_time\\_e\\_theta0\\_P}\n",
       "\n"
      ],
      "text/markdown": [
       "```\n",
       "[1] flight_time_t0_t1(t0::Real, t1::Real)\n",
       "```\n",
       "\n",
       "Calculates the time of flight between the two orbital times `t0` and `t1`.\n",
       "\n",
       "#### Alternative Functions\n",
       "\n",
       "`flight_time_t0_P`, `flight_time_e_theta0_theta1_P`, `flight_time_e_theta0_P`\n"
      ],
      "text/plain": [
       "\u001b[36m  [1] flight_time_t0_t1(t0::Real, t1::Real)\u001b[39m\n",
       "\n",
       "  Calculates the time of flight between the two orbital times \u001b[36mt0\u001b[39m and \u001b[36mt1\u001b[39m.\n",
       "\n",
       "\u001b[1m  Alternative Functions\u001b[22m\n",
       "\u001b[1m  -----------------------\u001b[22m\n",
       "\n",
       "  \u001b[36mflight_time_t0_P\u001b[39m, \u001b[36mflight_time_e_theta0_theta1_P\u001b[39m, \u001b[36mflight_time_e_theta0_P\u001b[39m"
      ]
     },
     "execution_count": 9,
     "metadata": {},
     "output_type": "execute_result"
    }
   ],
   "source": [
    "#| echo: false\n",
    "if !isdefined(Main, :ExESS)\n",
    "include(joinpath(@__DIR__, \"..\", \"..\", \"..\", \"exess.jl\", \"src\", \"ExESS.jl\"))\n",
    "using .ExESS\n",
    "end\n",
    "@doc ExESS.flight_time_t0_t1"
   ]
  },
  {
   "cell_type": "code",
   "execution_count": 10,
   "id": "2b001e2d",
   "metadata": {},
   "outputs": [
    {
     "data": {
      "text/latex": [
       "\\begin{verbatim}\n",
       "[1] flight_time_t0_P(t0::Real, P::Real)\n",
       "\\end{verbatim}\n",
       "Calculates the time of flight, given a symmetrical trajectory with a starting orbital time of \\texttt{t0} and a landing orbital time of \\texttt{P-t0}, with the orbital period \\texttt{P}. \n",
       "\n",
       "\\paragraph{Alternative Functions}\n",
       "\\texttt{flight\\_time\\_t0\\_t1}, \\texttt{flight\\_time\\_e\\_theta0\\_theta1\\_P}, \\texttt{flight\\_time\\_e\\_theta0\\_P}\n",
       "\n"
      ],
      "text/markdown": [
       "```\n",
       "[1] flight_time_t0_P(t0::Real, P::Real)\n",
       "```\n",
       "\n",
       "Calculates the time of flight, given a symmetrical trajectory with a starting orbital time of `t0` and a landing orbital time of `P-t0`, with the orbital period `P`. \n",
       "\n",
       "#### Alternative Functions\n",
       "\n",
       "`flight_time_t0_t1`, `flight_time_e_theta0_theta1_P`, `flight_time_e_theta0_P`\n"
      ],
      "text/plain": [
       "\u001b[36m  [1] flight_time_t0_P(t0::Real, P::Real)\u001b[39m\n",
       "\n",
       "  Calculates the time of flight, given a symmetrical trajectory with a\n",
       "  starting orbital time of \u001b[36mt0\u001b[39m and a landing orbital time of \u001b[36mP-t0\u001b[39m, with the\n",
       "  orbital period \u001b[36mP\u001b[39m.\n",
       "\n",
       "\u001b[1m  Alternative Functions\u001b[22m\n",
       "\u001b[1m  -----------------------\u001b[22m\n",
       "\n",
       "  \u001b[36mflight_time_t0_t1\u001b[39m, \u001b[36mflight_time_e_theta0_theta1_P\u001b[39m, \u001b[36mflight_time_e_theta0_P\u001b[39m"
      ]
     },
     "execution_count": 10,
     "metadata": {},
     "output_type": "execute_result"
    }
   ],
   "source": [
    "#| echo: false\n",
    "if !isdefined(Main, :ExESS)\n",
    "include(joinpath(@__DIR__, \"..\", \"..\", \"..\", \"exess.jl\", \"src\", \"ExESS.jl\"))\n",
    "using .ExESS\n",
    "end\n",
    "@doc ExESS.flight_time_t0_P"
   ]
  },
  {
   "cell_type": "code",
   "execution_count": 11,
   "id": "ed39585b",
   "metadata": {},
   "outputs": [
    {
     "data": {
      "text/latex": [
       "\\begin{verbatim}\n",
       "[1] flight_time_e_theta0_theta1_P(e::Real, theta0::Real, theta1::Real, P::Real)\n",
       "\\end{verbatim}\n",
       "Calculates the time of flight between the two orbital positions \\texttt{theta0} and \\texttt{theta1}, given the eccentricity \\texttt{e} and period \\texttt{P} of the orbit.\n",
       "\n",
       "\\paragraph{Alternative Functions}\n",
       "\\texttt{flight\\_time\\_t0\\_t1}, \\texttt{flight\\_time\\_t0\\_P}, \\texttt{flight\\_time\\_e\\_theta0\\_P}\n",
       "\n"
      ],
      "text/markdown": [
       "```\n",
       "[1] flight_time_e_theta0_theta1_P(e::Real, theta0::Real, theta1::Real, P::Real)\n",
       "```\n",
       "\n",
       "Calculates the time of flight between the two orbital positions `theta0` and `theta1`, given the eccentricity `e` and period `P` of the orbit.\n",
       "\n",
       "#### Alternative Functions\n",
       "\n",
       "`flight_time_t0_t1`, `flight_time_t0_P`, `flight_time_e_theta0_P`\n"
      ],
      "text/plain": [
       "\u001b[36m  [1] flight_time_e_theta0_theta1_P(e::Real, theta0::Real, theta1::Real, P::Real)\u001b[39m\n",
       "\n",
       "  Calculates the time of flight between the two orbital positions \u001b[36mtheta0\u001b[39m and\n",
       "  \u001b[36mtheta1\u001b[39m, given the eccentricity \u001b[36me\u001b[39m and period \u001b[36mP\u001b[39m of the orbit.\n",
       "\n",
       "\u001b[1m  Alternative Functions\u001b[22m\n",
       "\u001b[1m  -----------------------\u001b[22m\n",
       "\n",
       "  \u001b[36mflight_time_t0_t1\u001b[39m, \u001b[36mflight_time_t0_P\u001b[39m, \u001b[36mflight_time_e_theta0_P\u001b[39m"
      ]
     },
     "execution_count": 11,
     "metadata": {},
     "output_type": "execute_result"
    }
   ],
   "source": [
    "#| echo: false\n",
    "if !isdefined(Main, :ExESS)\n",
    "include(joinpath(@__DIR__, \"..\", \"..\", \"..\", \"exess.jl\", \"src\", \"ExESS.jl\"))\n",
    "using .ExESS\n",
    "end\n",
    "@doc ExESS.flight_time_e_theta0_theta1_P"
   ]
  },
  {
   "cell_type": "code",
   "execution_count": 12,
   "id": "8ae79b46",
   "metadata": {},
   "outputs": [
    {
     "data": {
      "text/latex": [
       "\\begin{verbatim}\n",
       "[1] flight_time_e_theta0_P(e::Real, theta0::Real, P::Real)\n",
       "\\end{verbatim}\n",
       "Calculates the time of flight, given a symmetrical trajectory between the two orbital  positions \\texttt{theta0} and \\texttt{2π - theta0}, given the eccentricity \\texttt{e} and period \\texttt{P} of the orbit.\n",
       "\n",
       "\\paragraph{Alternative Functions}\n",
       "\\texttt{flight\\_time\\_t0\\_t1}, \\texttt{flight\\_time\\_t0\\_P}, \\texttt{flight\\_time\\_e\\_theta0\\_theta1\\_P}\n",
       "\n"
      ],
      "text/markdown": [
       "```\n",
       "[1] flight_time_e_theta0_P(e::Real, theta0::Real, P::Real)\n",
       "```\n",
       "\n",
       "Calculates the time of flight, given a symmetrical trajectory between the two orbital  positions `theta0` and `2π - theta0`, given the eccentricity `e` and period `P` of the orbit.\n",
       "\n",
       "#### Alternative Functions\n",
       "\n",
       "`flight_time_t0_t1`, `flight_time_t0_P`, `flight_time_e_theta0_theta1_P`\n"
      ],
      "text/plain": [
       "\u001b[36m  [1] flight_time_e_theta0_P(e::Real, theta0::Real, P::Real)\u001b[39m\n",
       "\n",
       "  Calculates the time of flight, given a symmetrical trajectory between the\n",
       "  two orbital positions \u001b[36mtheta0\u001b[39m and \u001b[36m2π - theta0\u001b[39m, given the eccentricity \u001b[36me\u001b[39m and\n",
       "  period \u001b[36mP\u001b[39m of the orbit.\n",
       "\n",
       "\u001b[1m  Alternative Functions\u001b[22m\n",
       "\u001b[1m  -----------------------\u001b[22m\n",
       "\n",
       "  \u001b[36mflight_time_t0_t1\u001b[39m, \u001b[36mflight_time_t0_P\u001b[39m, \u001b[36mflight_time_e_theta0_theta1_P\u001b[39m"
      ]
     },
     "execution_count": 12,
     "metadata": {},
     "output_type": "execute_result"
    }
   ],
   "source": [
    "#| echo: false\n",
    "if !isdefined(Main, :ExESS)\n",
    "include(joinpath(@__DIR__, \"..\", \"..\", \"..\", \"exess.jl\", \"src\", \"ExESS.jl\"))\n",
    "using .ExESS\n",
    "end\n",
    "@doc ExESS.flight_time_e_theta0_P"
   ]
  },
  {
   "cell_type": "code",
   "execution_count": 13,
   "id": "af213f1f",
   "metadata": {},
   "outputs": [
    {
     "data": {
      "text/latex": [
       "\\begin{verbatim}\n",
       "[1] epskin_vesc_v(vesc::Real, v::AbstractVector)\n",
       "[2] epskin_vesc_v(vesc::Real, v::LocalCartesianVelocity)\n",
       "\\end{verbatim}\n",
       "Calculates the squared fraction of the velocity vector \\texttt{v} with respect to the escape velocity \\texttt{vesc}.\n",
       "\n",
       "\\paragraph{Alternative Functions}\n",
       "\\texttt{epskin\\_r\\_m\\_v}, \\texttt{epskin\\_r\\_a}, \\texttt{epskin\\_e\\_theta}\n",
       "\n"
      ],
      "text/markdown": [
       "```\n",
       "[1] epskin_vesc_v(vesc::Real, v::AbstractVector)\n",
       "[2] epskin_vesc_v(vesc::Real, v::LocalCartesianVelocity)\n",
       "```\n",
       "\n",
       "Calculates the squared fraction of the velocity vector `v` with respect to the escape velocity `vesc`.\n",
       "\n",
       "#### Alternative Functions\n",
       "\n",
       "`epskin_r_m_v`, `epskin_r_a`, `epskin_e_theta`\n"
      ],
      "text/plain": [
       "\u001b[36m  [1] epskin_vesc_v(vesc::Real, v::AbstractVector)\u001b[39m\n",
       "\u001b[36m  [2] epskin_vesc_v(vesc::Real, v::LocalCartesianVelocity)\u001b[39m\n",
       "\n",
       "  Calculates the squared fraction of the velocity vector \u001b[36mv\u001b[39m with respect to the\n",
       "  escape velocity \u001b[36mvesc\u001b[39m.\n",
       "\n",
       "\u001b[1m  Alternative Functions\u001b[22m\n",
       "\u001b[1m  -----------------------\u001b[22m\n",
       "\n",
       "  \u001b[36mepskin_r_m_v\u001b[39m, \u001b[36mepskin_r_a\u001b[39m, \u001b[36mepskin_e_theta\u001b[39m"
      ]
     },
     "execution_count": 13,
     "metadata": {},
     "output_type": "execute_result"
    }
   ],
   "source": [
    "#| echo: false\n",
    "if !isdefined(Main, :ExESS)\n",
    "include(joinpath(@__DIR__, \"..\", \"..\", \"..\", \"exess.jl\", \"src\", \"ExESS.jl\"))\n",
    "using .ExESS\n",
    "end\n",
    "@doc ExESS.epskin_vesc_v"
   ]
  },
  {
   "cell_type": "code",
   "execution_count": 14,
   "id": "e1164515",
   "metadata": {},
   "outputs": [
    {
     "data": {
      "text/latex": [
       "\\begin{verbatim}\n",
       "[1] epskin_r_m_v(r::Real, m::Real, v::AbstractVector)\n",
       "[2] epskin_r_m_v(r::Real, m::Real, v::LocalCartesianVelocity)\n",
       "\\end{verbatim}\n",
       "Calculates the squared fraction of the velocity vector \\texttt{v}, based on the orbital radius  \\texttt{r} and the body's mass \\texttt{m}.\n",
       "\n",
       "\\paragraph{Alternative Functions}\n",
       "\\texttt{epskin\\_vesc\\_v}, \\texttt{epskin\\_r\\_a}, \\texttt{epskin\\_e\\_theta}\n",
       "\n"
      ],
      "text/markdown": [
       "```\n",
       "[1] epskin_r_m_v(r::Real, m::Real, v::AbstractVector)\n",
       "[2] epskin_r_m_v(r::Real, m::Real, v::LocalCartesianVelocity)\n",
       "```\n",
       "\n",
       "Calculates the squared fraction of the velocity vector `v`, based on the orbital radius  `r` and the body's mass `m`.\n",
       "\n",
       "#### Alternative Functions\n",
       "\n",
       "`epskin_vesc_v`, `epskin_r_a`, `epskin_e_theta`\n"
      ],
      "text/plain": [
       "\u001b[36m  [1] epskin_r_m_v(r::Real, m::Real, v::AbstractVector)\u001b[39m\n",
       "\u001b[36m  [2] epskin_r_m_v(r::Real, m::Real, v::LocalCartesianVelocity)\u001b[39m\n",
       "\n",
       "  Calculates the squared fraction of the velocity vector \u001b[36mv\u001b[39m, based on the\n",
       "  orbital radius \u001b[36mr\u001b[39m and the body's mass \u001b[36mm\u001b[39m.\n",
       "\n",
       "\u001b[1m  Alternative Functions\u001b[22m\n",
       "\u001b[1m  -----------------------\u001b[22m\n",
       "\n",
       "  \u001b[36mepskin_vesc_v\u001b[39m, \u001b[36mepskin_r_a\u001b[39m, \u001b[36mepskin_e_theta\u001b[39m"
      ]
     },
     "execution_count": 14,
     "metadata": {},
     "output_type": "execute_result"
    }
   ],
   "source": [
    "#| echo: false\n",
    "if !isdefined(Main, :ExESS)\n",
    "include(joinpath(@__DIR__, \"..\", \"..\", \"..\", \"exess.jl\", \"src\", \"ExESS.jl\"))\n",
    "using .ExESS\n",
    "end\n",
    "@doc ExESS.epskin_r_m_v"
   ]
  },
  {
   "cell_type": "code",
   "execution_count": 15,
   "id": "cb274fd3",
   "metadata": {},
   "outputs": [
    {
     "data": {
      "text/latex": [
       "\\begin{verbatim}\n",
       "[1] epskin_r_a(r::Real, a::Real)\n",
       "\\end{verbatim}\n",
       "Calculates the squared fraction of the velocity at the radial position \\texttt{r} on an orbit defined through the semi-major axis \\texttt{a}.\n",
       "\n",
       "\\paragraph{Alternative Functions}\n",
       "\\texttt{epskin\\_vesc\\_v}, \\texttt{epskin\\_r\\_m\\_v}, \\texttt{epskin\\_e\\_theta}\n",
       "\n"
      ],
      "text/markdown": [
       "```\n",
       "[1] epskin_r_a(r::Real, a::Real)\n",
       "```\n",
       "\n",
       "Calculates the squared fraction of the velocity at the radial position `r` on an orbit defined through the semi-major axis `a`.\n",
       "\n",
       "#### Alternative Functions\n",
       "\n",
       "`epskin_vesc_v`, `epskin_r_m_v`, `epskin_e_theta`\n"
      ],
      "text/plain": [
       "\u001b[36m  [1] epskin_r_a(r::Real, a::Real)\u001b[39m\n",
       "\n",
       "  Calculates the squared fraction of the velocity at the radial position \u001b[36mr\u001b[39m on\n",
       "  an orbit defined through the semi-major axis \u001b[36ma\u001b[39m.\n",
       "\n",
       "\u001b[1m  Alternative Functions\u001b[22m\n",
       "\u001b[1m  -----------------------\u001b[22m\n",
       "\n",
       "  \u001b[36mepskin_vesc_v\u001b[39m, \u001b[36mepskin_r_m_v\u001b[39m, \u001b[36mepskin_e_theta\u001b[39m"
      ]
     },
     "execution_count": 15,
     "metadata": {},
     "output_type": "execute_result"
    }
   ],
   "source": [
    "#| echo: false\n",
    "if !isdefined(Main, :ExESS)\n",
    "include(joinpath(@__DIR__, \"..\", \"..\", \"..\", \"exess.jl\", \"src\", \"ExESS.jl\"))\n",
    "using .ExESS\n",
    "end\n",
    "@doc ExESS.epskin_r_a"
   ]
  },
  {
   "cell_type": "code",
   "execution_count": 16,
   "id": "abe9ce3d",
   "metadata": {},
   "outputs": [
    {
     "data": {
      "text/latex": [
       "\\begin{verbatim}\n",
       "[1] epskin_e_theta(e::Real, theta::Real)\n",
       "\\end{verbatim}\n",
       "Calculates the squared fraction of the velocity at the angular position \\texttt{theta} on an orbit defined through the eccentricity \\texttt{e}.\n",
       "\n",
       "\\paragraph{Alternative Functions}\n",
       "\\texttt{epskin\\_vesc\\_v}, \\texttt{epskin\\_r\\_m\\_v}, \\texttt{epskin\\_r\\_a}\n",
       "\n"
      ],
      "text/markdown": [
       "```\n",
       "[1] epskin_e_theta(e::Real, theta::Real)\n",
       "```\n",
       "\n",
       "Calculates the squared fraction of the velocity at the angular position `theta` on an orbit defined through the eccentricity `e`.\n",
       "\n",
       "#### Alternative Functions\n",
       "\n",
       "`epskin_vesc_v`, `epskin_r_m_v`, `epskin_r_a`\n"
      ],
      "text/plain": [
       "\u001b[36m  [1] epskin_e_theta(e::Real, theta::Real)\u001b[39m\n",
       "\n",
       "  Calculates the squared fraction of the velocity at the angular position\n",
       "  \u001b[36mtheta\u001b[39m on an orbit defined through the eccentricity \u001b[36me\u001b[39m.\n",
       "\n",
       "\u001b[1m  Alternative Functions\u001b[22m\n",
       "\u001b[1m  -----------------------\u001b[22m\n",
       "\n",
       "  \u001b[36mepskin_vesc_v\u001b[39m, \u001b[36mepskin_r_m_v\u001b[39m, \u001b[36mepskin_r_a\u001b[39m"
      ]
     },
     "execution_count": 16,
     "metadata": {},
     "output_type": "execute_result"
    }
   ],
   "source": [
    "#| echo: false\n",
    "if !isdefined(Main, :ExESS)\n",
    "include(joinpath(@__DIR__, \"..\", \"..\", \"..\", \"exess.jl\", \"src\", \"ExESS.jl\"))\n",
    "using .ExESS\n",
    "end\n",
    "@doc ExESS.epskin_e_theta"
   ]
  },
  {
   "cell_type": "code",
   "execution_count": 17,
   "id": "78bb5831",
   "metadata": {},
   "outputs": [
    {
     "data": {
      "text/latex": [
       "\\begin{verbatim}\n",
       "[1] ground_distance_R_dtheta(R::Real, dtheta::Real)\n",
       "\\end{verbatim}\n",
       "Calculates the ground flight distance covered by an angle \\texttt{dtheta} of an elliptical orbit,  which intersects with a body of radius \\texttt{R}.\n",
       "\n",
       "\\paragraph{Alternative Functions}\n",
       "\\texttt{ground\\_distance\\_R\\_a\\_e}\n",
       "\n"
      ],
      "text/markdown": [
       "```\n",
       "[1] ground_distance_R_dtheta(R::Real, dtheta::Real)\n",
       "```\n",
       "\n",
       "Calculates the ground flight distance covered by an angle `dtheta` of an elliptical orbit,  which intersects with a body of radius `R`.\n",
       "\n",
       "#### Alternative Functions\n",
       "\n",
       "`ground_distance_R_a_e`\n"
      ],
      "text/plain": [
       "\u001b[36m  [1] ground_distance_R_dtheta(R::Real, dtheta::Real)\u001b[39m\n",
       "\n",
       "  Calculates the ground flight distance covered by an angle \u001b[36mdtheta\u001b[39m of an\n",
       "  elliptical orbit, which intersects with a body of radius \u001b[36mR\u001b[39m.\n",
       "\n",
       "\u001b[1m  Alternative Functions\u001b[22m\n",
       "\u001b[1m  -----------------------\u001b[22m\n",
       "\n",
       "  \u001b[36mground_distance_R_a_e\u001b[39m"
      ]
     },
     "execution_count": 17,
     "metadata": {},
     "output_type": "execute_result"
    }
   ],
   "source": [
    "#| echo: false\n",
    "if !isdefined(Main, :ExESS)\n",
    "include(joinpath(@__DIR__, \"..\", \"..\", \"..\", \"exess.jl\", \"src\", \"ExESS.jl\"))\n",
    "using .ExESS\n",
    "end\n",
    "@doc ExESS.ground_distance_R_dtheta"
   ]
  },
  {
   "cell_type": "code",
   "execution_count": 18,
   "id": "a5e05c84",
   "metadata": {},
   "outputs": [
    {
     "data": {
      "text/latex": [
       "\\begin{verbatim}\n",
       "[1] ground_distance_R_a_e(R::Real, a::Real, e::Real)\n",
       "\\end{verbatim}\n",
       "Calculates the ground flight distance covered based on the radius of the body \\texttt{R}, the  orbit's semi-major axis \\texttt{a}, and the eccentricity \\texttt{e}.\n",
       "\n",
       "\\paragraph{Alternative Functions}\n",
       "\\texttt{ground\\_distance\\_R\\_dtheta}\n",
       "\n"
      ],
      "text/markdown": [
       "```\n",
       "[1] ground_distance_R_a_e(R::Real, a::Real, e::Real)\n",
       "```\n",
       "\n",
       "Calculates the ground flight distance covered based on the radius of the body `R`, the  orbit's semi-major axis `a`, and the eccentricity `e`.\n",
       "\n",
       "#### Alternative Functions\n",
       "\n",
       "`ground_distance_R_dtheta`\n"
      ],
      "text/plain": [
       "\u001b[36m  [1] ground_distance_R_a_e(R::Real, a::Real, e::Real)\u001b[39m\n",
       "\n",
       "  Calculates the ground flight distance covered based on the radius of the\n",
       "  body \u001b[36mR\u001b[39m, the orbit's semi-major axis \u001b[36ma\u001b[39m, and the eccentricity \u001b[36me\u001b[39m.\n",
       "\n",
       "\u001b[1m  Alternative Functions\u001b[22m\n",
       "\u001b[1m  -----------------------\u001b[22m\n",
       "\n",
       "  \u001b[36mground_distance_R_dtheta\u001b[39m"
      ]
     },
     "execution_count": 18,
     "metadata": {},
     "output_type": "execute_result"
    }
   ],
   "source": [
    "#| echo: false\n",
    "if !isdefined(Main, :ExESS)\n",
    "include(joinpath(@__DIR__, \"..\", \"..\", \"..\", \"exess.jl\", \"src\", \"ExESS.jl\"))\n",
    "using .ExESS\n",
    "end\n",
    "@doc ExESS.ground_distance_R_a_e"
   ]
  },
  {
   "cell_type": "code",
   "execution_count": 19,
   "id": "c19f7721",
   "metadata": {},
   "outputs": [
    {
     "data": {
      "text/latex": [
       "\\begin{verbatim}\n",
       "[1] mean_anomaly_e_E(e::Real, E::Real)\n",
       "\\end{verbatim}\n",
       "Calculates the mean anomaly, given the orbit's eccentricity \\texttt{e} and the eccentric anomaly \\texttt{E}.\n",
       "\n",
       "\\paragraph{Alternative Functions}\n",
       "\\texttt{mean\\_anomaly\\_e\\_theta}\n",
       "\n"
      ],
      "text/markdown": [
       "```\n",
       "[1] mean_anomaly_e_E(e::Real, E::Real)\n",
       "```\n",
       "\n",
       "Calculates the mean anomaly, given the orbit's eccentricity `e` and the eccentric anomaly `E`.\n",
       "\n",
       "#### Alternative Functions\n",
       "\n",
       "`mean_anomaly_e_theta`\n"
      ],
      "text/plain": [
       "\u001b[36m  [1] mean_anomaly_e_E(e::Real, E::Real)\u001b[39m\n",
       "\n",
       "  Calculates the mean anomaly, given the orbit's eccentricity \u001b[36me\u001b[39m and the\n",
       "  eccentric anomaly \u001b[36mE\u001b[39m.\n",
       "\n",
       "\u001b[1m  Alternative Functions\u001b[22m\n",
       "\u001b[1m  -----------------------\u001b[22m\n",
       "\n",
       "  \u001b[36mmean_anomaly_e_theta\u001b[39m"
      ]
     },
     "execution_count": 19,
     "metadata": {},
     "output_type": "execute_result"
    }
   ],
   "source": [
    "#| echo: false\n",
    "if !isdefined(Main, :ExESS)\n",
    "include(joinpath(@__DIR__, \"..\", \"..\", \"..\", \"exess.jl\", \"src\", \"ExESS.jl\"))\n",
    "using .ExESS\n",
    "end\n",
    "@doc ExESS.mean_anomaly_e_E"
   ]
  },
  {
   "cell_type": "code",
   "execution_count": 20,
   "id": "0e398e52",
   "metadata": {},
   "outputs": [
    {
     "data": {
      "text/latex": [
       "\\begin{verbatim}\n",
       "[1] mean_anomaly_e_theta(e::Real, theta::Real)\n",
       "\\end{verbatim}\n",
       "Calculates the mean anomaly, given the orbit's eccentricity \\texttt{e} and the true anomaly \\texttt{theta}.\n",
       "\n",
       "\\paragraph{Alternative Functions}\n",
       "\\texttt{mean\\_anomaly\\_e\\_E}\n",
       "\n"
      ],
      "text/markdown": [
       "```\n",
       "[1] mean_anomaly_e_theta(e::Real, theta::Real)\n",
       "```\n",
       "\n",
       "Calculates the mean anomaly, given the orbit's eccentricity `e` and the true anomaly `theta`.\n",
       "\n",
       "#### Alternative Functions\n",
       "\n",
       "`mean_anomaly_e_E`\n"
      ],
      "text/plain": [
       "\u001b[36m  [1] mean_anomaly_e_theta(e::Real, theta::Real)\u001b[39m\n",
       "\n",
       "  Calculates the mean anomaly, given the orbit's eccentricity \u001b[36me\u001b[39m and the true\n",
       "  anomaly \u001b[36mtheta\u001b[39m.\n",
       "\n",
       "\u001b[1m  Alternative Functions\u001b[22m\n",
       "\u001b[1m  -----------------------\u001b[22m\n",
       "\n",
       "  \u001b[36mmean_anomaly_e_E\u001b[39m"
      ]
     },
     "execution_count": 20,
     "metadata": {},
     "output_type": "execute_result"
    }
   ],
   "source": [
    "#| echo: false\n",
    "if !isdefined(Main, :ExESS)\n",
    "include(joinpath(@__DIR__, \"..\", \"..\", \"..\", \"exess.jl\", \"src\", \"ExESS.jl\"))\n",
    "using .ExESS\n",
    "end\n",
    "@doc ExESS.mean_anomaly_e_theta"
   ]
  },
  {
   "cell_type": "code",
   "execution_count": 21,
   "id": "78d797d6",
   "metadata": {},
   "outputs": [
    {
     "data": {
      "text/latex": [
       "\\begin{verbatim}\n",
       "[1] orbit_period_a_m(a::Real, m::Real)\n",
       "\\end{verbatim}\n",
       "Calculates the period of an elliptical orbit, based on the semi-major axis \\texttt{a}, and the body's mass \\texttt{m}.\n",
       "\n"
      ],
      "text/markdown": [
       "```\n",
       "[1] orbit_period_a_m(a::Real, m::Real)\n",
       "```\n",
       "\n",
       "Calculates the period of an elliptical orbit, based on the semi-major axis `a`, and the body's mass `m`.\n"
      ],
      "text/plain": [
       "\u001b[36m  [1] orbit_period_a_m(a::Real, m::Real)\u001b[39m\n",
       "\n",
       "  Calculates the period of an elliptical orbit, based on the semi-major axis\n",
       "  \u001b[36ma\u001b[39m, and the body's mass \u001b[36mm\u001b[39m."
      ]
     },
     "execution_count": 21,
     "metadata": {},
     "output_type": "execute_result"
    }
   ],
   "source": [
    "#| echo: false\n",
    "if !isdefined(Main, :ExESS)\n",
    "include(joinpath(@__DIR__, \"..\", \"..\", \"..\", \"exess.jl\", \"src\", \"ExESS.jl\"))\n",
    "using .ExESS\n",
    "end\n",
    "@doc ExESS.orbit_period_a_m"
   ]
  },
  {
   "cell_type": "code",
   "execution_count": 22,
   "id": "8626cb8f",
   "metadata": {},
   "outputs": [
    {
     "data": {
      "text/latex": [
       "\\begin{verbatim}\n",
       "[1] orbit_time_M_P(M::Real, P::Real)\n",
       "\\end{verbatim}\n",
       "Calculates the time at the position of an orbit defined through the mean anomaly \\texttt{M}, as  well as the orbital period \\texttt{P}.\n",
       "\n",
       "\\paragraph{Alternative Functions}\n",
       "\\texttt{orbit\\_time\\_e\\_E\\_P}, \\texttt{orbit\\_time\\_e\\_theta\\_P}\n",
       "\n"
      ],
      "text/markdown": [
       "```\n",
       "[1] orbit_time_M_P(M::Real, P::Real)\n",
       "```\n",
       "\n",
       "Calculates the time at the position of an orbit defined through the mean anomaly `M`, as  well as the orbital period `P`.\n",
       "\n",
       "#### Alternative Functions\n",
       "\n",
       "`orbit_time_e_E_P`, `orbit_time_e_theta_P`\n"
      ],
      "text/plain": [
       "\u001b[36m  [1] orbit_time_M_P(M::Real, P::Real)\u001b[39m\n",
       "\n",
       "  Calculates the time at the position of an orbit defined through the mean\n",
       "  anomaly \u001b[36mM\u001b[39m, as well as the orbital period \u001b[36mP\u001b[39m.\n",
       "\n",
       "\u001b[1m  Alternative Functions\u001b[22m\n",
       "\u001b[1m  -----------------------\u001b[22m\n",
       "\n",
       "  \u001b[36morbit_time_e_E_P\u001b[39m, \u001b[36morbit_time_e_theta_P\u001b[39m"
      ]
     },
     "execution_count": 22,
     "metadata": {},
     "output_type": "execute_result"
    }
   ],
   "source": [
    "#| echo: false\n",
    "if !isdefined(Main, :ExESS)\n",
    "include(joinpath(@__DIR__, \"..\", \"..\", \"..\", \"exess.jl\", \"src\", \"ExESS.jl\"))\n",
    "using .ExESS\n",
    "end\n",
    "@doc ExESS.orbit_time_M_P"
   ]
  },
  {
   "cell_type": "code",
   "execution_count": 23,
   "id": "49efbfa1",
   "metadata": {},
   "outputs": [
    {
     "data": {
      "text/latex": [
       "\\begin{verbatim}\n",
       "[1] orbit_time_e_E_P(e::Real, E::Real, P::Real)\n",
       "\\end{verbatim}\n",
       "Calculates the time at the position of an orbit defined through the eccentric anomaly \\texttt{E},  the eccentricity \\texttt{e}, and the orbital period \\texttt{P}.\n",
       "\n",
       "\\paragraph{Alternative Functions}\n",
       "\\texttt{orbit\\_time\\_M\\_P}, \\texttt{orbit\\_time\\_e\\_theta\\_P}\n",
       "\n"
      ],
      "text/markdown": [
       "```\n",
       "[1] orbit_time_e_E_P(e::Real, E::Real, P::Real)\n",
       "```\n",
       "\n",
       "Calculates the time at the position of an orbit defined through the eccentric anomaly `E`,  the eccentricity `e`, and the orbital period `P`.\n",
       "\n",
       "#### Alternative Functions\n",
       "\n",
       "`orbit_time_M_P`, `orbit_time_e_theta_P`\n"
      ],
      "text/plain": [
       "\u001b[36m  [1] orbit_time_e_E_P(e::Real, E::Real, P::Real)\u001b[39m\n",
       "\n",
       "  Calculates the time at the position of an orbit defined through the\n",
       "  eccentric anomaly \u001b[36mE\u001b[39m, the eccentricity \u001b[36me\u001b[39m, and the orbital period \u001b[36mP\u001b[39m.\n",
       "\n",
       "\u001b[1m  Alternative Functions\u001b[22m\n",
       "\u001b[1m  -----------------------\u001b[22m\n",
       "\n",
       "  \u001b[36morbit_time_M_P\u001b[39m, \u001b[36morbit_time_e_theta_P\u001b[39m"
      ]
     },
     "execution_count": 23,
     "metadata": {},
     "output_type": "execute_result"
    }
   ],
   "source": [
    "#| echo: false\n",
    "if !isdefined(Main, :ExESS)\n",
    "include(joinpath(@__DIR__, \"..\", \"..\", \"..\", \"exess.jl\", \"src\", \"ExESS.jl\"))\n",
    "using .ExESS\n",
    "end\n",
    "@doc ExESS.orbit_time_e_E_P"
   ]
  },
  {
   "cell_type": "code",
   "execution_count": 24,
   "id": "cca6591d",
   "metadata": {},
   "outputs": [
    {
     "data": {
      "text/latex": [
       "\\begin{verbatim}\n",
       "[1] orbit_time_e_theta_P(e::Real, theta::Real, P::Real)\n",
       "\\end{verbatim}\n",
       "Calculates the time at the position of an orbit defined through the true anomaly \\texttt{theta},  the eccentricity \\texttt{e}, and the orbital period \\texttt{P}.\n",
       "\n",
       "\\paragraph{Alternative Functions}\n",
       "\\texttt{orbit\\_time\\_M\\_P}, \\texttt{orbit\\_time\\_e\\_E\\_P}\n",
       "\n"
      ],
      "text/markdown": [
       "```\n",
       "[1] orbit_time_e_theta_P(e::Real, theta::Real, P::Real)\n",
       "```\n",
       "\n",
       "Calculates the time at the position of an orbit defined through the true anomaly `theta`,  the eccentricity `e`, and the orbital period `P`.\n",
       "\n",
       "#### Alternative Functions\n",
       "\n",
       "`orbit_time_M_P`, `orbit_time_e_E_P`\n"
      ],
      "text/plain": [
       "\u001b[36m  [1] orbit_time_e_theta_P(e::Real, theta::Real, P::Real)\u001b[39m\n",
       "\n",
       "  Calculates the time at the position of an orbit defined through the true\n",
       "  anomaly \u001b[36mtheta\u001b[39m, the eccentricity \u001b[36me\u001b[39m, and the orbital period \u001b[36mP\u001b[39m.\n",
       "\n",
       "\u001b[1m  Alternative Functions\u001b[22m\n",
       "\u001b[1m  -----------------------\u001b[22m\n",
       "\n",
       "  \u001b[36morbit_time_M_P\u001b[39m, \u001b[36morbit_time_e_E_P\u001b[39m"
      ]
     },
     "execution_count": 24,
     "metadata": {},
     "output_type": "execute_result"
    }
   ],
   "source": [
    "#| echo: false\n",
    "if !isdefined(Main, :ExESS)\n",
    "include(joinpath(@__DIR__, \"..\", \"..\", \"..\", \"exess.jl\", \"src\", \"ExESS.jl\"))\n",
    "using .ExESS\n",
    "end\n",
    "@doc ExESS.orbit_time_e_theta_P"
   ]
  },
  {
   "cell_type": "code",
   "execution_count": 25,
   "id": "abee7695",
   "metadata": {},
   "outputs": [
    {
     "data": {
      "text/latex": [
       "\\begin{verbatim}\n",
       "[1] semi_latus_rectum_a_e(a::Real, e::Real)\n",
       "\\end{verbatim}\n",
       "Calculates the semi-latus-rectum of the elliptical trajetory defined through the semi-major axis \\texttt{a} and the eccentricity \\texttt{e}.\n",
       "\n",
       "\\paragraph{Alternative Functions}\n",
       "\\texttt{semi\\_latus\\_rectum\\_r\\_e\\_theta}\n",
       "\n"
      ],
      "text/markdown": [
       "```\n",
       "[1] semi_latus_rectum_a_e(a::Real, e::Real)\n",
       "```\n",
       "\n",
       "Calculates the semi-latus-rectum of the elliptical trajetory defined through the semi-major axis `a` and the eccentricity `e`.\n",
       "\n",
       "#### Alternative Functions\n",
       "\n",
       "`semi_latus_rectum_r_e_theta`\n"
      ],
      "text/plain": [
       "\u001b[36m  [1] semi_latus_rectum_a_e(a::Real, e::Real)\u001b[39m\n",
       "\n",
       "  Calculates the semi-latus-rectum of the elliptical trajetory defined through\n",
       "  the semi-major axis \u001b[36ma\u001b[39m and the eccentricity \u001b[36me\u001b[39m.\n",
       "\n",
       "\u001b[1m  Alternative Functions\u001b[22m\n",
       "\u001b[1m  -----------------------\u001b[22m\n",
       "\n",
       "  \u001b[36msemi_latus_rectum_r_e_theta\u001b[39m"
      ]
     },
     "execution_count": 25,
     "metadata": {},
     "output_type": "execute_result"
    }
   ],
   "source": [
    "#| echo: false\n",
    "if !isdefined(Main, :ExESS)\n",
    "include(joinpath(@__DIR__, \"..\", \"..\", \"..\", \"exess.jl\", \"src\", \"ExESS.jl\"))\n",
    "using .ExESS\n",
    "end\n",
    "@doc ExESS.semi_latus_rectum_a_e"
   ]
  },
  {
   "cell_type": "code",
   "execution_count": 26,
   "id": "f2445cda",
   "metadata": {},
   "outputs": [
    {
     "data": {
      "text/latex": [
       "\\begin{verbatim}\n",
       "[1] semi_latus_rectum_r_e_theta(r::Real, e::Real, theta::Real)\n",
       "\\end{verbatim}\n",
       "Calculates the semi-latus-rectum of the elliptical trajetory based on the orbital radius \\texttt{r}, the eccentricity \\texttt{e}, and the true anomaly \\texttt{theta}\n",
       "\n",
       "\\paragraph{Alternative Functions}\n",
       "\\texttt{semi\\_latus\\_rectum\\_a\\_e}\n",
       "\n"
      ],
      "text/markdown": [
       "```\n",
       "[1] semi_latus_rectum_r_e_theta(r::Real, e::Real, theta::Real)\n",
       "```\n",
       "\n",
       "Calculates the semi-latus-rectum of the elliptical trajetory based on the orbital radius `r`, the eccentricity `e`, and the true anomaly `theta`\n",
       "\n",
       "#### Alternative Functions\n",
       "\n",
       "`semi_latus_rectum_a_e`\n"
      ],
      "text/plain": [
       "\u001b[36m  [1] semi_latus_rectum_r_e_theta(r::Real, e::Real, theta::Real)\u001b[39m\n",
       "\n",
       "  Calculates the semi-latus-rectum of the elliptical trajetory based on the\n",
       "  orbital radius \u001b[36mr\u001b[39m, the eccentricity \u001b[36me\u001b[39m, and the true anomaly \u001b[36mtheta\u001b[39m\n",
       "\n",
       "\u001b[1m  Alternative Functions\u001b[22m\n",
       "\u001b[1m  -----------------------\u001b[22m\n",
       "\n",
       "  \u001b[36msemi_latus_rectum_a_e\u001b[39m"
      ]
     },
     "execution_count": 26,
     "metadata": {},
     "output_type": "execute_result"
    }
   ],
   "source": [
    "#| echo: false\n",
    "if !isdefined(Main, :ExESS)\n",
    "include(joinpath(@__DIR__, \"..\", \"..\", \"..\", \"exess.jl\", \"src\", \"ExESS.jl\"))\n",
    "using .ExESS\n",
    "end\n",
    "@doc ExESS.semi_latus_rectum_r_e_theta"
   ]
  },
  {
   "cell_type": "code",
   "execution_count": 27,
   "id": "5dbae7e8",
   "metadata": {},
   "outputs": [
    {
     "data": {
      "text/latex": [
       "\\begin{verbatim}\n",
       "[1] semi_major_axis_r_epskin(r::Real, epskin::Real)\n",
       "\\end{verbatim}\n",
       "Calculates the semi-major axis of an elliptical orbit with the current orbital  radius \\texttt{r} and the trajectory's squared escape velocity fraction \\texttt{epskin}.\n",
       "\n",
       "\\paragraph{Alternative Functions}\n",
       "\\texttt{semi\\_major\\_axis\\_r\\_m\\_v}, \\texttt{semi\\_major\\_axis\\_p\\_e}, \\texttt{semi\\_major\\_axis\\_r\\_e\\_theta}\n",
       "\n"
      ],
      "text/markdown": [
       "```\n",
       "[1] semi_major_axis_r_epskin(r::Real, epskin::Real)\n",
       "```\n",
       "\n",
       "Calculates the semi-major axis of an elliptical orbit with the current orbital  radius `r` and the trajectory's squared escape velocity fraction `epskin`.\n",
       "\n",
       "#### Alternative Functions\n",
       "\n",
       "`semi_major_axis_r_m_v`, `semi_major_axis_p_e`, `semi_major_axis_r_e_theta`\n"
      ],
      "text/plain": [
       "\u001b[36m  [1] semi_major_axis_r_epskin(r::Real, epskin::Real)\u001b[39m\n",
       "\n",
       "  Calculates the semi-major axis of an elliptical orbit with the current\n",
       "  orbital radius \u001b[36mr\u001b[39m and the trajectory's squared escape velocity fraction\n",
       "  \u001b[36mepskin\u001b[39m.\n",
       "\n",
       "\u001b[1m  Alternative Functions\u001b[22m\n",
       "\u001b[1m  -----------------------\u001b[22m\n",
       "\n",
       "  \u001b[36msemi_major_axis_r_m_v\u001b[39m, \u001b[36msemi_major_axis_p_e\u001b[39m, \u001b[36msemi_major_axis_r_e_theta\u001b[39m"
      ]
     },
     "execution_count": 27,
     "metadata": {},
     "output_type": "execute_result"
    }
   ],
   "source": [
    "#| echo: false\n",
    "if !isdefined(Main, :ExESS)\n",
    "include(joinpath(@__DIR__, \"..\", \"..\", \"..\", \"exess.jl\", \"src\", \"ExESS.jl\"))\n",
    "using .ExESS\n",
    "end\n",
    "@doc ExESS.semi_major_axis_r_epskin"
   ]
  },
  {
   "cell_type": "code",
   "execution_count": 28,
   "id": "3a1bf3ce",
   "metadata": {},
   "outputs": [
    {
     "data": {
      "text/latex": [
       "\\begin{verbatim}\n",
       "[1] semi_major_axis_r_m_v(r::Real, m::Real, v::AbstractVector)\n",
       "[2] semi_major_axis_r_m_v(r::Real, m::Real, v::LocalCartesianVelocity)\n",
       "\\end{verbatim}\n",
       "Calculates the semi-major axis of an elliptical orbit with the current orbital  radius \\texttt{r}, the body's mass \\texttt{m}, and the velocity vector \\texttt{v}.\n",
       "\n",
       "\\paragraph{Alternative Functions}\n",
       "\\texttt{semi\\_major\\_axis\\_r\\_epskin}, \\texttt{semi\\_major\\_axis\\_p\\_e}, \\texttt{semi\\_major\\_axis\\_r\\_e\\_theta}\n",
       "\n"
      ],
      "text/markdown": [
       "```\n",
       "[1] semi_major_axis_r_m_v(r::Real, m::Real, v::AbstractVector)\n",
       "[2] semi_major_axis_r_m_v(r::Real, m::Real, v::LocalCartesianVelocity)\n",
       "```\n",
       "\n",
       "Calculates the semi-major axis of an elliptical orbit with the current orbital  radius `r`, the body's mass `m`, and the velocity vector `v`.\n",
       "\n",
       "#### Alternative Functions\n",
       "\n",
       "`semi_major_axis_r_epskin`, `semi_major_axis_p_e`, `semi_major_axis_r_e_theta`\n"
      ],
      "text/plain": [
       "\u001b[36m  [1] semi_major_axis_r_m_v(r::Real, m::Real, v::AbstractVector)\u001b[39m\n",
       "\u001b[36m  [2] semi_major_axis_r_m_v(r::Real, m::Real, v::LocalCartesianVelocity)\u001b[39m\n",
       "\n",
       "  Calculates the semi-major axis of an elliptical orbit with the current\n",
       "  orbital radius \u001b[36mr\u001b[39m, the body's mass \u001b[36mm\u001b[39m, and the velocity vector \u001b[36mv\u001b[39m.\n",
       "\n",
       "\u001b[1m  Alternative Functions\u001b[22m\n",
       "\u001b[1m  -----------------------\u001b[22m\n",
       "\n",
       "  \u001b[36msemi_major_axis_r_epskin\u001b[39m, \u001b[36msemi_major_axis_p_e\u001b[39m, \u001b[36msemi_major_axis_r_e_theta\u001b[39m"
      ]
     },
     "execution_count": 28,
     "metadata": {},
     "output_type": "execute_result"
    }
   ],
   "source": [
    "#| echo: false\n",
    "if !isdefined(Main, :ExESS)\n",
    "include(joinpath(@__DIR__, \"..\", \"..\", \"..\", \"exess.jl\", \"src\", \"ExESS.jl\"))\n",
    "using .ExESS\n",
    "end\n",
    "@doc ExESS.semi_major_axis_r_m_v"
   ]
  },
  {
   "cell_type": "code",
   "execution_count": 29,
   "id": "949b6896",
   "metadata": {},
   "outputs": [
    {
     "data": {
      "text/latex": [
       "\\begin{verbatim}\n",
       "[1] semi_major_axis_p_e(p::Real, e::Real)\n",
       "\\end{verbatim}\n",
       "Calculates the semi-major axis of an elliptical orbit with the semi-latus rectum \\texttt{p} and  eccentricity \\texttt{e}.\n",
       "\n",
       "\\paragraph{Alternative Functions}\n",
       "\\texttt{semi\\_major\\_axis\\_r\\_epskin}, \\texttt{semi\\_major\\_axis\\_r\\_m\\_v}, \\texttt{semi\\_major\\_axis\\_r\\_e\\_theta}\n",
       "\n"
      ],
      "text/markdown": [
       "```\n",
       "[1] semi_major_axis_p_e(p::Real, e::Real)\n",
       "```\n",
       "\n",
       "Calculates the semi-major axis of an elliptical orbit with the semi-latus rectum `p` and  eccentricity `e`.\n",
       "\n",
       "#### Alternative Functions\n",
       "\n",
       "`semi_major_axis_r_epskin`, `semi_major_axis_r_m_v`, `semi_major_axis_r_e_theta`\n"
      ],
      "text/plain": [
       "\u001b[36m  [1] semi_major_axis_p_e(p::Real, e::Real)\u001b[39m\n",
       "\n",
       "  Calculates the semi-major axis of an elliptical orbit with the semi-latus\n",
       "  rectum \u001b[36mp\u001b[39m and eccentricity \u001b[36me\u001b[39m.\n",
       "\n",
       "\u001b[1m  Alternative Functions\u001b[22m\n",
       "\u001b[1m  -----------------------\u001b[22m\n",
       "\n",
       "  \u001b[36msemi_major_axis_r_epskin\u001b[39m, \u001b[36msemi_major_axis_r_m_v\u001b[39m, \u001b[36msemi_major_axis_r_e_theta\u001b[39m"
      ]
     },
     "execution_count": 29,
     "metadata": {},
     "output_type": "execute_result"
    }
   ],
   "source": [
    "#| echo: false\n",
    "if !isdefined(Main, :ExESS)\n",
    "include(joinpath(@__DIR__, \"..\", \"..\", \"..\", \"exess.jl\", \"src\", \"ExESS.jl\"))\n",
    "using .ExESS\n",
    "end\n",
    "@doc ExESS.semi_major_axis_p_e"
   ]
  },
  {
   "cell_type": "code",
   "execution_count": 30,
   "id": "d860601c",
   "metadata": {},
   "outputs": [
    {
     "data": {
      "text/latex": [
       "\\begin{verbatim}\n",
       "[1] semi_major_axis_r_e_theta(r::Real, e::Real, theta::Real)\n",
       "\\end{verbatim}\n",
       "Calculates the semi-major axis of an elliptical orbit with the oribital radius \\texttt{r}, the eccentricity \\texttt{e}, and the true anomaly \\texttt{theta}.\n",
       "\n",
       "\\paragraph{Alternative Functions}\n",
       "\\texttt{semi\\_major\\_axis\\_r\\_epskin}, \\texttt{semi\\_major\\_axis\\_r\\_m\\_v}, \\texttt{semi\\_major\\_axis\\_p\\_e}\n",
       "\n"
      ],
      "text/markdown": [
       "```\n",
       "[1] semi_major_axis_r_e_theta(r::Real, e::Real, theta::Real)\n",
       "```\n",
       "\n",
       "Calculates the semi-major axis of an elliptical orbit with the oribital radius `r`, the eccentricity `e`, and the true anomaly `theta`.\n",
       "\n",
       "#### Alternative Functions\n",
       "\n",
       "`semi_major_axis_r_epskin`, `semi_major_axis_r_m_v`, `semi_major_axis_p_e`\n"
      ],
      "text/plain": [
       "\u001b[36m  [1] semi_major_axis_r_e_theta(r::Real, e::Real, theta::Real)\u001b[39m\n",
       "\n",
       "  Calculates the semi-major axis of an elliptical orbit with the oribital\n",
       "  radius \u001b[36mr\u001b[39m, the eccentricity \u001b[36me\u001b[39m, and the true anomaly \u001b[36mtheta\u001b[39m.\n",
       "\n",
       "\u001b[1m  Alternative Functions\u001b[22m\n",
       "\u001b[1m  -----------------------\u001b[22m\n",
       "\n",
       "  \u001b[36msemi_major_axis_r_epskin\u001b[39m, \u001b[36msemi_major_axis_r_m_v\u001b[39m, \u001b[36msemi_major_axis_p_e\u001b[39m"
      ]
     },
     "execution_count": 30,
     "metadata": {},
     "output_type": "execute_result"
    }
   ],
   "source": [
    "#| echo: false\n",
    "if !isdefined(Main, :ExESS)\n",
    "include(joinpath(@__DIR__, \"..\", \"..\", \"..\", \"exess.jl\", \"src\", \"ExESS.jl\"))\n",
    "using .ExESS\n",
    "end\n",
    "@doc ExESS.semi_major_axis_r_e_theta"
   ]
  },
  {
   "cell_type": "code",
   "execution_count": 31,
   "id": "bbc1a3de",
   "metadata": {},
   "outputs": [
    {
     "data": {
      "text/latex": [
       "\\begin{verbatim}\n",
       "[1] true_anomaly_r_a_e(r::Real, a::Real, e::Real)\n",
       "\\end{verbatim}\n",
       "Calculates the true anomaly at the radial position \\texttt{r} based on the semi-major axis \\texttt{a}, and the eccentricity of the orbit \\texttt{e}.\n",
       "\n",
       "\\paragraph{Alternative Functions}\n",
       "\\texttt{true\\_anomaly\\_e\\_epskin}, \\texttt{true\\_anomaly\\_epskin\\_v}\n",
       "\n"
      ],
      "text/markdown": [
       "```\n",
       "[1] true_anomaly_r_a_e(r::Real, a::Real, e::Real)\n",
       "```\n",
       "\n",
       "Calculates the true anomaly at the radial position `r` based on the semi-major axis `a`, and the eccentricity of the orbit `e`.\n",
       "\n",
       "#### Alternative Functions\n",
       "\n",
       "`true_anomaly_e_epskin`, `true_anomaly_epskin_v`\n"
      ],
      "text/plain": [
       "\u001b[36m  [1] true_anomaly_r_a_e(r::Real, a::Real, e::Real)\u001b[39m\n",
       "\n",
       "  Calculates the true anomaly at the radial position \u001b[36mr\u001b[39m based on the semi-major\n",
       "  axis \u001b[36ma\u001b[39m, and the eccentricity of the orbit \u001b[36me\u001b[39m.\n",
       "\n",
       "\u001b[1m  Alternative Functions\u001b[22m\n",
       "\u001b[1m  -----------------------\u001b[22m\n",
       "\n",
       "  \u001b[36mtrue_anomaly_e_epskin\u001b[39m, \u001b[36mtrue_anomaly_epskin_v\u001b[39m"
      ]
     },
     "execution_count": 31,
     "metadata": {},
     "output_type": "execute_result"
    }
   ],
   "source": [
    "#| echo: false\n",
    "if !isdefined(Main, :ExESS)\n",
    "include(joinpath(@__DIR__, \"..\", \"..\", \"..\", \"exess.jl\", \"src\", \"ExESS.jl\"))\n",
    "using .ExESS\n",
    "end\n",
    "@doc ExESS.true_anomaly_r_a_e"
   ]
  },
  {
   "cell_type": "code",
   "execution_count": 32,
   "id": "38e4666b",
   "metadata": {},
   "outputs": [
    {
     "data": {
      "text/latex": [
       "\\begin{verbatim}\n",
       "[1] true_anomaly_e_epskin(e::Real, epskin::Real)\n",
       "\\end{verbatim}\n",
       "Calculates the true anomaly based on the eccentricity of the orbit \\texttt{e} and the current squared escape velocity fraction \\texttt{epskin}.\n",
       "\n",
       "\\paragraph{Alternative Functions}\n",
       "\\texttt{true\\_anomaly\\_r\\_a\\_e}, \\texttt{true\\_anomaly\\_epskin\\_v}\n",
       "\n"
      ],
      "text/markdown": [
       "```\n",
       "[1] true_anomaly_e_epskin(e::Real, epskin::Real)\n",
       "```\n",
       "\n",
       "Calculates the true anomaly based on the eccentricity of the orbit `e` and the current squared escape velocity fraction `epskin`.\n",
       "\n",
       "#### Alternative Functions\n",
       "\n",
       "`true_anomaly_r_a_e`, `true_anomaly_epskin_v`\n"
      ],
      "text/plain": [
       "\u001b[36m  [1] true_anomaly_e_epskin(e::Real, epskin::Real)\u001b[39m\n",
       "\n",
       "  Calculates the true anomaly based on the eccentricity of the orbit \u001b[36me\u001b[39m and the\n",
       "  current squared escape velocity fraction \u001b[36mepskin\u001b[39m.\n",
       "\n",
       "\u001b[1m  Alternative Functions\u001b[22m\n",
       "\u001b[1m  -----------------------\u001b[22m\n",
       "\n",
       "  \u001b[36mtrue_anomaly_r_a_e\u001b[39m, \u001b[36mtrue_anomaly_epskin_v\u001b[39m"
      ]
     },
     "execution_count": 32,
     "metadata": {},
     "output_type": "execute_result"
    }
   ],
   "source": [
    "#| echo: false\n",
    "if !isdefined(Main, :ExESS)\n",
    "include(joinpath(@__DIR__, \"..\", \"..\", \"..\", \"exess.jl\", \"src\", \"ExESS.jl\"))\n",
    "using .ExESS\n",
    "end\n",
    "@doc ExESS.true_anomaly_e_epskin"
   ]
  },
  {
   "cell_type": "code",
   "execution_count": 33,
   "id": "7b6c33dd",
   "metadata": {},
   "outputs": [
    {
     "data": {
      "text/latex": [
       "\\begin{verbatim}\n",
       "[1] true_anomaly_epskin_v(epskin::Real, v::AbstractVector)\n",
       "[2] true_anomaly_epskin_v(epskin::Real, v::LocalCartesianVelocity)\n",
       "\\end{verbatim}\n",
       "Calculates the true anomaly based on the current velocity vector \\texttt{v} and the current squared escape velocity fraction \\texttt{epskin}.\n",
       "\n",
       "\\paragraph{Alternative Functions}\n",
       "\\texttt{true\\_anomaly\\_r\\_a\\_e}, \\texttt{true\\_anomaly\\_e\\_epskin}\n",
       "\n"
      ],
      "text/markdown": [
       "```\n",
       "[1] true_anomaly_epskin_v(epskin::Real, v::AbstractVector)\n",
       "[2] true_anomaly_epskin_v(epskin::Real, v::LocalCartesianVelocity)\n",
       "```\n",
       "\n",
       "Calculates the true anomaly based on the current velocity vector `v` and the current squared escape velocity fraction `epskin`.\n",
       "\n",
       "#### Alternative Functions\n",
       "\n",
       "`true_anomaly_r_a_e`, `true_anomaly_e_epskin`\n"
      ],
      "text/plain": [
       "\u001b[36m  [1] true_anomaly_epskin_v(epskin::Real, v::AbstractVector)\u001b[39m\n",
       "\u001b[36m  [2] true_anomaly_epskin_v(epskin::Real, v::LocalCartesianVelocity)\u001b[39m\n",
       "\n",
       "  Calculates the true anomaly based on the current velocity vector \u001b[36mv\u001b[39m and the\n",
       "  current squared escape velocity fraction \u001b[36mepskin\u001b[39m.\n",
       "\n",
       "\u001b[1m  Alternative Functions\u001b[22m\n",
       "\u001b[1m  -----------------------\u001b[22m\n",
       "\n",
       "  \u001b[36mtrue_anomaly_r_a_e\u001b[39m, \u001b[36mtrue_anomaly_e_epskin\u001b[39m"
      ]
     },
     "execution_count": 33,
     "metadata": {},
     "output_type": "execute_result"
    }
   ],
   "source": [
    "#| echo: false\n",
    "if !isdefined(Main, :ExESS)\n",
    "include(joinpath(@__DIR__, \"..\", \"..\", \"..\", \"exess.jl\", \"src\", \"ExESS.jl\"))\n",
    "using .ExESS\n",
    "end\n",
    "@doc ExESS.true_anomaly_epskin_v"
   ]
  },
  {
   "cell_type": "code",
   "execution_count": 34,
   "id": "7724e2f6",
   "metadata": {},
   "outputs": [
    {
     "data": {
      "text/latex": [
       "\\begin{verbatim}\n",
       "[1] zenith_angle_v(v::AbstractVector)\n",
       "[2] zenith_angle_v(v::LocalCartesianVelocity)\n",
       "\\end{verbatim}\n",
       "Calculates the zenith launch angle based on the launch velocity vector \\texttt{v}.\n",
       "\n"
      ],
      "text/markdown": [
       "```\n",
       "[1] zenith_angle_v(v::AbstractVector)\n",
       "[2] zenith_angle_v(v::LocalCartesianVelocity)\n",
       "```\n",
       "\n",
       "Calculates the zenith launch angle based on the launch velocity vector `v`.\n"
      ],
      "text/plain": [
       "\u001b[36m  [1] zenith_angle_v(v::AbstractVector)\u001b[39m\n",
       "\u001b[36m  [2] zenith_angle_v(v::LocalCartesianVelocity)\u001b[39m\n",
       "\n",
       "  Calculates the zenith launch angle based on the launch velocity vector \u001b[36mv\u001b[39m."
      ]
     },
     "execution_count": 34,
     "metadata": {},
     "output_type": "execute_result"
    }
   ],
   "source": [
    "#| echo: false\n",
    "if !isdefined(Main, :ExESS)\n",
    "include(joinpath(@__DIR__, \"..\", \"..\", \"..\", \"exess.jl\", \"src\", \"ExESS.jl\"))\n",
    "using .ExESS\n",
    "end\n",
    "@doc ExESS.zenith_angle_v"
   ]
  },
  {
   "cell_type": "code",
   "execution_count": 35,
   "id": "9cab954e",
   "metadata": {},
   "outputs": [
    {
     "name": "stdout",
     "output_type": "stream",
     "text": [
      "\u001b[0m\u001b[1mTest Summary:                 | \u001b[22m\u001b[32m\u001b[1mPass  \u001b[22m\u001b[39m\u001b[36m\u001b[1mTotal  \u001b[22m\u001b[39m\u001b[0m\u001b[1m Time\u001b[22m\n",
      "orbital_mechanics.jl ........ | \u001b[32m 745  \u001b[39m\u001b[36m  745  \u001b[39m\u001b[0m12.5s\n",
      "  azimuth_angle               | \u001b[32m  17  \u001b[39m\u001b[36m   17  \u001b[39m\u001b[0m 0.6s\n",
      "  eccentric_anomaly           | \u001b[32m 128  \u001b[39m\u001b[36m  128  \u001b[39m\u001b[0m 1.7s\n",
      "  epskin                      | \u001b[32m 600  \u001b[39m\u001b[36m  600  \u001b[39m\u001b[0m 9.3s\n"
     ]
    }
   ],
   "source": [
    "#| echo: false\n",
    "if !isdefined(Main, :ExESS)\n",
    "include(joinpath(@__DIR__, \"..\", \"..\", \"..\", \"exess.jl\", \"src\", \"ExESS.jl\"))\n",
    "using .ExESS\n",
    "end\n",
    "using Test\n",
    "include(joinpath(@__DIR__, \"..\", \"..\", \"..\", \"exess.jl\", \"test\", \"tests\", \"exospheres\", \"orbital_mechanics.jl\"));"
   ]
  }
 ],
 "metadata": {
  "kernelspec": {
   "display_name": "Julia 1.9.0",
   "language": "julia",
   "name": "julia-1.9"
  },
  "language_info": {
   "file_extension": ".jl",
   "mimetype": "application/julia",
   "name": "julia",
   "version": "1.9.0"
  }
 },
 "nbformat": 4,
 "nbformat_minor": 5
}