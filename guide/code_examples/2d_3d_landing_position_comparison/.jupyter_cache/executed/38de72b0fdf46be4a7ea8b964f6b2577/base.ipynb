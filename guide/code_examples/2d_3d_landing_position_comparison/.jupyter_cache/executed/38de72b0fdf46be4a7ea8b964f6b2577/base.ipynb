{
 "cells": [
  {
   "cell_type": "code",
   "execution_count": 1,
   "id": "5dd51e44",
   "metadata": {},
   "outputs": [],
   "source": [
    "import IJulia\n",
    "\n",
    "# The julia kernel has built in support for Revise.jl, so this is the \n",
    "# recommended approach for long-running sessions:\n",
    "# https://github.com/JuliaLang/IJulia.jl/blob/9b10fa9b879574bbf720f5285029e07758e50a5e/src/kernel.jl#L46-L51\n",
    "\n",
    "# Users should enable revise within .julia/config/startup_ijulia.jl:\n",
    "# https://timholy.github.io/Revise.jl/stable/config/#Using-Revise-automatically-within-Jupyter/IJulia-1\n",
    "\n",
    "# clear console history\n",
    "IJulia.clear_history()\n",
    "\n",
    "fig_width = 7\n",
    "fig_height = 5\n",
    "fig_format = :retina\n",
    "fig_dpi = 96\n",
    "\n",
    "# no retina format type, use svg for high quality type/marks\n",
    "if fig_format == :retina\n",
    "  fig_format = :svg\n",
    "elseif fig_format == :pdf\n",
    "  fig_dpi = 96\n",
    "  # Enable PDF support for IJulia\n",
    "  IJulia.register_mime(MIME(\"application/pdf\"))\n",
    "end\n",
    "\n",
    "# convert inches to pixels\n",
    "fig_width = fig_width * fig_dpi\n",
    "fig_height = fig_height * fig_dpi\n",
    "\n",
    "# Intialize Plots w/ default fig width/height\n",
    "try\n",
    "  import Plots\n",
    "\n",
    "  # Plots.jl doesn't support PDF output for versions < 1.28.1\n",
    "  # so use png (if the DPI remains the default of 300 then set to 96)\n",
    "  if (Plots._current_plots_version < v\"1.28.1\") & (fig_format == :pdf)\n",
    "    Plots.gr(size=(fig_width, fig_height), fmt = :png, dpi = fig_dpi)\n",
    "  else\n",
    "    Plots.gr(size=(fig_width, fig_height), fmt = fig_format, dpi = fig_dpi)\n",
    "  end\n",
    "catch e\n",
    "  # @warn \"Plots init\" exception=(e, catch_backtrace())\n",
    "end\n",
    "\n",
    "# Initialize CairoMakie with default fig width/height\n",
    "try\n",
    "  import CairoMakie\n",
    "  \n",
    "  CairoMakie.activate!(type = string(fig_format))\n",
    "  CairoMakie.update_theme!(resolution=(fig_width, fig_height))\n",
    "catch e\n",
    "    # @warn \"CairoMakie init\" exception=(e, catch_backtrace())\n",
    "end\n",
    "  \n",
    "# Set run_path if specified\n",
    "try\n",
    "  run_path = raw\"/home/alexandersmolka/exess/doc/manuals/2d_3d_landing_position_comparison\"\n",
    "  if !isempty(run_path)\n",
    "    cd(run_path)\n",
    "  end\n",
    "catch e\n",
    "  @warn \"Run path init:\" exception=(e, catch_backtrace())\n",
    "end\n",
    "\n",
    "\n",
    "# emulate old Pkg.installed beahvior, see\n",
    "# https://discourse.julialang.org/t/how-to-use-pkg-dependencies-instead-of-pkg-installed/36416/9\n",
    "import Pkg\n",
    "function isinstalled(pkg::String)\n",
    "  any(x -> x.name == pkg && x.is_direct_dep, values(Pkg.dependencies()))\n",
    "end\n",
    "\n",
    "# ojs_define\n",
    "if isinstalled(\"JSON\") && isinstalled(\"DataFrames\")\n",
    "  import JSON, DataFrames\n",
    "  global function ojs_define(; kwargs...)\n",
    "    convert(x) = x\n",
    "    convert(x::DataFrames.AbstractDataFrame) = Tables.rows(x)\n",
    "    content = Dict(\"contents\" => [Dict(\"name\" => k, \"value\" => convert(v)) for (k, v) in kwargs])\n",
    "    tag = \"<script type='ojs-define'>$(JSON.json(content))</script>\"\n",
    "    IJulia.display(MIME(\"text/html\"), tag)\n",
    "  end\n",
    "elseif isinstalled(\"JSON\")\n",
    "  import JSON\n",
    "  global function ojs_define(; kwargs...)\n",
    "    content = Dict(\"contents\" => [Dict(\"name\" => k, \"value\" => v) for (k, v) in kwargs])\n",
    "    tag = \"<script type='ojs-define'>$(JSON.json(content))</script>\"\n",
    "    IJulia.display(MIME(\"text/html\"), tag)\n",
    "  end\n",
    "else\n",
    "  global function ojs_define(; kwargs...)\n",
    "    @warn \"JSON package not available. Please install the JSON.jl package to use ojs_define.\"\n",
    "  end\n",
    "end\n",
    "\n",
    "\n",
    "# don't return kernel dependencies (b/c Revise should take care of dependencies)\n",
    "nothing\n"
   ]
  },
  {
   "cell_type": "code",
   "execution_count": 2,
   "id": "12ecad89",
   "metadata": {},
   "outputs": [
    {
     "data": {
      "text/plain": [
       "\"/home/alexandersmolka/exess/doc/manuals/2d_3d_landing_position_comparison/../../../exess.jl/src/ExESS.jl\""
      ]
     },
     "execution_count": 14,
     "metadata": {},
     "output_type": "execute_result"
    }
   ],
   "source": [
    "#| echo: false\n",
    "#| output: false\n",
    "path_to_exess = joinpath(@__DIR__, \"..\", \"..\", \"..\", \"exess.jl\", \"src\", \"ExESS.jl\")"
   ]
  },
  {
   "cell_type": "code",
   "execution_count": 3,
   "id": "ffd7b5d1",
   "metadata": {},
   "outputs": [
    {
     "name": "stdout",
     "output_type": "stream",
     "text": [
      "Julia Version 1.9.2\n",
      "Commit e4ee485e909 (2023-07-05 09:39 UTC)\n",
      "Platform Info:\n",
      "  OS: Linux (x86_64-linux-gnu)\n",
      "  CPU: 8 × Intel(R) Core(TM) i5-8265U CPU @ 1.60GHz\n",
      "  WORD_SIZE: 64\n",
      "  LIBM: libopenlibm\n",
      "  LLVM: libLLVM-14.0.6 (ORCJIT, skylake)\n",
      "  Threads: 2 on 8 virtual cores\n"
     ]
    }
   ],
   "source": [
    "versioninfo()"
   ]
  },
  {
   "cell_type": "code",
   "execution_count": 4,
   "id": "e99a239b",
   "metadata": {},
   "outputs": [
    {
     "name": "stderr",
     "output_type": "stream",
     "text": [
      "WARNING: replacing module ExESS.\n",
      "WARNING: using ExESS.LUNAR_RADIUS in module Main conflicts with an existing identifier.\n",
      "WARNING: using ExESS.GlobalSphericalPosition in module Main conflicts with an existing identifier.\n",
      "WARNING: using ExESS.GlobalCartesianVelocity in module Main conflicts with an existing identifier.\n",
      "WARNING: using ExESS.trajectory in module Main conflicts with an existing identifier.\n",
      "WARNING: using ExESS.landing_position in module Main conflicts with an existing identifier.\n",
      "WARNING: using ExESS.LocalCartesianVelocity in module Main conflicts with an existing identifier.\n",
      "WARNING: using ExESS.GlobalCartesianPosition in module Main conflicts with an existing identifier.\n",
      "WARNING: using ExESS.ddx_lunar_gravity in module Main conflicts with an existing identifier.\n"
     ]
    }
   ],
   "source": [
    "#| output: false\n",
    "include(path_to_exess)\n",
    "using .ExESS\n",
    "using LinearAlgebra"
   ]
  },
  {
   "cell_type": "code",
   "execution_count": 5,
   "id": "b197ca60",
   "metadata": {},
   "outputs": [
    {
     "data": {
      "text/plain": [
       "LocalCartesianVelocity{Float64}(250.0, 100.0, 100.0)"
      ]
     },
     "execution_count": 17,
     "metadata": {},
     "output_type": "execute_result"
    }
   ],
   "source": [
    "#| output: false\n",
    "x0 = GlobalSphericalPosition(LUNAR_RADIUS, 0, 0)\n",
    "v0 = LocalCartesianVelocity(250.0, 100.0, 100.0)"
   ]
  },
  {
   "cell_type": "code",
   "execution_count": 6,
   "id": "37488ba4",
   "metadata": {},
   "outputs": [
    {
     "data": {
      "text/plain": [
       "GlobalSphericalPosition{Float64}(1.7374e6, 0.018438792639089627, 0.007374965418890142)"
      ]
     },
     "execution_count": 18,
     "metadata": {},
     "output_type": "execute_result"
    }
   ],
   "source": [
    "x_landing_2d = landing_position(x0, v0)"
   ]
  },
  {
   "cell_type": "code",
   "execution_count": 7,
   "id": "eba10352",
   "metadata": {},
   "outputs": [
    {
     "data": {
      "text/plain": [
       "GlobalSphericalPosition{Float64}(1.7374e6, 0.018440245307911555, 0.007375546356034765)"
      ]
     },
     "execution_count": 19,
     "metadata": {},
     "output_type": "execute_result"
    }
   ],
   "source": [
    "traj = trajectory(x0, v0, ddx_lunar_gravity)\n",
    "x_landing_3d = GlobalSphericalPosition(GlobalCartesianPosition(traj[end][4:6]))"
   ]
  },
  {
   "cell_type": "code",
   "execution_count": 8,
   "id": "46717261",
   "metadata": {},
   "outputs": [
    {
     "data": {
      "text/plain": [
       "compare_2d_3d (generic function with 1 method)"
      ]
     },
     "execution_count": 20,
     "metadata": {},
     "output_type": "execute_result"
    }
   ],
   "source": [
    "#| output: false\n",
    "function compare_2d_3d(vel, elev; N=10)\n",
    "    Nv, Ne = length(vel), length(elev)\n",
    "    e = zeros(Nv, Ne)\n",
    "    for i in eachindex(vel), j in eachindex(elev)        \n",
    "        for _ in 1:N\n",
    "            lon, lat = rand(2) .* [2pi, pi] .- [pi, pi/2]\n",
    "            x0 = GlobalCartesianPosition(LUNAR_RADIUS .* [\n",
    "                    cos(lon)*cos(lat), \n",
    "                    sin(lon)*cos(lat), \n",
    "                    sin(lat)])\n",
    "\n",
    "            az = rand()*2pi\n",
    "            v0 = GlobalCartesianVelocity(x0, LocalCartesianVelocity(vel[i] .* [\n",
    "                    cos(az) * cos(elev[j]), \n",
    "                    sin(az) * cos(elev[j]), \n",
    "                    sin(elev[j])]))\n",
    "\n",
    "            x_landing_2d = GlobalCartesianPosition(landing_position(x0, v0))\n",
    "            traj = trajectory(x0, v0, ddx_lunar_gravity; reltol=1e-6)\n",
    "            x_landing_3d = GlobalCartesianPosition(traj[end][4:6])\n",
    "\n",
    "            e[i,j] += norm(vec(x_landing_2d) - vec(x_landing_3d)) / N / LUNAR_RADIUS\n",
    "        end\n",
    "    end\n",
    "    return e\n",
    "end"
   ]
  },
  {
   "cell_type": "code",
   "execution_count": 9,
   "id": "9c7d261a",
   "metadata": {},
   "outputs": [
    {
     "data": {
      "text/plain": [
       "8×8 Matrix{Float64}:\n",
       " 3.2675e-6   1.58987e-6  1.00849e-6  …  3.43475e-7  2.17701e-7  1.05911e-7\n",
       " 3.28522e-6  1.62074e-6  1.04814e-6     3.78796e-7  2.44216e-7  1.16128e-7\n",
       " 3.32543e-6  1.69164e-6  1.12286e-6     4.35922e-7  2.81118e-7  1.46596e-7\n",
       " 3.42594e-6  1.83573e-6  1.26074e-6     5.33725e-7  3.55168e-7  1.72692e-7\n",
       " 3.74129e-6  2.19494e-6  1.62618e-6     6.73647e-7  3.94038e-7  1.79379e-7\n",
       " 5.5685e-6   3.40078e-6  2.24533e-6  …  8.76605e-7  5.72617e-7  2.6612e-7\n",
       " 8.37101e-6  4.51938e-6  2.90517e-6     1.06504e-6  6.864e-7    3.11505e-7\n",
       " 2.71783e-6  2.98604e-6  2.69721e-6     1.28305e-6  8.0765e-7   3.8365e-7"
      ]
     },
     "execution_count": 21,
     "metadata": {},
     "output_type": "execute_result"
    }
   ],
   "source": [
    "vel = 250:250:2000\n",
    "elev = deg2rad.(10:10:80)\n",
    "e = compare_2d_3d(vel, elev)"
   ]
  },
  {
   "cell_type": "code",
   "execution_count": 10,
   "id": "808abe5e",
   "metadata": {},
   "outputs": [
    {
     "data": {
      "text/plain": [
       "8.371005582249139e-6"
      ]
     },
     "execution_count": 22,
     "metadata": {},
     "output_type": "execute_result"
    }
   ],
   "source": [
    "max(e...)"
   ]
  },
  {
   "cell_type": "code",
   "execution_count": 11,
   "id": "b4908f94",
   "metadata": {},
   "outputs": [],
   "source": [
    "#| output: false\n",
    "#| echo: false\n",
    "using CairoMakie\n",
    "include(joinpath(@__DIR__, \"..\", \"..\", \"resources\", \"julia\", \"theme.jl\"))\n",
    "\n",
    "function plot_compare_2d_3d(v, elev, e)\n",
    "    fig = Figure(; resolution=(600,400))\n",
    "    ax = Axis(fig[1,1];\n",
    "        xlabel=\"Velocity [m/s]\",\n",
    "        ylabel=\"Elevation Angle [rad]\")\n",
    "\n",
    "    hm = heatmap!(ax, v, rad2deg.(elev), e .* 1e5, colormap=lipari)\n",
    "    Colorbar(fig[1,2], hm, label=\"Absolute Error, [10⁻⁵ Lunar Radius]\")\n",
    "    save(joinpath(@__DIR__, \"compare_2d_3d.pdf\"), fig, pt_per_unit=4)\n",
    "    save(joinpath(@__DIR__, \"compare_2d_3d.svg\"), fig, pt_per_unit=4)\n",
    "    save(joinpath(@__DIR__, \"compare_2d_3d.png\"), fig, px_per_unit=4)\n",
    "\n",
    "    return nothing\n",
    "end\n",
    "\n",
    "vel = 50:50:2000\n",
    "elev = deg2rad.(2.5:2.5:85)\n",
    "e = compare_2d_3d(vel, elev; N=100)\n",
    "plot_compare_2d_3d(vel, elev, e)"
   ]
  }
 ],
 "metadata": {
  "kernelspec": {
   "display_name": "julia 1.9.2",
   "language": "julia",
   "name": "julia-1.9"
  }
 },
 "nbformat": 4,
 "nbformat_minor": 5
}