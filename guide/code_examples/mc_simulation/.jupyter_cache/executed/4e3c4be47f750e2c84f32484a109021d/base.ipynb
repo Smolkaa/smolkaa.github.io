{
 "cells": [
  {
   "cell_type": "code",
   "execution_count": 1,
   "id": "f747a2cf",
   "metadata": {},
   "outputs": [],
   "source": [
    "import IJulia\n",
    "\n",
    "# The julia kernel has built in support for Revise.jl, so this is the \n",
    "# recommended approach for long-running sessions:\n",
    "# https://github.com/JuliaLang/IJulia.jl/blob/9b10fa9b879574bbf720f5285029e07758e50a5e/src/kernel.jl#L46-L51\n",
    "\n",
    "# Users should enable revise within .julia/config/startup_ijulia.jl:\n",
    "# https://timholy.github.io/Revise.jl/stable/config/#Using-Revise-automatically-within-Jupyter/IJulia-1\n",
    "\n",
    "# clear console history\n",
    "IJulia.clear_history()\n",
    "\n",
    "fig_width = 7\n",
    "fig_height = 5\n",
    "fig_format = :retina\n",
    "fig_dpi = 96\n",
    "\n",
    "# no retina format type, use svg for high quality type/marks\n",
    "if fig_format == :retina\n",
    "  fig_format = :svg\n",
    "elseif fig_format == :pdf\n",
    "  fig_dpi = 96\n",
    "  # Enable PDF support for IJulia\n",
    "  IJulia.register_mime(MIME(\"application/pdf\"))\n",
    "end\n",
    "\n",
    "# convert inches to pixels\n",
    "fig_width = fig_width * fig_dpi\n",
    "fig_height = fig_height * fig_dpi\n",
    "\n",
    "# Intialize Plots w/ default fig width/height\n",
    "try\n",
    "  import Plots\n",
    "\n",
    "  # Plots.jl doesn't support PDF output for versions < 1.28.1\n",
    "  # so use png (if the DPI remains the default of 300 then set to 96)\n",
    "  if (Plots._current_plots_version < v\"1.28.1\") & (fig_format == :pdf)\n",
    "    Plots.gr(size=(fig_width, fig_height), fmt = :png, dpi = fig_dpi)\n",
    "  else\n",
    "    Plots.gr(size=(fig_width, fig_height), fmt = fig_format, dpi = fig_dpi)\n",
    "  end\n",
    "catch e\n",
    "  # @warn \"Plots init\" exception=(e, catch_backtrace())\n",
    "end\n",
    "\n",
    "# Initialize CairoMakie with default fig width/height\n",
    "try\n",
    "  import CairoMakie\n",
    "  \n",
    "  CairoMakie.activate!(type = string(fig_format))\n",
    "  CairoMakie.update_theme!(resolution=(fig_width, fig_height))\n",
    "catch e\n",
    "    # @warn \"CairoMakie init\" exception=(e, catch_backtrace())\n",
    "end\n",
    "  \n",
    "# Set run_path if specified\n",
    "try\n",
    "  run_path = raw\"/home/asmolka/repos/exess/smolkaa.github.io/guide/code_examples/mc_simulation\"\n",
    "  if !isempty(run_path)\n",
    "    cd(run_path)\n",
    "  end\n",
    "catch e\n",
    "  @warn \"Run path init:\" exception=(e, catch_backtrace())\n",
    "end\n",
    "\n",
    "\n",
    "# emulate old Pkg.installed beahvior, see\n",
    "# https://discourse.julialang.org/t/how-to-use-pkg-dependencies-instead-of-pkg-installed/36416/9\n",
    "import Pkg\n",
    "function isinstalled(pkg::String)\n",
    "  any(x -> x.name == pkg && x.is_direct_dep, values(Pkg.dependencies()))\n",
    "end\n",
    "\n",
    "# ojs_define\n",
    "if isinstalled(\"JSON\") && isinstalled(\"DataFrames\")\n",
    "  import JSON, DataFrames\n",
    "  global function ojs_define(; kwargs...)\n",
    "    convert(x) = x\n",
    "    convert(x::DataFrames.AbstractDataFrame) = Tables.rows(x)\n",
    "    content = Dict(\"contents\" => [Dict(\"name\" => k, \"value\" => convert(v)) for (k, v) in kwargs])\n",
    "    tag = \"<script type='ojs-define'>$(JSON.json(content))</script>\"\n",
    "    IJulia.display(MIME(\"text/html\"), tag)\n",
    "  end\n",
    "elseif isinstalled(\"JSON\")\n",
    "  import JSON\n",
    "  global function ojs_define(; kwargs...)\n",
    "    content = Dict(\"contents\" => [Dict(\"name\" => k, \"value\" => v) for (k, v) in kwargs])\n",
    "    tag = \"<script type='ojs-define'>$(JSON.json(content))</script>\"\n",
    "    IJulia.display(MIME(\"text/html\"), tag)\n",
    "  end\n",
    "else\n",
    "  global function ojs_define(; kwargs...)\n",
    "    @warn \"JSON package not available. Please install the JSON.jl package to use ojs_define.\"\n",
    "  end\n",
    "end\n",
    "\n",
    "\n",
    "# don't return kernel dependencies (b/c Revise should take care of dependencies)\n",
    "nothing\n"
   ]
  },
  {
   "cell_type": "code",
   "execution_count": 2,
   "id": "18a2b805",
   "metadata": {},
   "outputs": [
    {
     "data": {
      "text/plain": [
       "runMonteCarlo (generic function with 1 method)"
      ]
     },
     "execution_count": 16,
     "metadata": {},
     "output_type": "execute_result"
    }
   ],
   "source": [
    "function runMonteCarlo(step::Function, N::Int, p)\n",
    "    results = []\n",
    "    for i in 1:N\n",
    "        push!(results, step(p))\n",
    "    end\n",
    "    return results\n",
    "end"
   ]
  },
  {
   "cell_type": "code",
   "execution_count": 3,
   "id": "14132454",
   "metadata": {},
   "outputs": [
    {
     "data": {
      "text/plain": [
       "100-element Vector{Any}:\n",
       " [0.6265432286285892, 0.7095085077968815, 0.6823155591738834, 0.10163419896973369, 0.38515968034381354, 0.6927177229243333, 0.4578292242383073, 0.842379922678032, 0.9071636080378067, 0.0942116063067776]\n",
       " [0.352329701380966, 0.6558200456386795, 0.8530692792866649, 0.4662650090792464, 0.22613612467144395, 0.2738941054863864, 0.9669513796779968, 0.16778119038389272, 0.31135047867899435, 0.482015457042126]\n",
       " [0.8957760682071086, 0.7206556061804292, 0.445549636886039, 0.004145944054850914, 0.3404603788434213, 0.05674702521223918, 0.9210281434333925, 0.5749588939488433, 0.5523722628463236, 0.23093505543660886]\n",
       " [0.5479061332021721, 0.7813028354302568, 0.45767952994693895, 0.823635023667793, 0.05566731909167544, 0.7678347784551042, 0.5766652214760699, 0.4102923287298176, 0.7736011733915418, 0.20386938391286014]\n",
       " [0.8030601776751224, 0.3821830383403525, 0.26123454982665506, 0.8941784254199108, 0.21722422694406762, 0.001178319581069065, 0.03039228655560855, 0.08514964883535148, 0.9976368082168338, 0.8696138203761555]\n",
       " [0.4464191401514338, 0.6155759333476196, 0.32623545669669596, 0.33670719489795553, 0.5712761882987633, 0.6280523677154587, 0.6132936633171878, 0.38026810088177676, 0.5864454291507656, 0.2525406996454205]\n",
       " [0.7957563247883139, 0.22677177533252368, 0.9487189217869527, 0.8946505935507304, 0.21550043985450873, 0.6630758997710102, 0.8243007261158912, 0.7632756976318387, 0.2175130773057291, 0.733714604590061]\n",
       " [0.9315580627206816, 0.3967431618490356, 0.9044036340584198, 0.546281089232044, 0.43265520441873373, 0.8679910777514074, 0.489491164147991, 0.08715647206023691, 0.7707530575189736, 0.7690115645909087]\n",
       " [0.1564221240094148, 0.3405429362263004, 0.9062799100070561, 0.053412709622924104, 0.7498215035736985, 0.8443324064654025, 0.5309438181201253, 0.6218274248352493, 0.7008884548138554, 0.7706220699296521]\n",
       " [0.5589860209140205, 0.0687064434727418, 0.26157173582414694, 0.1604599406493591, 0.28558851206190217, 0.30855970018486634, 0.9915910106065318, 0.21951735092011881, 0.02468677190602342, 0.6111964226492657]\n",
       " [0.40402960872245974, 0.8875060234615679, 0.1484980372936211, 0.46585727289915346, 0.591700256069771, 0.6549772850555289, 0.6153997911539116, 0.6456873807571473, 0.8408969327849836, 0.744807181748427]\n",
       " [0.3850001186346359, 0.6685133747817031, 0.9989099872123515, 0.10047849744223958, 0.10956697154855788, 0.5918188616850694, 0.8694793115494891, 0.8231012277503742, 0.18032766916788423, 0.5056591806986869]\n",
       " [0.7818335709471181, 0.2772186172672949, 0.2875098399168148, 0.8407865924623218, 0.9353959293205851, 0.9026092098228669, 0.024432690932889356, 0.413146355862555, 0.5181651343433414, 0.9136502068310349]\n",
       " ⋮\n",
       " [0.6440945624570705, 0.5659999766216248, 0.7608247139513146, 0.9428015578128588, 0.08376448110120083, 0.6990660086900372, 0.2567587816431296, 0.7292068531040234, 0.6347346211469727, 0.3542771855843404]\n",
       " [0.6822345835392295, 0.5117581019863247, 0.6686618482009986, 0.4098014010586434, 0.8214562165195108, 0.9012356675186485, 0.6879934762536478, 0.5131497315317307, 0.04787837165179809, 0.6612963322323987]\n",
       " [0.994286302470581, 0.4404040252344863, 0.4842975477970004, 0.8822755857939135, 0.40531846265904836, 0.40264433143618017, 0.15237136118284567, 0.8100277252397841, 0.32578822527863716, 0.9232351993994329]\n",
       " [0.404223552938072, 0.25005384922009344, 0.7847322678184286, 0.23107458000247705, 0.16317959133055937, 0.33015006308426575, 0.06807133023357814, 0.9231320191426905, 0.324509477006362, 0.16674417311094836]\n",
       " [0.14852644784140534, 0.4978368041449648, 0.1693177476899287, 0.28659259565657214, 0.3907290644292625, 0.22865305938100888, 0.9916810749562289, 0.11887005017579899, 0.29232705892314625, 0.8670232673219662]\n",
       " [0.8248005581691963, 0.1866376355721897, 0.45441202775936185, 0.3793342514720158, 0.13994573472465244, 0.2626284986041054, 0.34540216459240936, 0.381651017518838, 0.16597674707511956, 0.37453262336942483]\n",
       " [0.6040878181440478, 0.2032095156010948, 0.4080809866079176, 0.37045900367718154, 0.7179191843909598, 0.8883101963749973, 0.42791233702106835, 0.7929065368613575, 0.957529161583475, 0.017443613609477215]\n",
       " [0.8230295765773654, 0.5400151631525135, 0.4272836374265524, 0.575353663669467, 0.2412400812913017, 0.38051992073296526, 0.5530389796974904, 0.5968936214432761, 0.9616889995714081, 0.13912901686590384]\n",
       " [0.941671531589288, 0.46276439222265164, 0.9834710473627597, 0.7124250011762637, 0.9667263080019958, 0.7873292615925592, 0.384670822473408, 0.5327560151457706, 0.385415475284417, 0.7007057055668755]\n",
       " [0.2952249892380153, 0.0024481283525252806, 0.003786071276466796, 0.6397286658793486, 0.766408221926207, 0.10708473543673525, 0.7224156145852371, 0.30431227179928666, 0.135692326183953, 0.8347805043530298]\n",
       " [0.5840208940107064, 0.2707528646477252, 0.12045745458003654, 0.7072576931609668, 0.9629595419156601, 0.693705991169295, 0.7227592239804953, 0.05872019810629181, 0.35310232491310956, 0.7345311106851087]\n",
       " [0.6413315829784483, 0.4199725145875566, 0.20861745131942433, 0.7380242686230432, 0.7836022809454093, 0.31876482389398564, 0.4492872160953143, 0.7554161969944246, 0.7791594690440914, 0.3031188501806641]"
      ]
     },
     "execution_count": 17,
     "metadata": {},
     "output_type": "execute_result"
    }
   ],
   "source": [
    "step(p) = rand(p)\n",
    "res = runMonteCarlo(step, 100, 10)"
   ]
  },
  {
   "cell_type": "code",
   "execution_count": 4,
   "id": "5974e346",
   "metadata": {},
   "outputs": [
    {
     "data": {
      "text/plain": [
       "10-element Vector{Float64}:\n",
       " 0.5275265569528116\n",
       " 0.49758838738342304\n",
       " 0.5261187238829118\n",
       " 0.5040444135886409\n",
       " 0.5060254522572045\n",
       " 0.4927351440862553\n",
       " 0.4943779417027055\n",
       " 0.4619091352227478\n",
       " 0.5246530791568386\n",
       " 0.5349859422340318"
      ]
     },
     "execution_count": 18,
     "metadata": {},
     "output_type": "execute_result"
    }
   ],
   "source": [
    "mean(res)"
   ]
  },
  {
   "cell_type": "code",
   "execution_count": 5,
   "id": "c1e83f3c",
   "metadata": {},
   "outputs": [
    {
     "data": {
      "text/plain": [
       "10-element Vector{Float64}:\n",
       " 0.266961615993437\n",
       " 0.2637777810915042\n",
       " 0.2968770622209168\n",
       " 0.28028014272590046\n",
       " 0.29881595337739586\n",
       " 0.305157704747627\n",
       " 0.2962656231369753\n",
       " 0.3073337698779387\n",
       " 0.2955110741036773\n",
       " 0.2847658190298612"
      ]
     },
     "execution_count": 19,
     "metadata": {},
     "output_type": "execute_result"
    }
   ],
   "source": [
    "std(res)"
   ]
  }
 ],
 "metadata": {
  "kernelspec": {
   "display_name": "Julia 1.9.3",
   "language": "julia",
   "name": "julia-1.9"
  }
 },
 "nbformat": 4,
 "nbformat_minor": 5
}