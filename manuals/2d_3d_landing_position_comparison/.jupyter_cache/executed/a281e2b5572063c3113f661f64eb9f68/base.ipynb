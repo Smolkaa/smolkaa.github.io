{
 "cells": [
  {
   "cell_type": "code",
   "execution_count": 1,
   "id": "247770d1",
   "metadata": {},
   "outputs": [],
   "source": [
    "import IJulia\n",
    "\n",
    "# The julia kernel has built in support for Revise.jl, so this is the \n",
    "# recommended approach for long-running sessions:\n",
    "# https://github.com/JuliaLang/IJulia.jl/blob/9b10fa9b879574bbf720f5285029e07758e50a5e/src/kernel.jl#L46-L51\n",
    "\n",
    "# Users should enable revise within .julia/config/startup_ijulia.jl:\n",
    "# https://timholy.github.io/Revise.jl/stable/config/#Using-Revise-automatically-within-Jupyter/IJulia-1\n",
    "\n",
    "# clear console history\n",
    "IJulia.clear_history()\n",
    "\n",
    "fig_width = 7\n",
    "fig_height = 5\n",
    "fig_format = :retina\n",
    "fig_dpi = 96\n",
    "\n",
    "# no retina format type, use svg for high quality type/marks\n",
    "if fig_format == :retina\n",
    "  fig_format = :svg\n",
    "elseif fig_format == :pdf\n",
    "  fig_dpi = 96\n",
    "  # Enable PDF support for IJulia\n",
    "  IJulia.register_mime(MIME(\"application/pdf\"))\n",
    "end\n",
    "\n",
    "# convert inches to pixels\n",
    "fig_width = fig_width * fig_dpi\n",
    "fig_height = fig_height * fig_dpi\n",
    "\n",
    "# Intialize Plots w/ default fig width/height\n",
    "try\n",
    "  import Plots\n",
    "\n",
    "  # Plots.jl doesn't support PDF output for versions < 1.28.1\n",
    "  # so use png (if the DPI remains the default of 300 then set to 96)\n",
    "  if (Plots._current_plots_version < v\"1.28.1\") & (fig_format == :pdf)\n",
    "    Plots.gr(size=(fig_width, fig_height), fmt = :png, dpi = fig_dpi)\n",
    "  else\n",
    "    Plots.gr(size=(fig_width, fig_height), fmt = fig_format, dpi = fig_dpi)\n",
    "  end\n",
    "catch e\n",
    "  # @warn \"Plots init\" exception=(e, catch_backtrace())\n",
    "end\n",
    "\n",
    "# Initialize CairoMakie with default fig width/height\n",
    "try\n",
    "  import CairoMakie\n",
    "  \n",
    "  CairoMakie.activate!(type = string(fig_format))\n",
    "  CairoMakie.update_theme!(resolution=(fig_width, fig_height))\n",
    "catch e\n",
    "    # @warn \"CairoMakie init\" exception=(e, catch_backtrace())\n",
    "end\n",
    "  \n",
    "# Set run_path if specified\n",
    "try\n",
    "  run_path = raw\"/home/alexandersmolka/exess/doc/manuals/2d_3d_landing_position_comparison\"\n",
    "  if !isempty(run_path)\n",
    "    cd(run_path)\n",
    "  end\n",
    "catch e\n",
    "  @warn \"Run path init:\" exception=(e, catch_backtrace())\n",
    "end\n",
    "\n",
    "\n",
    "# emulate old Pkg.installed beahvior, see\n",
    "# https://discourse.julialang.org/t/how-to-use-pkg-dependencies-instead-of-pkg-installed/36416/9\n",
    "import Pkg\n",
    "function isinstalled(pkg::String)\n",
    "  any(x -> x.name == pkg && x.is_direct_dep, values(Pkg.dependencies()))\n",
    "end\n",
    "\n",
    "# ojs_define\n",
    "if isinstalled(\"JSON\") && isinstalled(\"DataFrames\")\n",
    "  import JSON, DataFrames\n",
    "  global function ojs_define(; kwargs...)\n",
    "    convert(x) = x\n",
    "    convert(x::DataFrames.AbstractDataFrame) = Tables.rows(x)\n",
    "    content = Dict(\"contents\" => [Dict(\"name\" => k, \"value\" => convert(v)) for (k, v) in kwargs])\n",
    "    tag = \"<script type='ojs-define'>$(JSON.json(content))</script>\"\n",
    "    IJulia.display(MIME(\"text/html\"), tag)\n",
    "  end\n",
    "elseif isinstalled(\"JSON\")\n",
    "  import JSON\n",
    "  global function ojs_define(; kwargs...)\n",
    "    content = Dict(\"contents\" => [Dict(\"name\" => k, \"value\" => v) for (k, v) in kwargs])\n",
    "    tag = \"<script type='ojs-define'>$(JSON.json(content))</script>\"\n",
    "    IJulia.display(MIME(\"text/html\"), tag)\n",
    "  end\n",
    "else\n",
    "  global function ojs_define(; kwargs...)\n",
    "    @warn \"JSON package not available. Please install the JSON.jl package to use ojs_define.\"\n",
    "  end\n",
    "end\n",
    "\n",
    "\n",
    "# don't return kernel dependencies (b/c Revise should take care of dependencies)\n",
    "nothing\n"
   ]
  },
  {
   "cell_type": "code",
   "execution_count": 2,
   "id": "1897272a",
   "metadata": {},
   "outputs": [
    {
     "name": "stderr",
     "output_type": "stream",
     "text": [
      "WARNING: replacing module ExESS.\n",
      "WARNING: using ExESS.ddx_lunar_gravity in module Main conflicts with an existing identifier.\n",
      "WARNING: using ExESS.LUNAR_RADIUS in module Main conflicts with an existing identifier.\n",
      "WARNING: using ExESS.GlobalCartesianPosition in module Main conflicts with an existing identifier.\n",
      "WARNING: using ExESS.LocalCartesianVelocity in module Main conflicts with an existing identifier.\n",
      "WARNING: using ExESS.landing_position in module Main conflicts with an existing identifier.\n",
      "WARNING: using ExESS.trajectory in module Main conflicts with an existing identifier.\n",
      "WARNING: using ExESS.GlobalSphericalPosition in module Main conflicts with an existing identifier.\n"
     ]
    }
   ],
   "source": [
    "#| output: false\n",
    "include(joinpath(@__DIR__, \"..\", \"..\", \"..\", \"exess.jl\", \"src\", \"ExESS.jl\"))\n",
    "using .ExESS\n",
    "\n",
    "using LinearAlgebra"
   ]
  },
  {
   "cell_type": "code",
   "execution_count": 3,
   "id": "220b3a95",
   "metadata": {},
   "outputs": [
    {
     "data": {
      "text/plain": [
       "LocalCartesianVelocity{Float64}(250.0, 100.0, 100.0)"
      ]
     },
     "execution_count": 41,
     "metadata": {},
     "output_type": "execute_result"
    }
   ],
   "source": [
    "#| output: false\n",
    "x0 = GlobalSphericalPosition(LUNAR_RADIUS, 0, 0)\n",
    "v0 = LocalCartesianVelocity(250.0, 100.0, 100.0)"
   ]
  },
  {
   "cell_type": "code",
   "execution_count": 4,
   "id": "1be3385b",
   "metadata": {},
   "outputs": [
    {
     "data": {
      "text/plain": [
       "GlobalSphericalPosition{Float64}(1.7374e6, 0.018438792639089627, 0.007374965418890143)"
      ]
     },
     "execution_count": 42,
     "metadata": {},
     "output_type": "execute_result"
    }
   ],
   "source": [
    "x_landing_2d = landing_position(x0, v0)"
   ]
  },
  {
   "cell_type": "code",
   "execution_count": 5,
   "id": "e486b9fc",
   "metadata": {},
   "outputs": [
    {
     "data": {
      "text/plain": [
       "GlobalSphericalPosition{Float64}(1.7374e6, 0.018438795514062686, 0.007374966568621356)"
      ]
     },
     "execution_count": 43,
     "metadata": {},
     "output_type": "execute_result"
    }
   ],
   "source": [
    "traj = trajectory(x0, v0, ddx_lunar_gravity)\n",
    "x_landing_3d = GlobalSphericalPosition(GlobalCartesianPosition(traj[end][4:6]))"
   ]
  },
  {
   "cell_type": "code",
   "execution_count": 6,
   "id": "ace3bb3b",
   "metadata": {},
   "outputs": [
    {
     "data": {
      "text/plain": [
       "compare_2d_3d (generic function with 1 method)"
      ]
     },
     "execution_count": 44,
     "metadata": {},
     "output_type": "execute_result"
    }
   ],
   "source": [
    "#| output: false\n",
    "function compare_2d_3d(vel, elev; N=10)\n",
    "    Nv, Ne = length(vel), length(elev)\n",
    "    e = zeros(Nv, Ne)\n",
    "    for i in eachindex(vel), j in eachindex(elev)        \n",
    "        for _ in 1:N\n",
    "            lon, lat = rand(2) .* [2pi, pi] .- [pi, pi/2]\n",
    "            x0 = GlobalCartesianPosition(LUNAR_RADIUS .* [cos(lon)*cos(lat), sin(lon)*cos(lat), sin(lat)])\n",
    "\n",
    "            az = rand()*2pi\n",
    "            v0 = LocalCartesianVelocity(v[i] .* [cos(az) * cos(elev[j]), sin(az) * cos(elev[j]), sin(elev[j])])\n",
    "            v0 = GlobalCartesianVelocity(x0, v0)\n",
    "\n",
    "            x_landing_2d = GlobalCartesianPosition(landing_position(x0, v0))\n",
    "            traj = trajectory(x0, v0, ddx_lunar_gravity)\n",
    "            x_landing_3d = GlobalCartesianPosition(traj[end][4:6])\n",
    "\n",
    "            e[i,j] += norm(vec(x_landing_2d) - vec(x_landing_3d)) / N / LUNAR_RADIUS\n",
    "        end\n",
    "    end\n",
    "    return e\n",
    "end"
   ]
  }
 ],
 "metadata": {
  "kernelspec": {
   "display_name": "julia 1.9.2",
   "language": "julia",
   "name": "julia-1.9"
  }
 },
 "nbformat": 4,
 "nbformat_minor": 5
}