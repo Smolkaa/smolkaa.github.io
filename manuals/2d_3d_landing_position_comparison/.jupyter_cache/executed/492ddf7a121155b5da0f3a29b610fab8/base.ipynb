{
 "cells": [
  {
   "cell_type": "code",
   "execution_count": 1,
   "id": "be720dab",
   "metadata": {},
   "outputs": [],
   "source": [
    "import IJulia\n",
    "\n",
    "# The julia kernel has built in support for Revise.jl, so this is the \n",
    "# recommended approach for long-running sessions:\n",
    "# https://github.com/JuliaLang/IJulia.jl/blob/9b10fa9b879574bbf720f5285029e07758e50a5e/src/kernel.jl#L46-L51\n",
    "\n",
    "# Users should enable revise within .julia/config/startup_ijulia.jl:\n",
    "# https://timholy.github.io/Revise.jl/stable/config/#Using-Revise-automatically-within-Jupyter/IJulia-1\n",
    "\n",
    "# clear console history\n",
    "IJulia.clear_history()\n",
    "\n",
    "fig_width = 7\n",
    "fig_height = 5\n",
    "fig_format = :retina\n",
    "fig_dpi = 96\n",
    "\n",
    "# no retina format type, use svg for high quality type/marks\n",
    "if fig_format == :retina\n",
    "  fig_format = :svg\n",
    "elseif fig_format == :pdf\n",
    "  fig_dpi = 96\n",
    "  # Enable PDF support for IJulia\n",
    "  IJulia.register_mime(MIME(\"application/pdf\"))\n",
    "end\n",
    "\n",
    "# convert inches to pixels\n",
    "fig_width = fig_width * fig_dpi\n",
    "fig_height = fig_height * fig_dpi\n",
    "\n",
    "# Intialize Plots w/ default fig width/height\n",
    "try\n",
    "  import Plots\n",
    "\n",
    "  # Plots.jl doesn't support PDF output for versions < 1.28.1\n",
    "  # so use png (if the DPI remains the default of 300 then set to 96)\n",
    "  if (Plots._current_plots_version < v\"1.28.1\") & (fig_format == :pdf)\n",
    "    Plots.gr(size=(fig_width, fig_height), fmt = :png, dpi = fig_dpi)\n",
    "  else\n",
    "    Plots.gr(size=(fig_width, fig_height), fmt = fig_format, dpi = fig_dpi)\n",
    "  end\n",
    "catch e\n",
    "  # @warn \"Plots init\" exception=(e, catch_backtrace())\n",
    "end\n",
    "\n",
    "# Initialize CairoMakie with default fig width/height\n",
    "try\n",
    "  import CairoMakie\n",
    "  \n",
    "  CairoMakie.activate!(type = string(fig_format))\n",
    "  CairoMakie.update_theme!(resolution=(fig_width, fig_height))\n",
    "catch e\n",
    "    # @warn \"CairoMakie init\" exception=(e, catch_backtrace())\n",
    "end\n",
    "  \n",
    "# Set run_path if specified\n",
    "try\n",
    "  run_path = raw\"/home/alexandersmolka/exess/doc/manuals/2d_3d_landing_position_comparison\"\n",
    "  if !isempty(run_path)\n",
    "    cd(run_path)\n",
    "  end\n",
    "catch e\n",
    "  @warn \"Run path init:\" exception=(e, catch_backtrace())\n",
    "end\n",
    "\n",
    "\n",
    "# emulate old Pkg.installed beahvior, see\n",
    "# https://discourse.julialang.org/t/how-to-use-pkg-dependencies-instead-of-pkg-installed/36416/9\n",
    "import Pkg\n",
    "function isinstalled(pkg::String)\n",
    "  any(x -> x.name == pkg && x.is_direct_dep, values(Pkg.dependencies()))\n",
    "end\n",
    "\n",
    "# ojs_define\n",
    "if isinstalled(\"JSON\") && isinstalled(\"DataFrames\")\n",
    "  import JSON, DataFrames\n",
    "  global function ojs_define(; kwargs...)\n",
    "    convert(x) = x\n",
    "    convert(x::DataFrames.AbstractDataFrame) = Tables.rows(x)\n",
    "    content = Dict(\"contents\" => [Dict(\"name\" => k, \"value\" => convert(v)) for (k, v) in kwargs])\n",
    "    tag = \"<script type='ojs-define'>$(JSON.json(content))</script>\"\n",
    "    IJulia.display(MIME(\"text/html\"), tag)\n",
    "  end\n",
    "elseif isinstalled(\"JSON\")\n",
    "  import JSON\n",
    "  global function ojs_define(; kwargs...)\n",
    "    content = Dict(\"contents\" => [Dict(\"name\" => k, \"value\" => v) for (k, v) in kwargs])\n",
    "    tag = \"<script type='ojs-define'>$(JSON.json(content))</script>\"\n",
    "    IJulia.display(MIME(\"text/html\"), tag)\n",
    "  end\n",
    "else\n",
    "  global function ojs_define(; kwargs...)\n",
    "    @warn \"JSON package not available. Please install the JSON.jl package to use ojs_define.\"\n",
    "  end\n",
    "end\n",
    "\n",
    "\n",
    "# don't return kernel dependencies (b/c Revise should take care of dependencies)\n",
    "nothing\n"
   ]
  },
  {
   "cell_type": "code",
   "execution_count": 2,
   "id": "409706bd",
   "metadata": {},
   "outputs": [
    {
     "data": {
      "text/plain": [
       "\"/home/alexandersmolka/exess/doc/manuals/2d_3d_landing_position_comparison/../../../exess.jl/src/ExESS.jl\""
      ]
     },
     "execution_count": 18,
     "metadata": {},
     "output_type": "execute_result"
    }
   ],
   "source": [
    "#| echo: false\n",
    "#| output: false\n",
    "path_to_exess = joinpath(@__DIR__, \"..\", \"..\", \"..\", \"exess.jl\", \"src\", \"ExESS.jl\")"
   ]
  },
  {
   "cell_type": "code",
   "execution_count": 3,
   "id": "c9acaa67",
   "metadata": {},
   "outputs": [
    {
     "name": "stderr",
     "output_type": "stream",
     "text": [
      "WARNING: replacing module ExESS.\n",
      "WARNING: using ExESS.trajectory in module Main conflicts with an existing identifier.\n",
      "WARNING: using ExESS.LUNAR_RADIUS in module Main conflicts with an existing identifier.\n",
      "WARNING: using ExESS.GlobalSphericalPosition in module Main conflicts with an existing identifier.\n",
      "WARNING: using ExESS.GlobalCartesianPosition in module Main conflicts with an existing identifier.\n",
      "WARNING: using ExESS.ddx_lunar_gravity in module Main conflicts with an existing identifier.\n",
      "WARNING: using ExESS.GlobalCartesianVelocity in module Main conflicts with an existing identifier.\n",
      "WARNING: using ExESS.landing_position in module Main conflicts with an existing identifier.\n",
      "WARNING: using ExESS.LocalCartesianVelocity in module Main conflicts with an existing identifier.\n"
     ]
    }
   ],
   "source": [
    "#| output: false\n",
    "include(path_to_exess)\n",
    "using .ExESS\n",
    "using LinearAlgebra"
   ]
  },
  {
   "cell_type": "code",
   "execution_count": 4,
   "id": "2ee04473",
   "metadata": {},
   "outputs": [
    {
     "data": {
      "text/plain": [
       "LocalCartesianVelocity{Float64}(250.0, 100.0, 100.0)"
      ]
     },
     "execution_count": 20,
     "metadata": {},
     "output_type": "execute_result"
    }
   ],
   "source": [
    "#| output: false\n",
    "x0 = GlobalSphericalPosition(LUNAR_RADIUS, 0, 0)\n",
    "v0 = LocalCartesianVelocity(250.0, 100.0, 100.0)"
   ]
  },
  {
   "cell_type": "code",
   "execution_count": 5,
   "id": "5ae22397",
   "metadata": {},
   "outputs": [
    {
     "data": {
      "text/plain": [
       "GlobalSphericalPosition{Float64}(1.7374e6, 0.018438792639089627, 0.007374965418890143)"
      ]
     },
     "execution_count": 21,
     "metadata": {},
     "output_type": "execute_result"
    }
   ],
   "source": [
    "x_landing_2d = landing_position(x0, v0)"
   ]
  },
  {
   "cell_type": "code",
   "execution_count": 6,
   "id": "bbf19a69",
   "metadata": {},
   "outputs": [
    {
     "data": {
      "text/plain": [
       "GlobalSphericalPosition{Float64}(1.7374e6, 0.018438795514062686, 0.007374966568621356)"
      ]
     },
     "execution_count": 22,
     "metadata": {},
     "output_type": "execute_result"
    }
   ],
   "source": [
    "traj = trajectory(x0, v0, ddx_lunar_gravity)\n",
    "x_landing_3d = GlobalSphericalPosition(GlobalCartesianPosition(traj[end][4:6]))"
   ]
  },
  {
   "cell_type": "code",
   "execution_count": 7,
   "id": "df39d517",
   "metadata": {},
   "outputs": [
    {
     "data": {
      "text/plain": [
       "compare_2d_3d (generic function with 1 method)"
      ]
     },
     "execution_count": 23,
     "metadata": {},
     "output_type": "execute_result"
    }
   ],
   "source": [
    "#| output: false\n",
    "function compare_2d_3d(vel, elev; N=10)\n",
    "    Nv, Ne = length(vel), length(elev)\n",
    "    e = zeros(Nv, Ne)\n",
    "    for i in eachindex(vel), j in eachindex(elev)        \n",
    "        for _ in 1:N\n",
    "            lon, lat = rand(2) .* [2pi, pi] .- [pi, pi/2]\n",
    "            x0 = GlobalCartesianPosition(LUNAR_RADIUS .* [cos(lon)*cos(lat), sin(lon)*cos(lat), sin(lat)])\n",
    "\n",
    "            az = rand()*2pi\n",
    "            v0 = LocalCartesianVelocity(vel[i] .* [cos(az) * cos(elev[j]), sin(az) * cos(elev[j]), sin(elev[j])])\n",
    "            v0 = GlobalCartesianVelocity(x0, v0)\n",
    "\n",
    "            x_landing_2d = GlobalCartesianPosition(landing_position(x0, v0))\n",
    "            traj = trajectory(x0, v0, ddx_lunar_gravity)\n",
    "            x_landing_3d = GlobalCartesianPosition(traj[end][4:6])\n",
    "\n",
    "            e[i,j] += norm(vec(x_landing_2d) - vec(x_landing_3d)) / N / LUNAR_RADIUS\n",
    "        end\n",
    "    end\n",
    "    return e\n",
    "end"
   ]
  },
  {
   "cell_type": "code",
   "execution_count": 8,
   "id": "924859db",
   "metadata": {},
   "outputs": [
    {
     "data": {
      "text/plain": [
       "8×8 Matrix{Float64}:\n",
       " 4.19723e-10  1.98797e-9  2.73236e-9  …  0.00390998  2.39317e-9  0.000768303\n",
       " 4.69439e-9   0.0125317   0.0166615      0.0158975   0.00583073  0.00307921\n",
       " 0.00858616   0.0472728   0.0205132      0.0183514   0.0530874   9.79361e-8\n",
       " 0.0563049    0.100014    0.124925       3.12635e-6  6.65456e-6  0.0123981\n",
       " 0.082434     4.59993e-6  0.0774         0.163215    0.0379149   0.0194362\n",
       " 0.107716     0.403089    0.398514    …  0.08033     0.0551534   0.0280552\n",
       " 0.188598     0.199382    0.375469       0.219639    0.0751998   5.01954e-6\n",
       " 0.317983     0.518635    0.198485       8.3501e-6   0.291179    0.198999"
      ]
     },
     "execution_count": 24,
     "metadata": {},
     "output_type": "execute_result"
    }
   ],
   "source": [
    "vel = 250:250:2000\n",
    "elev = deg2rad.(10:10:80)\n",
    "e = compare_2d_3d(vel, elev)"
   ]
  },
  {
   "cell_type": "code",
   "execution_count": 9,
   "id": "7b649b05",
   "metadata": {},
   "outputs": [
    {
     "data": {
      "text/plain": [
       "night_shade (generic function with 1 method)"
      ]
     },
     "execution_count": 25,
     "metadata": {},
     "output_type": "execute_result"
    }
   ],
   "source": [
    "#| output: false\n",
    "using CairoMakie\n",
    "include(joinpath(@__DIR__, \"..\", \"..\", \"resources\", \"julia\", \"theme.jl\"))"
   ]
  },
  {
   "cell_type": "code",
   "execution_count": 10,
   "id": "b1c9ed9b",
   "metadata": {},
   "outputs": [
    {
     "data": {
      "text/plain": [
       "plot_compare_2d_3d (generic function with 1 method)"
      ]
     },
     "execution_count": 26,
     "metadata": {},
     "output_type": "execute_result"
    }
   ],
   "source": [
    "function plot_compare_2d_3d(v, elev, e)\n",
    "    fig = Figure(; resolution=(600,400))\n",
    "    ax = Axis(fig[1,1];\n",
    "        xlabel=\"Velocity [m/s]\",\n",
    "        ylabel=\"Elevation Angle [rad]\")\n",
    "\n",
    "    hm = heatmap!(ax, v, elev, e, colormap=:thermal)\n",
    " \n",
    "    Colorbar(fig[1,2], hm, label=\"Absolute Error in Radii [-]\")\n",
    "\n",
    "    save(joinpath(@__DIR__, \"compare_hm.png\"), fig, px_per_unit=2)\n",
    "\n",
    "    return nothing\n",
    "end"
   ]
  }
 ],
 "metadata": {
  "kernelspec": {
   "display_name": "julia 1.9.2",
   "language": "julia",
   "name": "julia-1.9"
  }
 },
 "nbformat": 4,
 "nbformat_minor": 5
}